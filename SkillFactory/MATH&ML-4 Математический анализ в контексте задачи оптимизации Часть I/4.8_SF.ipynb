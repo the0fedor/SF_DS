{
 "cells": [
  {
   "cell_type": "markdown",
   "id": "f468bf1e",
   "metadata": {},
   "source": [
    "## Область определения"
   ]
  },
  {
   "cell_type": "code",
   "execution_count": 490,
   "id": "c95eac41",
   "metadata": {},
   "outputs": [
    {
     "data": {
      "text/latex": [
       "$\\displaystyle \\left(-\\infty, -1\\right) \\cup \\left(-1, 1\\right) \\cup \\left(1, \\infty\\right)$"
      ],
      "text/plain": [
       "Union(Interval.open(-oo, -1), Interval.open(-1, 1), Interval.open(1, oo))"
      ]
     },
     "execution_count": 490,
     "metadata": {},
     "output_type": "execute_result"
    }
   ],
   "source": [
    "from sympy import Symbol, S\n",
    "from sympy.calculus.util import continuous_domain \n",
    "x = Symbol(\"x\") \n",
    "f = (x**3)/(x**2-1) \n",
    "continuous_domain(f, x, S.Reals)\n"
   ]
  },
  {
   "cell_type": "markdown",
   "id": "3def5ae7",
   "metadata": {},
   "source": [
    "## Область значений функции"
   ]
  },
  {
   "cell_type": "code",
   "execution_count": 491,
   "id": "84f388ff",
   "metadata": {},
   "outputs": [
    {
     "data": {
      "text/latex": [
       "$\\displaystyle \\left(-\\infty, \\infty\\right)$"
      ],
      "text/plain": [
       "Interval(-oo, oo)"
      ]
     },
     "execution_count": 491,
     "metadata": {},
     "output_type": "execute_result"
    }
   ],
   "source": [
    "from sympy import Symbol, S\n",
    "from sympy.calculus.util import function_range\n",
    "x = Symbol(\"x\") \n",
    "f = (x**3)/(x**2-1) \n",
    "function_range(f, x, S.Reals)\n"
   ]
  },
  {
   "cell_type": "markdown",
   "id": "39726364",
   "metadata": {},
   "source": [
    "## Нахождение точек пересечения с осями координат"
   ]
  },
  {
   "cell_type": "code",
   "execution_count": 492,
   "id": "c484f33f",
   "metadata": {},
   "outputs": [
    {
     "data": {
      "text/latex": [
       "$\\displaystyle \\left\\{0\\right\\}$"
      ],
      "text/plain": [
       "{0}"
      ]
     },
     "execution_count": 492,
     "metadata": {},
     "output_type": "execute_result"
    }
   ],
   "source": [
    "from sympy import solveset, Eq\n",
    "f = (x**3)/(x**2-1) \n",
    "solveset(Eq(f, 0), x)"
   ]
  },
  {
   "cell_type": "code",
   "execution_count": 493,
   "id": "a11f173f",
   "metadata": {},
   "outputs": [
    {
     "data": {
      "text/latex": [
       "$\\displaystyle 0$"
      ],
      "text/plain": [
       "0"
      ]
     },
     "execution_count": 493,
     "metadata": {},
     "output_type": "execute_result"
    }
   ],
   "source": [
    "x = Symbol(\"x\")\n",
    "f = (x**3)/(x**2-1)\n",
    "f.subs(x, 0)"
   ]
  },
  {
   "cell_type": "markdown",
   "id": "14d60350",
   "metadata": {},
   "source": [
    "## Нахождение производной"
   ]
  },
  {
   "cell_type": "code",
   "execution_count": 494,
   "id": "749f70c3",
   "metadata": {},
   "outputs": [
    {
     "data": {
      "text/latex": [
       "$\\displaystyle - \\frac{2 x^{4}}{\\left(x^{2} - 1\\right)^{2}} + \\frac{3 x^{2}}{x^{2} - 1}$"
      ],
      "text/plain": [
       "-2*x**4/(x**2 - 1)**2 + 3*x**2/(x**2 - 1)"
      ]
     },
     "execution_count": 494,
     "metadata": {},
     "output_type": "execute_result"
    }
   ],
   "source": [
    "import sympy\n",
    "from sympy import diff\n",
    "x = sympy.Symbol(\"x\")\n",
    "expr = (x**3)/(x**2-1)\n",
    "expr.diff(x)\n"
   ]
  },
  {
   "cell_type": "code",
   "execution_count": 495,
   "id": "7d1093f9",
   "metadata": {},
   "outputs": [
    {
     "data": {
      "text/latex": [
       "$\\displaystyle \\left\\{0, - \\sqrt{3}, \\sqrt{3}\\right\\}$"
      ],
      "text/plain": [
       "{0, -sqrt(3), sqrt(3)}"
      ]
     },
     "execution_count": 495,
     "metadata": {},
     "output_type": "execute_result"
    }
   ],
   "source": [
    "y = expr.diff(x)\n",
    "solveset(Eq(y, 0), x)"
   ]
  },
  {
   "cell_type": "markdown",
   "id": "10d568f8",
   "metadata": {},
   "source": [
    "## Нахождение второй производной"
   ]
  },
  {
   "cell_type": "code",
   "execution_count": 496,
   "id": "cfebc61b",
   "metadata": {},
   "outputs": [
    {
     "data": {
      "text/latex": [
       "$\\displaystyle \\frac{2 x \\left(\\frac{x^{2} \\left(\\frac{4 x^{2}}{x^{2} - 1} - 1\\right)}{x^{2} - 1} - \\frac{6 x^{2}}{x^{2} - 1} + 3\\right)}{x^{2} - 1}$"
      ],
      "text/plain": [
       "2*x*(x**2*(4*x**2/(x**2 - 1) - 1)/(x**2 - 1) - 6*x**2/(x**2 - 1) + 3)/(x**2 - 1)"
      ]
     },
     "execution_count": 496,
     "metadata": {},
     "output_type": "execute_result"
    }
   ],
   "source": [
    "import sympy\n",
    "from sympy import diff\n",
    "x = sympy.Symbol(\"x\")\n",
    "expr = (x**3)/(x**2-1)\n",
    "expr.diff(x,2)"
   ]
  },
  {
   "cell_type": "code",
   "execution_count": 497,
   "id": "31d8a7c8",
   "metadata": {},
   "outputs": [
    {
     "data": {
      "text/latex": [
       "$\\displaystyle \\left\\{0, - \\sqrt{3} i, \\sqrt{3} i\\right\\}$"
      ],
      "text/plain": [
       "{0, -sqrt(3)*I, sqrt(3)*I}"
      ]
     },
     "execution_count": 497,
     "metadata": {},
     "output_type": "execute_result"
    }
   ],
   "source": [
    "y = expr.diff(x,2)\n",
    "solveset(Eq(y, 0), x)"
   ]
  },
  {
   "cell_type": "markdown",
   "id": "fc9a293e",
   "metadata": {},
   "source": [
    "## Нахождение асимптот"
   ]
  },
  {
   "cell_type": "code",
   "execution_count": 498,
   "id": "9015fba6",
   "metadata": {},
   "outputs": [
    {
     "data": {
      "text/latex": [
       "$\\displaystyle \\infty$"
      ],
      "text/plain": [
       "oo"
      ]
     },
     "execution_count": 498,
     "metadata": {},
     "output_type": "execute_result"
    }
   ],
   "source": [
    "from sympy import Symbol, limit, oo\n",
    "x = Symbol(\"x\")\n",
    "f = (x**3)/(x**2-1)\n",
    "limit(f,x,oo)\n"
   ]
  },
  {
   "cell_type": "code",
   "execution_count": 499,
   "id": "ad626e7c",
   "metadata": {},
   "outputs": [
    {
     "data": {
      "text/latex": [
       "$\\displaystyle \\infty$"
      ],
      "text/plain": [
       "oo"
      ]
     },
     "execution_count": 499,
     "metadata": {},
     "output_type": "execute_result"
    }
   ],
   "source": [
    "from sympy import Symbol, limit, oo\n",
    "x = Symbol(\"x\")\n",
    "f = (x**3)/(x**2-1)\n",
    "limit(f,x,1)\n"
   ]
  },
  {
   "cell_type": "code",
   "execution_count": 500,
   "id": "13913fbf",
   "metadata": {},
   "outputs": [
    {
     "data": {
      "text/latex": [
       "$\\displaystyle \\infty$"
      ],
      "text/plain": [
       "oo"
      ]
     },
     "execution_count": 500,
     "metadata": {},
     "output_type": "execute_result"
    }
   ],
   "source": [
    "from sympy import Symbol, limit, oo\n",
    "x = Symbol(\"x\")\n",
    "f = (x**3)/(x**2-1)\n",
    "limit(f,x,-1)\n"
   ]
  },
  {
   "cell_type": "code",
   "execution_count": 501,
   "id": "dfb2adc9",
   "metadata": {},
   "outputs": [
    {
     "data": {
      "text/latex": [
       "$\\displaystyle 1$"
      ],
      "text/plain": [
       "1"
      ]
     },
     "execution_count": 501,
     "metadata": {},
     "output_type": "execute_result"
    }
   ],
   "source": [
    "from sympy import Symbol, limit, oo\n",
    "x = Symbol(\"x\")\n",
    "f = (x**3)/((x**2-1)*x)\n",
    "limit(f,x,oo)\n"
   ]
  },
  {
   "cell_type": "code",
   "execution_count": 502,
   "id": "1ed7d557",
   "metadata": {},
   "outputs": [
    {
     "data": {
      "text/latex": [
       "$\\displaystyle 0$"
      ],
      "text/plain": [
       "0"
      ]
     },
     "execution_count": 502,
     "metadata": {},
     "output_type": "execute_result"
    }
   ],
   "source": [
    "from sympy import Symbol, limit, oo\n",
    "x = Symbol(\"x\")\n",
    "f = (x**3)/((x**2-1)) - 1*x\n",
    "limit(f,x,oo)\n"
   ]
  },
  {
   "cell_type": "markdown",
   "id": "ec0f9185",
   "metadata": {},
   "source": []
  },
  {
   "cell_type": "markdown",
   "id": "1ca1eb72",
   "metadata": {},
   "source": [
    "Условие для заданий 8.1-8.11\n",
    "\n",
    "Исследуемая функция: y=x**3/2(x+5)**2."
   ]
  },
  {
   "cell_type": "code",
   "execution_count": 503,
   "id": "23f4c70f",
   "metadata": {},
   "outputs": [
    {
     "data": {
      "text/latex": [
       "$\\displaystyle \\left(-\\infty, -5\\right) \\cup \\left(-5, \\infty\\right)$"
      ],
      "text/plain": [
       "Union(Interval.open(-oo, -5), Interval.open(-5, oo))"
      ]
     },
     "execution_count": 503,
     "metadata": {},
     "output_type": "execute_result"
    }
   ],
   "source": [
    "# Найдите область определения функции:\n",
    "from sympy import Symbol, S\n",
    "from sympy.calculus.util import continuous_domain \n",
    "x = Symbol(\"x\") \n",
    "y = (x**3)/(2*(x+5))**2\n",
    "continuous_domain(y, x, S.Reals)\n"
   ]
  },
  {
   "cell_type": "code",
   "execution_count": 504,
   "id": "b632f071",
   "metadata": {},
   "outputs": [
    {
     "data": {
      "text/latex": [
       "$\\displaystyle \\left(-\\infty, \\infty\\right)$"
      ],
      "text/plain": [
       "Interval(-oo, oo)"
      ]
     },
     "execution_count": 504,
     "metadata": {},
     "output_type": "execute_result"
    }
   ],
   "source": [
    "# Найдите область значений функции:\n",
    "function_range(y, x, S.Reals)"
   ]
  },
  {
   "cell_type": "code",
   "execution_count": 505,
   "id": "33dc25f7",
   "metadata": {},
   "outputs": [
    {
     "name": "stdout",
     "output_type": "stream",
     "text": [
      "Точки пересечения с осью абсцисс: {0}\n",
      "Точка пересечения с осью ординат: 0\n"
     ]
    }
   ],
   "source": [
    "# В какой точке график пересекает ось абсцисс?\n",
    "# Найти точки пересечения с осью x (решить уравнение f(x) = 0)\n",
    "x_intersections = solveset(Eq(f, 0), x)\n",
    "print(\"Точки пересечения с осью абсцисс:\", x_intersections)\n",
    "\n",
    "# В какой точке график пересекает ось ординат?\n",
    "# Найти значение функции f в точке x = 0\n",
    "y_intersection = f.subs(x, 0)\n",
    "print(\"Точка пересечения с осью ординат:\", y_intersection)\n"
   ]
  },
  {
   "cell_type": "code",
   "execution_count": 506,
   "id": "7e5a0750",
   "metadata": {},
   "outputs": [
    {
     "data": {
      "text/plain": [
       "'Находим первую производную функции y по x:'"
      ]
     },
     "metadata": {},
     "output_type": "display_data"
    },
    {
     "data": {
      "text/latex": [
       "$\\displaystyle - \\frac{4 x^{3}}{\\left(2 x + 10\\right)^{3}} + \\frac{3 x^{2}}{\\left(2 x + 10\\right)^{2}}$"
      ],
      "text/plain": [
       "-4*x**3/(2*x + 10)**3 + 3*x**2/(2*x + 10)**2"
      ]
     },
     "metadata": {},
     "output_type": "display_data"
    },
    {
     "data": {
      "text/plain": [
       "'Находим вторую производную функции y по x:'"
      ]
     },
     "metadata": {},
     "output_type": "display_data"
    },
    {
     "data": {
      "text/latex": [
       "$\\displaystyle \\frac{24 x^{3}}{\\left(2 x + 10\\right)^{4}} - \\frac{24 x^{2}}{\\left(2 x + 10\\right)^{3}} + \\frac{6 x}{\\left(2 x + 10\\right)^{2}}$"
      ],
      "text/plain": [
       "24*x**3/(2*x + 10)**4 - 24*x**2/(2*x + 10)**3 + 6*x/(2*x + 10)**2"
      ]
     },
     "metadata": {},
     "output_type": "display_data"
    },
    {
     "name": "stdout",
     "output_type": "stream",
     "text": [
      "Критические точки: [0, -5, -15]\n",
      "Значения второй производной в критических точках: [0, nan, -9/160]\n"
     ]
    }
   ],
   "source": [
    "# Найдите производную от функции:\n",
    "# Найдите точку максимума.\n",
    "\n",
    "# Находим первую производную функции y по x\n",
    "dy_dx = diff(y, x)\n",
    "display('Находим первую производную функции y по x:', dy_dx)\n",
    "# Находим вторую производную функции y по x\n",
    "d2y_dx2 = diff(dy_dx, x)\n",
    "display('Находим вторую производную функции y по x:', d2y_dx2)\n",
    "# Значения второй производной в критических точках\n",
    "critical_points = [0, -5, -15]\n",
    "second_derivatives = [d2y_dx2.subs(x, point) for point in critical_points]\n",
    "\n",
    "print(\"Критические точки:\", critical_points)\n",
    "print(\"Значения второй производной в критических точках:\", second_derivatives)\n",
    "\n"
   ]
  },
  {
   "cell_type": "markdown",
   "id": "f878dab1",
   "metadata": {},
   "source": [
    "Найдите области возрастания функции:"
   ]
  },
  {
   "cell_type": "code",
   "execution_count": 507,
   "id": "3018f346",
   "metadata": {},
   "outputs": [
    {
     "name": "stdout",
     "output_type": "stream",
     "text": [
      "Области возрастания функции: Union(Interval.open(-oo, -15), Interval.open(-5, 0), Interval.open(0, oo))\n"
     ]
    }
   ],
   "source": [
    "# Найти области, где первая производная положительна\n",
    "increasing_intervals = solveset(dy_dx > 0, x, domain=S.Reals)\n",
    "print(\"Области возрастания функции:\", increasing_intervals)\n"
   ]
  },
  {
   "cell_type": "code",
   "execution_count": 509,
   "id": "1b202d8c",
   "metadata": {},
   "outputs": [
    {
     "name": "stdout",
     "output_type": "stream",
     "text": [
      "Корни знаменателя: {-5}\n",
      "Корни числителя: {0}\n",
      "Интервалы выпуклости вверх: (0 < x) & (x < oo)\n"
     ]
    }
   ],
   "source": [
    "import sympy as sp\n",
    "\n",
    "# Определяем переменную x\n",
    "x = sp.symbols('x')\n",
    "\n",
    "# Определяем функцию y\n",
    "y = x**3 / (2 * (x + 5)**2)\n",
    "\n",
    "# Находим первую производную\n",
    "y_prime = sp.diff(y, x)\n",
    "\n",
    "# Находим вторую производную\n",
    "y_double_prime = sp.diff(y_prime, x)\n",
    "\n",
    "# Упрощаем вторую производную\n",
    "y_double_prime_simplified = sp.simplify(y_double_prime)\n",
    "\n",
    "# Находим корни знаменателя и числителя\n",
    "denom_roots = sp.solveset(sp.denom(y_double_prime_simplified), x)\n",
    "numer_roots = sp.solveset(sp.numer(y_double_prime_simplified), x)\n",
    "\n",
    "print(f\"Корни знаменателя: {denom_roots}\")\n",
    "print(f\"Корни числителя: {numer_roots}\")\n",
    "\n",
    "# Находим интервалы, на которых вторая производная положительна, исключая корни\n",
    "intervals = sp.solve(y_double_prime_simplified > 0, x)\n",
    "\n",
    "print(f\"Интервалы выпуклости вверх: {intervals}\")\n"
   ]
  }
 ],
 "metadata": {
  "kernelspec": {
   "display_name": "Python 3",
   "language": "python",
   "name": "python3"
  },
  "language_info": {
   "codemirror_mode": {
    "name": "ipython",
    "version": 3
   },
   "file_extension": ".py",
   "mimetype": "text/x-python",
   "name": "python",
   "nbconvert_exporter": "python",
   "pygments_lexer": "ipython3",
   "version": "3.12.3"
  }
 },
 "nbformat": 4,
 "nbformat_minor": 5
}
