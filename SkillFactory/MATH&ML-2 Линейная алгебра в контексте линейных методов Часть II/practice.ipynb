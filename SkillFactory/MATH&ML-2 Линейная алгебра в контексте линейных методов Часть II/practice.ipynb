{
 "cells": [
  {
   "cell_type": "code",
   "execution_count": 110,
   "metadata": {},
   "outputs": [],
   "source": [
    "import numpy as np\n",
    "import pandas as pd"
   ]
  },
  {
   "cell_type": "code",
   "execution_count": 111,
   "metadata": {},
   "outputs": [
    {
     "name": "stdout",
     "output_type": "stream",
     "text": [
      "-9\n"
     ]
    }
   ],
   "source": [
    "# Определим векторы как массивы NumPy\n",
    "v1 = np.array([-1, 2, -7, 9])\n",
    "v2 = np.array([2, 8, 2, -1])\n",
    "\n",
    "# Найдем скалярное произведение векторов\n",
    "p_1_2 = v1.T @ v2.T\n",
    "\n",
    "print(p_1_2)\n"
   ]
  },
  {
   "cell_type": "markdown",
   "metadata": {},
   "source": [
    "Скалярное произведение векторов  v⃗   и  u⃗   равно 0. Что это значит с точки зрения геометрии?\n",
    "\n",
    "Угол между векторами — 90 градусов, векторы ортогональны"
   ]
  },
  {
   "cell_type": "markdown",
   "metadata": {},
   "source": [
    "Скалярное произведение векторов  v⃗   и  u⃗   равно 0. Что это значит с точки зрения их линейной (не)зависимости?\n",
    "\n",
    "Векторы линейно независимы"
   ]
  },
  {
   "cell_type": "code",
   "execution_count": 112,
   "metadata": {},
   "outputs": [
    {
     "name": "stdout",
     "output_type": "stream",
     "text": [
      "[[2 3]\n",
      " [3 5]]\n"
     ]
    }
   ],
   "source": [
    "# Найдите матрицу Грама.\n",
    "A = np.matrix([[1, 1], [1, 2]])\n",
    "A_G = A.T@A\n",
    "print(A_G)"
   ]
  },
  {
   "cell_type": "code",
   "execution_count": 113,
   "metadata": {},
   "outputs": [
    {
     "name": "stdout",
     "output_type": "stream",
     "text": [
      "Обратная матрица:\n",
      "[[ 2. -1.]\n",
      " [-1.  1.]]\n"
     ]
    }
   ],
   "source": [
    "# Проверим, что детерминант не равен нулю\n",
    "det_A = np.linalg.det(A)\n",
    "if det_A == 0:\n",
    "    print(\"Матрица не имеет обратной, так как её детерминант равен нулю.\")\n",
    "else:\n",
    "    # Вычислим обратную матрицу\n",
    "    A_inv = np.linalg.inv(A)\n",
    "    print(\"Обратная матрица:\")\n",
    "    print(A_inv)\n"
   ]
  },
  {
   "cell_type": "code",
   "execution_count": 114,
   "metadata": {},
   "outputs": [
    {
     "name": "stdout",
     "output_type": "stream",
     "text": [
      "Ранг матрицы: 2\n"
     ]
    }
   ],
   "source": [
    "# Векторы\n",
    "v1 = np.array([2, 10, -2])\n",
    "v2 = np.array([3, 2, -2])\n",
    "v3 = np.array([8, 14, -6])\n",
    "\n",
    "# Составим матрицу из векторов\n",
    "A = np.array([v1, v2, v3]).T\n",
    "\n",
    "# Найдем ранг матрицы\n",
    "rank = np.linalg.matrix_rank(A)\n",
    "\n",
    "print(\"Ранг матрицы:\", rank)\n"
   ]
  },
  {
   "cell_type": "code",
   "execution_count": 115,
   "metadata": {},
   "outputs": [
    {
     "name": "stdout",
     "output_type": "stream",
     "text": [
      "Ранг матрицы A: 3\n",
      "Ранг расширенной матрицы A|b: 3\n"
     ]
    }
   ],
   "source": [
    "# Матрица A\n",
    "A = np.array([\n",
    "    [5, 1, 3],\n",
    "    [0, 1, 8],\n",
    "    [10, 0, 2]\n",
    "])\n",
    "\n",
    "# Вектор b\n",
    "b = np.array([12, 10, 0])\n",
    "\n",
    "# Расширенная матрица A|b\n",
    "A_b = np.column_stack((A, b))\n",
    "\n",
    "# Ранг матрицы A\n",
    "rank_A = np.linalg.matrix_rank(A)\n",
    "\n",
    "# Ранг расширенной матрицы A|b\n",
    "rank_A_b = np.linalg.matrix_rank(A_b)\n",
    "\n",
    "print(\"Ранг матрицы A:\", rank_A)\n",
    "print(\"Ранг расширенной матрицы A|b:\", rank_A_b)"
   ]
  },
  {
   "cell_type": "markdown",
   "metadata": {},
   "source": [
    "Задание 2.11"
   ]
  },
  {
   "cell_type": "code",
   "execution_count": 116,
   "metadata": {},
   "outputs": [
    {
     "name": "stdout",
     "output_type": "stream",
     "text": [
      "[[12  0]\n",
      " [ 0 10]]\n"
     ]
    }
   ],
   "source": [
    "# Найдите матрицу Грама.\n",
    "A = np.matrix([[1, 2], [-3, 1], [1, 2], [1, -1]])\n",
    "A_G = A.T@A\n",
    "print(A_G)\n"
   ]
  },
  {
   "cell_type": "code",
   "execution_count": 117,
   "metadata": {},
   "outputs": [
    {
     "name": "stdout",
     "output_type": "stream",
     "text": [
      "Обратная матрица:\n",
      "[[0.08333333 0.        ]\n",
      " [0.         0.1       ]]\n"
     ]
    }
   ],
   "source": [
    "# Проверим, что детерминант не равен нулю\n",
    "det_A = np.linalg.det(A_G)\n",
    "if det_A == 0:\n",
    "    print(\"Матрица не имеет обратной, так как её детерминант равен нулю.\")\n",
    "else:\n",
    "    # Вычислим обратную матрицу\n",
    "    A_inv = np.linalg.inv(A_G)\n",
    "    print(\"Обратная матрица:\")\n",
    "    print(A_inv)"
   ]
  },
  {
   "cell_type": "code",
   "execution_count": 118,
   "metadata": {},
   "outputs": [],
   "source": [
    "# Вектор b\n",
    "b = np.array([1, 4, 5, 0])\n",
    "# Вычислим элементы вектора\n",
    "b_el = A.T@b"
   ]
  },
  {
   "cell_type": "code",
   "execution_count": 119,
   "metadata": {},
   "outputs": [
    {
     "data": {
      "text/plain": [
       "matrix([[-0.5,  1.6]])"
      ]
     },
     "execution_count": 119,
     "metadata": {},
     "output_type": "execute_result"
    }
   ],
   "source": [
    "# Нахождение вектора оценки \n",
    "w = np.linalg.inv(A.T@A)@A.T@b\n",
    "w"
   ]
  },
  {
   "cell_type": "markdown",
   "metadata": {},
   "source": [
    "Задание 4.8"
   ]
  },
  {
   "cell_type": "code",
   "execution_count": 120,
   "metadata": {},
   "outputs": [
    {
     "name": "stdout",
     "output_type": "stream",
     "text": [
      "Ранг матрицы C: 3\n",
      "Матрица C:\n",
      "[[1.         0.99925473 0.99983661]\n",
      " [0.99925473 1.         0.99906626]\n",
      " [0.99983661 0.99906626 1.        ]]\n"
     ]
    }
   ],
   "source": [
    "x1 = np.array([5.1, 1.8, 2.1, 10.3, 12.1, 12.6])\n",
    "x2 = np.array([10.2, 3.7, 4.1, 20.5, 24.2, 24.1])\n",
    "x3 = np.array([2.5, 0.9, 1.1, 5.1, 6.1, 6.3])\n",
    "C = np.corrcoef([x1, x2, x3])\n",
    "# Ранг матрицы A\n",
    "rank_С = np.linalg.matrix_rank(C)\n",
    "print(\"Ранг матрицы C:\", rank_С)\n",
    "print(\"Матрица C:\")\n",
    "print(C)"
   ]
  },
  {
   "cell_type": "code",
   "execution_count": 121,
   "metadata": {},
   "outputs": [
    {
     "name": "stdout",
     "output_type": "stream",
     "text": [
      "Determinant: 0.0000005\n"
     ]
    }
   ],
   "source": [
    "# Вычисляем определитель матрицы C\n",
    "det_C = np.linalg.det(C)\n",
    "print('Determinant: {:.7f}'.format(det_C))\n"
   ]
  }
 ],
 "metadata": {
  "kernelspec": {
   "display_name": "Python 3",
   "language": "python",
   "name": "python3"
  },
  "language_info": {
   "codemirror_mode": {
    "name": "ipython",
    "version": 3
   },
   "file_extension": ".py",
   "mimetype": "text/x-python",
   "name": "python",
   "nbconvert_exporter": "python",
   "pygments_lexer": "ipython3",
   "version": "3.12.3"
  }
 },
 "nbformat": 4,
 "nbformat_minor": 2
}
