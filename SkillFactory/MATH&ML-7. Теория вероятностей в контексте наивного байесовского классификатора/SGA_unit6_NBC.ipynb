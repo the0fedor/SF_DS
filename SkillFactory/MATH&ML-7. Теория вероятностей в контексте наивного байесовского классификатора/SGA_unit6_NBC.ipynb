{
  "cells": [
    {
      "cell_type": "markdown",
      "id": "00009cca",
      "metadata": {
        "id": "00009cca"
      },
      "source": [
        "# Классификация текстов с использованием Наивного Байесовского Классификатора"
      ]
    },
    {
      "cell_type": "markdown",
      "id": "a52414b8",
      "metadata": {
        "id": "a52414b8"
      },
      "source": [
        "## Задание 1 (1 балл)"
      ]
    },
    {
      "cell_type": "markdown",
      "id": "f5f27b43",
      "metadata": {
        "id": "f5f27b43"
      },
      "source": [
        "Откройте данные. Узнайте, сколько в них спам- и не спам-писем. Визуализируйте полученные соотношение подходящим образом."
      ]
    },
    {
      "cell_type": "code",
      "execution_count": 22,
      "id": "ac369274",
      "metadata": {
        "id": "ac369274"
      },
      "outputs": [
        {
          "data": {
            "text/html": [
              "<div>\n",
              "<style scoped>\n",
              "    .dataframe tbody tr th:only-of-type {\n",
              "        vertical-align: middle;\n",
              "    }\n",
              "\n",
              "    .dataframe tbody tr th {\n",
              "        vertical-align: top;\n",
              "    }\n",
              "\n",
              "    .dataframe thead th {\n",
              "        text-align: right;\n",
              "    }\n",
              "</style>\n",
              "<table border=\"1\" class=\"dataframe\">\n",
              "  <thead>\n",
              "    <tr style=\"text-align: right;\">\n",
              "      <th></th>\n",
              "      <th>email</th>\n",
              "      <th>label</th>\n",
              "    </tr>\n",
              "  </thead>\n",
              "  <tbody>\n",
              "    <tr>\n",
              "      <th>0</th>\n",
              "      <td>date wed NUMBER aug NUMBER NUMBER NUMBER NUMB...</td>\n",
              "      <td>0</td>\n",
              "    </tr>\n",
              "    <tr>\n",
              "      <th>1</th>\n",
              "      <td>martin a posted tassos papadopoulos the greek ...</td>\n",
              "      <td>0</td>\n",
              "    </tr>\n",
              "    <tr>\n",
              "      <th>2</th>\n",
              "      <td>man threatens explosion in moscow thursday aug...</td>\n",
              "      <td>0</td>\n",
              "    </tr>\n",
              "    <tr>\n",
              "      <th>3</th>\n",
              "      <td>klez the virus that won t die already the most...</td>\n",
              "      <td>0</td>\n",
              "    </tr>\n",
              "    <tr>\n",
              "      <th>4</th>\n",
              "      <td>in adding cream to spaghetti carbonara which ...</td>\n",
              "      <td>0</td>\n",
              "    </tr>\n",
              "  </tbody>\n",
              "</table>\n",
              "</div>"
            ],
            "text/plain": [
              "                                               email  label\n",
              "0   date wed NUMBER aug NUMBER NUMBER NUMBER NUMB...      0\n",
              "1  martin a posted tassos papadopoulos the greek ...      0\n",
              "2  man threatens explosion in moscow thursday aug...      0\n",
              "3  klez the virus that won t die already the most...      0\n",
              "4   in adding cream to spaghetti carbonara which ...      0"
            ]
          },
          "execution_count": 22,
          "metadata": {},
          "output_type": "execute_result"
        }
      ],
      "source": [
        "# откройте данные: ваш код здесь\n",
        "import pandas as pd\n",
        "e_data = pd.read_csv('spam_or_not_spam.csv')\n",
        "e_data.head()"
      ]
    },
    {
      "cell_type": "code",
      "execution_count": 23,
      "id": "f4231781",
      "metadata": {
        "id": "f4231781"
      },
      "outputs": [
        {
          "data": {
            "text/plain": [
              "label\n",
              "0    2500\n",
              "1     500\n",
              "Name: count, dtype: int64"
            ]
          },
          "metadata": {},
          "output_type": "display_data"
        }
      ],
      "source": [
        "# рассчитайте частоты для классов : ваш код здесь\n",
        "\n",
        "# Рассчитываем частоты для классов\n",
        "class_counts = e_data['label'].value_counts()\n",
        "display(class_counts)"
      ]
    },
    {
      "cell_type": "code",
      "execution_count": 24,
      "id": "9b871636",
      "metadata": {
        "id": "9b871636"
      },
      "outputs": [
        {
          "data": {
            "image/png": "[encoded data removed]",
            "text/plain": [
              "<Figure size 800x600 with 1 Axes>"
            ]
          },
          "metadata": {},
          "output_type": "display_data"
        }
      ],
      "source": [
        "# визуализируйте результат: ваш код здесь\n",
        "\n",
        "import matplotlib.pyplot as plt\n",
        "\n",
        "# Создаём столбчатую диаграмму\n",
        "plt.figure(figsize=(8, 6))\n",
        "class_counts.plot(kind='bar', color=['skyblue', 'salmon'])\n",
        "plt.title('Распределение классов (Spam и Not Spam)', fontsize=14)\n",
        "plt.xlabel('Класс', fontsize=12)\n",
        "plt.ylabel('Количество сообщений', fontsize=12)\n",
        "plt.xticks(rotation=0)\n",
        "plt.grid(axis='y', linestyle='--', alpha=0.7)\n",
        "plt.show()\n"
      ]
    },
    {
      "cell_type": "markdown",
      "id": "b161614b",
      "metadata": {
        "id": "b161614b"
      },
      "source": [
        "## Задание 2 (2 балла)"
      ]
    },
    {
      "cell_type": "markdown",
      "id": "dd29763b",
      "metadata": {
        "id": "dd29763b"
      },
      "source": [
        "Вам необходимо предобработать ваши данные и перевести их в векторный вид. Подгрузим необходимый модуль:"
      ]
    },
    {
      "cell_type": "code",
      "execution_count": 25,
      "id": "382eac9c",
      "metadata": {
        "id": "382eac9c"
      },
      "outputs": [],
      "source": [
        "from sklearn.feature_extraction.text import CountVectorizer"
      ]
    },
    {
      "cell_type": "markdown",
      "id": "89546b95",
      "metadata": {
        "id": "89546b95"
      },
      "source": [
        "Замените в данных все пустые строки и строки, состоящие из пробелов, на пропуски (NaN). После этого удалите из данных все строки, в которых наблюдаются пропущенные значения."
      ]
    },
    {
      "cell_type": "code",
      "execution_count": 26,
      "id": "45180f82",
      "metadata": {
        "id": "45180f82"
      },
      "outputs": [
        {
          "name": "stdout",
          "output_type": "stream",
          "text": [
            "Данные после удаления строк с пропусками: (2997, 2)\n"
          ]
        }
      ],
      "source": [
        "# Предобработка: заменяем пустые строки и строки, состоящие из пробелов, на NaN\n",
        "e_data['email'] = e_data['email'].replace(r'^\\s*$', pd.NA, regex=True)\n",
        "\n",
        "# Удаляем строки с пропущенными значениями\n",
        "e_data = e_data.dropna(subset=['email'])\n",
        "\n",
        "print(f\"Данные после удаления строк с пропусками: {e_data.shape}\")\n"
      ]
    },
    {
      "cell_type": "markdown",
      "id": "2ca2fe88",
      "metadata": {
        "id": "2ca2fe88"
      },
      "source": [
        "Переводим данные в векторный вид:"
      ]
    },
    {
      "cell_type": "code",
      "execution_count": 27,
      "id": "29e9a37b",
      "metadata": {
        "id": "29e9a37b"
      },
      "outputs": [],
      "source": [
        "vectorizer = CountVectorizer()\n",
        "X = vectorizer.fit_transform(e_data[\"email\"])"
      ]
    },
    {
      "cell_type": "markdown",
      "id": "88c8b726",
      "metadata": {
        "id": "88c8b726"
      },
      "source": [
        "Определите, сколько теперь признаков в нашем наборе данных:"
      ]
    },
    {
      "cell_type": "code",
      "execution_count": 28,
      "id": "f19c2a02",
      "metadata": {
        "id": "f19c2a02"
      },
      "outputs": [
        {
          "name": "stdout",
          "output_type": "stream",
          "text": [
            "Количество признаков в наборе данных: 34116\n"
          ]
        }
      ],
      "source": [
        "# Определяем количество признаков\n",
        "num_features = X.shape[1]\n",
        "print(f\"Количество признаков в наборе данных: {num_features}\")\n"
      ]
    },
    {
      "cell_type": "markdown",
      "id": "1803f282",
      "metadata": {
        "id": "1803f282"
      },
      "source": [
        "## Задание 3 (2 балла)"
      ]
    },
    {
      "cell_type": "markdown",
      "id": "39f400b7",
      "metadata": {
        "id": "39f400b7"
      },
      "source": [
        "Определите целевую переменную и признаки:"
      ]
    },
    {
      "cell_type": "code",
      "execution_count": 29,
      "id": "31f1acb6",
      "metadata": {
        "id": "31f1acb6"
      },
      "outputs": [
        {
          "name": "stdout",
          "output_type": "stream",
          "text": [
            "Размер матрицы признаков X: (2997, 34116)\n",
            "Целевая переменная y: (2997,)\n"
          ]
        }
      ],
      "source": [
        "# Целевая переменная\n",
        "y = e_data['label']\n",
        "\n",
        "# Признаки\n",
        "X = vectorizer.fit_transform(e_data['email'])\n",
        "\n",
        "print(f\"Размер матрицы признаков X: {X.shape}\")\n",
        "print(f\"Целевая переменная y: {y.shape}\")\n"
      ]
    },
    {
      "cell_type": "markdown",
      "id": "b20f273e",
      "metadata": {
        "id": "b20f273e"
      },
      "source": [
        "Разделите выборку на обучающую и тестовую, используя стратифицированное разбиение (параметр `stratify` установите в значение вектора ответов y) размер тестовой выборки (`test_size`) возьмите как 0.25, параметр `random_state` определите со значением 42:"
      ]
    },
    {
      "cell_type": "code",
      "execution_count": 30,
      "id": "96538fb6",
      "metadata": {
        "id": "96538fb6"
      },
      "outputs": [
        {
          "name": "stdout",
          "output_type": "stream",
          "text": [
            "Размер обучающей выборки: 2247 сообщений\n",
            "Размер тестовой выборки: 750 сообщений\n"
          ]
        }
      ],
      "source": [
        "from sklearn.model_selection import train_test_split\n",
        "\n",
        "# Разделяем выборку на обучающую и тестовую\n",
        "X_train, X_test, y_train, y_test = train_test_split(\n",
        "    X, y, \n",
        "    test_size=0.25, \n",
        "    stratify=y, \n",
        "    random_state=42\n",
        ")\n",
        "\n",
        "# Выводим размеры полученных выборок\n",
        "print(f\"Размер обучающей выборки: {X_train.shape[0]} сообщений\")\n",
        "print(f\"Размер тестовой выборки: {X_test.shape[0]} сообщений\")\n"
      ]
    },
    {
      "cell_type": "markdown",
      "id": "139dac3d",
      "metadata": {
        "id": "139dac3d"
      },
      "source": [
        "Рассчитайте среднее значение целевой переменной по тестовой выборке:"
      ]
    },
    {
      "cell_type": "code",
      "execution_count": 31,
      "id": "e9baf72d",
      "metadata": {
        "id": "e9baf72d"
      },
      "outputs": [
        {
          "name": "stdout",
          "output_type": "stream",
          "text": [
            "Среднее значение целевой переменной по тестовой выборке: 0.16533333333333333\n"
          ]
        }
      ],
      "source": [
        "# Рассчитываем среднее значение целевой переменной по тестовой выборке\n",
        "mean_target_value = y_test.mean()\n",
        "print(f\"Среднее значение целевой переменной по тестовой выборке: {mean_target_value}\")\n"
      ]
    },
    {
      "cell_type": "markdown",
      "id": "710e0e94",
      "metadata": {
        "id": "710e0e94"
      },
      "source": [
        "## Задание 4 (3 балла)"
      ]
    },
    {
      "cell_type": "markdown",
      "id": "26cf6885",
      "metadata": {
        "id": "26cf6885"
      },
      "source": [
        "Определите и обучите подходящий алгоритм с параметром alpha = 0.01"
      ]
    },
    {
      "cell_type": "code",
      "execution_count": 32,
      "id": "4865dd78",
      "metadata": {
        "id": "4865dd78"
      },
      "outputs": [
        {
          "name": "stdout",
          "output_type": "stream",
          "text": [
            "Модель успешно обучена!\n"
          ]
        }
      ],
      "source": [
        "from sklearn.naive_bayes import MultinomialNB\n",
        "\n",
        "# Определяем и обучаем модель\n",
        "model = MultinomialNB(alpha=0.01)  # Задаём alpha=0.01\n",
        "model.fit(X_train, y_train)\n",
        "\n",
        "# Проверим, обучена ли модель, предсказав метки на тестовом наборе\n",
        "y_pred = model.predict(X_test)\n",
        "\n",
        "print(\"Модель успешно обучена!\")\n"
      ]
    },
    {
      "cell_type": "markdown",
      "id": "d803fbe3",
      "metadata": {
        "id": "d803fbe3"
      },
      "source": [
        "Оцените результат с точки зрения всех известных вам метрик (не менее трёх):"
      ]
    },
    {
      "cell_type": "code",
      "execution_count": 33,
      "id": "b0bbc4d2",
      "metadata": {
        "id": "b0bbc4d2"
      },
      "outputs": [
        {
          "name": "stdout",
          "output_type": "stream",
          "text": [
            "Accuracy: 0.987\n",
            "Precision: 1.000\n",
            "Recall: 0.919\n",
            "F1-Score: 0.958\n"
          ]
        }
      ],
      "source": [
        "from sklearn.metrics import accuracy_score, precision_score, recall_score, f1_score\n",
        "\n",
        "# Расчёт Accuracy\n",
        "accuracy = accuracy_score(y_test, y_pred)\n",
        "\n",
        "# Расчёт Precision (доля правильных положительных предсказаний среди всех положительных предсказаний)\n",
        "precision = precision_score(y_test, y_pred)\n",
        "\n",
        "# Расчёт Recall (доля правильно найденных спам-сообщений среди всех реальных спам-сообщений)\n",
        "recall = recall_score(y_test, y_pred)\n",
        "\n",
        "# Расчёт F1-Score (среднее гармоническое Precision и Recall)\n",
        "f1 = f1_score(y_test, y_pred)\n",
        "\n",
        "# Вывод метрик\n",
        "print(f\"Accuracy: {accuracy:.3f}\")\n",
        "print(f\"Precision: {precision:.3f}\")\n",
        "print(f\"Recall: {recall:.3f}\")\n",
        "print(f\"F1-Score: {f1:.3f}\")\n"
      ]
    },
    {
      "cell_type": "markdown",
      "id": "c85976d1",
      "metadata": {
        "id": "c85976d1"
      },
      "source": [
        "Нарисуйте ROC-кривую:"
      ]
    },
    {
      "cell_type": "code",
      "execution_count": 34,
      "id": "b4195126",
      "metadata": {
        "id": "b4195126"
      },
      "outputs": [
        {
          "data": {
            "image/png": "[encoded data removed]",
            "text/plain": [
              "<Figure size 800x600 with 1 Axes>"
            ]
          },
          "metadata": {},
          "output_type": "display_data"
        }
      ],
      "source": [
        "from sklearn.metrics import roc_curve, roc_auc_score\n",
        "import matplotlib.pyplot as plt\n",
        "\n",
        "# Рассчитываем вероятности предсказаний для тестовой выборки\n",
        "y_prob = model.predict_proba(X_test)[:, 1]\n",
        "\n",
        "# Вычисляем значения ROC-кривой (FPR, TPR)\n",
        "fpr, tpr, thresholds = roc_curve(y_test, y_prob)\n",
        "\n",
        "# Рассчитываем значение AUC (Area Under Curve)\n",
        "auc_score = roc_auc_score(y_test, y_prob)\n",
        "\n",
        "# Построение ROC-кривой\n",
        "plt.figure(figsize=(8, 6))\n",
        "plt.plot(fpr, tpr, color='blue', label=f'ROC-кривая (AUC = {auc_score:.2f})')\n",
        "plt.plot([0, 1], [0, 1], color='gray', linestyle='--', label='Случайное предсказание')\n",
        "plt.title('ROC-кривая', fontsize=14)\n",
        "plt.xlabel('False Positive Rate (FPR)', fontsize=12)\n",
        "plt.ylabel('True Positive Rate (TPR)', fontsize=12)\n",
        "plt.legend(loc='lower right')\n",
        "plt.grid(alpha=0.7)\n",
        "plt.show()\n"
      ]
    },
    {
      "cell_type": "markdown",
      "id": "cf0bb49b",
      "metadata": {
        "id": "cf0bb49b"
      },
      "source": [
        "## Задание 5 (3 балла)"
      ]
    },
    {
      "cell_type": "markdown",
      "id": "30b7a0ae",
      "metadata": {
        "id": "30b7a0ae"
      },
      "source": [
        "Переберите несколько значений alpha с помощью кросс-валидации. Оцените, зависит ли от этого параметра качество классификации."
      ]
    },
    {
      "cell_type": "code",
      "execution_count": 35,
      "id": "3513d907",
      "metadata": {
        "id": "3513d907"
      },
      "outputs": [
        {
          "name": "stdout",
          "output_type": "stream",
          "text": [
            "Alpha: 0.001, F1-Score: 0.958\n",
            "Alpha: 0.01, F1-Score: 0.967\n",
            "Alpha: 0.1, F1-Score: 0.976\n",
            "Alpha: 0.5, F1-Score: 0.973\n",
            "Alpha: 1, F1-Score: 0.971\n",
            "Alpha: 5, F1-Score: 0.727\n",
            "Alpha: 10, F1-Score: 0.433\n",
            "\n",
            "Лучшее значение alpha: 0.1 с F1-Score: 0.976\n"
          ]
        }
      ],
      "source": [
        "from sklearn.model_selection import cross_val_score\n",
        "import numpy as np\n",
        "\n",
        "# Список значений alpha для проверки\n",
        "alphas = [0.001, 0.01, 0.1, 0.5, 1, 5, 10]\n",
        "\n",
        "# Хранение результатов\n",
        "alpha_scores = {}\n",
        "\n",
        "# Кросс-валидация для каждого значения alpha\n",
        "for alpha in alphas:\n",
        "    model = MultinomialNB(alpha=alpha)\n",
        "    scores = cross_val_score(model, X_train, y_train, cv=5, scoring='f1')  # Используем F1-метрику\n",
        "    alpha_scores[alpha] = np.mean(scores)\n",
        "    print(f\"Alpha: {alpha}, F1-Score: {np.mean(scores):.3f}\")\n",
        "\n",
        "# Вывод лучших результатов\n",
        "best_alpha = max(alpha_scores, key=alpha_scores.get)\n",
        "print(f\"\\nЛучшее значение alpha: {best_alpha} с F1-Score: {alpha_scores[best_alpha]:.3f}\")\n"
      ]
    },
    {
      "cell_type": "markdown",
      "id": "dd720448",
      "metadata": {},
      "source": [
        "- При низких значениях alpha (например, 0.001, 0.01):\n",
        "\n",
        "Модель уделяет меньше внимания сглаживанию редких слов, что может помочь при большом объёме данных. Однако качество всё ещё чуть ниже максимума.\n",
        "\n",
        "- При alpha = 0.1:\n",
        "\n",
        "Баланс между сглаживанием и точностью обработки редко встречающихся слов достигает оптимума, обеспечивая наилучшие результаты.\n",
        "\n",
        "- ри высоких значениях alpha (например, 5, 10):\n",
        "\n",
        "Сглаживание становится слишком сильным, что \"размывает\" различия между часто и редко встречающимися словами. Это приводит к значительному снижению качества модели (особенно виден спад на alpha = 10)."
      ]
    }
  ],
  "metadata": {
    "colab": {
      "name": "SGA_unit6_NBC.ipynb",
      "provenance": []
    },
    "kernelspec": {
      "display_name": "Python 3",
      "language": "python",
      "name": "python3"
    },
    "language_info": {
      "codemirror_mode": {
        "name": "ipython",
        "version": 3
      },
      "file_extension": ".py",
      "mimetype": "text/x-python",
      "name": "python",
      "nbconvert_exporter": "python",
      "pygments_lexer": "ipython3",
      "version": "3.11.9"
    }
  },
  "nbformat": 4,
  "nbformat_minor": 5
}
