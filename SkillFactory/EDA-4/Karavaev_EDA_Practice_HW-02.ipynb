{
  "cells": [
    {
      "cell_type": "markdown",
      "metadata": {
        "id": "yMG_XPwziMUN"
      },
      "source": [
        "# <center> Практика. Статистические тесты в контексте EDA"
      ]
    },
    {
      "cell_type": "markdown",
      "metadata": {
        "id": "EMd2vwh8ihnl"
      },
      "source": [
        "## Постановка задачи\n",
        "\n",
        "HR-агентство изучает тренды на рынке труда в IT. Компания хочет провести исследование на основе данных о зарплатах в сфере Data Science за 2020–2022 годы и получить некоторые выводы.\n",
        "\n",
        "HR-агентство хочет выяснить, какие факторы влияют на зарплату специалиста Data Scientist, а так же ответить на следующие вопросы:\n",
        "\n",
        "- Наблюдается ли ежегодный рост зарплат у специалистов Data Scientist?\n",
        "- Как соотносятся зарплаты Data Scientist и Data Engineer в 2022 году?\n",
        "- Как соотносятся зарплаты специалистов Data Scientist в компаниях различных размеров?\n",
        "- Есть ли связь между наличием должностей Data Scientist и Data Engineer и размером компании?\n",
        "\n",
        "Определяем уровень значимости как: $\\alpha=0.05$."
      ]
    },
    {
      "cell_type": "markdown",
      "metadata": {
        "id": "xqjB2nBnNNkc"
      },
      "source": [
        "Ответить на эти вопросы нам помогут данные о зарплатах в сфере Data Science за 2020–2022 годы.\n",
        "\n",
        "Данные содержат следующие столбцы:\n",
        "*   *work_year* — год, в котором была выплачена зарплата;\n",
        "*   *experience_level* — опыт работы на этой должности в течение года со следующими возможными значениями:\n",
        "    - EN — Entry-level/Junior;\n",
        "    - MI — Mid-level/Intermediate;\n",
        "    - SE — Senior-level/Expert;\n",
        "    - EX — Executive-level/Director;\n",
        "*   *employment_type* — тип трудоустройства для этой роли:\n",
        "    - PT — неполный рабочий день;\n",
        "    - FT — полный рабочий день;\n",
        "    - CT — контракт;\n",
        "    - FL — фриланс;\n",
        "*   *job_title* — роль, в которой соискатель работал в течение года;\n",
        "*   *salary* — \tобщая выплаченная валовая сумма заработной платы;\n",
        "*   *salary_currency* — валюта выплачиваемой заработной платы в виде кода валюты ISO 4217;\n",
        "*   *salary_in_usd* — зарплата в долларах США (валютный курс, делённый на среднее значение курса доллара США за соответствующий год через fxdata.foorilla.com);\n",
        "*   *employee_residence* —\tосновная страна проживания сотрудника в течение рабочего года в виде кода страны ISO 3166;\n",
        "*   *remote_ratio* — общий объём работы, выполняемой удалённо. Возможные значения:\n",
        "    - 0 — удалённой работы нет (менее 20 %);\n",
        "    - 50 — частично удалённая работа;\n",
        "    - 100 — полностью удалённая работа (более 80 %);\n",
        "*   *company_location* — страна главного офиса работодателя или филиала по контракту в виде кода страны ISO 3166;\n",
        "*   *company_size* — среднее количество людей, работавших в компании в течение года:\n",
        "    - S — менее 50 сотрудников (небольшая компания);\n",
        "    - M — от 50 до 250 сотрудников (средняя компания);\n",
        "    - L — более 250 сотрудников (крупная компания).\n",
        "\n",
        "Оригинальный датасет: [\"Data Science Job Salaries\" (kaggle.com)](https://www.kaggle.com/datasets/ruchi798/data-science-job-salaries)"
      ]
    },
    {
      "cell_type": "markdown",
      "metadata": {
        "id": "_XMyOg3cgcN1"
      },
      "source": [
        "## 1. Загрузка и обработка данных"
      ]
    },
    {
      "cell_type": "markdown",
      "metadata": {},
      "source": [
        "### - Загрузка данных"
      ]
    },
    {
      "cell_type": "code",
      "execution_count": 5,
      "metadata": {
        "id": "2JjaPf35gyCK"
      },
      "outputs": [],
      "source": [
        "# загружаем необходимые библиотеки\n",
        "import pandas as pd\n",
        "import numpy as np\n",
        "from scipy import stats\n",
        "import statsmodels.api as sm\n",
        "from statsmodels import stats as sms\n",
        "import matplotlib.pyplot as plt\n",
        "import seaborn as sns\n",
        "\n",
        "# делаем визуальную настройку графиков\n",
        "sns.set_theme(\"notebook\") \n",
        "sns.set_palette(\"Set2\") "
      ]
    },
    {
      "cell_type": "code",
      "execution_count": 6,
      "metadata": {
        "colab": {
          "base_uri": "https://localhost:8080/"
        },
        "id": "-Op6Oy7hf5ZM",
        "outputId": "9ea91bf5-b019-43e3-aaf4-94408a78c63f"
      },
      "outputs": [
        {
          "data": {
            "text/html": [
              "<div>\n",
              "<style scoped>\n",
              "    .dataframe tbody tr th:only-of-type {\n",
              "        vertical-align: middle;\n",
              "    }\n",
              "\n",
              "    .dataframe tbody tr th {\n",
              "        vertical-align: top;\n",
              "    }\n",
              "\n",
              "    .dataframe thead th {\n",
              "        text-align: right;\n",
              "    }\n",
              "</style>\n",
              "<table border=\"1\" class=\"dataframe\">\n",
              "  <thead>\n",
              "    <tr style=\"text-align: right;\">\n",
              "      <th></th>\n",
              "      <th>work_year</th>\n",
              "      <th>experience_level</th>\n",
              "      <th>employment_type</th>\n",
              "      <th>job_title</th>\n",
              "      <th>salary</th>\n",
              "      <th>salary_currency</th>\n",
              "      <th>salary_in_usd</th>\n",
              "      <th>employee_residence</th>\n",
              "      <th>remote_ratio</th>\n",
              "      <th>company_location</th>\n",
              "      <th>company_size</th>\n",
              "    </tr>\n",
              "  </thead>\n",
              "  <tbody>\n",
              "    <tr>\n",
              "      <th>0</th>\n",
              "      <td>2020</td>\n",
              "      <td>MI</td>\n",
              "      <td>FT</td>\n",
              "      <td>Data Scientist</td>\n",
              "      <td>70000</td>\n",
              "      <td>EUR</td>\n",
              "      <td>79833</td>\n",
              "      <td>DE</td>\n",
              "      <td>0</td>\n",
              "      <td>DE</td>\n",
              "      <td>L</td>\n",
              "    </tr>\n",
              "    <tr>\n",
              "      <th>1</th>\n",
              "      <td>2020</td>\n",
              "      <td>SE</td>\n",
              "      <td>FT</td>\n",
              "      <td>Machine Learning Scientist</td>\n",
              "      <td>260000</td>\n",
              "      <td>USD</td>\n",
              "      <td>260000</td>\n",
              "      <td>JP</td>\n",
              "      <td>0</td>\n",
              "      <td>JP</td>\n",
              "      <td>S</td>\n",
              "    </tr>\n",
              "  </tbody>\n",
              "</table>\n",
              "</div>"
            ],
            "text/plain": [
              "   work_year experience_level employment_type                   job_title  \\\n",
              "0       2020               MI              FT              Data Scientist   \n",
              "1       2020               SE              FT  Machine Learning Scientist   \n",
              "\n",
              "   salary salary_currency  salary_in_usd employee_residence  remote_ratio  \\\n",
              "0   70000             EUR          79833                 DE             0   \n",
              "1  260000             USD         260000                 JP             0   \n",
              "\n",
              "  company_location company_size  \n",
              "0               DE            L  \n",
              "1               JP            S  "
            ]
          },
          "execution_count": 6,
          "metadata": {},
          "output_type": "execute_result"
        }
      ],
      "source": [
        "# загружаем датасет \n",
        "data = pd.read_csv('data/ds_salaries.csv', index_col=[0])\n",
        "data.head(2)"
      ]
    },
    {
      "cell_type": "markdown",
      "metadata": {},
      "source": [
        "Аргумент index_col=[0] используется в функции read_csv из библиотеки pandas. Он указывает, что первый столбец (с индексом 0) в вашем CSV-файле должен быть использован в качестве индекса для DataFrame."
      ]
    },
    {
      "cell_type": "code",
      "execution_count": 7,
      "metadata": {
        "colab": {
          "base_uri": "https://localhost:8080/"
        },
        "id": "uLEEV6aLomOU",
        "outputId": "23314b21-aa3f-4537-94cb-be776d9427ae"
      },
      "outputs": [
        {
          "name": "stdout",
          "output_type": "stream",
          "text": [
            "Уровень значимости alpha = 0.05\n"
          ]
        }
      ],
      "source": [
        "# задаём уровень значимости\n",
        "alpha = 0.05 \n",
        "print(\"Уровень значимости alpha = {:.2f}\".format(alpha))"
      ]
    },
    {
      "cell_type": "markdown",
      "metadata": {},
      "source": [
        "### - Провкерка на наличие пропусков и дубликатов"
      ]
    },
    {
      "cell_type": "code",
      "execution_count": 8,
      "metadata": {
        "colab": {
          "base_uri": "https://localhost:8080/"
        },
        "id": "zkiOmlAy2XQU",
        "outputId": "88adbac3-0fd7-460c-a368-c40baff97200"
      },
      "outputs": [
        {
          "name": "stdout",
          "output_type": "stream",
          "text": [
            "<class 'pandas.core.frame.DataFrame'>\n",
            "Index: 607 entries, 0 to 606\n",
            "Data columns (total 11 columns):\n",
            " #   Column              Non-Null Count  Dtype \n",
            "---  ------              --------------  ----- \n",
            " 0   work_year           607 non-null    int64 \n",
            " 1   experience_level    607 non-null    object\n",
            " 2   employment_type     607 non-null    object\n",
            " 3   job_title           607 non-null    object\n",
            " 4   salary              607 non-null    int64 \n",
            " 5   salary_currency     607 non-null    object\n",
            " 6   salary_in_usd       607 non-null    int64 \n",
            " 7   employee_residence  607 non-null    object\n",
            " 8   remote_ratio        607 non-null    int64 \n",
            " 9   company_location    607 non-null    object\n",
            " 10  company_size        607 non-null    object\n",
            "dtypes: int64(4), object(7)\n",
            "memory usage: 56.9+ KB\n"
          ]
        },
        {
          "data": {
            "text/plain": [
              "<Axes: >"
            ]
          },
          "execution_count": 8,
          "metadata": {},
          "output_type": "execute_result"
        },
        {
          "data": {
            "image/png": "iVBORw0KGgoAAAANSUhEUgAAAi8AAAImCAYAAACb22qMAAAAOXRFWHRTb2Z0d2FyZQBNYXRwbG90bGliIHZlcnNpb24zLjguNCwgaHR0cHM6Ly9tYXRwbG90bGliLm9yZy8fJSN1AAAACXBIWXMAAA9hAAAPYQGoP6dpAAC5zElEQVR4nOzdd3zN5/v48dcJGbZQSdQWI3YSSUhr1arao9SmYo+Q2BUk9ohQW8xaNRpNKW2IfqqhRIIajQiShiiJFRFkOef3h1/O12mizYlzTk64nn2cx4P7vt/3ud7acrmnQqVSqRBCCCGEyCdM8joAIYQQQghtSPIihBBCiHxFkhchhBBC5CuSvAghhBAiX5HkRQghhBD5iiQvQgghhMhXJHkRQgghRL4iyYsQQggh8hVJXoQQQgiRr+RJ8qJUKlm5ciVNmzbF3t6eYcOGcfv27bwIRQghhBD5TJ4kL2vXrmX37t3MnTuXPXv2oFQqGTp0KGlpaXkRjhBCCPHOye1AQeafyatWrcpS99NPP9G+fXvq169P165dOX36tEb948ePmThxIs7Ozri4uODj48OLFy909k6ZDJ68pKWlsWXLFtzd3WnRogV2dnYsX76ce/fucfToUUOHI4QQQryTcjNQkJaWxldffUVISEiWujNnzjB58mR69+7N999/j6urK8OHD+fmzZvqNu7u7sTGxrJt2za+/vprTpw4gbe3t87fzeDJS2RkJM+ePcPV1VVdVrx4cWrXrk1YWJihwxFCCCHeObkZKDh//jzdu3cnPDyc4sWLZ6nfuHEjrVu3ZuDAgdja2jJ16lTq1KnDN998A8CFCxc4e/Ysixcvpk6dOri6ujJnzhx++OEH4uPjdfp+Bk9e7t27B0DZsmU1yq2srNR1QgghhMi93AwUnDhxgqZNmxIYGEixYsU06pRKJefPn9foD6BRo0bq/sLDwylTpgy2trbqehcXFxQKBefOndPVqwFQUKe95UDm3JeZmZlGubm5OU+ePDF0OEIIIYTRatWq1b/WHz9+PNvy3AwUeHh4vPF7kpKSeP78OTY2Nm/sLz4+Psv3mZmZUbJkSe7evfuv76EtgycvFhYWwKshrcwfA6SmplKoUKFc9RlevqsuQhNCCPEecIoL1Gv/6Q+i9dp/Tuh6oCAlJeWN/aWmpqq/85/1/2yjKwZPXjKzsoSEBCpWrKguT0hIoGbNmoYORwghhDBabxpZ+S+6HigwNzdX9/e61/uzsLDIdjFwamoqhQsX1vo7/43B17zY2dlRtGhRQkND1WVJSUlERETg7Oxs6HCEEEII3VK+1N0nl14fKHhdQkIC1tbWWvdXsmRJChcu/K/92djYZKlPS0sjMTERKysrrb/z3xg8eTEzM6N///74+vpy/PhxIiMj8fDwwMbGhrZt2xo6HCGEEEK3VErdfXJJ1wMFCoUCR0dHzp49q1EeGhqKk5MTAM7Ozty7d4/Y2Fh1fWb7hg0b5uY13sjg00bwah94RkYGXl5epKSk4OzszObNmzE1Nc2LcIQQQgjdUeY+6dCV1wcKSpUqRbly5Vi6dKl6oODly5c8evSIYsWKaUwr/Zsvv/yS4cOHU7t2bZo1a0ZAQABXr15l/vz5ADRo0ABHR0c8PDzw9vbm+fPnzJo1i65du+ZqtOffKFQqlUqnPeYBWbArhBAip/S+YPfuVZ31ZVq2Vq6fffnyJX5+fhw4cEA9UDBr1izKly9PXFwcrVq1YuHChXTv3j3Lsy1btqRbt26MGzdOozwwMJC1a9dy7949qlWrxuTJkzW2Tz98+BAfHx9CQkIwNzenXbt2TJ8+Xb1mRlckeRFCCPFe0Xfykvb3nzrry+zDOjrr612SJ9NGQgghxDvLCKaN3nV5cjGjEEIIIURuyciLEEIIoUtvsUtI5IzOR14SExOZNWsWzZo1w9HRkT59+hAeHq6uj4mJYfjw4Tg4OPDxxx8zZ84cvVyXLYQQQuQJIzjn5V2n8+TF09OTCxcu4OfnR0BAALVq1cLNzY3o6GgeP35M//79KViwIPv372fp0qUcO3aMxYsX6zoMIYQQQryjdDptFBsby6lTp9i9e7f6QJqZM2cSEhLCoUOHMDExoWDBgixfvhxzc3OqVauGu7s73377LSqVCoVCoctwhBBCCMOTaSO902nyYmlpib+/P/Xq1VOXKRQKFAoFSUlJXLlyhTZt2mjs9+7Zsyc9e/bUZRhCCCFE3pHdRnqn02mj4sWL07x5c41bJYOCgoiNjaVp06bExMRgZWXFwoULadGiBW3atGHJkiU6v21SCCGEEO8uvW6VPn/+PNOnT6dt27a0aNGC5ORkNm7cSGpqKqtXr2by5MkcOnQILy8vfYYhhBBCGIxKpdTZR2RPb1ulg4ODmTRpEo6Ojvj6+r76soIFqVKlCt7e3gDUrVuXly9fMmHCBKZNm0bp0qX1FY4QQghhGDJtpHd6GXnZuXMn48aN45NPPmH9+vXqNS42NjZUr15do23mz+/cuaOPUIQQQgjDMoJbpd91Ok9edu/ezdy5c+nXrx9+fn4a61+cnZ25dOkSr1+nFBUVRYECBShfvryuQxFCCCHEO0inyUtMTAwLFiygTZs2jBgxggcPHnD//n3u37/P06dPcXNz4/bt28yePZuYmBhCQkJYvHgxXbp0oVSpUroMRQghhMgbckid3ul0zUtQUBDp6ekcO3aMY8eOadR169aNRYsWsX37dpYsWUKXLl0oVqwYnTt3xsPDQ5dhCCGEEHlHpnv0TqF6fQ4nnwov3zWvQxBCCJFPOMUF6rX/1Kv/01lf5rU+0Vlf7xK5mFEIIYTQJdltpHeSvAghhBC6JNNGeqfXQ+qEEEIIIXRNRl6EEEIIXZJpI73TefISHx9Ps2bNspQvXLiQ7t2788svv7BmzRqio6OxtLTk008/Zfz48VhYWOg6FCGEEMLgVCrZ4qxvOk9eIiMjMTc3Jzg4GIVCoS4vVqwY4eHhjB07Fnd3d9q1a0dsbCyzZs0iMTGRhQsX6joUIYQQQryDdL7mJSoqisqVK2NlZUWZMmXUHwsLC/bs2UOjRo0YOXIklStXpnnz5nh4eHDo0CHS0tJ0HYoQQghheHI9gN7pfOTl2rVr2NraZls3ZMgQTEw08yUTExPS09NJTk6WU3aFEELkf7LmRe90nrxERUVhaWlJv379iImJoVKlSowaNYpmzZpRu3Ztjbbp6els27aNunXrSuIihBDi3SAjJnqn02mjjIwMoqOjefLkCePGjcPf3x97e3uGDx/O6dOns7SdMmUK169fZ/bs2boMQwghhBDvMJ2OvBQsWJDQ0FAKFCig3j1Ut25drl+/zubNm3F1dQUgOTmZCRMmcPbsWVavXk39+vV1GYYQQgiRd+RCRb3T+bRRkSJFspRVr16dkydPApCQkMCwYcO4c+cOmzdvxtnZWdchCCGEEHlHpo30TqfTRtevX8fR0ZHQ0FCN8itXrlCtWjWePHnCoEGDePToEbt27ZLERQghhBBa0+nIi62tLVWrVmXOnDn4+PhgaWnJvn37+OOPPwgICGDhwoXcvn2bTZs2UapUKe7fv69+tlSpUhQoUECX4QghhBCGJ7uN9E6hUqlUuuzwwYMHLFu2jJCQEJKSkqhduzaTJk3CwcEBBwcHUlNTs33u+PHjlC9fPlffGV6+61tELIQQ4n3iFBeo1/5TTn+rs74sXPvorK93ic7XvHzwwQdvPC330qVLuv46IYQQQrxn5GJGIYQQQpdk2kjvJHkRQgghdEmSF73T+d1GQgghhBD6pNORl9DQUAYOHJhtXfny5Tl+/Di3bt1iwYIFhIeHY2FhQcuWLZk8eTLFihXTZShCCCFEnlCpjOOQOqVSyerVq9m/fz9Pnz7F2dmZWbNmUaFChWzbP378mHnz5vHbb7+hUCjo0KEDU6ZMoVChQgDUrFnzjd/1v//9jw8//JBz587Rt2/fLPXbt2+nUaNGunkxdJy8ODg4qA+jy/THH38wbtw4Ro8eTXp6OsOGDaN69ers3buXx48fM2PGDLy8vPj66691GYoQQgiRN4xk2mjt2rXs3r2bRYsWYWNjw9KlSxk6dCiHDh3CzMwsS3t3d3devHjBtm3bSEpKYsaMGTx//pzFixcDZPnz/cmTJ/Tv35/mzZvz4YcfAq8uZ65YsSK7d+/WaFuiRAmdvptOkxczMzPKlCmj/vnz589ZuHAh3bp1o0ePHly9epW//vqLlStXqm+e7tevHytWrNBlGEIIIUTeMYITdtPS0tiyZQuTJk2iRYsWACxfvpymTZty9OhROnbsqNH+woULnD17liNHjqj/fJ4zZw5Dhw7F09MTa2trjT/fAebOnYulpSVz585Vl0VFRVGtWrUsbXVNr2te1q9fz4sXL5g6dSoAlpaWmJiYsG/fPtLS0nj06BE///wzDRo00GcYQgghxHslMjKSZ8+eqe8UBChevDi1a9cmLCwsS/vw8HDKlCmjTlwAXFxcUCgUnDt3Lkv7kydPcvToUebOnasxinPt2jWNPvRFb7uNHj16xLZt25g4cSIlS5YEwMbGBi8vL3x9fdm9ezdKpZIaNWqwZs0afYUhhBBCGJYOp41atWr1r/XHjx/PtvzevXsAlC1bVqPcyspKXfe6+Pj4LG3NzMwoWbIkd+/ezdLez8+PVq1a4eTkpFF+/fp1LC0t6d69O/Hx8dSoUQMPDw+dX8Cst5GX3bt3U6xYMb744gt1WVpaGteuXaNt27bs3bsXf39/lEolEyZM4OVL41jgJIQQQrwVlVJ3n1x68eIFQJa1Lebm5tmedP/ixYts18Fk1z4sLIw///yT0aNHa5TfvXuXp0+f8vz5c7y8vFi7di0ffPAB/fv358aNG7l+l+zobeQlMDCQrl27YmFhoS7btm0boaGhHDlyRH2PUeXKlWnbti3/+9//aN26tb7CEUIIIfKdN42s/JfMP3vT0tI0/hxOTU1V7x76Z/u0tLQs5ampqRQuXFij7Pvvv6d+/frUqVNHo7xs2bKEhYVRqFAhTE1NAahXrx4RERHs2LEDHx+fXL1LdvQy8hIZGcnt27fp1KmTRvm5c+eoXbu2xgWMlSpVwtLSkr/++ksfoQghhBCGpVTq7pNLmVNACQkJGuUJCQlYW1tnaW9jY5OlbVpaGomJiVhZWb32akp++eWXLH++ZypevLg6cQEwMTHB1taW+Pj4XL9LdvSSvISHh1O6dGns7Ow0yq2trbl+/Tqv3wUZHx9PYmIilStX1kcoQgghhGEZwbSRnZ0dRYsWJTQ0VF2WlJREREQEzs7OWdo7Oztz7949YmNj1WVnz54FoGHDhuqyGzdu8PjxYz766KMsffz22284ODhw+/ZtdVlGRgaRkZFUq1Yt1++SHb0kLxEREdkeZtOvXz9iY2OZOXMmN2/e5I8//sDd3R07OzuaN2+uj1CEEEKI946ZmRn9+/fH19eX48ePExkZiYeHBzY2NrRt25aXL19y//59UlJSAGjQoAGOjo54eHhw6dIlzpw5w6xZs+jatavGSE1ERASmpqZUrVo1y3c6OjpiaWnJ1KlTuXLlCteuXWPq1KkkJiYyePBgnb6fXpKX+/fvq3cYva5mzZrs2LGDW7du8cUXXzBu3DiqVq3Kli1bNIaZhBBCiHzLCKaN4NWhc59//jleXl706dOHAgUKsHnzZkxNTbl79y5NmjThyJEjACgUClavXk358uUZNGgQEyZMoFmzZnh7e2v0ef/+fUqUKIGJSdb0oWjRomzbto0PPvgANzc3vvjiCxITE9m5cycffPDBW73LPylUr8/h5FPh5bvmdQhCCCHyCae4QL32/+LwCp31VajDBJ319S6RW6WFEEIIXTKCE3bfdXKrtBBCCCHyFRl5EUIIIXTJSC5mfJdJ8iKEEELokkwb6d1bTRtt2LCBAQMGaJRdvXqV/v37Y29vT8uWLdm+ffsbn4+JicHBwYEDBw68TRhCCCGEeI/kOnnZtWsXK1as0Ch7/PgxX375JRUrViQgIIAxY8bg6+tLQEBAlufT09OZNGkSz58/z20IQgghhPExkq3S7zKtp43i4+OZPXs2oaGhWU7F3bdvH6ampsyZM4eCBQtia2tLbGws/v7+9OjRQ6PtqlWrKFq06FsFL4QQQhgdmTbSO61HXv78809MTU05ePAgDRo00KgLDw/HxcWFggX/Lydq3Lgxf/31Fw8ePFCXhYWFsXfvXhYtWvQWoQshhBDifaT1yEvLli1p2bJltnX37t2jRo0aGmWZFzrdvXuXDz74gKSkJKZMmYKXl5f64ighhBDinSHTPXqn091GKSkpmJmZaZSZm5sDr67VBvD29sbBweGNN1IKIYQQ+ZokL3qn0+TFwsKCtLQ0jbLMpKVw4cIEBgYSHh7OoUOHdPm1QgghhHiP6PSEXRsbGxISEjTKMn9ubW1NQEAADx8+pEWLFjg4OODg4ADA7NmzGTp0qC5DEUIIIfKGSqW7j8iWTkdenJ2d2bNnDy9fvqRAgQIAnDlzhipVqlC6dGl8fX3V129natu2Le7u7nTu3FmXoQghhBB5Q6aN9E6nyUuPHj3YtGkTM2bMYOjQoVy6dIlt27bh4+MDvBp9yU7p0qXfWCeEEELkK5K86J1Op41Kly7Npk2biImJoVu3bqxevZopU6bQrVs3XX6NEEIIId5jCpUq/0+qhZfvmtchCCGEyCec4gL12v+LnTN01leh/vN11te7RC5mFEIIIXRJpo30TqfTRkIIIYQQ+iYjL0IIIYQu5f/VGEZPkhchhBBCl2TaSO/eatpow4YNDBgwQKPsyJEjdOrUifr169O6dWs2btzI62uClUolK1eupGnTptjb2zNs2DBu3779NmEIIYQQ4j2S6+Rl165drFixQqMsJCSESZMm0atXLw4fPsyUKVNYu3Yt27dvV7dZu3Ytu3fvZu7cuezZswelUsnQoUOzXCsghBBC5EtKpe4+IltaJy/x8fGMHDkSX19fKleurFF3//59hg8fzoABA6hQoQJt27blo48+4tSpUwCkpaWxZcsW3N3dadGiBXZ2dixfvpx79+5x9OhRnbyQEEIIkadUSt19RLa0Tl7+/PNPTE1NOXjwIA0aNNCo6969OxMmTABeTQ/9/vvvhIWF8fHHHwMQGRnJs2fPcHV1VT9TvHhxateuTVhY2Fu8hhBCCCHeF1ov2G3ZsiUtW7b81zZ///03bdq0ISMjgyZNmtCnTx8A7t27B0DZsmU12ltZWanrhBBCiPxMpZTdRvqml3Neihcvzv79+1mxYgWRkZFMmTIFgBcvXgBgZmam0d7c3JzU1FR9hCKEEEIYlqx50Tu9bJUuWrQotWvXpnbt2rx8+ZKJEycyefJkLCwsgFdrXzJ/DJCamkqhQoX0EYoQQghhWLJWRe90OvISHh7OpUuXNMpq1qwJQEJCgnq6KCEhQaNNQkKC3CothBBCiBzRafKyfft2FixYoFF28eJFChYsSOXKlbGzs6No0aKEhoaq65OSkoiIiMDZ2VmXoQghhBB5Q6nS3UdkS6fTRoMHD6Z///4sX76c7t27ExERwdKlSxk4cCCWlpYA9O/fH19fX0qVKkW5cuVYunQpNjY2tG3bVpehCCGEEHlD1qronU6TF0dHRzZs2MCKFSvYtm0bpUqVYsiQIQwbNkzdxt3dnYyMDLy8vEhJScHZ2ZnNmzdjamqqy1CEEEII8Y5SqFT5/wap8PJd8zoEIYQQ+YRTXKBe+3/+9Uid9VV4/Hqd9fUukYsZhRBCCF3K/2MCRk8v57wIIYQQQuiLjLwIIYQQuiQLdvVORl6EEEIIXTKSrdJKpZKVK1fStGlT7O3tGTZsGLdv335j+8ePHzNx4kScnZ1xcXHBx8dHfTJ+prZt21KzZk2Nz7Rp07TqQxfeauRlw4YNnDx5kh07dqjLvLy82L9/v0a7cuXK8csvv6h/HhgYiL+/P7dv36ZixYqMHTuWzz777G1CEUIIIcRr1q5dy+7du1m0aBE2NjYsXbqUoUOHcujQoSzX9MCr3cAvXrxg27ZtJCUlMWPGDJ4/f87ixYsBeP78Obdv32bDhg3UqVNH/dzrJ+b/Vx+6kuvkZdeuXaxYsQInJyeN8mvXrjFy5Ej69++vLitQoID6xz/88AMzZszgq6++omnTphw+fBhPT09sbGxwcHDIbThCCCGEcTCC6wHS0tLYsmULkyZNokWLFgAsX76cpk2bcvToUTp27KjR/sKFC5w9e5YjR45ga2sLwJw5cxg6dCienp5YW1tz48YNlEolDg4OlChRIst35qQPXdE6eYmPj2f27NmEhoZSuXJljTqVSsWNGzcYPnw4ZcqUyfKsSqXi66+/ZuDAgfTr1w+AUaNGER4eztmzZyV5EUIIkf/p8GTcVq1a/Wv98ePHsy2PjIzk2bNnuLq6qsuKFy9O7dq1CQsLy5K8hIeHU6ZMGXXSAeDi4oJCoeDcuXO0b9+ea9eu8cEHH2SbuOS0D13ROnn5888/MTU15eDBg6xZs4Y7d+6o627dusXz58+pWrVqts/GxMRw584dOnXqpFG+efNmbcMQQgghjJLKCBbs3rt3D0B9p2AmKysrdd3r4uPjs7Q1MzOjZMmS3L17F3g1s1K4cGHc3d05f/48lpaW9OjRg4EDB2JiYpKjPnRF6+SlZcuWtGzZMtu6qKgoAHbs2MFvv/2GiYkJzZo1w8PDg2LFihETEwO8mjdzc3MjIiKC8uXLM2rUqDf2KYQQQryv3jSy8l8yF8n+c22Lubk5T548ybZ9dutgzM3NSU1NBeD69eskJSXx6aefMmbMGM6dO8fSpUt58uQJ48ePz1EfuqLTrdJRUVGYmJhgZWXF+vXruXXrFkuWLOH69et88803JCcnAzB16lTGjh3LpEmTCAoKYvTo0WzdulVjeEsIIYTIl4zgQsXMRbRpaWkaC2pTU1MpVKhQtu3T0tKylKemplK4cGEANm7cSGpqKsWKFQOgZs2aJCcns27dOsaNG5ejPnRFp8nLqFGj6Nu3r/oSxho1alCmTBl69erF5cuX1fcXubm50a1bNwBq1apFRESEJC9CCCHeDUawYDdz+iYhIYGKFSuqyxMSEqhZs2aW9jY2NgQHB2uUpaWlkZiYiJWVFfBqFOefIys1atTg+fPnPHnyJEd96IpOz3kxMTFRJy6ZqlevDryaf8tcaVyjRg2NNtWqVSMuLk6XoQghhBDvLTs7O4oWLUpoaKi6LCkpiYiICJydnbO0d3Z25t69e8TGxqrLzp49C0DDhg1RqVS0bt2a1atXazx3+fJlypQpg6Wl5X/2oUs6TV6mTJnC4MGDNcouX74MvEpQ6tSpQ5EiRbh48aJGm6ioKI3MUAghhMi3jOCQOjMzM/r374+vry/Hjx8nMjISDw8PbGxsaNu2LS9fvuT+/fukpKQA0KBBAxwdHfHw8ODSpUucOXOGWbNm0bVrV6ytrVEoFLRp04bNmzdz5MgRbt26xd69e9m0aRPu7u456kOXdDpt9OmnnzJ69GhWr15N586diYmJYc6cOXTs2FG9dWro0KGsWbMGa2tr6tevz+HDhzl16hTbtm3TZShCCCFE3jCC3Ubw6sC4jIwMvLy8SElJwdnZmc2bN2NqakpcXBytWrVi4cKFdO/eHYVCwerVq/Hx8WHQoEGYm5vTrl07pk+fru5v4sSJFC1aFD8/P+7du0f58uWZMWMGvXr1AshRH7qiUKlyf/3ltGnTuHPnjsYJuz/99BP+/v5ER0dTrFgxOnXqxIQJEzA3N1e32bp1Kzt37iQ+Ph5bW1vGjRtH69atc/0S4eW75vpZIYQQ7xenuEC99v/Mu4/O+iri/a3O+nqXvFXyYiwkeRFCCJFTek9eZvXWWV9F5uzRWV/vErlVWgghhNAlI9ht9K6TW6WFEEIIka/IyIsQQgihS0ZwSN27TpIXIYQQQoeM4W6jd91bTRtt2LCBAQMGaJT9+eefDBgwAAcHB1q0aIGvr6/GccGJiYnMmjWLZs2a4ejoSJ8+fQgPD3+bMIQQQgjjYQTnvLzrcp287Nq1ixUrVmiUPX78mCFDhlC1alUCAwOZO3cuBw4c0Gjn6enJhQsX8PPzIyAggFq1auHm5kZ0dHRuQxFCCCHEe0Tr5CU+Pp6RI0fi6+tL5cqVNerOnTtHYmIikydPplKlSjRt2pROnToREhICQGxsLKdOncLb2xsnJyeqVKnCzJkzsbKy4tChQzp5ISGEECJPyciL3mmdvPz555+Ymppy8OBBGjRooFFXqlQpAL799ltevnxJXFwcJ06cULeztLTE39+fevXqqZ9RKBQoFAqSkpLe5j2EEEII46BS6u4jsqV18tKyZUtWrVpFhQoVstQ5OjoyatQovv76a+rVq0erVq2wtrZm1qxZABQvXpzmzZtr3EoZFBREbGwsTZs2fYvXEEIIIcT7QqfnvCQnJxMdHU2/fv3Yv38/X3/9NX/99RczZ87Mtv358+eZPn06bdu2pUWLFroMRQghhMgbMm2kdzrdKr106VKePHnCypUrAahTpw4lSpRg8ODBDB48mFq1aqnbBgcHM2nSJBwdHfH19dVlGEIIIUSeUUnSoXc6HXk5d+6cxnoWQL3e5a+//lKX7dy5k3HjxvHJJ5+wfv16jUsbhRBCCCH+jU5HXqytrbl27ZpGWebPq1SpAsDu3buZO3cuAwYMYMaMGSgUCl2GIIQQQuQtGXnRO52OvAwePJiQkBBWrFjBrVu3OH36NNOnT6dFixbY2dkRExPDggULaNOmDSNGjODBgwfcv3+f+/fv8/TpU12GIoQQQuQNpVJ3H5EtnY68NG3alA0bNrBmzRq++eYbLC0tadOmDePHjwde7SxKT0/n2LFjHDt2TOPZbt26sWjRIl2GI4QQQoh3kEKlUuX78a3w8l3zOgQhhBD5hFNcoF77fzr6M531VWztTzrr610iFzMKIYQQuiRrXvROkhchhBBCh96BCQ2jp9MFu0IIIYQQ+iYjL0IIIYQuybSR3mk98pKYmMisWbNo1qwZjo6O9OnTh/DwcHX96dOn6d69Ow0aNKBdu3YcPnxY4/lnz57h4+NDkyZNcHJyYtiwYdy8efPt30QIIYQwBnI9gN5pnbx4enpy4cIF/Pz8CAgIoFatWri5uREdHc3NmzcZMWIETZs25cCBA/Ts2ZMpU6Zw+vRp9fNz584lNDSUlStXsnfvXgoUKMDQoUNJTU3V6YsJIYQQ4t2k1bRRbGwsp06dYvfu3TRs2BCAmTNnEhISwqFDh3j48CE1a9bEw8MDAFtbWyIiIti0aROurq7AqzuNxo8fj6OjIwATJkygS5cu3Lhxgzp16ujy3YQQQgiDk7uN9E+rkRdLS0v8/f017i9SKBQoFAqSkpIIDw9XJymZGjduzLlz59Srr0uXLs2RI0d4+PAhaWlpfPfdd5QsWZKKFSvq4HWEEEKIPCbTRnqnVfJSvHhxmjdvjpmZmbosKCiI2NhYmjZtyr1797CxsdF4xsrKihcvXvD48WMA5s+fT3x8PB999BH29vYEBgayceNGihUrpoPXEUIIIcS77q22Sp8/f57p06fTtm1bWrRoQUpKikZiA6h/npaWBry6qLFChQps3bqV3bt306hRI8aOHcvdu3ffJhQhhBDCOCh1+BHZynXyEhwczJAhQ7C3t8fX1xcAc3NzdZKSKfPnhQoV4o8//mDu3LksXLhQPfKyYsUKzMzM2LJly1u8hhBCCGEcVEqVzj4ie7lKXnbu3Mm4ceP45JNPWL9+Pebm5gCULVuWhIQEjbYJCQkULlyYYsWKce7cOUqXLs2HH36orjc1NaV27drExsa+xWsIIYQQ4n2hdfKye/du5s6dS79+/fDz89OYJnJycuLs2bMa7c+cOYOjoyMmJibY2Njw+PFjjQRHqVRy48YNKleunPu3EEIIIYyFLNjVO62Sl5iYGBYsWECbNm0YMWIEDx484P79+9y/f5+nT58yYMAALl26hK+vLzdv3mTLli38/PPPDB06FIBPPvmEChUq4O7uzsWLF7l58yYzZ87k7t27DBw4UC8vKIQQQhiUrHnRO63OeQkKCiI9PZ1jx45x7Ngxjbpu3bqxaNEi1q5dy9KlS/nmm28oX748S5cuVW+fLly4MNu3b2fJkiWMGTOG1NRU6tWrx7fffkv58uV191ZCCCFEHpG1KvqnUL0D11+Gl++a1yEIIYTIJ5ziAvXa/+OeLXTWl+X+X3XW17tELmYUQgghdEmme/Turc55EUIIIYQmY9kqrVQqWblyJU2bNsXe3p5hw4Zx+/btN7Z//PgxEydOxNnZGRcXF3x8fHjx4oVGf5s2beLTTz/F3t6eDh06sH//fo0+1q1bR82aNbN8dE1GXoQQQoh30Nq1a9m9ezeLFi3CxsaGpUuXMnToUA4dOpTlQFkAd3d3Xrx4wbZt20hKSmLGjBk8f/6cxYsXA7Bhwwa2bNmCj48PdevW5fTp03h7e2NqakrXrl2BVwfRdunShcmTJ+v13bQeeUlMTGTWrFk0a9YMR0dH+vTpQ3h4uLp+x44dtG3blnr16tGhQwcCAgLe2Fd4eDi1atUiNDQ0d9ELIYQQxsYIdhulpaWxZcsW3N3dadGiBXZ2dixfvpx79+5x9OjRLO0vXLjA2bNnWbx4MXXq1MHV1ZU5c+bwww8/EB8fD8C3337LkCFDaN++PRUrVuSLL76gS5cuGqMvUVFR1K5dmzJlymh8dE3r5MXT05MLFy7g5+dHQEAAtWrVws3NjejoaPbu3Yuvry/jxo3jyJEjDBo0iJkzZxIcHJyln6dPnzJlyhSUSpkcFEII8e5QKXX3ya3IyEiePXumcVly8eLFqV27NmFhYVnah4eHU6ZMGWxtbdVlLi4uKBQKzp07h1KpZPHixXTr1k3jORMTE5KSkoBXCdNff/1F1apVcx94Dmk1bRQbG8upU6fYvXs3DRs2BGDmzJmEhIRw6NAhihQpwsSJE+nUqRMAFSpUYPfu3Zw6dYrWrVtr9OXt7U2FChW4c+eOjl5FCCGEeLe0atXqX+uPHz+ebfm9e/eAVyffv87Kykpd97r4+Pgsbc3MzChZsiR3797FxMREIxEC+Pvvvzl8+DC9e/cG4MaNG7x8+ZKgoCDmz59Pamoqzs7OTJ48GSsrq39/US1pNfJiaWmJv78/9erVU5cpFAoUCgVJSUkMHTpUfdhceno6R44c4ebNm3z88cca/fzwww9cuHCBr776SgevIIQQQhgRI5g2ylxo+8+1Lebm5qSmpmbbPrt1MG9q/+DBA4YNG0bp0qUZNWoU8GrKCF7dZfj1118zf/58oqOjGThwICkpKbl/mWxoNfJSvHhxmjdvrlEWFBREbGysRiISHh7OgAEDUCqV9OjRQyNzjIuLY/78+axdu5YiRYq8ZfhCCCGEcXmb6Z5/etPIyn+xsLAAXk3lZP4YIDU1lUKFCmXb/p8XK2e2L1y4sEZZdHQ0w4cP5+XLl2zfvp3ixYsD0LVrV5o1a0apUqXUbatXr06zZs345ZdfaN++fa7eJTtvtVX6/PnzTJ8+nbZt29KiRQt1eZUqVfj++++ZN28eP/30k/rW6ZcvXzJ58mS++OILnJyc3ipwIYQQQmQvcwoou8uSra2ts7S3sbHJ0jYtLY3ExESNKZ9z587Ru3dvChUqxJ49e6hQoYLGM68nLvBqmqpkyZLZTlW9jVwnL8HBwQwZMgR7e3t1cpKpdOnS2NnZ0bNnT0aOHMn27dtJS0tj/fr1vHjxgnHjxr114EIIIYRRMoJpIzs7O4oWLaqxmzcpKYmIiAicnZ2ztHd2dubevXvExsaqyzIvWs5c43rp0iWGDh1K9erV2bVrV5YkaPny5Xz66ae8fnB/XFwcjx8/plq1arl/mWzkKnnZuXMn48aN45NPPmH9+vWYm5sD8Ntvv3Hjxg2NtjVr1lRnbwEBAdy4cYNGjRrh4OBAx44dARg2bBizZs16y1cRQggh8p4x7DYyMzOjf//++Pr6cvz4cSIjI/Hw8MDGxoa2bdvy8uVL7t+/r16L0qBBAxwdHfHw8ODSpUucOXOGWbNm0bVrV6ytrcnIyGDSpEmULl2aRYsWkZqaqr6Y+dGjRwC0adOGO3fu4O3tTUxMDGFhYYwbNw5HR0eaNm2qi19aNa0Pqdu9ezdz585lwIABzJgxA4VCoa5bsWIFlStXxs/PT1128eJFSpYsyQcffMCOHTvIyMhQ18XHxzNgwADmzZuXZVGvEEIIkR/pcs3L23B3dycjIwMvLy9SUlJwdnZm8+bNmJqaEhcXR6tWrVi4cCHdu3dHoVCwevVqfHx8GDRoEObm5rRr147p06cDr0ZdMkdl/rl7uFy5cvzyyy/UrVuXjRs38vXXX9O9e3fMzMxo1aoVU6dO1cgVdEGrixljYmLo1KkTLVq0YPbs2Rp1FhYWhISE4OnpiZeXF02bNiU0NJR58+YxZcoU+vfvn6W/zF+87du306hRo1y/hFzMKIQQIqf0fTFjQqvm/90oh6yOn9BZX+8SrUZegoKCSE9P59ixYxw7dkyjrlu3bixatIj09HQ2btzI4sWL+fDDD5k5cyY9e/bUadBCCCGEsTKWkZd3mVYjL8ZKRl6EEELklL5HXuJf2337tqx//VVnfb1L5FZpIYQQQuQrcqu0EEIIoUMybaR/krwIIYQQOqRS6nZnjchKpo2EEEIIka9onbwkJiYya9YsmjVrhqOjI3369CE8PFxdHxMTw/Dhw3FwcODjjz9mzpw56guiAJRKJStXrqRp06bY29szbNgwbt++rZu3EUIIIfKYMRxS967TOnnx9PTkwoUL+Pn5ERAQQK1atXBzcyM6OprHjx/Tv39/ChYsyP79+1m6dCnHjh1j8eLF6ufXrl2rPuhuz549KJVKhg4dmu2FUEIIIUR+o1IpdPYR2dNqzUtsbCynTp1i9+7d6rsOZs6cSUhICIcOHcLExISCBQuyfPlyzM3NqVatGu7u7nz77beoVCrS09PZsmULkyZNUl/kuHz5cpo2bcrRo0fV1wUIIYQQQryJViMvlpaW+Pv7U69ePXWZQqFAoVCQlJTEyZMnadOmjfquI4CePXty4MABFAoFkZGRPHv2DFdXV3V98eLFqV27NmFhYTp4HSGEECJvybSR/mmVvBQvXpzmzZtjZmamLgsKCiI2NpamTZsSExODlZUVCxcupEWLFrRp04YlS5aQmpoKoL4SO/Oq7kxWVlY6vy5bCCGEyAsqpUJnH5G9t9ptdP78eaZPn07btm1p0aIFycnJbNy4kdTUVFavXs3kyZM5dOgQXl5eAOqFu68nPwDm5ubqBEcIIYTIz1Qq3X1E9nJ9zktwcDCTJk3C0dERX1/fV50VLEiVKlXw9vYGoG7durx8+ZIJEyYwbdo0LCwsAEhLS1P/GCA1NZVChQq9xWsIIYQQ4n2Rq5GXnTt3Mm7cOD755BPWr1+vXuNiY2ND9erVNdpm/vzOnTvq6aKEhASNNgkJCVhbW+cmFCGEEMKoyLSR/mmdvGRuc+7Xrx9+fn4aU0DOzs5cunSJ1+96jIqKokCBApQvXx47OzuKFi1KaGiouj4pKYmIiAicnZ3f8lWEEEKIvCfJi/5pNW0UExPDggULaNOmDSNGjODBgwfqOgsLC9zc3OjevTuzZ8/myy+/JC4ujsWLF9OlSxdKlSoFQP/+/fH19aVUqVKUK1eOpUuXYmNjQ9u2bXX7ZkIIIYR4J2mVvAQFBZGens6xY8c4duyYRl23bt1YtGgR27dvZ8mSJXTp0oVixYrRuXNnPDw81O3c3d3JyMjAy8uLlJQUnJ2d2bx5M6amprp5IyGEECIPyUJb/VOoVPn/lzm8fNe8DkEIIUQ+4RQXqNf+o+vpbiah6uWjOuvrXSIXMwohhBAiX8n1VmkhhBBCZCV3EumfJC9CCCGEDsmx/von00ZCCCGEyFe0Tl4SExOZNWsWzZo1w9HRkT59+hAeHq6u//333+nRowf29va0bt2azZs3Z+lj8+bNtGrVivr169O9e3fOnDnzdm8hhBBCGAmlSqGzj8ie1smLp6cnFy5cwM/Pj4CAAGrVqoWbmxvR0dFER0czYsQIPvnkEw4dOoSnpycrV65k165d6ufXrl3L6tWrmThxIgcPHsTe3p5Ro0Zx+/Ztnb6YEEIIkRdUKoXOPiJ7Wq15iY2N5dSpU+zevZuGDRsCMHPmTEJCQjh06BAlSpSgcOHCjB07FoAKFSpw5MgRQkJC6NevH8+fP2fjxo1MmjSJ9u3bAzBjxgzCw8M5d+4cFSpU0PHrCSGEEIYlJ+Pqn1YjL5aWlvj7+1OvXj11mUKhQKFQkJSUROnSpUlMTOTHH39EpVJx7do1zp07R4MGDQA4d+4cL168oEOHDurnCxQowMGDB+natatu3kgIIYQQ7zStkpfixYvTvHlzjfuMgoKCiI2NpWnTpnz22Wf07NmTyZMnU6dOHTp37szHH3/MyJEjgVfXC5QoUYJr167Rp08fXF1dGTBgAOfPn9ftWwkhhBB5RKXS3Udk7612G50/f57p06fTtm1bWrRowcOHD7lz5w7u7u589913zJ8/nxMnTrBq1SoAkpOTSUlJYdasWXz55Zds3LiRypUrM2jQIG7evKmTFxJCCCHyklzMqH+5PuclODiYSZMm4ejoiK+vL/Bq/UrZsmUZNWoUALVr10alUuHt7U3//v0pWLAgKSkpfPXVVzRv3hyAOnXqcOHCBXbu3Mns2bN18EpCCCGEeJflauRl586djBs3jk8++YT169djbm4OvFrT8vp6GAB7e3syMjKIi4vDxsYGgJo1a6rrFQoFtra2xMXF5fYdhBBCCKMhW6X1T+vkZffu3cydO5d+/frh5+ensf7F2tqaa9euabS/du0aCoWCSpUq4eTkhEKh4I8//lDXq1Qqbty4QaVKlXL/FkIIIYSRkK3S+qfVtFFMTAwLFiygTZs2jBgxggcPHqjrLCws+PLLL5kzZw5Vq1blk08+4dq1ayxatIi+fftSokQJSpQoQY8ePZg3bx6FChWiYsWK7Nixg7i4OPr27avzlxNCCCHEu0er5CUoKIj09HSOHTvGsWPHNOq6devGokWLMDc3Z+vWrfj5+WFtbU3fvn0ZNmyYup23tzerV6/Gy8uLJ0+eULt2bbZs2ULVqlV180ZCCCFEHpJdQvqnUKny/y9zePmueR2CEEKIfMIpLlCv/f9RqbPO+rKPPaizvt4lcjGjEEII8Q5SKpWsXLmSpk2bYm9vz7Bhw/71Kp7Hjx8zceJEnJ2dcXFxwcfHhxcvXmi0+emnn2jfvj3169ena9eunD59Wus+dEGSFyGEEEKHjGXB7tq1a9WbbPbs2YNSqWTo0KGkpaVl297d3Z3Y2Fi2bdvG119/zYkTJ/D29lbXnzlzhsmTJ9O7d2++//57XF1dGT58uMY5bf/Vh65I8iKEEELokDGcsJuWlsaWLVtwd3enRYsW2NnZsXz5cu7du8fRo0eztL9w4QJnz55l8eLF1KlTB1dXV+bMmcMPP/xAfHw8ABs3bqR169YMHDgQW1tbpk6dSp06dfjmm29y3IeuSPIihBBC6JAxnPMSGRnJs2fPcHV1VZcVL16c2rVrExYWlqV9eHg4ZcqUwdbWVl3m4uKCQqHg3LlzKJVKzp8/r9EfQKNGjdT9/VcfuqT1CbsPHz5k0aJFhISEkJqairOzM1OnTtUIFl7Ne3Xq1Illy5bRqFEjdXliYiJ+fn78+uuvJCcnU7NmTSZOnIiTk9Pbv40QQgjxDmnVqtW/1h8/fjzb8nv37gFQtmxZjXIrKyt13evi4+OztDUzM6NkyZLcvXuXpKQknj9/rj5sNrv+/qsPXdJ65GXMmDHExsbi7+/Pd999h4WFBYMHD9ZYkBMfH4+bmxv379/P8rynpycXLlzAz8+PgIAAatWqhZubG9HR0W/3JkIIIYQRMIY1L5l/Jr9+kCyAubk5qamp2bb/Z9vX26ekpPxnf//Vhy5pNfLy5MkTypUrx4gRI6hRowYAo0ePpkuXLly/fp369evz3XffsXTpUsqVK5fl+djYWE6dOsXu3btp2LAhADNnziQkJIRDhw4xfvx4HbySEEIIkXd0eaz/m0ZW/ouFhQXwau1L5o8BUlNTKVSoULbts1vIm5qaSuHChdXXAP2zzev9/VcfuqTVyEuJEiVYtmyZOnF59OgR27Ztw8bGhmrVqgFw7NgxPDw8+Prrr7M8b2lpib+/v8b9RwqFAoVCQVJS0tu8hxBCCCH+v8zpm4SEBI3yhIQErK2ts7S3sbHJ0jYtLY3ExESsrKwoWbIkhQsX/tf+/qsPXcr1gt2ZM2fi6urK4cOHmT9/vjqr2rBhA71790ahyJp5Fi9enObNm2sMKwUFBREbG0vTpk1zG4oQQghhNFQ6/OSWnZ0dRYsWJTQ0VF2WlJREREQEzs7OWdo7Oztz7949YmNj1WVnz54FoGHDhigUChwdHdVlmUJDQ9VrVv+rD13KdfIyaNAgAgIC6NixI2PGjOHPP//Uuo/z588zffp02rZtS4sWLXIbihBCCGE0jGG3kZmZGf3798fX15fjx48TGRmJh4cHNjY2tG3blpcvX3L//n31WpYGDRrg6OiIh4cHly5d4syZM8yaNYuuXbuqR1a+/PJLDh8+zNatW7l58yZLlizh6tWrDBo0KMd96Equk5dq1apRt25d5s+fT7ly5di5c6dWzwcHBzNkyBDs7e3x9fXNbRhCCCGEyIa7uzuff/45Xl5e9OnThwIFCrB582ZMTU25e/cuTZo04ciRI8CrJRyrV6+mfPnyDBo0iAkTJtCsWTONA+aaNGnCggUL+Pbbb+nWrRtnzpxh/fr16t3GOelDV7S62+jRo0ecPn2aTz/9lIIF/2+tr7u7O8+ePWPz5s3qsri4OFq1asX27ds1tkoD7Ny5k/nz59OuXTsWL16c7epkbcjdRkIIIXJK33cbnbL5XGd9fXzvO5319S7RauTlwYMHeHp6atxlkJ6eTkRERJZzXt4k86jifv364efn99aJixBCCGFMlDr8iOxptVW6Ro0aNGvWjHnz5jFv3jxKlCjBhg0bSEpKYvDgwf/5fExMDAsWLKBNmzaMGDGCBw8eqOssLCwoVqyY1i8ghBBCiPeL1ifs+vn5sWzZMjw8PHj69ClOTk7s2rWLDz/88D+fDQoKIj09nWPHjnHs2DGNum7durFo0SJtwxFCCCGMigrdnfMisqfVmhdjJWtehBBC5JS+17z8at1TZ321iN+vs77eJVqPvAghhBDizZQy8qJ3cqu0EEIIIfIVGXkRQgghdEjWvOifJC9CCCGEDskWZ/3Tetro4cOHTJ48mcaNG+Pg4MDw4cO5efOmuv7IkSN06tSJ+vXr07p1azZu3Mjra4IzMjL4+uuv+eSTT3BwcKBfv3788ccfOnkZIYQQQrz7tE5exowZQ2xsLP7+/nz33XdYWFgwePBgXrx4QUhICJMmTaJXr14cPnyYKVOmsHbtWrZv365+ft26dezfv5+5c+cSGBhIlSpVGDp0aJabKIUQQoj8SIVCZx+RPa2SlydPnlCuXDnmzZtH/fr1sbW1ZfTo0SQkJHD9+nXu37/P8OHDGTBgABUqVKBt27Z89NFHnDp1St1HcHAwHTt2pEmTJlSqVIlp06bx9OlTGX0RQgjxTpATdvVPqzUvJUqUYNmyZeqfP3r0iG3btmFjY0O1atWoX7++uk6pVHLmzBnCwsIYM2aMurx06dL873//o3///pQtW5a9e/diZmaGnZ2dDl5HCCGEEO+6XC/YnTlzJvv27cPMzIx169ZRuHBhdd3ff/9NmzZtyMjIoEmTJvTp00ddN2PGDMaPH0+rVq0oUKAAJiYmrFq1iooVK77dmwghhBBGQEZM9C/X57wMGjSIgIAAOnbsyJgxY/jzzz/VdcWLF2f//v2sWLGCyMhIpkyZoq67ceMGxYoVY82aNezdu5fu3bszadIkrl69+nZvIoQQQhgBWfOif299PYBSqaRjx440aNCAhQsXZqn/8ccfmThxIr/88gsmJia0adOGbdu24eTkpG7Tt29fSpYsydq1a3MVg1wPIIQQIqf0fT3AYes+/90ohzrEf6uzvt4lWo28PHr0iMOHD5ORkfF/HZiYUK1aNRISEggPD+fSpUsaz9SsWROAhIQELl68SHp6OvXq1dNo06BBA2JjY3P7DkIIIYTRUCp09xHZ0yp5efDgAZ6enpw+fVpdlp6eTkREBLa2tmzfvp0FCxZoPHPx4kUKFixI5cqVsbGxAeDatWsabaKioqhcuXIuX0EIIYQwHkoUOvuI7GmVvNSoUYNmzZoxb948wsLCiIqKYtq0aSQlJTF48GAGDx7MpUuXWL58ObGxsfz0008sXbqUgQMHYmlpSf369WnYsCFTp07lzJkz/PXXX6xYsYLTp08zfPhwfb2jEEIIYTAqHX5E9rRe8/L06VOWLVtGcHAwT58+xcnJiWnTplG9enUAQkJCWLFiBTdu3KBUqVL07t2bYcOGYWLyKk968uQJK1as4Ndff+XJkyfUqFEDT09PXFxccv0SsuZFCCFETul7zUugTV+d9dX13m6d9fUueesFu8ZAkhchhBA5pe/k5YAOk5fukrxkSy5mFEIIIXRIqZC1KvqW63NehBBCCCHygoy8CCGEEDqU79di5AOSvAghhBA6JNcD6J/W00YPHz5k8uTJNG7cGAcHB4YPH87NmzfV9QkJCXh6euLk5ESjRo2YOHEijx49yravR48e0aRJE1atWpX7NxBCCCHEe0Xr5GXMmDHExsbi7+/Pd999h4WFBYMHD+bFixekpaUxZMgQ/v77b7Zv346/vz+RkZFMnTo12768vLy4f//+W7+EEEIIYSzkhF3902ra6MmTJ5QrV44RI0ZQo0YNAEaPHk2XLl24fv06N27c4M6dOxw7dowPPvgAgGnTpuHj40NycjJFixZV97V3717++usvypQpo8PXEUIIIfKWnIyrf1qNvJQoUYJly5apE5dHjx6xbds2bGxsqFatGidPnqRx48bqxAWgadOmBAcHayQuMTEx+Pr6snTpUszMzHT0KkIIIYR4H+R6we7MmTPZt28fZmZmrFu3jsKFCxMTE4OTkxNr1qwhMDCQjIwMmjRpwuTJkylevDjw6i6kiRMn4ubmRp06dXT2IkIIIYQxkN1G+pfrc14GDRpEQEAAHTt2ZMyYMfz5558kJycTGBjItWvXWLZsGXPmzOHcuXOMHj2azIN8V65cibm5OcOGDdPZSwghhBDGQta86F+uR16qVasGwPz587l48SI7d+6kYMGCFC5cmGXLlmFqagq8mmrq2bMnly9fJiUlhW+//Zbvv/+eAgUK6OYNhBBCCCMiW6X1T6vk5dGjR5w+fZpPP/2UggVfPWpiYkK1atVISEjAxsYGlUqlTlwA9YWNcXFxhISE8Pz5czp37qyuf/HiBRs2bODnn3/m8OHDungnIYQQQrzDtEpeHjx4gKenJ5s2baJp06bAqzUsERERtGzZkpIlS7J9+3ZSUlKwsLAAICoqCoBKlSrRqFEjRo4cqdHngAEDaNu2LV9++aUu3kcIIYTIU7LmRf+0Sl5q1KhBs2bNmDdvHvPmzaNEiRJs2LCBpKQkBg8ejIWFBbt27WLixIlMmDCBpKQkvL29adSokXpxbunSpTUDKFiQEiVKUK5cOd29lRBCCJFHZK2K/mm9YNfPzw9XV1c8PDzo2bMniYmJ7Nq1iw8//JBSpUqxa9cuMjIy6NmzJ6NGjaJevXqsXr1aH7ELIYQQIpdSU1Px8fHB1dUVBweHfz0RP1NcXBwjRozA0dGRJk2asGLFCl6+fKmuT0lJYdmyZbRs2RIHBwe6d+/O8ePHNfrw8vKiZs2aGp+WLVtqFbtClbkNKB8LL981r0MQQgiRTzjFBeq1/43l++usr2FxO3XW1z9Nnz6d8PBwFi5ciJmZGbNnz6ZIkSLs3Jn9d6anp9OxY0cqV67MxIkTuXXrFjNmzKBfv364u7sDrxKTkydP4uPjQ+XKlTl8+DCrVq1i27ZtNGrUCICePXvy0Ucf0b////06FShQgFKlSuU4drmYUQghhNCh/LDbKD4+nsDAQNavX4+TkxPwamalXbt2XLhwAQcHhyzPBAUF8ffff7Nv3z5KlChBjRo1ePjwIUuWLGHkyJG8fPmSwMBAFixYQPPmzYFXp/CHhoYSEBBAo0aNUKlU3Lhxg+HDh7/VCfu5PudFCCGEEPnTuXPnAGjcuLG6rEqVKlhbWxMWFpbtM+Hh4dSpU4cSJUqoyxo3bkxycjJXr15FoVCwfv16mjVrpvGciYkJSUlJANy6dYvnz59TtWrVt4pfRl6EEEIIHVLpcMFuq1at/rX+n+tJcio+Ph5LS0vMzc01yq2srLh37162z9y7dw8bG5ss7QHu3r1LgwYNaNKkiUb9pUuXOHPmDF5eXsD/7UDesWMHv/32GyYmJjRr1gwPDw+KFSuW4/i1Hnl5+PAhkydPpnHjxjg4ODB8+HBu3ryprg8JCaFHjx44ODjQqVMnfvzxR43nc7NASAghhMgvlDr85FZcXFyWRbGvf168eJHt3YLm5uakpqZm22dKSkqWZzKTn+yeiY6OZsyYMdSvX59evXoBr5IXExMTrKysWL9+PdOmTePkyZOMHj0apTLnb6z1yMuYMWNQKpX4+/tTpEgRvv76awYPHszRo0eJiIhg2LBh9OvXjyVLlhAZGcnMmTPJyMiga9euAHh7exMeHs6qVavUC4Tc3d3fuEBICCGEeF/ldmTF2tqaI0eOvLH+xIkTpKWlZSlPTU2lUKFC2T5jYWGR5ZnMpKVw4cIa5efPn2f06NHY2Niwfv169eG1o0aNom/fvlhaWgKvjmApU6YMvXr14vLlyzRo0CBH76dV8vLkyRPKlSvHiBEj1DdLjx49mi5dunD9+nU2b95M/fr1mTlzJgC2trbcunWLlStX0rVr11wtEBJCCCHyE2NYsGtqaoqtre0b669du0ZiYiJpaWkaoykJCQlYW1tn+4yNjY162uf19oDGM0ePHmXSpEk0aNCAtWvXakwHmZiYqBOXTJkn8d+7dy/HyYtW00YlSpRg2bJl6sTl0aNHbNu2DRsbG6pVq0ZsbCwNGzbUeKZ27drcuXOHv//+O1cLhIQQQoj8RKXDj740bNgQpVKp/nMZICYmhvj4eJydnbN9xtnZmYiICJKTk9VlZ86coUiRItjZ2QHwyy+/4OHhQYsWLdi8eXOWdSxTpkxh8ODBGmWXL18G/u/OxJzI9W6jmTNn4urqyuHDh5k/fz6FCxfGysqKu3fvarSLi4sDXq2Vyc0CISGEECI/yQ+3SltbW9OhQwe8vLwIDQ3l0qVLeHp64uLigr29PQBpaWncv39fPVXUunVrypQpw4QJE4iMjCQ4OBg/Pz+GDBmCmZkZT548YerUqdSpU4cZM2bw5MkT7t+/z/3790lMTATg008/5fTp06xevZpbt25x4sQJvvrqKzp27PivI0X/lOvkZdCgQQQEBNCxY0fGjBnDn3/+SZcuXTh69CgHDx4kIyODq1evsmXLFuDV4Ta5WSAkhBBCCN2bO3curq6ujB07Fjc3N6pWrcrKlSvV9RcuXKBJkyZcuHABePVn9aZNm1AqlfTq1QsfHx/69u3L6NGjAfjtt99ISkri4sWLNGvWjCZNmqg/48aNA17tnlqxYgXHjx+nU6dOzJgxg7Zt27JgwQKtYn/rE3aVSiUdO3akQYMGLFy4kDVr1uDv709aWhply5Zl2LBheHt78+OPPxISEsKmTZv4/fffNfr4/PPPsbe3V2+l0pacsCuEECKn9H3C7vKKujth1+OWbGbJjlYjL48ePeLw4cNkZGT8XwcmJlSrVk29aGfMmDGcP3+eX3/9leDgYD788EMKFCjAhx9+iI2NjXqB0Ov+bYGQEEIIkZ8Yw1bpd51WycuDBw/w9PTk9OnT6rL09HQiIiKwtbVl586dzJ07lwIFCmBtbY2JiQlBQUE4ODhQpEiRXC0QEkIIIYR4nVbJS40aNWjWrBnz5s0jLCyMqKgopk2bRlJSEoMHD8bW1pY9e/YQGBhIXFwc/v7+HDx4kPHjxwM5WyAkhBBC5Gf5YbdRfqf1mpenT5+ybNkygoODefr0KU5OTkybNk29T/u7777D39+f+Ph4qlWrxoQJE2jatKn6+efPn7NgwQKCgoIAaNasGV5eXln2fWtD1rwIIYTIKX2veVlSSXdrXqbEypqX7Lz1gl1jIMmLEEKInJLkJf+TixmFEEIIHZKFtvonyYsQQgihQ/l+OiMfyPUhdUIIIYQQeUFGXoQQQggdUsrYi97leuQlJiYGBwcHDhw4kKXu8ePHNGnShNDQ0Cx1gYGBtG/fnnr16tGhQwd++umn3IYghBBCGB05pE7/cpW8pKenM2nSJJ4/f56lLj4+Hjc3N+7fv5+l7ocffmDGjBn069ePw4cP07FjRzw9PdX3JgghhBD5nZzzon+5Sl5WrVpF0aJFs5R/9913dO7cOdtnVCoVX3/9NQMHDqRfv35UrFiRUaNG8dFHH3H27NnchCGEEEKI95DWa17CwsLYu3cvgYGBtGjRQqPu2LFjeHh48PHHH9O6dWuNupiYGO7cuUOnTp00yjdv3qx91EIIIYSRkuke/dMqeUlKSmLKlCl4eXlRtmzZLPUbNmwAIC4uLktdTEwM8OqEXTc3NyIiIihfvjyjRo2iZcuWuYldCCGEMDpKRV5H8O7TatrI29sbBweHLKMnOZGcnAzA1KlT6dixI1u2bOHjjz9m9OjRGhc9CiGEEEL8mxyPvAQGBhIeHs6hQ4dy9UWmpqYAuLm50a1bNwBq1apFREQEW7duxdXVNVf9CiGEEMZEtkrrX45HXgICAnj48CEtWrTAwcEBBwcHAGbPns3QoUP/83lra2vg1c3Ur6tWrVq200xCCCFEfiS7jfQvxyMvvr6+pKSkaJS1bdsWd3f3N+4wel2dOnUoUqQIFy9exMnJSV0eFRVFxYoVtQhZCCGEEO+zHCcvmSMn/1S6dOk31r3OwsKCoUOHsmbNGqytralfvz6HDx/m1KlTbNu2LccBCyGEEMZMdhvpn0GvBxg9ejSFChVi+fLlxMfHY2try6pVq2jUqJEhwxBCCCH0Rta86J9CpVLl+1/l8PJd8zoEIYQQ+YRTXKBe+59auY/O+lr817c66+tdIhczCiGEEDqU70cE8gFJXoQQQggdkjUv+ifJixBCCKFDsuZF/3J1MaMQQgghRF7JdfISExODg4MDBw4cyLbey8sry51FiYmJzJo1i2bNmuHo6EifPn0IDw/PbQhCCCGE0ZFD6vQvV8lLeno6kyZN4vnz59nWBwcHs3///izlnp6eXLhwAT8/PwICAqhVqxZubm5ER0fnJgwhhBDC6Ch1+BHZy1XysmrVKooWLZptXUJCAjNnzsTFxUWjPDY2llOnTuHt7Y2TkxNVqlRh5syZWFlZ5fq+JCGEEEK8f7ROXsLCwti7dy+LFi3KUqdSqZg2bRpdunTJkrxYWlri7+9PvXr11GUKhQKFQkFSUlIuQhdCCCGMj0qH/4jsaZW8JCUlMWXKFLy8vChbtmyW+m3btnH//n08PT2z1BUvXpzmzZtjZmamLgsKCiI2NpamTZvmInQhhBDC+Mi0kf5ptVXa29sbBwcHOnXqlKUuMjKS1atXs2vXLo0E5U3Onz/P9OnTadu2LS1atNAmDCGEEEK8x3KcvAQGBhIeHp7t+pTU1FQmTZrEqFGjsLOz+8++goODmTRpEo6Ojvj6+moXsRBCCGHE5JwX/cvx3UYDBgzg/PnzGqMqz58/x8zMDHt7e86ePUuhQoVQKBTAqx1JGRkZFCpUiI0bN+Lk5ATAzp07mT9/Pu3atWPx4sU5GqX5L3K3kRBCiJzS991Goyr30llf6/7ap7O+3iU5Hnnx9fUlJSVFo6xt27a4u7vTuXPnLHU7duzg6NGj7NixA2trawB2797N3LlzGTBgADNmzFAnOkIIIYQQOZXj5CUzAfmn0qVLZ1tXokQJChYsSKVKlYBXh9otWLCANm3aMGLECB48eKBua2FhQbFixbSNXQghhDA6+WXaKDU1lUWLFvHzzz+TkpJCy5YtmTFjBqVKlXrjM3FxccydO5ewsDAKFy7M559/zrhx4yhQoAAAL1++xMHBgdTUVI3nxo4dy7hx43LUR04Y7G6joKAg0tPTOXbsGMeOHdOo69atW7Zbr4UQQoj8Jr/sEvL29iY8PJxVq1ZhZmbG7NmzcXd3Z+fOndm2T09Px83NjcqVK7Nnzx5u3brFjBkzMDExwd3dHYC//vqL1NRUfvjhB0qXLq1+tnDhwjnuIyfeKnm5du3aG+vGjRunzrIARo4cyciRI9/m64QQQgijlx/OZ4mPjycwMJD169er16T6+fnRrl07Lly4gIODQ5ZngoKC+Pvvv9m3bx8lSpSgRo0aPHz4kCVLljBy5EjMzMy4du0aRYsWfePmnZz0kRNyMaMQQgjxnjl37hwAjRs3VpdVqVIFa2trwsLCsn0mPDycOnXqUKJECXVZ48aNSU5O5urVq8CrQQ1bW9s3fm9O+sgJg00bCSGEEO8DXU4btWrV6l/rjx8/nqt+4+PjsbS0xNzcXKPcysqKe/fuZfvMvXv3sLGxydIe4O7duzRo0ICoqCgyMjJwc3MjMjISa2trBg0aRJcuXXLcR05I8iKEEELokDFMG8XFxf1r4jN+/Phsp2jMzc2zLLbNlJKSQvHixbO0B9TPXL9+HaVSibu7OzY2Npw4cYLp06eTnp7O559/nqM+ckKSFyGEEMJI5XZkxdramiNHjryx/sSJE6SlpWUpT01NpVChQtk+Y2FhkeWZzIQjc0Hujz/+yMuXLylSpAgAdnZ2/P3332zevJnPP/88R33kRK7XvMTExODg4MCBAwfUZQkJCXh6euLk5ESjRo2YOHEijx490nhu+/bttGnTBnt7e7p3786JEydyG4IQQghhdIzhbiNTU1NsbW3f+LGxsSExMTFLIpGQkPDGo1FsbGxISEjI0h7+7zgVCwsLdeKSqUaNGuqpqJz0kRO5Sl7S09OZNGkSz58/V5elpaUxZMgQ/v77b7Zv346/vz+RkZFMnTpV3ebAgQMsX76ciRMncujQIZo3b86YMWOIjIzMTRhCCCGE0VGqVDr76EvDhg1RKpXqhbvwalAiPj4eZ2fnbJ9xdnYmIiKC5ORkddmZM2coUqQIdnZ2JCUl4eLiojGoAXD58mWqV6+eoz5yKlfJy6pVqyhatKhG2Y8//sidO3dYvXo1tWvXpkGDBkybNo2YmBh1kMHBwTRp0oR27dpRoUIFxo8fT+HChTl9+nRuwhBCCCFELlhbW9OhQwe8vLwIDQ3l0qVLeHp64uLigr29PfBqUOL+/fvq0ZnWrVtTpkwZJkyYQGRkJMHBwfj5+TFkyBDMzMwoXrw4jRs3Zvny5Zw4cYK//voLf39/Dh48qD465b/6yCmtk5ewsDD27t2b5VC5kydP0rhxYz744AN1WdOmTQkODlYnOqVLlyYsLIzIyEhUKhVHjhzh6dOn1KtXT9swhBBCCKOk0uFHn+bOnYurqytjx47Fzc2NqlWrsnLlSnX9hQsXaNKkCRcuXABeLazdtGkTSqWSXr164ePjQ9++fRk9erT6mQULFtC+fXtmz55Np06dOHLkCCtXrqRp06Y57iMncnwxI0BSUhJdunTB09OTTp06UbNmTRYuXEj37t3p1q0bTk5OlCxZksDAQDIyMmjSpAmTJ09WryxOSEhg/PjxnD9/ngIFCqBUKvH29qZ3795aBf1PcjGjEEKInNL3xYx9K3XTWV+7Y7/XWV/vEq1GXry9vXFwcKBTp05Z6pKTkwkMDOTatWssW7aMOXPmcO7cOUaPHk1mfnTr1i2USiVLlizhu+++Y+TIkcyfP5+QkBDdvI0QQgiRx1Q6/EdkL8dbpQMDAwkPD+fQoUPZd1SwIIULF2bZsmWYmpoCry5n7NmzJ5cvX6ZatWqMGTOG6dOnqw+rqV27Nnfu3MHX11c9pCSEEEII8W9ynLwEBATw8OFDWrRooVE+e/Zsjhw5go2NDSqVSp24AOrVxXFxcSgUChITE7Osb7G3t89yUaMQQgiRX+WXixnzsxwnL76+vqSkpGiUtW3bFnd3dzp37kxAQADbt28nJSUFCwsLAKKiogCoVKmS+vjff957cO3aNSpXrvy27yGEEEIYBaVM9+hdjpOXNx0eU7p0aaytrenduze7du1i4sSJTJgwgaSkJLy9vWnUqBF16tQBoGPHjixYsABzc3Nq1KjB//73PwICAli2bJlu3kYIIYQQ7zydXQ9QqlQpdu3axcKFC+nZsydmZma0bt2aadOmqdvMnz+fdevWsWjRIh48eECVKlXw8/Pj008/1VUYQgghRJ6Shbb6p9VWaWMlW6WFEELklL63Snev1FlnfR2IPaizvt4lub7bSAghhBAiL8it0kIIIYQOvQMTGkZPkhchhBBCh2S3kf7JtJEQQggh8pVcJy8xMTE4ODhoXH0dEhJCjx491FcI/Pjjj298Pjw8nFq1ahEaGprbEIQQQgijo9ThR2QvV8lLeno6kyZN4vnz5+qyc+fOMWzYMOzt7dX3Fs2aNYvAwMAszz99+pQpU6agVMq/GiGEEO8WudtI/3K15mXVqlUULVpUo2zz5s3Ur1+fmTNnAmBra8utW7dYuXIlXbt21Wjr7e1NhQoVuHPnTu6iFkIIIYyUrHnRP61HXsLCwti7dy+LFi3SKI+NjaVhw4YaZZkXL/7999/qsh9++IELFy7w1Vdf5TJkIYQQQrzPtBp5SUpKYsqUKXh5eVG2bFmNOisrK+7evatRFhcXB8DDhw/58MMPiYuLY/78+axdu5YiRYq8ZehCCCGE8ZGt0vqn1ciLt7e3ejHuP3Xp0oWjR49y8OBBMjIyuHr1Klu2bAFerZF5+fIlkydP5osvvsDJyUk30QshhBBGRhbs6l+OR14CAwMJDw/n0KFD2dZ37dqVO3fuMHPmTKZOnUrZsmUZNmwY3t7eFCtWjPXr1/PixQvGjRuns+CFEEII8f7J8d1GAwYM4Pz585iZmanLnj9/jpmZGY0aNWLTpk0AvHz5kgcPHlCmTBlCQkIYNWoUYWFhdOrUiYSEBExNTYFXw2ovXrzA3Nycrl27MmfOnFy/hNxtJIQQIqf0fbdR2wrtdNbX0ds/66yvd0mOR158fX1JSUnRKGvbti3u7u507tyZnTt3EhMTw8yZM7G2tgYgKCgIBwcHihQpwo4dO8jIyFA/Gx8fz4ABA5g3bx4ff/yxjl5HCCGEyFuy20j/cpy8ZCYk/1S6dGmsra2xtbVl4cKF1KtXDycnJ44cOcLBgwfV617KlSun8VyBAgXU/ZYuXTq38QshhBDiPaOzu41cXV3x8fFh7dq1xMfHU61aNdatW4eLi4uuvkIIIYQwerLbSP9yvObFmMmaFyGEEDml7zUvn5Rvo7O+/hd3TGd9vUvkYkYhhBBC5Cs6mzYSQgghBHInkQFI8iKEEELokDL/r8YwepK8CCGEEDokqYv+ab3mJT4+npo1a2b5HDhwAIBffvmFHj164ODgQMuWLVm8eLHG+TCpqan4+Pjg6uqKg4MDEydO5NGjR7p7IyGEEEK807QeeYmMjMTc3Jzg4GAUCoW6vFixYoSHhzN27Fjc3d1p164dsbGxzJo1i8TERBYuXAi8uh8pPDycVatWYWZmxuzZs3F3d2fnzp26eyshhBAij8ghdfqn9chLVFQUlStXxsrKijJlyqg/FhYW7Nmzh0aNGjFy5EgqV65M8+bN8fDw4NChQ6SlpREfH09gYCBeXl44OTlRv359/Pz8CAsL48KFC/p4PyGEEMKglKh09hHZ03rk5dq1a9ja2mZbN2TIEExMNPMhExMT0tPTSU5O5ty5cwA0btxYXV+lShWsra0JCwvDwcFB23CEEEII8Z7ROnmJiorC0tKSfv36ERMTQ6VKlRg1ahTNmjWjdu3aGm3T09PZtm0bdevWpVSpUsTHx2NpaYm5ublGOysrK+7du/d2byKEEEIYgXfg7Fejp9W0UUZGBtHR0Tx58oRx48bh7++Pvb09w4cP5/Tp01naTpkyhevXrzN79mwAXrx4oXErdSZzc3NSU1Pf4jWEEEII4yDTRvqn1chLwYIFCQ0NpUCBAlhYWABQt25drl+/zubNm3F1dQUgOTmZCRMmcPbsWVavXk39+vUBsLCwIC0tLUu/qampFCpU6G3fRQghhBDvAa0X7BYpUkSduGSqXr068fHxACQkJNCvXz/++OMPNm/eTPPmzdXtbGxsSExMzJLAJCQkvPHWaiGEECI/UenwH5E9rZKX69ev4+joSGhoqEb5lStXqFatGk+ePGHQoEE8evSIXbt24ezsrNGuYcOGKJVK9cJdgJiYGOLj47O0FUIIIfIjlUqls48+5ebctbi4OEaMGIGjoyNNmjRhxYoVvHz5Ul2X3TlwNWvWxM7OTt3HwYMHs20TFxeX49i1mjaytbWlatWqzJkzBx8fHywtLdm3bx9//PEHAQEBLFy4kNu3b7Np0yZKlSrF/fv31c+WKlUKa2trOnTogJeXFwsWLKBQoULMnj0bFxcX7O3ttQlFCCGEEG9B23PX0tPTcXNzo3LlyuzZs4dbt24xY8YMTExMcHd3p2zZspw8eVLjmVu3bvHll18ydOhQddm1a9dwcXHBz89Po22pUqVyHLtCpWVq9+DBA5YtW0ZISAhJSUnUrl2bSZMm4eDggIODwxsX3h4/fpzy5cvz/PlzFixYQFBQEADNmjXDy8sLS0tLbcLQEF6+a66fFUII8X5xigvUa/+OZZvorK/zd0/+d6NciI+Pp0WLFqxfv169vCMmJoZ27dqxZ8+ebI8u+fHHH5k+fTonT56kRIkSAOzdu5clS5Zw+vTpLBtylEolvXr1okiRImzbtk19sO2wYcOoVKkSXl5euY5f663SH3zwgfq03H+6dOnSfz5fuHBh5s2bx7x587T9aiGEEMLo6XK6p1WrVv9af/z48Vz1m5tz18LDw6lTp446ccl8Pjk5matXr9KgQQON9vv37ycqKoqDBw9qnMh/7do1WrZsmau4M2m9YFcIIYQQb5Yftkrn5ty1e/fuYWNjk6U9wN27dzXK09LSWLVqFb1796Zy5crq8idPnhAfH094eDidOnWiSZMmjB49mpiYGK3il1ulhRBCCCOV25GVuLi4fx21GT9+vNbnrqWkpFC8ePEs7YEszxw5coQnT55orHWBVxt/4NXo1MKFC0lJSWHdunX07duXQ4cO8cEHH/z3yyHJixBCCKFTxrDF2dramiNHjryx/sSJE1qfu5bdWW2ZSUvhwoU1yr///ntatWqlHpnJ5OTkxOnTp7G0tFRPJa1evZoWLVpw4MABhg8f/t8vRy6Sl/j4eJo1a5alfOHChXTv3l2jzMvLi99//51ffvlFozwwMBB/f39u375NxYoVGTt2LJ999pm2oQghhBBGR2kE1wOYmpq+8R5CeLXuJPPctddHYP7t3DUbGxuioqI0yhISEgA0nklMTCQsLIxVq1Zl288/dxUVKlSI8uXLq8+Lywmt17xERkZibm5OSEgIJ0+eVH/at2+v0S44OJj9+/dnef6HH35gxowZ9OvXj8OHD9OxY0c8PT3lVmkhhBDCQHJz7pqzszMREREkJyery86cOUORIkU0znG5cOECKpVKYzFwpr1799KoUSOeP3+uLktOTuavv/6iWrVqOY5f6+QlKiqKypUrY2VlRZkyZdSf10/dTUhIYObMmbi4uGg8q1Kp+Prrrxk4cCD9+vWjYsWKjBo1io8++oizZ89qG4oQQghhdPLDCbuvn7sWGhrKpUuX8PT01Dh3LS0tjfv376unilq3bk2ZMmWYMGECkZGRBAcH4+fnx5AhQzRGbyIiIqhQoQJFihTJ8r3NmjVDqVSq7z68fPky48aNo1SpUllmb/6N1snLtWvX/nUoSqVSMW3aNLp06ZIleYmJieHOnTt06tRJo3zz5s2MGDFC21CEEEIIo6NUqXT20ae5c+fi6urK2LFjcXNzo2rVqqxcuVJdf+HCBZo0aaKeGTE3N2fTpk3q81t8fHzo27cvo0eP1uj3/v37lCxZMtvvLFu2LNu2beP58+f06dOHwYMHU6xYMbZv355l59O/0fqQus6dO2NpaUlGRgYxMTFUqlSJUaNGqdfBbN26lQMHDhAQEMCGDRv4/vvv1Wtejh8/zujRo9m1axfr1q0jIiKC8uXLM2rUqLfa8y2H1AkhhMgpfR9SV8vK5b8b5dDVBJmVyI5WIy8ZGRlER0fz5MkTxo0bh7+/P/b29gwfPpzTp08TGRnJ6tWrWbp0abZbsDLnyaZOnUrHjh3ZsmULH3/8MaNHj+b06dO6eSMhhBAiD+WHaaP8TqvdRgULFiQ0NJQCBQqo17jUrVuX69evs3btWh4/fsyoUaM0Fu68ztTUFAA3Nze6desGQK1atYiIiGDr1q24urq+zbsIIYQQec4Ydhu967TeKp3dApzq1auzZcsW4NV+7TVr1gCvLnHKyMjAwcGBjRs3qrdS1ahRQ+P5atWq8euvv2obihBCCCHeQ1olL9evX+eLL75g3bp1NGrUSF1+5coVPvvsMzw8PDTa79ixg6NHj7Jjxw514lKkSBEuXryIk5OTul1UVBQVK1Z8m/cQQgghjIJM9+ifVsmLra0tVatWZc6cOfj4+GBpacm+ffv4448/CAgIoFKlShrtS5QoQcGCBTXKhw4dypo1a7C2tqZ+/focPnyYU6dOsW3bNp28kBBCCJGXZNpI/7RKXkxMTFi/fj3Lli1jwoQJJCUlUbt2bbZu3ZplKuhNRo8eTaFChVi+fDnx8fHY2tqyatUqjZEcIYQQIr+SkRf903qrtDGSrdJCCCFySt9bpat+4KCzvqIfyOnz2ZGLGYUQQggdUqmUeR3CO0+SFyGEEEKHlDJtpHdaXw8ghBBCCJGXZORFCCGE0KF3YCmp0dM6eYmPj1ffY/S6hQsX8v3337/xdujFixfTtWtXUlJSWLNmDYcPH+bx48dUqVKFMWPG0KpVK+2jF0IIIYyMTBvpn9bJS2RkJObm5gQHB6NQKNTlxYoVo2XLlqSnp6vLVCoVHh4ePHnyhDZt2gAwb948Tp48iY+PD5UrV+bw4cOMHTuWbdu2yXZpIYQQQvwnrZOXqKgoKleujJWVVZa6zPuOMu3cuZNLly7xww8/UKRIEV68eEFgYCALFiygefPmwKtzX0JDQwkICJDkRQghRL4n00b6p3Xycu3aNWxtbf+z3aNHj1ixYgWjRo2iatWqACgUCtavX0/dunU12pqYmJCUlKRtKEIIIYTRkRN29U/r3UZRUVE8evSIfv368dFHH9GnTx9+++23LO02btyIhYUFbm5u6jILCwuaNGlCyZIl1WWXLl3izJkzNG3aNHdvIIQQQoj3ilbJS0ZGBtHR0Tx58oRx48bh7++Pvb09w4cP5/Tp0+p2ycnJ7Nu3Dzc3N8zNzd/YX3R0NGPGjKF+/fr06tUr928hhBBCGAmVDv8R2dNq2qhgwYKEhoZSoEAB9fqWunXrcv36dTZv3oyrqysAwcHBpKWl0aNHjzf2df78eUaPHo2NjQ3r16/H1NT0LV5DCCGEMA6y5kX/tJ42KlKkSJaFudWrVyc+Pl798+DgYJo3b07x4sWz7ePo0aMMHjyY6tWrs2PHDiwtLbUNQwghhDBKSlQ6+4jsaZW8XL9+HUdHR0JDQzXKr1y5QrVq1dQ/Dw8PV4/C/NMvv/yCh4cHLVq0YPPmzRQrViwXYQshhBDifaXVtJGtrS1Vq1Zlzpw5+Pj4YGlpyb59+/jjjz8ICAgA4O7duzx+/Bg7O7sszz958oSpU6dSp04dZsyYwZMnT9R1pqamGgt5hRBCiPxIpo30T6vkxcTEhPXr17Ns2TImTJhAUlIStWvXZuvWrdSoUQOA+/fvA2SbiPz2228kJSVx8eLFLKf0uri4sGPHjly+hhBCCGEcZKu0/ilU70CKGF6+a16HIIQQIp9wigvUa/+lilXXWV+Pnl7XWV/vErmYUQghhNChd2BMwOhJ8iKEEELokOwS0j+tt0oLIYQQQuQlGXkRQgghdEimjfRP65GX+Ph4atasmeVz4MABAEJCQujRowcODg506tSJH3/8UeP5Z8+e4ePjQ5MmTXBycmLYsGHcvHlTN28jhBBC5DGlSqWzj8ie1iMvkZGRmJubExwcjEKhUJcXK1aMc+fOMWzYMPr168eSJUuIjIxk5syZZGRk0LVrVwDmzp3LpUuXWLlyJSVKlGDp0qUMHTqUn3/++V/vQRJCCCGEgFwkL1FRUVSuXBkrK6ssdZs3b6Z+/frMnDkTeHWo3a1bt1i5cqU6eQkODmb8+PE4OjoCMGHCBLp06cKNGzeoU6fOW7yKEEIIkffkQkX903ra6Nq1a9ja2mZbFxsbS8OGDTXKateuzZ07d/j7778BKF26NEeOHOHhw4ekpaXx3XffUbJkSSpWrJiL8IUQQgjjItNG+qd18hIVFcWjR4/o168fH330EX369OG3334DwMrKirt372q0j4uLA+Dhw4cAzJ8/n/j4eD766CPs7e0JDAxk48aNcseREEKId4JKpdLZR2RPq+QlIyOD6Ohonjx5wrhx4/D398fe3p7hw4dz+vRpunTpwtGjRzl48CAZGRlcvXqVLVu2AJCeng68GrmpUKECW7duZffu3TRq1IixY8dmSXqEEEIIIbKj9fUAz549o0CBAlhYWKjLhg4dCsCmTZtYs2YN/v7+pKWlUbZsWYYNG4a3tzc//vgjz549o3fv3vzyyy98+OGHwKuk5rPPPuOTTz5hxowZuXoJuR5ACCFETun7egBziwo66ys15bbO+nqXaD1tVKRIEY3EBaB69erEx8cDMGbMGM6fP8+vv/5KcHAwH374IQUKFODDDz/k3LlzlC5dWp24wKvbpGvXrk1sbOxbvooQQgiR9/LLtFFqaio+Pj64urri4ODAxIkTefToUY6f7dy5s/qYlNft2rWLVq1aUb9+ffr27UtERIRGfVxcHCNGjMDR0ZEmTZqwYsUKXr58qVXsWiUv169fx9HRkdDQUI3yK1euUK1aNXbu3MncuXMpUKAA1tbWmJiYEBQUhIODA0WKFMHGxobHjx+TkJCgflapVHLjxg0qV66sVeBCCCGEyD1vb29OnjzJqlWr+Oabb4iOjsbd3f0/n3v69CmjR4/m2rVrWeq+//57lixZwvjx4zlw4ADly5fnyy+/VCdF6enpuLm5AbBnzx68vb359ttvWbNmjVaxa5W82NraUrVqVebMmUN4eDg3b95k4cKF/PHHH4waNQpbW1v27NlDYGAgcXFx+Pv7c/DgQcaPHw/AJ598QoUKFXB3d+fixYvcvHmTmTNncvfuXQYOHKhV4EIIIYQxyg8jL/Hx8QQGBuLl5YWTkxP169fHz8+PsLAwLly48MbnfvnlFzp37szjx4+zrV+/fj39+/enc+fOVKtWjQULFlCoUCH2798PQFBQEH///TdLliyhRo0atG7dGk9PT7755hvS0tJyHL9WyYuJiQnr16+nfv36TJgwgW7dunHx4kW2bt1KjRo1cHV1xcfHh7Vr19KhQweCgoJYt24dLi4uABQuXJjt27dTrlw5xowZQ+/evbl79y7ffvst5cuX1yYUIYQQwiipdPjRl3PnzgHQuHFjdVmVKlWwtrYmLCzsjc8FBwfTu3dv9uzZk6Xu4cOH/PXXX7i6uqrLChYsiJOTk7rP8PBw6tSpQ4kSJdRtGjduTHJyMlevXs1x/FofUvfBBx+wcOHCN9Z//vnnfP7552+st7a2ZtmyZdp+rRBCCPHeadWq1b/WHz9+PFf9xsfHY2lpmeVkeysrK+7du/fG5xYsWPDGusznypYtm6XPyMhIdRsbG5ss9QB3796lQYMGOYr/nbiYUd8rx4UQQoicyki7o7O+/it5eZO4uLh/fXb8+PGYmZllKTc3Nyc1NTVX3/nixQuALP2+3mdKSgrFixfPUg9o9b3vRPIihBBCvItyO7JibW3NkSNH3lh/4sSJbNeYpKamUqhQoVx9Z+ZO5H/2+3qfFhYW2dbDq6UlOSXJixBCCPGOMTU1feNVPvDqwNjExETS0tI0RkoSEhKwtrbO1XdmThclJCRofPfrfdrY2BAVFaXxXOYOZG2+V+tzXoQQQgiRvzVs2BClUqleuAsQExNDfHw8zs7OueqzdOnSVKlSReM4lYyMDMLDw9V9Ojs7ExERQXJysrrNmTNnKFKkCHZ2djn+LklehBBCiPeMtbU1HTp0wMvLi9DQUC5duoSnpycuLi7Y29sDr6Z/7t+/r9UW5iFDhrB161a+//57bty4wVdffUVKSop6I0/r1q0pU6YMEyZMIDIykuDgYPz8/BgyZEi2a3DeRJIXIYQQ4j00d+5cXF1dGTt2LG5ublStWpWVK1eq6y9cuECTJk3+9dyXf+rVqxfu7u6sWLGCHj16cOfOHbZu3UqpUqWAV4tzN23ahFKppFevXvj4+NC3b19Gjx6tVexa320khBBCCJGXZORFCCGEEPmKJC9CCCGEyFckeRFCCCFEviLJixBCCCHyFUlehBBCCJGvSPIihBBCiHxFkhchhBBC5CuSvAghhBAiX3lvk5fNmzcTHx+f12GIHIqMjGT69On07t2b+Ph4du3apXF/Rl6YMGECISEhyDmPQghhWO/trdLr1q2jdevWeRrDwIEDc9x2+/bteozkzVJSUvj555+5efMmbm5uREVFUb16dSwtLQ0Ww5UrV+jbty8NGjTgypUrpKWlcfXqVRYuXMiaNWto3ry5wWJ5nYmJCWPHjqVEiRJ07dqVbt26UaVKlTyJBaBnz5706NGDDh06UKxYsTyJYfXq1TluO3bsWD1G8mZhYWHcvHmTjh07cu/ePSpXrkzBgnn3W+GVK1fYvHkzUVFRFCxYkGrVqjFo0CDq169v0Diio6OZM2cO58+fJz09PUv91atXDRoPwIkTJ9i0aRMxMTHs3buXAwcOULFiRbp06WLwWIRxeW+TlwYNGvDLL7/w5Zdf5lkM5cqVy7PvzokHDx7wxRdf8PDhQ9LS0ujVqxdbtmzhypUrfPPNN/963bou+fr68uWXX+Lh4YGDgwMA8+bNo0iRIqxatSrPkhc/Pz+Sk5M5cuQIgYGBbNy4kQYNGtC9e3fat29P0aJFDRpP48aNWb9+PQsXLqRVq1Z0796djz/+GIVCYbAYDhw4oPHzu3fvYmpqSoUKFShYsCC3bt0iPT2dunXrGjx5SU5OZujQofzxxx8oFAo+/vhjfH19uX37Nlu2bMHa2tqg8QCcPXuWIUOGUKNGDT7++GOUSiXnz5+nb9++fPPNNzRs2NBgscyePZuHDx8yadKkPEt+X3fq1CnGjh1Lhw4duHjxIkqlkoyMDKZPn45KpaJr1655HaLIS6r3lLu7u8rOzk7l4uKi6tWrl2rAgAEaH6FSTZw4UTVixAjV8+fPVfb29qpbt26pEhMTVYMHD1aNGDHCYHE0bNhQFR0drVKpVOo4VCqVKjY2VmVvb2+wOP7L7du3VatWrVLZ29urGjRooJo8ebLq8uXLBo1BqVSqTp48qZo0aZLK3t5e1axZM5Wfn5/618+Qtm7dqho0aJDqwYMH6rInT56oRowYoVq2bJnB4/Hx8VF98cUXqlu3bqn/O7px44aqa9euKk9PT4PHo1KpVL1791bNmjUrS7m3t7eqf//+Bo2lXr16qitXrhj0O//NF198odq6datKpdL8/97f31/VsWPHPIxMGIP3ds1L4cKF6dq1Ky1btqRq1aqUK1dO45MXEhISWL16NRMnTuThw4f8/PPPREdH50ksAGfOnMHd3Z1ChQqpy0qUKMHUqVM5f/68weIwNTUlOTk5S/ndu3c1YssraWlp/PTTT8yfPx9/f38sLS0ZPHgwBQoUoF+/fmzatMlgsWSOKCxdupTff/+dfv368c0339C+fXv69evH0aNHDRaLv78/06ZNo3Tp0uqy4sWL4+npyd69ew0WR6b//e9/TJkyhQoVKqjLbG1tmTVrFqdPnzZ4PAARERHZTh/379+fK1euGDQWS0tLTE1NDfqd/+batWu0bNkyS3m7du24detWHkQkjMl7O220cOHCvA5BQ2xsLL169aJo0aLEx8czYcIEjhw5wvTp09m2bRsNGjQweEzPnj2jcOHC2dZlZGQYLI7WrVuzYsUKli9fri67efMm8+fPp0WLFgaL45/Cw8P54YcfCAoKIiUlhdatW7Nu3To++ugj9VSNnZ0dq1atYujQoQaLKyEhgYMHD3Lw4EGioqJwdHSkW7du3Lt3Dy8vL8LCwpgxY4be40hPT+f58+dZyh8+fGjQqaxMjx49okyZMlnKixcvnm2chmBpacnjx4+zlD969AgzMzODxtK/f3/8/Pzw9fU1+JRndooVK0ZCQgIVK1bUKL9x4wYlSpTIo6iEsXhvkxd49RtETEwMSqUSAJVKRVpaGpcvX2bUqFEGjWXRokW0bt2aefPm4ejoCLxaUzF16lR8fX3ZsWOHQeMBcHZ25ttvv2X69OnqsvT0dNatW6eO0RCmTp3K0KFDady4MUqlku7du5OcnIydnR1TpkwxWBz/1L9/f2rXrs348ePp1KkTxYsXz9KmevXqBluT88MPP/DDDz8QGhpKqVKl6Nq1KytXrqRy5crqNmXLlmX+/PkGSV5atmzJzJkzmTVrFnXr1kWlUnHu3Dnmzp1Lhw4d9P79/1SvXj1++uknhg8frlG+a9cuateubfB4AD755BPmzp2Ln5+feg3ZjRs3mDdvXrajDvr0+++/Ex4ejouLC6VLl86SPB0/ftyg8XTq1IkFCxawYMECFAoFz54947fffmPu3Lm0b9/eoLEI46NQqd7PfZ4HDx7Ey8uLtLQ0FAoFKpVK/bfBcuXKERwcbNB4GjVqxK5du6hWrRoODg4cPHiQChUqcPPmTXr16sW5c+cMGg+8Gt3o168fZcuW5fr16zRq1Ijo6GiePn3Kzp07sbOzM2g8p0+fJiIiAqVSSY0aNWjatCkmJnk387l69Wr69+9PyZIl8yyG19WtW5dPPvmEHj160KxZs2x/bc6fP8///vc/Jk6cqPd4kpOTGT9+PKdOnVL/v6VSqWjXrh1Lliwx+MjC+fPnGTJkCE2aNOHEiRN06tSJmzdv8ueff7J582YaNWpk0HgAnjx5wpdffsnVq1fVi2SfPn2KnZ0dW7ZsMeiuvv/aKWboBdbp6elMmzaNw4cPA6h/n27RogUrVqzAwsLCoPEI4/LeJi/t27enQYMGDB06lD59+rBlyxYSEhLw8fHB09PT4FvxnJ2d2bVrFzVq1NBIXi5dusTQoUM5e/asQePJlJCQwO7du7l69SpKpZLq1avTt29fypcvnyfxGBMXFxd2795NtWrV8joU4NVIoqWlJYmJieo/9C5dukSdOnUoUKBAnsUVExNDVFQUCoWCWrVqaaw5MbTIyEi2bNmiToKrV6/OkCFD8mRaNpNSqSQkJITr16+jUqmoWbMmTZo0ydPE3JjcunVL4y8txvL/m8hb7+200e3bt1m1ahW2trbUrFmTR48e0bJlSzIyMli/fr3Bk5cmTZqwYcMGli5dqi5LTExk6dKlNG7c2KCxvM7KyooJEyaQmJhIgQIFDLaFsmXLljleF2Ho4exMlStXJioqymh+M01OTqZPnz60atVKPZ02fPhwPvjgAzZu3EjZsmUNHlNKSgrlypWjSpUq3Lx5k6NHj+Lg4GDQacfXlStXjrFjx6rXURw9epRKlSrlSSyZTExMaN68eZ5t+X+dsZw5A7BmzRq++OILKlasqLHu5cmTJ4wbNy7Pzr4SxuG9HXlp2LAhgYGBVKhQAS8vL6pUqYKbmxt///03nTp1Mvg0TXx8PAMHDuTp06ckJiZStWpV7ty5Q8mSJdm5c2ee7YDatGkT27dv5/79+wCUL1+eYcOG0atXL71+76pVq3KcvOTVYWezZs3iu+++w87OjsqVK2Nubq5Rb+hF4SNHjkSpVDJ//nz1wtRHjx4xdepUChUqxMqVKw0aT1hYGGPGjOHrr7/G1taWzz77DIVCwYsXL/D19eWzzz4zaDx//vknQ4YMoXv37kydOhV4lSSnpaWxZcsWatSoYZA4atWqxcmTJyldujR2dnb/+t+5IQ+Ge/3MGScnJ/WZM1FRUQY/cwZeLXa3trZmw4YNGlPUDx48oGnTpnlyaJ4wHu/tyEvdunXZv38/np6e1KhRgxMnTuDm5saNGzfyZLugtbU1gYGB/Pjjj+opmj59+tClS5c8W/nv7+/P2rVrGTBgAA4ODiiVSs6dO8eCBQsA9JrAjBs3Tv3jsLAw7O3ts/x7SU1N5ddff9VbDP8lJiZG/Rt6ZnKXl8LDw9m3b5/GjppSpUoxZcoU+vXrZ/B4/Pz8aNWqFfXq1WPfvn0UKVKEY8eOERAQwIYNGwyevCxatIiWLVvi4eGhLjt69CgzZ85k0aJFbNmyxSBxLFiwQD2CaUy7HpcvX06PHj3w8fHRKPfx8WHFihV5smmgYcOG9OnTh6VLl+b5iejCyOTN8TJ5LywsTNWgQQPV5s2bVY8ePVK5uLio2rdvr3JwcFDNmDHD4PGsWLFCfQiTsWjWrJnq+++/z1K+f/9+VZs2bQwWh52dnerhw4dZyq9cuaKqV6+eweIwdo0aNVJduHAhS/nFixdVTk5OBo+nfv366v+mv/zyS9XMmTNVKpVKFRcXlyf/3l4/6Ox10dHRKkdHR4PHo1KpVN9//70qNTU1S/mzZ8/UB7QZSv369VU3btzIUn7jxo08OQzSzs5O9eDBA9XWrVtVderUUfn7+6tUKpXqwYMHKjs7O4PHI4zLezvy4uTkRFBQEGlpaVhaWrJr1y727NlD2bJlGTBggMHjOXToEOvXr8fR0ZHu3bvTrl07ihQpYvA4XvfkyZNsFzI6Ozszd+5cvX73tm3bWLx4MfBqh8rHH3+cbbu8mIt/XUZGBg8fPuTly5eA5nb7zp07GzSWZs2aMW/ePPz8/NRrBG7fvs3ChQtp2rSpQWMBKFSoEGlpaaSmpnLu3Dl69uwJvBr2z4vj54sUKcLt27ezLBhOSEgw6M6nR48ekZKSAsD06dOzvSvs6tWr+Pn5MXjwYIPFZUxnzgDqC08HDx5MxYoVmThxItHR0Xh6eho8FmF83ts1L5nS0tKIi4ujYsWKqFSqPD1h8vz58xw6dIiff/6ZlJQU2rRpQ7du3XB1dc2TeCZOnEiJEiWYNWuWRvnq1au5efOmxqFxupaRkcGPP/6IUqnkq6++4quvvtL4A0+hUFC4cGEaN26c7fkqhnDy5EmmTp3Ko0ePstRZWFhw4cIFg8bz8OFDvvzyS65fv67+NUlKSqJOnTqsW7cu2wPa9Gn8+PGkpqZSokQJjh49SkhICLdv32bWrFlUqFABPz8/g8Yzd+5cTp48ibe3tzrpvXz5MnPmzMHJyYk5c+YYJI7AwECmTZuW5YiG16lUKpo3b86GDRsMEhO8mh46f/58ljNnJk6cSO3atQ0+xfX62iB4ldCNHDmSDz/8kD/++EPWvLzn3tvkRaVSsWzZMnbs2EF6ejpBQUEsX76cQoUK4e3tnadJTEZGBidPnuTw4cMcP36ckiVL8ssvvxg8jgULFvDtt99StWpVXFxcKFiwIFeuXCE8PJxWrVppJBP6/I3t+++/p0OHDnnyt79/0717d0qXLs2AAQMYP348vr6+/P3336xcuZKFCxfmyRz9y5cv+f3337l+/bp6t4irq2uenWg7e/Zsbt++zdixY2ndujWLFi3i8uXLrFixwuDJ1PPnzxk/fjwhISEavx5t2rRhwYIFBl1bFhYWhlKpZNCgQaxatUrjxNjMxLxGjRoG/X3ImM6cgVcLdk+dOqVxvUR8fDwjR44kMjJSkpf33HubvGzfvp2NGzfi4eHBnDlzOHToEJcvX8bHx4fevXtrLOoztISEBA4fPkxQUBCXL1/GxcWFrVu3GjwObabPdL2YLzAwkPbt22NmZkZgYOC/ts2r22Xr16/Pvn37sLOzo2/fvowbNw5XV1cCAgL47rvv+Pbbb/MkLmOWlpaW50lodHQ0UVFRmJqaYmtrq3ECsaGdPXsWR0dHChY0jhn8/HDmzIsXL9S/L4r313ubvHTo0IEJEybQpk0bjUPhjh07xsKFCw0+0pGcnExQUBCHDh0iLCyMDz/8kG7dutGtW7c8OZ8DXv1Glle/ab3+t65/O8lXoVDk2d/AHBwc+PHHHylXrhzTp0/Hzs6OQYMGcefOHbp162bwgwXv37/PihUrOH/+POnp6fzzf21Dn4cTFhb2r/XOzs4GisS4RUZGEhUVle01JfPmzcvj6Axr9erVuLm5UahQIaM78VcYF+NI9/NAXFwctWrVylJuZ2eXJ9teP/roI0xNTWnbti3ffPMNTk5OBo/hn5o3b07Xrl3p1q0bVatWNeh3R0ZGZvtjY1K9enV++eUXBgwYQNWqVTl37hyDBg3i3r17eRLPzJkzuXLlCh06dMiTBbH/NGDAAPW6jkwKhQKFQoGJiYnBb02Ojo5mzpw56uTun/IiCd66dat6Yfrrv1YKhcIgvwcY25kzBw4coF+/fhQqVIgDBw68sZ1CoZDk5T333iYv5cqV4/Lly1mOuf/tt9/y5PhyHx8f2rVrR6FChQz+3W8yZswYAgMD2bhxIw0aNKB79+506NDB4OfODBw4kDVr1mT5A/nhw4e4ubn957SSvgwfPhx3d3dMTU3p2LEjq1atYvjw4Vy7di1PTkU+c+YMmzZtMorEF7KO9Lx8+ZKYmBi+/vprJk2aZPB4Zs+ezcOHD5k0aZJRJHfw6lLIYcOGMXbsWD755BO+//57EhMTmThxIq1atdL79xvbmTOvj3jnxTo/kX+8t8mLm5sbPj4+3L9/H5VKxenTp9m7dy87duxg2rRpBo+nW7dupKSkEBgYyM2bN3FzcyMqKirbbZSG0rt3b3r37k1MTAyBgYFs2LCBhQsX0qpVK3r06MFHH32kt+8+ceIEly9fBl6tC1i3bh2FCxfWaBMbG8udO3f0FsN/ad26Nfv376dAgQKULVuWTZs2sXXrVlq1aoW7u7vB4ylcuLDG4sa8lt2p0BUrVqRo0aJ4e3tz6NAhg8Zz8eJFvv32W+rUqWPQ7/039+7do2fPnpibm2NnZ8fly5dp3bo106ZNY9GiRXrfKt2tWzf1jxUKhXqd2eueP3/Ovn379BrHm6SkpGBiYoKZmRk3b97k119/zdPrJYTxeG/XvADs3buXdevWqYf5S5UqxbBhw/jyyy8NHsuDBw/44osvePjwIWlpaQQFBTF//nyuXLnCN998o966mJfS09PZunUra9euJTU1VX0mzsCBA3V+8d+NGzcYMWIEKpWKu3fvYm1trbH+JnNHxsCBA9Xnh7zvFi9eTFJSEnPmzMnTixj/S3R0NF27duXSpUsG/d7mzZuzceNGg10DkBMuLi7s3buXKlWq4O3tjY2NDSNHjuTu3bu0b99e79vtXz9zplWrVnz33XfZnjnj4eFh8H9f/7xeol27dpiYmOTZ9RLCuLy3yUtSUpL6LIxHjx6hUqny9G+tkyZNIjk5meXLl/PRRx9x8OBBihcvzoQJEzA3N2f9+vV5FtvFixcJDAzkyJEjpKWl0bp1a7p3787du3dZtWoVDg4Oej2zo2XLlgQEBPznCFR6erret5ZOnz49x20NPQw/ffp0fvzxR4oXL06FChWy/A3a0BfZZbdgNzk5mW+++YanT58SEBBg0Hg2btzIuXPn8PX1zbMrN/5p5MiRWFpaMmvWLA4dOsR3333Hnj17OHLkCIsWLeLkyZN6/X5jPXMGoE+fPlSuXJkZM2awb98+tm3bpr5eYt++fXk2XSyMw3s7bdSkSRNat25Nt27daNKkSZ6cg/G6M2fO4O/vr7HmpUSJEkydOpWBAwfmSUxr167lhx9+4NatW9StWxcPDw86duyo8Ru/qalplkPsdC2nc9+NGjXihx9+0Ouapbi4OL31rQsdO3bM6xDUsluwC6+mk16/Pd1Qfv/9d8LDw3FxcaF06dJZkru8uJ3c09OTIUOGsGvXLvr06cP69etxcXHhxYsXuLm56f37u3btSrly5dRnzqxcufKNZ84YWkREBEuWLKFo0aKcPHmSFi1aYG5uTvPmzVm0aJHB4xHG5b1NXtasWUNgYCDjxo2jePHidOnShe7du1OlSpU8iefZs2dZ1nRkysjIMHA0r+zcuZPOnTvTo0cPqlevnm0bW1tbJk+ebODIsmeIQcS8uJwup4xhweXrsksGTE1NsbKy0igzxIgZvLrkz9A3I/+XcuXKERwczPPnzylSpAj79u3jxx9/xMbGhnbt2hkkhswt69u3bzeqM2eM7XoJYVze22mjTMnJyfz0008cPHiQ8+fPU69ePXr06MFnn31m0KHl4cOHU6VKFaZPn64+d8bGxoZJkybx7NkzNm3aZLBYMu3fv58uXbq8cQGfIe9dyYnXz+sxFGO62wheHXC4b98+YmJi+OqrrwgLC6NGjRoG3+quDUdHR72PmBmrNm3asGLFCqNZRGxMZ84Y2/USwri898lLpkePHrFv3z7Wr19PSkoKhQoVokePHkyYMMEgSczNmzfp168fZcuW5fr16zRq1Ijo6GiePn3Kzp07//WgNl3KyQK+iIgIPD09Db6A778YOnkxtruNYmNj6dWrF0WLFiU+Pp6ffvqJpUuXEhISwrZt27K9ZNMYGPLfW2RkJN988416y3ZwcDDVq1fPs9NamzRpYjQL8v/rzBlDjzoa2/USwri818lLWloawcHBBAYG8vvvv1OmTBn19NHdu3dZuHAhpUqVYsuWLQaJJz4+nm+//ZarV6+iVCqpXr06ffv2zXIWjT4Z8wK+/2Lo5MXY7jYaNWoUpUqVYt68eTg6OnLw4EHKli3L1KlTSUhIMNopL0P9e7ty5Qp9+vTB3t6eCxcu8NNPP7FhwwYCAwNZs2YNzZs31+v3Z8ff35/AwED69etHxYoVsbCw0Kg35CnErVu35rPPPsv2zJnPP//cKEZas7teYvXq1QwYMEBjrY54D6jeU1999ZWqYcOGqrp166rGjx+v+u2331RKpVKjzZEjR1T29vZ5FGHeOXv2rOrMmTOqmjVrqo4ePaoKDQ1Vf86ePau6cuWKKi0tLa/DzMLe3l5169Ytg31fvXr1VFevXlWpVCpVnz59VL///rtKpVKpvvvuO1Xv3r0NFkcmFxcX1fXr11UqleavxY0bN1SOjo4GjyenDPXvbdCgQSo/P78s37lgwQJVjx499P792alZs+YbP3Z2dgaNpU6dOqrY2FiVSqVSffnll6pjx46pVCqVKiQkRNWhQweDxqINBwcHg/5/L4yDcazMygMRERGMHz+eTp06UbJkyWzb1KxZk+XLl+stBmPddqvtAr7p06czefJkSpUqZYjwjEaBAgXUCwcrVapEVFQUrq6uNG7cWD38bkhKpVK9VuF1z549M+pzXwzlypUrzJ49O0t5v3798uwQtpzucDLEoubChQur125VrFiRGzdu0Lp1a2xtbfP0MMj/onp/Jw/ea8ZzVaiBff/99wwYMOCNiQtA1apVWbBgAX///bdeYoiLi8vxJy+4uLjkaOdBUFAQz549M0BExiXzbiNAfbcRkGd3GzVp0oQNGzZoJDCJiYksXbo0T64rMDampqYkJydnKb97926eXctRrly5f/1katSoEbdv39ZrLI6Ojvj7+/PixQtq167NL7/8glKp5Ny5cxQpUkSv3y2Ett7bkZecun//vvpvI7qWmzUIAQEBtGvXzqh+MzGWv/lUrFjRIFtuMxnb3UbTpk1j4MCBNGnShNTUVEaNGsWdO3coWbKknIvB/2vvzuNqTPs/gH9Oyr6MNBpmIiVOIi20yFrpMS1G5YlfVJRlZEi2yt4epTFaaCrJSDGYiskaNbK2UWoSp55iFBLDsUXdvz96Ok9nzgkzz3Rfd8+53n89v/uc1+/+vJqcvue6r+v7bd7TsWPHDrHVVIFAgMDAQEyePJlcsI/Axr8x0j1nKOrPoMVLBxMYGAgDAwNOFS9sePToEQ4cOIDbt2+jc+fOGDZsGBwdHUVdkgEgLS2N1Ux/nG0UHx+P2NhYmJqawsPDg9UsAKCsrIzU1FQcP35ctOn7//7v//DVV19xpqMsSV5eXliwYAGMjIzQ1NQEOzs7CIVC8Pl8rF27lnQ84oYNG0a85wxFfSxavHQwXFnlYNPVq1exePFiKCoqQktLC69fv8aBAwewd+9e7N27l7Vj5H/07NkzpKSkYO7cuWhsbERUVBSuXLkCVVVVuLq6vveRZHuYOXMmAgICOtysJ7ZWzHr27ImUlBRcvnwZpaWlaGpqwrBhwzBhwgSxuVmy7OTJk+jSpQu+/PJLKCkpoaCgAFOnTiUdi6Ik0OKF4rxt27bBxsYGW7ZsEW08bWhogLe3NwICArB//34iuYKDg5GXl4d58+bhzJkzyM/PR2hoKDIyMrBt2zZERESwmufu3bttdmkm5bfffsONGzfQ0NAg8dqMGTMAsL9iZmxsDGNjY1bv2RHs27cPYWFh2Lhxo+jagAEDsHHjRrx69QoODg4E01GUOFq8UJxXXl6OsLAwsRMznTt3hru7O+zs7Ijlys7ORlRUFNTV1REbGwsTExPY2Nhg+PDhmDNnDut5FixYgPXr18PNzU1qz5CBAweymufQoUPw9fWVumeMx+OJipf2ZGpq+tFzy0jMNuKSH374ASEhIbC0tBRd8/HxwciRIxEVFUWLF4pTaPFC/dfae6jlkCFDUF5eLjF3qqqqSuxEBttevnyJAQMGAAAuXryIhQsXAmjurttem7zfZ8eOHWhsbERubq7YfxPm380Gf/31V1bz7N69G7Nnz4anpyexPTe2train8XTp09x4MABTJkyBbq6upCXl0dxcTFOnz4NV1dXIvm45OHDhxg5cqTEdR0dnXY7cfk+oaGhsLe3/+Boi8DAQCgpKbGUiuIKWrx8AOlp0x1Be+zDyc3NFf1vKysrbNq0CXV1ddDT04OcnBxKSkqwfft2LFu27G+/98dSV1dHVlYWBgwYgEePHmHixIkAmlccSLR7T0hIYP2e7/Po0SPMnz+f6Gbh1r8fS5Ysgaenp6jIbPHDDz/g7NmzbEfjHFVVVZw7d06ik252djarXb5b5OXlYc+ePaJ5c1ZWVlJ/l1qvFFGygxYvUrRuQS3Lzb2cnZ0RGRkpdqIHAB4/fgw3NzekpqYCaP6jqays/Lfe28nJSWy+CgD4+/tLvM/X1xezZ8/+W+/9sZYvX45ly5bh7du3sLa2hqqqKoKDg5GUlISoqCjW8+zbtw+enp6cmJMDAJqamrhz5w6RP3zSXL58Gd7e3hLXJ06ciLCwMAKJPh4bm5rd3Nzg7e2NkpIS0Rys4uJi/Pzzz1L/7bW3gwcPorKyEqmpqYiJiUFQUBDMzc1ha2sLExMT+sVSxsnsbKNDhw5JfYZbWFiIdevW4cSJEwRSfVh7z4HJzs5GcXExACAqKgrz58+X2ARaVVWFrKwssdWRv9uf6ehJ8tHRkydP8ODBA9GJp6KiIvTo0YNIATFmzBikpqZyplg4ffo0QkJCMH/+fKipqUnMpGFzbg8AWFhYwNXVVaLYjY+Px5EjR5CRkcFqnhYtk8ArKiqwfv16opPAMzIysG/fPty6dQsKCgpQV1fHokWLMGXKFNaz/NG1a9dw8uRJ/PTTT+jTpw/s7Owwa9asv/2LE9UxyGzxMnLkSPj5+Yk2fL558wbh4eH44YcfoK+vT3SInbThYy3i4uIwa9YsUVv6v9udO3ewePFiMAyDmpoaKCsrix0j5fF46N69O5ydnVk/kisUClFRUQEFBQWoqKjQ3iV/EBgYiEePHmHp0qUYPHhwm79DbHnfEXYSe3AOHjwIf39/WFlZYdSoUWhqakJBQQHOnDmDsLAwfPnll6zmATruJHC2FRUVIT09HWfPnsXvv/8Oc3Nz1NbWoqioCP7+/pg+fTrpiBTLZLZ4OXnyJNauXQs/Pz988cUXWLduHZ4+fYo1a9YQ65ORnJyM2NhY1NbW4tSpU4iLi4OysjLc3d2J5DE1NcXhw4eJzyxqamrC1q1bceDAAbx79w4Mw6Bz586YNWsW1q1bR5eP/83CwgLV1dVt/jzYLhY+tHpGYsXs+PHj2L9/P27dugUejwdNTU0sWrSIyERpgHuTwGtqapCUlITy8nLIy8tDQ0MDDg4ORP5b1dTUIC0tDWlpaaisrMTo0aNhb28PS0tL0ReXiIgIJCUl4cqVK6zno8iS2T0v06ZNg7y8PFatWoW3b9/CwsICGzZsILZr/dixY9i+fTtcXFwQFxcHoHlDaFhYGLp27UrkNETL3B7SYmJicOTIEaxZswYGBgZoampCbm4uoqKioKysjAULFpCOyAlLliwhHUEMycd5bbG2toa1tTXpGCIFBQVISkoSKzjl5eXh7u7O+tHkW7duYe7cuejatSu0tbXR1NSEo0ePIikpCcnJydDQ0GA1j6mpKRQVFTF9+nRERkZKfRQ7YsQIqKqqspqL4gaZLV6A5vbuO3fuhIeHBywsLIget9uzZw/Wr18PW1tb7NmzB0Dzhtnu3bsjNjaWSPHy6NEj7NixAwUFBXj79q3EqSK2+mL8+OOP2Lx5M2xsbETXRowYAUVFRURERNDi5d9sbW1JR4CZmRkOHz6Mvn37frDHChu/P5GRkXBzc0O3bt0QGRn53vd+88037Z7nj7g0CXzbtm0wNDTE9u3b0aVLFwDNj9NXr16NsLAwxMTEsJonMjISkydPfu/PwczMDGZmZiymorhCpooXPp8v9cOUYRisWrUKq1atEl1je4m9srISY8aMkbhuaGgIPz8/VrO02LhxI27evAkrK6t222PzMR4/fiz12f/o0aNRU1NDIBE3ceGPs62trag5XuseK6QcPXoUc+bMQbdu3XD06NE238fj8YgULy2TwENDQ0XXSE0CLygoQEpKiqhwAYAuXbpg6dKlmDt3LqtZgObC5NWrVygvL5f65YntDd8Ut8hU8RIUFET8w7QtSkpKqKyslDhFVFhYiP79+xPJdOXKFcTFxUktqtikqqqKS5cuYdCgQWLXL168yMlHE6T88Y9zY2MjHj9+DHl5eejp6bGSoXUB8LE9eHx8fLBmzZp22VvV+tEnVx6DtsalSeA9evTA27dvJa5Lu8aGzMxMeHt7QygUShQuJDZ8U9wiU8VL61byAQEBcHZ2lviDSMqsWbPg5+cHHx8fAEBFRQVycnKwY8cOuLi4EMnUvXt39OvXj8i9W5s/fz42bdqEu3fviv4I5+fnIykpiU4DbkXaH2ehUIh169axVrz8FadOnYK7uzsrG8Nfv34NOTk5dO7cGQKBAFlZWdDV1SX28+HSJHAjIyNs27YNO3fuFA0Vra+vR2hoKJFZUGFhYTA2Noa7uzvRlV+KoxgZpaenx9y9e5d0DDHbt29ntLW1meHDhzPDhw9ntLS0GH9/f6axsZFInpCQEGbdunXMu3fviNy/tYSEBMbExET0szExMWESEhJIx+oQbt++zUyYMIF0jDbp6Ogw1dXV7X6fa9euMWPHjmUuXbrEPHjwgNHV1WX09fWZESNGMBkZGe1+f2m8vb2Z58+fS1x/8uQJs2TJElaz1NTUMJMmTWJ0dHSYGTNmMDNmzGB0dHSYyZMnE/msHDlyJFNVVcX6famOQaZWXlqbNGkS9u/fj2+++YYz/UJWrlyJJUuW4M6dO2AYBmpqakSzPX36FMePH0dWVhZUVFQk+obs27ev3e6dmpoKS0tLdO7cGampqfjkk0+watUqPH78GABEm6tTU1OhoKCAzz77DHp6epx9LEjS8+fP8fz5c9IxiAsPD4eZmRlGjRqFQ4cOoWfPnjhz5gyOHDmCmJgY1vq85Ofn4+7duwCaf3+1tLQk/p0LBAJcvnyZlTwtPvvsM/z8889IS0vD7du3wTAMHBwcYGNjQ+RzSFVVFbW1tZxZHae4RWaLl0ePHiEjIwOJiYno16+f2CY1gP0Js69fv4avry9UVVWxePFiAM1HBU1MTLBx40ZiDcdIHSv19vbGhAkT0K9fP6kt3f+Ix+PBxsYG27ZtYyEdN0nbsPvixQtkZGTA0NCQQCJuKS0txbZt29CzZ0/k5ORg8uTJ6NKlCyZNmsTq/hIejyf6nebxeAgICJB4T/fu3eHm5sZaphY9evSAo6Mj6/eVZvXq1fD394enp6fUDs1sT0mnuEVmixdDQ0NOfaCHhIQgLy9P7Lirj48PQkND8e2338LLy4v1TMHBwazfs0VZWZnU/y1NY2MjTp8+jfXr17d3LE6TdppGQUEBxsbG8PT0JJCIW7p164aGhga8efMG+fn5omaUdXV1rO6p0NPTE/1O8/l85OTkEGvT4Ozs/NHvbc+VVmnc3d3R2NgId3d3TkxJp7hFZosXEsci3+fs2bOIiIiArq6u6NrUqVNFj0tIFC/Af+auVFZWYt26dUTnrrSlU6dO0NPTY72pF9dw8TQNlxgaGiI0NBR9+vSBnJwcJkyYgF9//RUBAQHEvsi0Lszr6+shLy8vMQi1PXH5tB7XpqRT3CKzxQsA3Lx5E/Hx8aJW2EOHDoWLiwu0tbVZz/LixQupH1qKior4/fffWc8DSM5dWbFiBTIyMuDj48O5uSvKysof9XjpfxnDMIiKioKSkpJo+OCsWbMwZcoUfP3114TTtY2tfUqbN2/G5s2bcevWLYSGhqJnz55IS0tD586dRaf8SNi3bx++//57sf1cbm5umDdvXrvf+6+srkZGRsLJyQl9+vRph0T/YWBg0K7//6mOTWaLl2vXrsHV1RXDhg2DiYmJaEibo6MjEhMToa+vz2oeHR0dxMXFITAwUDQIkWEYJCYmYtSoUaxmaRESEgJzc3PR3BWgedOjl5cXwsLCiA6vpCR99913SElJgb+/v+iapaUldu3aBQCcLWAYlsartXRkbm3lypVEB1impKQgNDQUjo6OGDt2LBiGQW5uLsLDw9GzZ0/MnDmTWLa27NmzB1999VW7Fy9v3rzBwYMHUV5ejsbGRtH1hoYG3Lx5E6dOnWrX+1McR/CkE1GzZ89mNm3aJHF9y5YtzNy5c1nPc+PGDUZHR4eZMmUKs2zZMmbZsmWMqakpo6enx1y/fp31PAzDMAYGBszt27cZhhE/znrnzh1GT0+PSCaqbZMmTWIuXLggcT0rK4sxNTVlPY+Hhwfzyy+/ME1NTe99X2FhIfPmzRtWMj148ICJiIhgVq5cydTV1TEnTpxgBAIBK/eW5h//+Afzww8/SFzfv38/Y21tTSDRh7F1tH3Dhg3MyJEjGQcHB0ZTU5NxdHRkTExMGD6fz4SEhLT7/SlukyNdPJFSWloqdbPa3LlzcfPmTdbzaGtr49ixY7CyskJDQwOamppgbW2NEydOEHs8w6W5K9SHPX36VOoeBlVVVTx69Ij1PHJycvjmm28wadIkhIeHo7KyUur7dHR0WFn9qKqqgo2NDX766SecOnUKL1++REZGBuzt7XHjxo12v7809+/fx8SJEyWuT5gwAVVVVQQScUdmZiaCg4Nx8OBBfP755/D398f58+dhZmZGrOsvxR0yW7z07dsXT548kbheX19PbBn5iy++wKpVq7B7925ERkbC09OT2GgA4D9zV1oXMKTmrlAfxufzpZ44SktLw9ChQ1nPEx4ejosXL+Kbb75BXl4eLC0tMXv2bBw6dAhCoZD1PC2PQc+ePQsFBQVRRlNTU4SFhbGeB2g+7ivty1JxcTHRQbFc8OzZM9Hj6qFDh6K0tBQKCgpYvHgxzp8/TzgdRZrM7nmZMmUK/P39ER4eLhq1fufOHQQEBMDU1JT1PE1NTTh27FibE5xJHFvm0twV6sOWLl2KxYsXIy8vDzo6OgCa/whev34dUVFRRDL17NkTDg4OcHBwwL1795Camorg4GAEBQXBwsICzs7OGDlyJCtZCgoKkJSUJLZBWF5eHu7u7sROqs2ePRu+vr54+vSp2OiLnTt3/qljzP+LFBUV8fjxYwwcOBCqqqooLy8H0PzFs66ujnA6ijSZLV5WrFgBV1dXWFtbi3o8PH/+HHw+n8i8nKCgICQlJYHP53Om4y+X5q5QHzZhwgQkJSVh//79yMnJgby8PNTV1XH48GHw+XxiuRoaGpCZmYn09HRcvHgRSkpKmD59Oh48eIA5c+Zg2bJlWLBgQbvn4OJjUGdnZ/z2228ICgpCY2MjGIaBvLw8Zs+ejSVLlhDJxBUTJ06Er68vgoODoa+vj6CgIEydOhUZGRn47LPPSMejCOMxf/yKLyNcXV0xZcoU9OrVC3V1dWAYBsOHD8f48eNFp33YZGhoCG9vb7EmdRTVHtpzinNreXl5SEtLw6lTp/D69WuYm5vD3t4e48aNE61+JCYmIiIiAnl5ee2aBQA8PT0hJyeH0NBQ6OvrIz09Hb169cKyZcvQt29f7Ny5s90ztEUoFKKiogIAiI8F+RBdXV2kp6dDRUWlXe/z7NkzeHt7w8TEBI6Ojli0aBEuXLgAeXl5bN26FVZWVu16f4rbZLZ4CQkJQXZ2Nv71r39BU1MTpqamMDc3J/YNVVdXF8eOHcMXX3xB5P7SVFdXIywsDLdv30ZDQ4PE62yPUKD+Hnp6ekhLS2v3Pz58Ph8jRoyAvb09bGxspPYxunTpEo4cOYLt27e3axYAePDgAZydnfH8+XM8ffoUampqoseg+/fvJ9aw7ffff8e//vUvqf/Gxo4dSyDR+7FVvPwRwzD49ddfoaSkRHQvIMUNMlu8tKiurkZ2djaysrKQm5sLJSUlmJmZsd5qfvny5TA0NMScOXNYve/7zJ49G48ePcKXX36Jrl27SrzOtS7F1Mdh649PZGQk5s6di08++aRd7/NnvHr1SuwxqIaGBtHHoEeOHIGvr6/UfW5st8APDQ2Fvb39B7tnZ2RkYMqUKejWrVu7ZxIKhcjIyEB5eTnk5OSgpaWFadOmScyio2SPzBcvAPD48WNcuXIF586dw4kTJ0QVPpv27NmDnTt3Yvz48VBXVxedhmhBolDQ0dFBUlIStLS0WL831X7YKl4MDAxw4MABIiedpJk5cyYCAgKI7v/5o0mTJmHixImYN2+e1C8IbK4GzZo1C0VFRRg1ahTs7e1hZWVF9PGVQCCAi4sLXrx4gSFDhqCxsRFVVVVQVlZGYmIi3fci42R2w+7p06dx9epVXL16FQKBAP3794exsTGCgoIwbtw41vPs378fioqKKC0tRWlpqdhrPB6PSPGiqqqKV69esX5f6n9DywkRrhQvd+/eRffu3UnHEPPs2TO4ublBVVWVdBQcPHgQlZWVSE1NRUxMDIKCgmBubg5bW1uYmJiwNsahRUBAADQ1NREWFibq5ltfX49Vq1YhICBA6hR1SnbI7MoLn8+HnJwczMzMsHjxYtaOa3YkBQUF8PX1hZOTE1RUVCQ2MnPxeTz1YWytvGzatEl00klVVVViqZ/t4/+xsbH45Zdf4ObmhkGDBkmsdAwcOJDVPACwZs0ajBw5Ei4uLqzf+0OuXbuGkydP4qeffkKfPn1gZ2eHWbNmQVlZmZX76+rq4tChQ9DQ0BC7XlZWBkdHRxQUFLCSg+ImmV15iYyMxOXLl3Hx4kXMnj0b2traMDY2hrGxMXR0dCAvT+ZHk5ubC4FAAGtra9TW1kJVVZVYlvLycggEAmzYsEHiNTqSnvqQyspK0YwwEh1+/2jHjh1obGxEbm6u2CoCwzDEfp/XrFkDGxsbnDp1CoMGDZJY3SDR3wkAioqKcPr0adGk8rFjxyI3Nxfx8fHw9/fH9OnT2z2DkpISamtrJYoXoVDIqX1UFBkyu/LSWk1NDS5duoTLly/jzJkzkJOTQ2FhIasZhEIh3NzccOPGDfB4PJw+fRqBgYGorq5GQkICa992Whs/fjzMzc0xd+5cqZvzSJ3OoP47bJ024ppr166993USU4yXL1+Oc+fOgc/nS/03xubw05qaGqSlpSEtLQ2VlZUYPXo07O3tYWlpKdr7EhERgaSkJFy5cqXd85w5cwZbt26Ft7c3DAwMIC8vj+LiYvj6+sLBwQEWFhai95JYNaPIkvni5cGDB7h48SIuXryIS5cu4fXr1zAxMWH9eaqfnx9KS0sRGhqK6dOnIz09HQ0NDVi9ejXU1NRYOUr6R1w8vk3999g86vru3Ts8fvxYNBWYYRg0NDSguLiYlW/vf4WFhQX27t3Lyh9EHR0dREREYMKECe1+rw/R1NSEoqIipk+fjpkzZ4o6j7eWmZmJ2NhYpKSktHue1hurpa2Utf7fdBVY9sjsY6PAwEBcunQJFRUV6N+/P6ZMmYKQkBAYGxsTmW10/vx5bN++XewPirq6OjZt2oSlS5eyngeAaA7MvHnziNyf+nNWrFgBe3t7jB8//r2bK9laycvJyYGXlxfq6+slXuvatStni5dHjx6Jiq321rdvX86sGkRGRmLy5Mnv7TZsZmYGMzMzVvLs27ePlftQHZPMFi/5+fn48ssvYWpqihEjRpCOg/r6enz66acS13v37o2XL18SSAR8+umn2L59O06cOIFBgwZJ7L0h9Tyekq5linOfPn0wY8YM2NraYsiQIRLva5l71N7Cw8MxYsQIODk5wcPDA2FhYbh//z527txJf3f+7euvv0ZgYCA2btyIQYMGEZ3WbmZmhlevXqG8vFxq3xm2N+iTeIxHdRwyW7xIm75L0qhRo3DixAksWrRI7HpSUhKx4qq4uFj0h662tpZIBurjhYeHi5p6paamIjY2FqNHj4adnZ3YvgW23LlzB0FBQeDz+dDU1ET37t3h5OSE7t27Iz4+Hubm5qzm4aL4+Hjcv38flpaWUl9n83FIZmYmvL29IRQKiTfMA5q/0MXGxrbZ4ZuuzMg2mS1euGblypVwdXVFUVER3r17h127dkEgEKCkpATx8fFEMiUmJhKZ80T9dVya4typUyfR0NPBgwejvLwcxsbGMDIywtatW1nJwHVcGr4YFhYGY2NjuLu7i/67kbR27VoUFxdj3LhxUhv4UbKNFi8coaenh5SUFOzZsweDBw/G9evXoaGhgXXr1mH06NFEMk2aNEn0+OFDLcMp7uDKFGcNDQ2cO3cOTk5OUFNTQ35+PlxcXOgqXitcGsR67949xMTEYNCgQaSjAGh+tB8TE0MfH1FS0eKFQ/h8PrZt20Y6hsjSpUslHj+QbhlOtU3aFOddu3aJTXHm8/mIiIhgpXhZtGgRli9fDgUFBVhbWyMiIgKLFi3CrVu3YGRk1O737yiys7MRHx+PiooKHDx4EEePHsWgQYPw1VdfsZpDVVUVtbW1nClelJWV0aNHD9IxKI6S+aPSJPn4+GD9+vXo2bMnfHx83vtekhscW1qGHzt2DPX19TAzM4O9vT2RMQpU27g2xRkASkpK0KlTJ/D5fFy7dg0JCQkYMGAAli9fztlGY2z2wbl48SK+/vprWFlZISMjAz///DMOHz6M2NhYBAUFYcaMGe2eoUV2djbCwsLg6ekJNTU1iVOXbJ+KyszMRExMDDw9PaV2+ObKKS2KDFq8EOTk5ISoqCj07t0bTk5O730vm82q2vL27VskJCQgOjoab968wYABA+Dk5ARnZ2eipySoZlyc4twRjR07FkePHmWleJk9ezamTZuGefPmifXfiY2NRXp6Oo4dO9buGVpoaWmJjohzoQPx2bNn4eXlJXHakvZ2oQBavHBGXl4etLW1ifSY+ZAbN24gNTUVGRkZaGhogLm5Oezs7FBTU4OIiAjo6uoiPDycdEyZx4Upzh9aQWyNxGri69evcfLkSQgEAri5uaG8vBwaGhro27cv61mA5oaBaWlpGDRokFjxcvfuXVhbW+PGjRusZeFaB2JTU1NoamrCwcFBavdhuhdGttE9LxyxbNkyxMXFQUtLi3QUkejoaKSlpaG6uhojR46Ep6cnrK2txfa8KCgoYNOmTQRTUi24MMX53r17xO79IXV1dZg1axYeP36MhoYGODg4YM+ePbh58yYSExOldpRtb7169cLDhw8l9pncuXNHNEmZLVwrBurr6+Ht7S1zYyyoj0OLF45QVFTE8+fPSccQs3//fkyfPh329vYSw9FaqKurY82aNSwno6Th8/lYvXo14uLiiE1x5sLjzbaEhIRAQ0MDx48fF+3X2rp1K1asWIHQ0FDs3r2b9Uw2NjYICgpCUFAQeDweXrx4gV9++QX+/v5t9n5pL2/evMHBgwdRXl4u1mG4oaEBN2/exKlTp1jNY2hoiMLCQlq8UFLR4oUjJk6ciMWLF2PSpEkYPHiwxB+eb775hvVMv/zyywcnWo8YMYITHYop7k1xBrg12+jKlSv4/vvvxR5B9OnTB15eXnB2dmY1S4sVK1agtrZWtDHX1tYWDMNg8uTJ8PT0ZDVLQEAAUlNTMWLECBQXF0NXVxdVVVV4/PgxkREhY8aMwebNm5GVlSW1wzeJz0SKO+ieF44wNTVt8zUej4fMzEwW0/xHy47/8vJyyMvLY+jQoXBzc8PUqVOJ5KE6jg/NNmJ7cruuri5++uknqKqqiu0vKSsrg6OjIwoKCljNAwDV1dUYNGgQqqurUVpaiqamJgwbNozIo79x48Zh3bp1sLa2xtSpUxETEwMVFRV4enris88+w4YNG1jNw9XPRIob6MoLR5w7d450BAmnT5+Gh4cHzMzMYGVlBYZhkJubCw8PD0RERLA2oI36eFxa6eDabKOxY8ciOTlZbFPx27dvsWvXLujp6bGeBwDmzJmDqKgoaGtrE++v8uzZM9HPYejQoSgtLYWamhoWL16MFStWsF68cPEzkeIOWrxwTG5uLgQCAaytrVFbWwtVVdUPPrppL9HR0Vi6dKnY8uy8efMQGRmJ3bt30+KFY7g2xZlrs428vLwwZ84cXLt2DW/fvsWWLVtQUVGB58+fY//+/axmaaGgoEDs3/cfKSoq4vHjxxg4cKBo8zfQPPm6rq6OSCaGYXDhwgXRyq+GhgaMjIxoawaKFi9cIRQK4ebmhhs3boDH48HExARhYWGorq5GQkIClJWVWc9UUVEBGxsbievW1taIjY1lPQ/1flxb6eDabCN1dXWkp6fjwIED6N+/P5qamvDll1/C0dERX3zxBet5gOY9LgsWLMBXX32FwYMHS8zwYbNJ3cSJE+Hr64vg4GDo6+sjKCgIU6dORUZGBj777DPWcrR4+vQp3NzcUFJSgl69eoFhGAiFQmhpaSEhIUFqE0ZKdtDihSPCw8PB4/Fw5swZ0TfkNWvWYPXq1di2bRtrHVFb69+/P6qqqjB48GCx61VVVZwY3EaJ49pKBxdnG/Xv3x8rVqxAQ0MDFBQUxJqxkRAVFQUASEhIkHiNx+OxWrysXbsW3t7euHbtGhwdHXHw4EH885//hLy8PJFic+vWrXj9+jVSU1PB5/MBAGVlZVizZg22b98OX19f1jNRHMJQnDB58mQmPz+fYRiG0dHRYaqrqxmGYZiCggLG2NiYSKZvv/2WmTJlCpOVlcU8f/6cef78OZOVlcVMmTKFCQwMJJKJapuOjg5z7949hmEYxtvbm9m7dy/DMAxz7949ZuzYsaznOXPmDKOpqckkJycz9+/fZ0aNGsUsXLiQmThxIrNs2TLW8zAMwxw4cIAxNTVlNDU1merqambz5s1MVFQUkSxc19TUxJSUlDAPHjwgcn9DQ0Pm6tWrEtevXLnCjBs3jkAiikvoygtH1NfX49NPP5W43rt3b4n22GxZsmQJysvLsXjxYtE3VObfxzhXrlxJJBPVNq6tdJibm+PHH39Ep06dMGDAAMTHxyM2Nhampqbw8PBgPc+xY8ewfft2uLi4IC4uDgCgpqaGsLAwdO3aFa6urqxn4hqhUIiMjAyUl5dDTk4OWlpaRJr3Ac2bz5WUlCSuKykpQSgUEkhEcQktXjhi1KhROHHiBBYtWiR2PSkpiVgflS5duiA6OhoCgQC3bt0CAAwfPpzYhxn1flyb4vzs2TOkpKRg7ty5aGxsRFRUFK5cuQJVVVW4urqyPoNpz549WL9+PWxtbbFnzx4AgLOzM7p3747Y2FiZL14EAgFcXFzw4sULDBkyBI2NjTh06BCio6ORmJjI+r4XLS0tJCcnY/369WLXk5OToampyWoWintonxeOKCgogKurK8aPH4/s7GzY2NhAIBCgpKQE8fHxMDQ0JB2R6gC4NMXZx8cHeXl52L17N27fvo01a9YgKCgIGRkZkJeXR0REBKt5dHR0cOzYMaioqEjMEbKyskJRURGrebhm/vz5kJeXR1hYmGg0QX19PVatWoUePXogMjKS1TyFhYVwdnYGn88XHeHOz89HWVkZ4uLiiBTkFHfQlReO0NPTQ0pKCuLj4zF48GBcv34dGhoaWLduHUaPHs1aDj6f/9GbGOlUV+5pPRvLwMCA6Lya7OxsREVFQV1dHbGxsTAxMYGNjQ2GDx+OOXPmsJ5HSUkJlZWVEu3mCwsL0b9/f9bzcM3169dx6NAhsZlKioqK8PLygqOjI+t5dHV1kZSUhLi4OOTk5IBhGFRVVSE5ORna2tqs56G4hRYvHMLn8xEaGko0Q8uMFapj4PIU55cvX2LAgAEAgIsXL2LhwoUAmnvOtJ6dw5ZZs2bBz89P9DOrqKhATk4OduzYARcXF9bzcI2SkhJqa2sl5pgJhULWV+2A5lXEhQsXws7ODjt37gTQ3HXX3d0dCQkJbc5bo2QDLV445MSJE0hMTER5eTk6deqEESNGYOHChRg/fjxrGezs7Fi7F/Xf4/IUZ3V1dWRlZWHAgAF49OgRJk6cCAA4dOgQkX1TCxcuxPPnz7Fy5Uq8efMGixcvhry8PGbPno2vv/6a9Txcs3btWvj6+sLb2xsGBgaQl5dHcXExfH194ezsjPv374veO3DgwHbPExISAlNTU7EZT2fOnMGGDRsQHBws2rdEySa654UjDh8+jE2bNmHatGnQ1dVFY2MjCgoKkJmZie+++471Hh0tuFBQUR1TdnY2li1bhrdv38LKygphYWEIDg5GUlISoqKiMGnSJFbzNDU1QU5ODq9evcKdO3fAMAzU1NTQs2dPVnNwVUsvFQBiq68Mw4idNuTxeKw8Mm69L6m1yspKzJw5E/n5+e2egeIuWrxwhIWFBRwdHSWmt8bFxSE9PR3p6emsZ+JqQUW1jUuzjQDgyZMnePDggegPY1FREXr06EFk5WX8+PGwtbWFra0t1NTUWL8/1127du2j38vGXqrx48dj27ZtGDdunNj1q1evYsWKFbh8+XK7Z6C4ixYvHDF69GikpaVBVVVV7HpVVRWmT5+OGzdusJ6JiwUV1TauTXHmmpSUFKSmpuL69esYPXo07OzsYGVlRVdeOMrf3x85OTnYsmWLaINucXEx/Pz8MGbMGPj5+RFOSJFEixeOcHNzg76+Ptzd3cWuJyUlITMzk8jzXS4WVFTb7Ozs0K9fvzZnG9GVsmaVlZVITU3FsWPHUF9fDzMzM9jb20t8w5c19fX1iI2Nxe3bt9HQ0CDx+r59+1jN8/LlS3h4eODChQtij7GmTp2KoKAgWnTKOFq8cMSuXbuwa9cujB8/HgYGBlBQUEBxcTGOHz8OOzs7saOcrac8tycuFlRU27S1tXHo0CHw+Xw4Ojpi2bJlMDY2xpEjR3D48GEkJyeTjsgpb9++RUJCAqKjo/HmzRsMGDAATk5OcHZ2lsmpxQsWLEBxcTHGjRsnMSASYP+0WovKykrRVGl1dXWJL1OUbKLFC0eYmpp+1Pt4PB4yMzPbOU0zLhZUVNt0dXVx/PhxfP755/Dx8QGfz4eLiwt+++032Nra/qk9Df/Lbty4gdTUVGRkZKChoQHm5uaws7NDTU0NIiIioKuri/DwcNIxWaerq4uYmBiivYEo6mPRo9Icce7cOdIRJPz4449QUlJCWVkZysrKRNf79++PnJwc0f/N4/Fo8cIBXJttxDXR0dFIS0tDdXU1Ro4cCU9PT1hbW4s9flBQUMCmTZsIpiRHWVkZPXr0IB2Doj4KXXnhiL1790psjAWa58Ns3rwZ3377LfuhqA7l7NmzWL58OTZt2oRJkybhH//4B4yMjHDr1i2MHj1a1OhLVo0bNw7Tp0+Hvb19mw3OSktLcf36dSIdZUnLzMxETEwMPD09oaKiAjk5ObHX2ejtQlEfixYvHKGtrQ1jY2MEBwdDUVERQPPpkXXr1kFOTg5ZWVnEstXV1UndwEc/zLin9Wyj3NxcxMbG4vPPP4eHhweRLqlc8u7dO8jL08Xmtpw9exZeXl4SU+zZ7O1CUR+LFi8ccevWLaxevRpPnjyBn58fcnJykJycjJkzZ8LLy4vIzvrs7Gz4+PjgyZMnYtfphxk3PXv2DKGhoZg7dy6GDh0KNzc30RTn2NhYiWZfsqhldaFlA2jLz2nq1KmkoxFnamoKTU1NODg4oFu3bhKv070wFJfQ4oVDGhoa4OPjg4yMDHTq1IlIF9LWLCwsoKamBkdHR6mnD+iHGbdwbYoz15w+fRoeHh4wMzPD2LFjwTAMcnNzcf78eURERMDMzIx0RKJaT92mKK6ja6gc0dTUhL179+Ls2bMYM2YM7t69i61bt+KTTz5hdap0aw8fPsTu3btpN9IOgmtTnLkmOjoaS5cuFdtcPm/ePERGRmL37t0yX7wYGhqisLCQFi9Uh0CLF46YOXMmBAIBVq5cCRcXFzx79gxbtmyBo6MjnJyc4O3tzXomIyMjlJSU0OKlg+DaFGeuqaiogI2NjcR1a2trxMbGEkjELWPGjMHmzZuRlZWFQYMGSewPoicKKS6hxQuHHD16VDTzpXfv3ggPD8fx48fh7+9PpHjZsmULZs6ciQsXLkBFRUWsyyVAP8y4hmtTnLmmf//+qKqqwuDBg8WuV1VVoVevXoRScUdycjL69u2L69ev4/r162Kv0XYIFNfQ4oUjDh06hDt37sDHxweVlZX47rvvcPbsWQwdOpTYDKHo6GjU1dXhwoULEhv46IcZ9yxfvlw0xdna2hqqqqpiU5xlnbW1NbZs2YLNmzdDX18fAJCfnw9fX19YWloSTkceF3tNUVRb6IZdjrh58yYcHR0xevRoFBYW4sSJE4iJiUFqaiqxjbt6enrYuHEjbG1tWb839ddwaYoz17x58waenp44d+6caBWRYRhMnjwZO3bskLopXdYwDIMLFy6ITmNpaGjAyMhIJsclUNxGixeOcHFxgY6ODjw9PaGrq4v09HSoqKggODgY+fn5OHz4MOuZTExMcODAAYlldorqyAQCAW7dugUAGD58OC3s/u3p06dwc3NDSUkJevXqBYZhIBQKoaWlhYSEBPTu3Zt0RIoSkfvwWyg2lJSUYMaMGRLX58yZA4FAwH4gAI6OjoiIiMCrV6+I3J+i2oO6ujosLS1haWlJC5dWtm7ditevXyM1NRW5ubnIy8tDamoqGhoasH37dtLxKEoM3fPCEQoKChAKhRLXa2pqpDaMYkNeXh5yc3Nx8uRJ9OvXT+L0AVsDIinqr+Lz+RIbzdsi600Xz58/j507d4oeOQLNP78NGzZg5cqV8PX1JZiOosTR4oUjzM3NsWPHDrEZRgKBAIGBgZg8eTKRTPr6+qKNjRTVEQUFBX108SLr3r17ByUlJYnrSkpKUr9YURRJdM8LRwiFQixYsABFRUVoampCr169IBQKwefzkZCQQGwuTVlZGRITE1FRUYGdO3eKTkAZGhoSyUNRVPtwcXHBsGHDsH79erHrAQEBuHnzJlJSUggloyhJtHjhmMuXL6O0tBRNTU0YNmwYJkyYIDHdlS3STkB9//33+Omnn4iPLqCov+LEiRNITExEeXk5OnXqhBEjRmDhwoUYP3486WjEFRYWwtnZGXw+H3p6egCaj5KXlZUhLi4ORkZGhBNS1H/Q4oVqExdPQFHUX3X48GFs2rQJ06ZNg66uLhobG1FQUIDMzEx89913MDc3Jx2RuKKiIsTFxUEgEIBhGFRVVSE5ORna2tqko1GUGFq8UG0aM2YMfvzxRwwZMkSseKmursZXX32FwsJC0hEp6qNZWFjA0dER8+bNE7seFxeH9PR0Ys0guaKkpASurq6ws7ODl5cXgOZJ0w0NDUhISICGhgbhhBT1H/SoNNUmLp6Aoqi/6sGDB1I3v0+dOhVVVVXsB+KYkJAQmJqawtPTU3TtzJkzmDBhAoKDgwkmoyhJtHih2tRyAurZs2eia6RPQFHUXzVmzBhkZGRIXM/JyaGn6tC8x83d3R2dO3cWXevUqRMWLVqEGzduEExGUZLoUWmqTV5eXliwYAGMjIzQ1NQEOzs70QmotWvXko5HUX/KmDFjsGvXLty8eRMGBgZQUFBAcXExjh8/Djs7O0RGRoreK4tzu3r06IG7d+9CRUVF7PrDhw/FChqK4gK654X6IC6dgKKov8rU1PSj3sfj8WSyAaO/vz9ycnKwZcsW0Qbd4uJi+Pn5YcyYMfDz8yOckKL+gxYvFEVRFF6+fAkPDw9cuHBBrLHf1KlTERQUhJ49exJMR1HiaPFCUZRMqaurQ0NDg8T1gQMHEkjDPZWVlaKp0urq6lBVVSUdiaIk0OKFoiiZkJ2dDR8fHzx58kTsOsMw4PF4Mj/biKI6Elq8UBQlEywsLKCmpgZHR0d07dpV4nUDAwMCqSiK+ivoaSOKomTCw4cPsXv3bqipqZGOQlHUf4keGaEoSiYYGRmhpKSEdAyKov4G9LERRVEyoba2FjNnzsS4ceOgoqIidqIGkM3eLhTVUdHHRhRFyYTo6GjU1dXhwoULEuMteDweLV4oqgOhKy8URckEPT09bNy4Eba2tqSjUBT1X6J7XiiKkgndunWDnp4e6RgURf0NaPFCUZRMcHR0REREBF69ekU6CkVR/yX62IiiKJkwf/585ObmAgD69esHeXnxLX+yOM+IojoqumGXoiiZoK+vD319fdIxKIr6G9CVF4qiZEZZWRkSExNRUVGBnTt34uzZsxg6dCgMDQ1JR6Mo6k+ge14oipIJN2/ehIODA+7du4eSkhI0NDSgrKwMbm5uyM7OJh2Poqg/gRYvFEXJhNDQUMyfPx8//PADFBQUAAD+/v6YM2cOIiIiCKejKOrPoMULRVEyoaSkBDNmzJC4PmfOHAgEAvYDURT1l9HihaIomaCgoAChUChxvaamRqLjLkVR3EaLF4qiZIK5uTl27NiBZ8+eia4JBAIEBgZi8uTJ5IJRFPWn0dNGFEXJBKFQiAULFqCoqAhNTU3o1asXhEIh+Hw+EhIS8Mknn5COSFHUR6LFC0VRMuXy5csoLS1FU1MThg0bhgkTJkBOji5CU1RHQosXiqIoiqI6FPp1g6IoiqKoDoUWLxRFURRFdSi0eKEoiqIoqkOhxQtFURRFUR0KLV4oiqIoiupQaPFCURRFUVSHQosXiqIoiqI6lP8H66VmOrUSRoMAAAAASUVORK5CYII=",
            "text/plain": [
              "<Figure size 640x480 with 2 Axes>"
            ]
          },
          "metadata": {},
          "output_type": "display_data"
        }
      ],
      "source": [
        "# получаем основную информацию о датасете\n",
        "data.info()\n",
        "# убеждаемся, что датасет без пропусков\n",
        "sns.heatmap(data.isnull()) "
      ]
    },
    {
      "cell_type": "code",
      "execution_count": 9,
      "metadata": {
        "colab": {
          "base_uri": "https://localhost:8080/"
        },
        "id": "As_X7I6jl7Za",
        "outputId": "3d3795b3-ab7c-4cc6-ab3d-23a4796a7b5c"
      },
      "outputs": [
        {
          "name": "stdout",
          "output_type": "stream",
          "text": [
            "Количество дубликатов: 42\n"
          ]
        }
      ],
      "source": [
        "# Проверим данные на наличие полных дубликатов\n",
        "print('Количество дубликатов: {}'.format(data[data.duplicated()].shape[0]))"
      ]
    },
    {
      "cell_type": "markdown",
      "metadata": {},
      "source": [
        "В датасете 607 записей, пропущенных значений и дупликатов нет.В датасете нет дупликатов. Типы столбцов соответствуют их содержанию."
      ]
    },
    {
      "cell_type": "markdown",
      "metadata": {},
      "source": [
        "### - Определение признаков для использования в исследовании"
      ]
    },
    {
      "cell_type": "markdown",
      "metadata": {},
      "source": [
        "Проведём корреляционный анализ датасета и используем для этого тепловую карту корреляций признаков"
      ]
    },
    {
      "cell_type": "code",
      "execution_count": 10,
      "metadata": {},
      "outputs": [
        {
          "data": {
            "text/plain": [
              "<Axes: >"
            ]
          },
          "execution_count": 10,
          "metadata": {},
          "output_type": "execute_result"
        },
        {
          "data": {
            "image/png": "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",
            "text/plain": [
              "<Figure size 640x480 with 2 Axes>"
            ]
          },
          "metadata": {},
          "output_type": "display_data"
        }
      ],
      "source": [
        "# отсеиваем числовые признаки и включаем отображение коэффициентов\n",
        "sns.heatmap(data.corr(numeric_only=True), annot=True)"
      ]
    },
    {
      "cell_type": "markdown",
      "metadata": {},
      "source": [
        "По тепловой карте видно что признак Unnamed сильно корелирует с work_year, вероятно это связано с тем что таблица отсортирована по признаку work_year, а Unnamed содержит в себе порядковую нумерацию.\n",
        "\n",
        "- Удалим признак Unnamed не имеющий значения для статистического анализа;\n",
        "- Удалим признак salary, аналогичный более универсальному и поддающемуся статестической оработке признаку salary_in_usd;\n",
        "- Удалим признак salary_currency, поскольку мы будем оперировать зарплатой уже переведенной в доллары США. Так же будет удален признак Unnamed не имеющий значения для статистического анализа.\n"
      ]
    },
    {
      "cell_type": "code",
      "execution_count": 12,
      "metadata": {},
      "outputs": [
        {
          "data": {
            "text/html": [
              "<div>\n",
              "<style scoped>\n",
              "    .dataframe tbody tr th:only-of-type {\n",
              "        vertical-align: middle;\n",
              "    }\n",
              "\n",
              "    .dataframe tbody tr th {\n",
              "        vertical-align: top;\n",
              "    }\n",
              "\n",
              "    .dataframe thead th {\n",
              "        text-align: right;\n",
              "    }\n",
              "</style>\n",
              "<table border=\"1\" class=\"dataframe\">\n",
              "  <thead>\n",
              "    <tr style=\"text-align: right;\">\n",
              "      <th></th>\n",
              "      <th>work_year</th>\n",
              "      <th>experience_level</th>\n",
              "      <th>employment_type</th>\n",
              "      <th>job_title</th>\n",
              "      <th>salary_in_usd</th>\n",
              "      <th>employee_residence</th>\n",
              "      <th>remote_ratio</th>\n",
              "      <th>company_location</th>\n",
              "      <th>company_size</th>\n",
              "    </tr>\n",
              "  </thead>\n",
              "  <tbody>\n",
              "    <tr>\n",
              "      <th>0</th>\n",
              "      <td>2020</td>\n",
              "      <td>MI</td>\n",
              "      <td>FT</td>\n",
              "      <td>Data Scientist</td>\n",
              "      <td>79833</td>\n",
              "      <td>DE</td>\n",
              "      <td>0</td>\n",
              "      <td>DE</td>\n",
              "      <td>L</td>\n",
              "    </tr>\n",
              "    <tr>\n",
              "      <th>1</th>\n",
              "      <td>2020</td>\n",
              "      <td>SE</td>\n",
              "      <td>FT</td>\n",
              "      <td>Machine Learning Scientist</td>\n",
              "      <td>260000</td>\n",
              "      <td>JP</td>\n",
              "      <td>0</td>\n",
              "      <td>JP</td>\n",
              "      <td>S</td>\n",
              "    </tr>\n",
              "  </tbody>\n",
              "</table>\n",
              "</div>"
            ],
            "text/plain": [
              "   work_year experience_level employment_type                   job_title  \\\n",
              "0       2020               MI              FT              Data Scientist   \n",
              "1       2020               SE              FT  Machine Learning Scientist   \n",
              "\n",
              "   salary_in_usd employee_residence  remote_ratio company_location  \\\n",
              "0          79833                 DE             0               DE   \n",
              "1         260000                 JP             0               JP   \n",
              "\n",
              "  company_size  \n",
              "0            L  \n",
              "1            S  "
            ]
          },
          "metadata": {},
          "output_type": "display_data"
        },
        {
          "name": "stdout",
          "output_type": "stream",
          "text": [
            "<class 'pandas.core.frame.DataFrame'>\n",
            "Index: 607 entries, 0 to 606\n",
            "Data columns (total 9 columns):\n",
            " #   Column              Non-Null Count  Dtype \n",
            "---  ------              --------------  ----- \n",
            " 0   work_year           607 non-null    int64 \n",
            " 1   experience_level    607 non-null    object\n",
            " 2   employment_type     607 non-null    object\n",
            " 3   job_title           607 non-null    object\n",
            " 4   salary_in_usd       607 non-null    int64 \n",
            " 5   employee_residence  607 non-null    object\n",
            " 6   remote_ratio        607 non-null    int64 \n",
            " 7   company_location    607 non-null    object\n",
            " 8   company_size        607 non-null    object\n",
            "dtypes: int64(3), object(6)\n",
            "memory usage: 47.4+ KB\n"
          ]
        }
      ],
      "source": [
        "# удаляем признаки\n",
        "df = data.drop(columns=['salary', 'salary_currency'])\n",
        "# выводим получившийся датасет и информацию о нем\n",
        "display(df.head(2))\n",
        "df.info()"
      ]
    },
    {
      "cell_type": "markdown",
      "metadata": {},
      "source": [
        "### - Классификация признаков на числовые и категориальные"
      ]
    },
    {
      "cell_type": "markdown",
      "metadata": {},
      "source": [
        "Категориальные признаки:\n",
        "*   *work_year* — год, в котором была выплачена зарплата;\n",
        "*   *experience_level* — опыт работы на этой должности в течение года;\n",
        "*   *employment_type* — тип трудоустройства для этой роли;\n",
        "*   *job_title* — роль, в которой соискатель работал в течение года;\n",
        "*   *employee_residence* —\tосновная страна проживания сотрудника в течение рабочего года в виде кода страны ISO 3166;\n",
        "*   *remote_ratio* — общий объём работы, выполняемой удалённо;\n",
        "*   *company_location* — страна главного офиса работодателя или филиала по контракту в виде кода страны ISO 3166;\n",
        "*   *company_size* — среднее количество людей, работавших в компании в течение года;\n",
        "    \n",
        "Числовые признаки:\n",
        "*   *salary_in_usd* — зарплата в долларах США (валютный курс, делённый на среднее значение курса доллара США за соответствующий год через fxdata.foorilla.com);"
      ]
    },
    {
      "cell_type": "markdown",
      "metadata": {},
      "source": [
        "### - Определение основных статистических характеристик для каждого из признаков"
      ]
    },
    {
      "cell_type": "markdown",
      "metadata": {},
      "source": [
        "Для определения основных статестических характеристик прзнаков датасета построим отчет с использованием библиотеки sweetviz"
      ]
    },
    {
      "cell_type": "code",
      "execution_count": 53,
      "metadata": {},
      "outputs": [
        {
          "name": "stderr",
          "output_type": "stream",
          "text": [
            "                                             |          | [  0%]   00:00 -> (? left)"
          ]
        },
        {
          "name": "stderr",
          "output_type": "stream",
          "text": [
            "Done! Use 'show' commands to display/save.   |██████████| [100%]   00:00 -> (00:00 left)\n"
          ]
        },
        {
          "name": "stdout",
          "output_type": "stream",
          "text": [
            "Report SWEETVIZ_REPORT.html was generated! NOTEBOOK/COLAB USERS: the web browser MAY not pop up, regardless, the report IS saved in your notebook/colab files.\n"
          ]
        }
      ],
      "source": [
        "import sweetviz as sv\n",
        "report = sv.analyze(df)\n",
        "report.show_html()"
      ]
    },
    {
      "cell_type": "markdown",
      "metadata": {},
      "source": [
        "Отчет по основным статистическим характеристикам признакам датасета получен."
      ]
    },
    {
      "cell_type": "markdown",
      "metadata": {},
      "source": [
        "## 2. Разведывательный анализ данных"
      ]
    },
    {
      "cell_type": "markdown",
      "metadata": {},
      "source": [
        "### 2.1. Визуальный анализ данных"
      ]
    },
    {
      "cell_type": "markdown",
      "metadata": {
        "id": "6uAbyderTaNx"
      },
      "source": [
        "### - Распределение оплаты труда по профессии Data Scientist за 2020-2022 годы"
      ]
    },
    {
      "cell_type": "code",
      "execution_count": 54,
      "metadata": {},
      "outputs": [],
      "source": [
        "# фильтруем професии в датафрейме\n",
        "filtred_ds = df[(df.job_title == 'Data Scientist')]"
      ]
    },
    {
      "cell_type": "code",
      "execution_count": 55,
      "metadata": {},
      "outputs": [
        {
          "data": {
            "image/png": "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",
            "text/plain": [
              "<Figure size 1500x500 with 2 Axes>"
            ]
          },
          "metadata": {},
          "output_type": "display_data"
        }
      ],
      "source": [
        "# строим графики распределения зарплат\n",
        "fig, axes = plt.subplots(1, 2, figsize=(15, 5))\n",
        "\n",
        "sns.histplot(filtred_ds['salary_in_usd'], kde=True, ax=axes[0])\n",
        "axes[0].set(xlabel='Размер оплаты труда', ylabel='Частота')\n",
        "axes[0].set_title('Распределение оплаты труда в Data Science')\n",
        "axes[0].axvline(filtred_ds['salary_in_usd'].mean(), color='red', linestyle='--', linewidth=0.8)\n",
        "\n",
        "sns.boxplot(filtred_ds['salary_in_usd'], ax=axes[1], orient='h', medianprops={\"color\": \"red\", \"linestyle\": '--'})\n",
        "axes[1].set(xlabel='Размер оплаты труда')\n",
        "axes[1].set_title('Распределение оплаты труда в Data Science')\n",
        "\n",
        "plt.show()"
      ]
    },
    {
      "cell_type": "code",
      "execution_count": 56,
      "metadata": {},
      "outputs": [
        {
          "data": {
            "text/html": [
              "<div>\n",
              "<style scoped>\n",
              "    .dataframe tbody tr th:only-of-type {\n",
              "        vertical-align: middle;\n",
              "    }\n",
              "\n",
              "    .dataframe tbody tr th {\n",
              "        vertical-align: top;\n",
              "    }\n",
              "\n",
              "    .dataframe thead th {\n",
              "        text-align: right;\n",
              "    }\n",
              "</style>\n",
              "<table border=\"1\" class=\"dataframe\">\n",
              "  <thead>\n",
              "    <tr style=\"text-align: right;\">\n",
              "      <th></th>\n",
              "      <th>Размер оплаты труда</th>\n",
              "    </tr>\n",
              "  </thead>\n",
              "  <tbody>\n",
              "    <tr>\n",
              "      <th>count</th>\n",
              "      <td>143.00</td>\n",
              "    </tr>\n",
              "    <tr>\n",
              "      <th>mean</th>\n",
              "      <td>108187.83</td>\n",
              "    </tr>\n",
              "    <tr>\n",
              "      <th>std</th>\n",
              "      <td>64112.84</td>\n",
              "    </tr>\n",
              "    <tr>\n",
              "      <th>min</th>\n",
              "      <td>2859.00</td>\n",
              "    </tr>\n",
              "    <tr>\n",
              "      <th>25%</th>\n",
              "      <td>54724.00</td>\n",
              "    </tr>\n",
              "    <tr>\n",
              "      <th>50%</th>\n",
              "      <td>103691.00</td>\n",
              "    </tr>\n",
              "    <tr>\n",
              "      <th>75%</th>\n",
              "      <td>140850.00</td>\n",
              "    </tr>\n",
              "    <tr>\n",
              "      <th>max</th>\n",
              "      <td>412000.00</td>\n",
              "    </tr>\n",
              "  </tbody>\n",
              "</table>\n",
              "</div>"
            ],
            "text/plain": [
              "       Размер оплаты труда\n",
              "count               143.00\n",
              "mean             108187.83\n",
              "std               64112.84\n",
              "min                2859.00\n",
              "25%               54724.00\n",
              "50%              103691.00\n",
              "75%              140850.00\n",
              "max              412000.00"
            ]
          },
          "execution_count": 56,
          "metadata": {},
          "output_type": "execute_result"
        }
      ],
      "source": [
        "# вычисляем основные статистические показатели\n",
        "data_agg = filtred_ds['salary_in_usd'].describe().round(2).to_frame()\n",
        "data_agg.columns = ['Размер оплаты труда']\n",
        "data_agg"
      ]
    },
    {
      "cell_type": "markdown",
      "metadata": {},
      "source": [
        "Распределение оплаты труда отлично от нормального, имеются выбросы."
      ]
    },
    {
      "cell_type": "markdown",
      "metadata": {},
      "source": [
        "### - Оплата труда в зависимости от года, в котором была выплачена зарплата"
      ]
    },
    {
      "cell_type": "code",
      "execution_count": 57,
      "metadata": {},
      "outputs": [
        {
          "data": {
            "image/png": "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",
            "text/plain": [
              "<Figure size 640x480 with 1 Axes>"
            ]
          },
          "metadata": {},
          "output_type": "display_data"
        }
      ],
      "source": [
        "# строим график\n",
        "ax = sns.boxplot(filtred_ds, x='salary_in_usd', y='work_year', orient='h', medianprops={\"color\": \"red\", \"linestyle\": '--'})\n",
        "ax.set(xlabel='Размер оплаты труда', ylabel='Год')\n",
        "plt.title('Распределение оплаты труда по годам в которых она была выплачена')\n",
        "plt.show()"
      ]
    },
    {
      "cell_type": "code",
      "execution_count": 58,
      "metadata": {},
      "outputs": [
        {
          "name": "stdout",
          "output_type": "stream",
          "text": [
            "Распределение оплаты труда по годам в которых она была выплачена\n"
          ]
        },
        {
          "data": {
            "text/html": [
              "<div>\n",
              "<style scoped>\n",
              "    .dataframe tbody tr th:only-of-type {\n",
              "        vertical-align: middle;\n",
              "    }\n",
              "\n",
              "    .dataframe tbody tr th {\n",
              "        vertical-align: top;\n",
              "    }\n",
              "\n",
              "    .dataframe thead th {\n",
              "        text-align: right;\n",
              "    }\n",
              "</style>\n",
              "<table border=\"1\" class=\"dataframe\">\n",
              "  <thead>\n",
              "    <tr style=\"text-align: right;\">\n",
              "      <th></th>\n",
              "      <th>count</th>\n",
              "      <th>mean</th>\n",
              "      <th>std</th>\n",
              "      <th>min</th>\n",
              "      <th>25%</th>\n",
              "      <th>50%</th>\n",
              "      <th>75%</th>\n",
              "      <th>max</th>\n",
              "    </tr>\n",
              "    <tr>\n",
              "      <th>work_year</th>\n",
              "      <th></th>\n",
              "      <th></th>\n",
              "      <th></th>\n",
              "      <th></th>\n",
              "      <th></th>\n",
              "      <th></th>\n",
              "      <th></th>\n",
              "      <th></th>\n",
              "    </tr>\n",
              "  </thead>\n",
              "  <tbody>\n",
              "    <tr>\n",
              "      <th>2020</th>\n",
              "      <td>21.0</td>\n",
              "      <td>85970.52</td>\n",
              "      <td>81436.65</td>\n",
              "      <td>21669.0</td>\n",
              "      <td>42197.0</td>\n",
              "      <td>62726.0</td>\n",
              "      <td>105000.0</td>\n",
              "      <td>412000.0</td>\n",
              "    </tr>\n",
              "    <tr>\n",
              "      <th>2021</th>\n",
              "      <td>45.0</td>\n",
              "      <td>70671.73</td>\n",
              "      <td>45422.97</td>\n",
              "      <td>2859.0</td>\n",
              "      <td>33808.0</td>\n",
              "      <td>73000.0</td>\n",
              "      <td>100000.0</td>\n",
              "      <td>165000.0</td>\n",
              "    </tr>\n",
              "    <tr>\n",
              "      <th>2022</th>\n",
              "      <td>77.0</td>\n",
              "      <td>136172.09</td>\n",
              "      <td>54563.08</td>\n",
              "      <td>18442.0</td>\n",
              "      <td>100000.0</td>\n",
              "      <td>140000.0</td>\n",
              "      <td>176000.0</td>\n",
              "      <td>260000.0</td>\n",
              "    </tr>\n",
              "  </tbody>\n",
              "</table>\n",
              "</div>"
            ],
            "text/plain": [
              "           count       mean       std      min       25%       50%       75%  \\\n",
              "work_year                                                                      \n",
              "2020        21.0   85970.52  81436.65  21669.0   42197.0   62726.0  105000.0   \n",
              "2021        45.0   70671.73  45422.97   2859.0   33808.0   73000.0  100000.0   \n",
              "2022        77.0  136172.09  54563.08  18442.0  100000.0  140000.0  176000.0   \n",
              "\n",
              "                max  \n",
              "work_year            \n",
              "2020       412000.0  \n",
              "2021       165000.0  \n",
              "2022       260000.0  "
            ]
          },
          "execution_count": 58,
          "metadata": {},
          "output_type": "execute_result"
        }
      ],
      "source": [
        "# вычисляем основные статистические показатели\n",
        "data_agg = filtred_ds.groupby('work_year')['salary_in_usd'].describe().round(2)\n",
        "print('Распределение оплаты труда по годам в которых она была выплачена')\n",
        "data_agg"
      ]
    },
    {
      "cell_type": "markdown",
      "metadata": {},
      "source": [
        "Распределение оплаты труда по годам имеет тенденцию к увеличению средних и медианных значений за период с 2020 по 2022 гг., в тоже время отмечается уменьшение количества выбросов и уменьшение максимальных значений, что может свидетельствовать как о росте спроса на данные виды специальностей в ИТ, так и о стандартизации квалификационных требований и компетенций самих соискателей, что выражено в уменьшении разницы между минимальными и максимальными величинами оплаты труда.\n",
        "\n",
        "Чтобы определить, являются ли эти различия статистически значимыми, в следующем разделе мы проведём статистические тесты."
      ]
    },
    {
      "cell_type": "markdown",
      "metadata": {},
      "source": [
        "### - Оплата труда в зависимости от опыта работы соискателя"
      ]
    },
    {
      "cell_type": "code",
      "execution_count": 59,
      "metadata": {},
      "outputs": [
        {
          "data": {
            "image/png": "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",
            "text/plain": [
              "<Figure size 640x480 with 1 Axes>"
            ]
          },
          "metadata": {},
          "output_type": "display_data"
        }
      ],
      "source": [
        "# строим график\n",
        "ax = sns.boxplot(filtred_ds, x='salary_in_usd', y='experience_level', orient='h', medianprops={\"color\": \"red\", \"linestyle\": '--'})\n",
        "ax.set(xlabel='Размер оплаты труда', ylabel='Опыт работы')\n",
        "plt.title('Оплата труда в зависимости от опыта работы соискателя')\n",
        "plt.show()"
      ]
    },
    {
      "cell_type": "code",
      "execution_count": 60,
      "metadata": {},
      "outputs": [
        {
          "name": "stdout",
          "output_type": "stream",
          "text": [
            "Оплата труда в зависимости от опыта работы соискателя\n"
          ]
        },
        {
          "data": {
            "text/html": [
              "<div>\n",
              "<style scoped>\n",
              "    .dataframe tbody tr th:only-of-type {\n",
              "        vertical-align: middle;\n",
              "    }\n",
              "\n",
              "    .dataframe tbody tr th {\n",
              "        vertical-align: top;\n",
              "    }\n",
              "\n",
              "    .dataframe thead th {\n",
              "        text-align: right;\n",
              "    }\n",
              "</style>\n",
              "<table border=\"1\" class=\"dataframe\">\n",
              "  <thead>\n",
              "    <tr style=\"text-align: right;\">\n",
              "      <th></th>\n",
              "      <th>count</th>\n",
              "      <th>mean</th>\n",
              "      <th>std</th>\n",
              "      <th>min</th>\n",
              "      <th>25%</th>\n",
              "      <th>50%</th>\n",
              "      <th>75%</th>\n",
              "      <th>max</th>\n",
              "    </tr>\n",
              "    <tr>\n",
              "      <th>experience_level</th>\n",
              "      <th></th>\n",
              "      <th></th>\n",
              "      <th></th>\n",
              "      <th></th>\n",
              "      <th></th>\n",
              "      <th></th>\n",
              "      <th></th>\n",
              "      <th></th>\n",
              "    </tr>\n",
              "  </thead>\n",
              "  <tbody>\n",
              "    <tr>\n",
              "      <th>EN</th>\n",
              "      <td>22.0</td>\n",
              "      <td>55330.91</td>\n",
              "      <td>31237.82</td>\n",
              "      <td>4000.0</td>\n",
              "      <td>31474.0</td>\n",
              "      <td>50483.5</td>\n",
              "      <td>85027.25</td>\n",
              "      <td>105000.0</td>\n",
              "    </tr>\n",
              "    <tr>\n",
              "      <th>MI</th>\n",
              "      <td>60.0</td>\n",
              "      <td>82039.13</td>\n",
              "      <td>46869.58</td>\n",
              "      <td>2859.0</td>\n",
              "      <td>41768.0</td>\n",
              "      <td>77479.0</td>\n",
              "      <td>118264.75</td>\n",
              "      <td>200000.0</td>\n",
              "    </tr>\n",
              "    <tr>\n",
              "      <th>SE</th>\n",
              "      <td>61.0</td>\n",
              "      <td>152971.02</td>\n",
              "      <td>58985.40</td>\n",
              "      <td>20171.0</td>\n",
              "      <td>120000.0</td>\n",
              "      <td>140400.0</td>\n",
              "      <td>180000.00</td>\n",
              "      <td>412000.0</td>\n",
              "    </tr>\n",
              "  </tbody>\n",
              "</table>\n",
              "</div>"
            ],
            "text/plain": [
              "                  count       mean       std      min       25%       50%  \\\n",
              "experience_level                                                            \n",
              "EN                 22.0   55330.91  31237.82   4000.0   31474.0   50483.5   \n",
              "MI                 60.0   82039.13  46869.58   2859.0   41768.0   77479.0   \n",
              "SE                 61.0  152971.02  58985.40  20171.0  120000.0  140400.0   \n",
              "\n",
              "                        75%       max  \n",
              "experience_level                       \n",
              "EN                 85027.25  105000.0  \n",
              "MI                118264.75  200000.0  \n",
              "SE                180000.00  412000.0  "
            ]
          },
          "execution_count": 60,
          "metadata": {},
          "output_type": "execute_result"
        }
      ],
      "source": [
        "# вычисляем основные статистические показатели\n",
        "data_agg = filtred_ds.groupby('experience_level')['salary_in_usd'].describe().round(2)\n",
        "print('Оплата труда в зависимости от опыта работы соискателя')\n",
        "data_agg"
      ]
    },
    {
      "cell_type": "markdown",
      "metadata": {},
      "source": [
        "Среднее значение оплаты труда увеличивается с опытом работы соискателя. \n",
        "\n",
        "Чтобы определить, являются ли эти различия статистически значимыми, в следующем разделе мы проведём статистические тесты."
      ]
    },
    {
      "cell_type": "markdown",
      "metadata": {},
      "source": [
        "### - Зависимость оплаты труда от типа трудоустройства"
      ]
    },
    {
      "cell_type": "code",
      "execution_count": 61,
      "metadata": {},
      "outputs": [
        {
          "data": {
            "image/png": "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",
            "text/plain": [
              "<Figure size 640x480 with 1 Axes>"
            ]
          },
          "metadata": {},
          "output_type": "display_data"
        }
      ],
      "source": [
        "# строим график\n",
        "ax = sns.boxplot(filtred_ds, x='salary_in_usd', y='employment_type', orient='h', medianprops={\"color\": \"red\", \"linestyle\": '--'})\n",
        "ax.set(xlabel='Размер оплаты труда', ylabel='Тип трудаустройства')\n",
        "plt.title('Зависимость оплаты труда от типа трудоустройства')\n",
        "plt.show()"
      ]
    },
    {
      "cell_type": "code",
      "execution_count": 62,
      "metadata": {},
      "outputs": [
        {
          "name": "stdout",
          "output_type": "stream",
          "text": [
            "Зависимость оплаты труда от типа трудоустройства\n"
          ]
        },
        {
          "data": {
            "text/html": [
              "<div>\n",
              "<style scoped>\n",
              "    .dataframe tbody tr th:only-of-type {\n",
              "        vertical-align: middle;\n",
              "    }\n",
              "\n",
              "    .dataframe tbody tr th {\n",
              "        vertical-align: top;\n",
              "    }\n",
              "\n",
              "    .dataframe thead th {\n",
              "        text-align: right;\n",
              "    }\n",
              "</style>\n",
              "<table border=\"1\" class=\"dataframe\">\n",
              "  <thead>\n",
              "    <tr style=\"text-align: right;\">\n",
              "      <th></th>\n",
              "      <th>count</th>\n",
              "      <th>mean</th>\n",
              "      <th>std</th>\n",
              "      <th>min</th>\n",
              "      <th>25%</th>\n",
              "      <th>50%</th>\n",
              "      <th>75%</th>\n",
              "      <th>max</th>\n",
              "    </tr>\n",
              "    <tr>\n",
              "      <th>employment_type</th>\n",
              "      <th></th>\n",
              "      <th></th>\n",
              "      <th></th>\n",
              "      <th></th>\n",
              "      <th></th>\n",
              "      <th></th>\n",
              "      <th></th>\n",
              "      <th></th>\n",
              "    </tr>\n",
              "  </thead>\n",
              "  <tbody>\n",
              "    <tr>\n",
              "      <th>FL</th>\n",
              "      <td>1.0</td>\n",
              "      <td>100000.00</td>\n",
              "      <td>NaN</td>\n",
              "      <td>100000.0</td>\n",
              "      <td>100000.00</td>\n",
              "      <td>100000.0</td>\n",
              "      <td>100000.00</td>\n",
              "      <td>100000.0</td>\n",
              "    </tr>\n",
              "    <tr>\n",
              "      <th>FT</th>\n",
              "      <td>140.0</td>\n",
              "      <td>108922.79</td>\n",
              "      <td>64372.43</td>\n",
              "      <td>2859.0</td>\n",
              "      <td>55490.00</td>\n",
              "      <td>104796.0</td>\n",
              "      <td>141975.00</td>\n",
              "      <td>412000.0</td>\n",
              "    </tr>\n",
              "    <tr>\n",
              "      <th>PT</th>\n",
              "      <td>2.0</td>\n",
              "      <td>60834.50</td>\n",
              "      <td>55388.38</td>\n",
              "      <td>21669.0</td>\n",
              "      <td>41251.75</td>\n",
              "      <td>60834.5</td>\n",
              "      <td>80417.25</td>\n",
              "      <td>100000.0</td>\n",
              "    </tr>\n",
              "  </tbody>\n",
              "</table>\n",
              "</div>"
            ],
            "text/plain": [
              "                 count       mean       std       min        25%       50%  \\\n",
              "employment_type                                                              \n",
              "FL                 1.0  100000.00       NaN  100000.0  100000.00  100000.0   \n",
              "FT               140.0  108922.79  64372.43    2859.0   55490.00  104796.0   \n",
              "PT                 2.0   60834.50  55388.38   21669.0   41251.75   60834.5   \n",
              "\n",
              "                       75%       max  \n",
              "employment_type                       \n",
              "FL               100000.00  100000.0  \n",
              "FT               141975.00  412000.0  \n",
              "PT                80417.25  100000.0  "
            ]
          },
          "execution_count": 62,
          "metadata": {},
          "output_type": "execute_result"
        }
      ],
      "source": [
        "# вычисляем основные статистические показатели\n",
        "data_agg = filtred_ds.groupby('employment_type')['salary_in_usd'].describe().round(2)\n",
        "print('Зависимость оплаты труда от типа трудоустройства')\n",
        "data_agg"
      ]
    },
    {
      "cell_type": "markdown",
      "metadata": {},
      "source": [
        "Распределения оплаты труда различно для разных типов трудоустройства, однако на графике четко видно что средняя зарплата сотрудников на полном рабочем дне выше. \n",
        "\n",
        "Чтобы определить, являются ли эти различия статистически значимыми, необходимы статистические тесты."
      ]
    },
    {
      "cell_type": "markdown",
      "metadata": {},
      "source": [
        "### - Зависимость оплаты труда от роли в которой соискатель работал в течение года"
      ]
    },
    {
      "cell_type": "code",
      "execution_count": 63,
      "metadata": {},
      "outputs": [],
      "source": [
        "# фильтруем професси в датафрейме\n",
        "filtred_ds_de = df[(df.job_title == 'Data Scientist') | (df.job_title == 'Data Engineer')]"
      ]
    },
    {
      "cell_type": "code",
      "execution_count": 64,
      "metadata": {},
      "outputs": [
        {
          "data": {
            "image/png": "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",
            "text/plain": [
              "<Figure size 640x480 with 1 Axes>"
            ]
          },
          "metadata": {},
          "output_type": "display_data"
        }
      ],
      "source": [
        "# строим график\n",
        "ax = sns.boxplot(filtred_ds_de, x='salary_in_usd', y='job_title', orient='h', medianprops={\"color\": \"red\", \"linestyle\": '--'})\n",
        "ax.set(xlabel='Размер оплаты труда', ylabel='Название роли')\n",
        "plt.title('Зависимость оплаты труда от роли в которой соискатель работал в течение года')\n",
        "plt.show()"
      ]
    },
    {
      "cell_type": "code",
      "execution_count": 65,
      "metadata": {},
      "outputs": [
        {
          "name": "stdout",
          "output_type": "stream",
          "text": [
            "Зависимость оплаты труда от роли в которой соискатель работал в течение года\n"
          ]
        },
        {
          "data": {
            "text/html": [
              "<div>\n",
              "<style scoped>\n",
              "    .dataframe tbody tr th:only-of-type {\n",
              "        vertical-align: middle;\n",
              "    }\n",
              "\n",
              "    .dataframe tbody tr th {\n",
              "        vertical-align: top;\n",
              "    }\n",
              "\n",
              "    .dataframe thead th {\n",
              "        text-align: right;\n",
              "    }\n",
              "</style>\n",
              "<table border=\"1\" class=\"dataframe\">\n",
              "  <thead>\n",
              "    <tr style=\"text-align: right;\">\n",
              "      <th></th>\n",
              "      <th>count</th>\n",
              "      <th>mean</th>\n",
              "      <th>std</th>\n",
              "      <th>min</th>\n",
              "      <th>25%</th>\n",
              "      <th>50%</th>\n",
              "      <th>75%</th>\n",
              "      <th>max</th>\n",
              "    </tr>\n",
              "    <tr>\n",
              "      <th>job_title</th>\n",
              "      <th></th>\n",
              "      <th></th>\n",
              "      <th></th>\n",
              "      <th></th>\n",
              "      <th></th>\n",
              "      <th></th>\n",
              "      <th></th>\n",
              "      <th></th>\n",
              "    </tr>\n",
              "  </thead>\n",
              "  <tbody>\n",
              "    <tr>\n",
              "      <th>Data Engineer</th>\n",
              "      <td>132.0</td>\n",
              "      <td>112725.00</td>\n",
              "      <td>57629.08</td>\n",
              "      <td>4000.0</td>\n",
              "      <td>70039.5</td>\n",
              "      <td>105500.0</td>\n",
              "      <td>154600.0</td>\n",
              "      <td>324000.0</td>\n",
              "    </tr>\n",
              "    <tr>\n",
              "      <th>Data Scientist</th>\n",
              "      <td>143.0</td>\n",
              "      <td>108187.83</td>\n",
              "      <td>64112.84</td>\n",
              "      <td>2859.0</td>\n",
              "      <td>54724.0</td>\n",
              "      <td>103691.0</td>\n",
              "      <td>140850.0</td>\n",
              "      <td>412000.0</td>\n",
              "    </tr>\n",
              "  </tbody>\n",
              "</table>\n",
              "</div>"
            ],
            "text/plain": [
              "                count       mean       std     min      25%       50%  \\\n",
              "job_title                                                               \n",
              "Data Engineer   132.0  112725.00  57629.08  4000.0  70039.5  105500.0   \n",
              "Data Scientist  143.0  108187.83  64112.84  2859.0  54724.0  103691.0   \n",
              "\n",
              "                     75%       max  \n",
              "job_title                           \n",
              "Data Engineer   154600.0  324000.0  \n",
              "Data Scientist  140850.0  412000.0  "
            ]
          },
          "execution_count": 65,
          "metadata": {},
          "output_type": "execute_result"
        }
      ],
      "source": [
        "# вычисляем основные статистические показатели\n",
        "data_agg = filtred_ds_de.groupby('job_title')['salary_in_usd'].describe().round(2)\n",
        "print('Зависимость оплаты труда от роли в которой соискатель работал в течение года')\n",
        "data_agg"
      ]
    },
    {
      "cell_type": "markdown",
      "metadata": {},
      "source": [
        "Распределения по названию роли соискателя незначительно отлчаются. \n",
        "\n",
        "Чтобы определить, являются ли эти различия статистически значимыми, необходимы статистические тесты."
      ]
    },
    {
      "cell_type": "markdown",
      "metadata": {},
      "source": [
        "### - Зависимость оплаты труда от страны проживания в течении рабочего года"
      ]
    },
    {
      "cell_type": "code",
      "execution_count": 66,
      "metadata": {},
      "outputs": [
        {
          "data": {
            "image/png": "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",
            "text/plain": [
              "<Figure size 640x480 with 1 Axes>"
            ]
          },
          "metadata": {},
          "output_type": "display_data"
        }
      ],
      "source": [
        "# строим график\n",
        "ax = sns.boxplot(filtred_ds, x='salary_in_usd', y='employee_residence', orient='h', medianprops={\"color\": \"red\", \"linestyle\": '--'})\n",
        "ax.set(xlabel='Размер оплаты труда', ylabel='Страна')\n",
        "plt.title('Зависимость оплаты труда от страны проживания в течении рабочего года')\n",
        "plt.show()"
      ]
    },
    {
      "cell_type": "code",
      "execution_count": 67,
      "metadata": {},
      "outputs": [
        {
          "name": "stdout",
          "output_type": "stream",
          "text": [
            "Зависимость оплаты труда от страны проживания в течении рабочего года\n"
          ]
        },
        {
          "data": {
            "text/html": [
              "<div>\n",
              "<style scoped>\n",
              "    .dataframe tbody tr th:only-of-type {\n",
              "        vertical-align: middle;\n",
              "    }\n",
              "\n",
              "    .dataframe tbody tr th {\n",
              "        vertical-align: top;\n",
              "    }\n",
              "\n",
              "    .dataframe thead th {\n",
              "        text-align: right;\n",
              "    }\n",
              "</style>\n",
              "<table border=\"1\" class=\"dataframe\">\n",
              "  <thead>\n",
              "    <tr style=\"text-align: right;\">\n",
              "      <th></th>\n",
              "      <th>count</th>\n",
              "      <th>mean</th>\n",
              "      <th>std</th>\n",
              "      <th>min</th>\n",
              "      <th>25%</th>\n",
              "      <th>50%</th>\n",
              "      <th>75%</th>\n",
              "      <th>max</th>\n",
              "    </tr>\n",
              "    <tr>\n",
              "      <th>employee_residence</th>\n",
              "      <th></th>\n",
              "      <th></th>\n",
              "      <th></th>\n",
              "      <th></th>\n",
              "      <th></th>\n",
              "      <th></th>\n",
              "      <th></th>\n",
              "      <th></th>\n",
              "    </tr>\n",
              "  </thead>\n",
              "  <tbody>\n",
              "    <tr>\n",
              "      <th>AT</th>\n",
              "      <td>1.0</td>\n",
              "      <td>91237.00</td>\n",
              "      <td>NaN</td>\n",
              "      <td>91237.0</td>\n",
              "      <td>91237.00</td>\n",
              "      <td>91237.0</td>\n",
              "      <td>91237.00</td>\n",
              "      <td>91237.0</td>\n",
              "    </tr>\n",
              "    <tr>\n",
              "      <th>AU</th>\n",
              "      <td>1.0</td>\n",
              "      <td>86703.00</td>\n",
              "      <td>NaN</td>\n",
              "      <td>86703.0</td>\n",
              "      <td>86703.00</td>\n",
              "      <td>86703.0</td>\n",
              "      <td>86703.00</td>\n",
              "      <td>86703.0</td>\n",
              "    </tr>\n",
              "    <tr>\n",
              "      <th>BR</th>\n",
              "      <td>2.0</td>\n",
              "      <td>56450.50</td>\n",
              "      <td>61588.29</td>\n",
              "      <td>12901.0</td>\n",
              "      <td>34675.75</td>\n",
              "      <td>56450.5</td>\n",
              "      <td>78225.25</td>\n",
              "      <td>100000.0</td>\n",
              "    </tr>\n",
              "    <tr>\n",
              "      <th>CA</th>\n",
              "      <td>6.0</td>\n",
              "      <td>81489.17</td>\n",
              "      <td>19500.74</td>\n",
              "      <td>52396.0</td>\n",
              "      <td>70945.50</td>\n",
              "      <td>81756.0</td>\n",
              "      <td>96934.50</td>\n",
              "      <td>103691.0</td>\n",
              "    </tr>\n",
              "    <tr>\n",
              "      <th>CH</th>\n",
              "      <td>1.0</td>\n",
              "      <td>122346.00</td>\n",
              "      <td>NaN</td>\n",
              "      <td>122346.0</td>\n",
              "      <td>122346.00</td>\n",
              "      <td>122346.0</td>\n",
              "      <td>122346.00</td>\n",
              "      <td>122346.0</td>\n",
              "    </tr>\n",
              "    <tr>\n",
              "      <th>CL</th>\n",
              "      <td>1.0</td>\n",
              "      <td>40038.00</td>\n",
              "      <td>NaN</td>\n",
              "      <td>40038.0</td>\n",
              "      <td>40038.00</td>\n",
              "      <td>40038.0</td>\n",
              "      <td>40038.00</td>\n",
              "      <td>40038.0</td>\n",
              "    </tr>\n",
              "    <tr>\n",
              "      <th>DE</th>\n",
              "      <td>7.0</td>\n",
              "      <td>74773.71</td>\n",
              "      <td>16834.87</td>\n",
              "      <td>49268.0</td>\n",
              "      <td>62096.50</td>\n",
              "      <td>79833.0</td>\n",
              "      <td>89694.00</td>\n",
              "      <td>90734.0</td>\n",
              "    </tr>\n",
              "    <tr>\n",
              "      <th>DZ</th>\n",
              "      <td>1.0</td>\n",
              "      <td>100000.00</td>\n",
              "      <td>NaN</td>\n",
              "      <td>100000.0</td>\n",
              "      <td>100000.00</td>\n",
              "      <td>100000.0</td>\n",
              "      <td>100000.00</td>\n",
              "      <td>100000.0</td>\n",
              "    </tr>\n",
              "    <tr>\n",
              "      <th>ES</th>\n",
              "      <td>3.0</td>\n",
              "      <td>41136.67</td>\n",
              "      <td>4935.34</td>\n",
              "      <td>37825.0</td>\n",
              "      <td>38300.50</td>\n",
              "      <td>38776.0</td>\n",
              "      <td>42792.50</td>\n",
              "      <td>46809.0</td>\n",
              "    </tr>\n",
              "    <tr>\n",
              "      <th>FR</th>\n",
              "      <td>8.0</td>\n",
              "      <td>51665.62</td>\n",
              "      <td>13412.16</td>\n",
              "      <td>36643.0</td>\n",
              "      <td>41626.75</td>\n",
              "      <td>50483.5</td>\n",
              "      <td>55575.50</td>\n",
              "      <td>77684.0</td>\n",
              "    </tr>\n",
              "    <tr>\n",
              "      <th>GB</th>\n",
              "      <td>11.0</td>\n",
              "      <td>88177.36</td>\n",
              "      <td>41393.50</td>\n",
              "      <td>39263.0</td>\n",
              "      <td>60847.00</td>\n",
              "      <td>76958.0</td>\n",
              "      <td>110808.00</td>\n",
              "      <td>183228.0</td>\n",
              "    </tr>\n",
              "    <tr>\n",
              "      <th>GR</th>\n",
              "      <td>1.0</td>\n",
              "      <td>68428.00</td>\n",
              "      <td>NaN</td>\n",
              "      <td>68428.0</td>\n",
              "      <td>68428.00</td>\n",
              "      <td>68428.0</td>\n",
              "      <td>68428.00</td>\n",
              "      <td>68428.0</td>\n",
              "    </tr>\n",
              "    <tr>\n",
              "      <th>HU</th>\n",
              "      <td>1.0</td>\n",
              "      <td>35735.00</td>\n",
              "      <td>NaN</td>\n",
              "      <td>35735.0</td>\n",
              "      <td>35735.00</td>\n",
              "      <td>35735.0</td>\n",
              "      <td>35735.00</td>\n",
              "      <td>35735.0</td>\n",
              "    </tr>\n",
              "    <tr>\n",
              "      <th>IN</th>\n",
              "      <td>9.0</td>\n",
              "      <td>23838.33</td>\n",
              "      <td>11758.72</td>\n",
              "      <td>5679.0</td>\n",
              "      <td>16904.00</td>\n",
              "      <td>28399.0</td>\n",
              "      <td>31615.00</td>\n",
              "      <td>40481.0</td>\n",
              "    </tr>\n",
              "    <tr>\n",
              "      <th>IT</th>\n",
              "      <td>1.0</td>\n",
              "      <td>21669.00</td>\n",
              "      <td>NaN</td>\n",
              "      <td>21669.0</td>\n",
              "      <td>21669.00</td>\n",
              "      <td>21669.0</td>\n",
              "      <td>21669.00</td>\n",
              "      <td>21669.0</td>\n",
              "    </tr>\n",
              "    <tr>\n",
              "      <th>JP</th>\n",
              "      <td>1.0</td>\n",
              "      <td>40000.00</td>\n",
              "      <td>NaN</td>\n",
              "      <td>40000.0</td>\n",
              "      <td>40000.00</td>\n",
              "      <td>40000.0</td>\n",
              "      <td>40000.00</td>\n",
              "      <td>40000.0</td>\n",
              "    </tr>\n",
              "    <tr>\n",
              "      <th>MX</th>\n",
              "      <td>1.0</td>\n",
              "      <td>2859.00</td>\n",
              "      <td>NaN</td>\n",
              "      <td>2859.0</td>\n",
              "      <td>2859.00</td>\n",
              "      <td>2859.0</td>\n",
              "      <td>2859.00</td>\n",
              "      <td>2859.0</td>\n",
              "    </tr>\n",
              "    <tr>\n",
              "      <th>NG</th>\n",
              "      <td>1.0</td>\n",
              "      <td>50000.00</td>\n",
              "      <td>NaN</td>\n",
              "      <td>50000.0</td>\n",
              "      <td>50000.00</td>\n",
              "      <td>50000.0</td>\n",
              "      <td>50000.00</td>\n",
              "      <td>50000.0</td>\n",
              "    </tr>\n",
              "    <tr>\n",
              "      <th>PH</th>\n",
              "      <td>1.0</td>\n",
              "      <td>45760.00</td>\n",
              "      <td>NaN</td>\n",
              "      <td>45760.0</td>\n",
              "      <td>45760.00</td>\n",
              "      <td>45760.0</td>\n",
              "      <td>45760.00</td>\n",
              "      <td>45760.0</td>\n",
              "    </tr>\n",
              "    <tr>\n",
              "      <th>PL</th>\n",
              "      <td>1.0</td>\n",
              "      <td>35590.00</td>\n",
              "      <td>NaN</td>\n",
              "      <td>35590.0</td>\n",
              "      <td>35590.00</td>\n",
              "      <td>35590.0</td>\n",
              "      <td>35590.00</td>\n",
              "      <td>35590.0</td>\n",
              "    </tr>\n",
              "    <tr>\n",
              "      <th>RS</th>\n",
              "      <td>1.0</td>\n",
              "      <td>25532.00</td>\n",
              "      <td>NaN</td>\n",
              "      <td>25532.0</td>\n",
              "      <td>25532.00</td>\n",
              "      <td>25532.0</td>\n",
              "      <td>25532.00</td>\n",
              "      <td>25532.0</td>\n",
              "    </tr>\n",
              "    <tr>\n",
              "      <th>RU</th>\n",
              "      <td>1.0</td>\n",
              "      <td>48000.00</td>\n",
              "      <td>NaN</td>\n",
              "      <td>48000.0</td>\n",
              "      <td>48000.00</td>\n",
              "      <td>48000.0</td>\n",
              "      <td>48000.00</td>\n",
              "      <td>48000.0</td>\n",
              "    </tr>\n",
              "    <tr>\n",
              "      <th>SG</th>\n",
              "      <td>1.0</td>\n",
              "      <td>119059.00</td>\n",
              "      <td>NaN</td>\n",
              "      <td>119059.0</td>\n",
              "      <td>119059.00</td>\n",
              "      <td>119059.0</td>\n",
              "      <td>119059.00</td>\n",
              "      <td>119059.0</td>\n",
              "    </tr>\n",
              "    <tr>\n",
              "      <th>TR</th>\n",
              "      <td>1.0</td>\n",
              "      <td>20171.00</td>\n",
              "      <td>NaN</td>\n",
              "      <td>20171.0</td>\n",
              "      <td>20171.00</td>\n",
              "      <td>20171.0</td>\n",
              "      <td>20171.00</td>\n",
              "      <td>20171.0</td>\n",
              "    </tr>\n",
              "    <tr>\n",
              "      <th>UA</th>\n",
              "      <td>1.0</td>\n",
              "      <td>13400.00</td>\n",
              "      <td>NaN</td>\n",
              "      <td>13400.0</td>\n",
              "      <td>13400.00</td>\n",
              "      <td>13400.0</td>\n",
              "      <td>13400.00</td>\n",
              "      <td>13400.0</td>\n",
              "    </tr>\n",
              "    <tr>\n",
              "      <th>US</th>\n",
              "      <td>78.0</td>\n",
              "      <td>149408.33</td>\n",
              "      <td>52576.02</td>\n",
              "      <td>58000.0</td>\n",
              "      <td>120000.00</td>\n",
              "      <td>140000.0</td>\n",
              "      <td>174500.00</td>\n",
              "      <td>412000.0</td>\n",
              "    </tr>\n",
              "    <tr>\n",
              "      <th>VN</th>\n",
              "      <td>1.0</td>\n",
              "      <td>4000.00</td>\n",
              "      <td>NaN</td>\n",
              "      <td>4000.0</td>\n",
              "      <td>4000.00</td>\n",
              "      <td>4000.0</td>\n",
              "      <td>4000.00</td>\n",
              "      <td>4000.0</td>\n",
              "    </tr>\n",
              "  </tbody>\n",
              "</table>\n",
              "</div>"
            ],
            "text/plain": [
              "                    count       mean       std       min        25%       50%  \\\n",
              "employee_residence                                                              \n",
              "AT                    1.0   91237.00       NaN   91237.0   91237.00   91237.0   \n",
              "AU                    1.0   86703.00       NaN   86703.0   86703.00   86703.0   \n",
              "BR                    2.0   56450.50  61588.29   12901.0   34675.75   56450.5   \n",
              "CA                    6.0   81489.17  19500.74   52396.0   70945.50   81756.0   \n",
              "CH                    1.0  122346.00       NaN  122346.0  122346.00  122346.0   \n",
              "CL                    1.0   40038.00       NaN   40038.0   40038.00   40038.0   \n",
              "DE                    7.0   74773.71  16834.87   49268.0   62096.50   79833.0   \n",
              "DZ                    1.0  100000.00       NaN  100000.0  100000.00  100000.0   \n",
              "ES                    3.0   41136.67   4935.34   37825.0   38300.50   38776.0   \n",
              "FR                    8.0   51665.62  13412.16   36643.0   41626.75   50483.5   \n",
              "GB                   11.0   88177.36  41393.50   39263.0   60847.00   76958.0   \n",
              "GR                    1.0   68428.00       NaN   68428.0   68428.00   68428.0   \n",
              "HU                    1.0   35735.00       NaN   35735.0   35735.00   35735.0   \n",
              "IN                    9.0   23838.33  11758.72    5679.0   16904.00   28399.0   \n",
              "IT                    1.0   21669.00       NaN   21669.0   21669.00   21669.0   \n",
              "JP                    1.0   40000.00       NaN   40000.0   40000.00   40000.0   \n",
              "MX                    1.0    2859.00       NaN    2859.0    2859.00    2859.0   \n",
              "NG                    1.0   50000.00       NaN   50000.0   50000.00   50000.0   \n",
              "PH                    1.0   45760.00       NaN   45760.0   45760.00   45760.0   \n",
              "PL                    1.0   35590.00       NaN   35590.0   35590.00   35590.0   \n",
              "RS                    1.0   25532.00       NaN   25532.0   25532.00   25532.0   \n",
              "RU                    1.0   48000.00       NaN   48000.0   48000.00   48000.0   \n",
              "SG                    1.0  119059.00       NaN  119059.0  119059.00  119059.0   \n",
              "TR                    1.0   20171.00       NaN   20171.0   20171.00   20171.0   \n",
              "UA                    1.0   13400.00       NaN   13400.0   13400.00   13400.0   \n",
              "US                   78.0  149408.33  52576.02   58000.0  120000.00  140000.0   \n",
              "VN                    1.0    4000.00       NaN    4000.0    4000.00    4000.0   \n",
              "\n",
              "                          75%       max  \n",
              "employee_residence                       \n",
              "AT                   91237.00   91237.0  \n",
              "AU                   86703.00   86703.0  \n",
              "BR                   78225.25  100000.0  \n",
              "CA                   96934.50  103691.0  \n",
              "CH                  122346.00  122346.0  \n",
              "CL                   40038.00   40038.0  \n",
              "DE                   89694.00   90734.0  \n",
              "DZ                  100000.00  100000.0  \n",
              "ES                   42792.50   46809.0  \n",
              "FR                   55575.50   77684.0  \n",
              "GB                  110808.00  183228.0  \n",
              "GR                   68428.00   68428.0  \n",
              "HU                   35735.00   35735.0  \n",
              "IN                   31615.00   40481.0  \n",
              "IT                   21669.00   21669.0  \n",
              "JP                   40000.00   40000.0  \n",
              "MX                    2859.00    2859.0  \n",
              "NG                   50000.00   50000.0  \n",
              "PH                   45760.00   45760.0  \n",
              "PL                   35590.00   35590.0  \n",
              "RS                   25532.00   25532.0  \n",
              "RU                   48000.00   48000.0  \n",
              "SG                  119059.00  119059.0  \n",
              "TR                   20171.00   20171.0  \n",
              "UA                   13400.00   13400.0  \n",
              "US                  174500.00  412000.0  \n",
              "VN                    4000.00    4000.0  "
            ]
          },
          "execution_count": 67,
          "metadata": {},
          "output_type": "execute_result"
        }
      ],
      "source": [
        "# вычисляем основные статистические показатели\n",
        "data_agg = filtred_ds.groupby('employee_residence')['salary_in_usd'].describe().round(2)\n",
        "print('Зависимость оплаты труда от страны проживания в течении рабочего года')\n",
        "data_agg"
      ]
    },
    {
      "cell_type": "markdown",
      "metadata": {},
      "source": [
        "Среднее значение оплаты труда значительно отличается по разным странам проживания соискателей. Соискатели проживающие в US имеют наибольшую средню оплату труда.\n",
        "\n",
        "Чтобы определить, являются ли эти различия статистически значимыми, необходимы статистические тесты."
      ]
    },
    {
      "cell_type": "markdown",
      "metadata": {},
      "source": [
        "### - Зависимость оплаты труда от доли работы, выполняемой удаленно"
      ]
    },
    {
      "cell_type": "code",
      "execution_count": 68,
      "metadata": {},
      "outputs": [
        {
          "data": {
            "image/png": "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",
            "text/plain": [
              "<Figure size 640x480 with 1 Axes>"
            ]
          },
          "metadata": {},
          "output_type": "display_data"
        }
      ],
      "source": [
        "# строим график\n",
        "ax = sns.boxplot(filtred_ds, x='salary_in_usd', y='remote_ratio', orient='h', medianprops={\"color\": \"red\", \"linestyle\": '--'})\n",
        "ax.set(xlabel='Размер оплаты труда', ylabel='Доля удаленной работы')\n",
        "plt.title('Зависимость оплаты труда от доли работы, выполняемой удаленно')\n",
        "plt.show()"
      ]
    },
    {
      "cell_type": "code",
      "execution_count": 69,
      "metadata": {},
      "outputs": [
        {
          "name": "stdout",
          "output_type": "stream",
          "text": [
            "Зависимость оплаты труда от доли работы, выполняемой удаленно\n"
          ]
        },
        {
          "data": {
            "text/html": [
              "<div>\n",
              "<style scoped>\n",
              "    .dataframe tbody tr th:only-of-type {\n",
              "        vertical-align: middle;\n",
              "    }\n",
              "\n",
              "    .dataframe tbody tr th {\n",
              "        vertical-align: top;\n",
              "    }\n",
              "\n",
              "    .dataframe thead th {\n",
              "        text-align: right;\n",
              "    }\n",
              "</style>\n",
              "<table border=\"1\" class=\"dataframe\">\n",
              "  <thead>\n",
              "    <tr style=\"text-align: right;\">\n",
              "      <th></th>\n",
              "      <th>count</th>\n",
              "      <th>mean</th>\n",
              "      <th>std</th>\n",
              "      <th>min</th>\n",
              "      <th>25%</th>\n",
              "      <th>50%</th>\n",
              "      <th>75%</th>\n",
              "      <th>max</th>\n",
              "    </tr>\n",
              "    <tr>\n",
              "      <th>remote_ratio</th>\n",
              "      <th></th>\n",
              "      <th></th>\n",
              "      <th></th>\n",
              "      <th></th>\n",
              "      <th></th>\n",
              "      <th></th>\n",
              "      <th></th>\n",
              "      <th></th>\n",
              "    </tr>\n",
              "  </thead>\n",
              "  <tbody>\n",
              "    <tr>\n",
              "      <th>0</th>\n",
              "      <td>39.0</td>\n",
              "      <td>99520.74</td>\n",
              "      <td>58259.42</td>\n",
              "      <td>2859.0</td>\n",
              "      <td>50294.5</td>\n",
              "      <td>95550.0</td>\n",
              "      <td>140400.0</td>\n",
              "      <td>215300.0</td>\n",
              "    </tr>\n",
              "    <tr>\n",
              "      <th>50</th>\n",
              "      <td>25.0</td>\n",
              "      <td>74504.08</td>\n",
              "      <td>35602.82</td>\n",
              "      <td>20171.0</td>\n",
              "      <td>49646.0</td>\n",
              "      <td>62726.0</td>\n",
              "      <td>100000.0</td>\n",
              "      <td>147000.0</td>\n",
              "    </tr>\n",
              "    <tr>\n",
              "      <th>100</th>\n",
              "      <td>79.0</td>\n",
              "      <td>123125.94</td>\n",
              "      <td>69370.99</td>\n",
              "      <td>5679.0</td>\n",
              "      <td>76366.0</td>\n",
              "      <td>123000.0</td>\n",
              "      <td>162500.0</td>\n",
              "      <td>412000.0</td>\n",
              "    </tr>\n",
              "  </tbody>\n",
              "</table>\n",
              "</div>"
            ],
            "text/plain": [
              "              count       mean       std      min      25%       50%  \\\n",
              "remote_ratio                                                           \n",
              "0              39.0   99520.74  58259.42   2859.0  50294.5   95550.0   \n",
              "50             25.0   74504.08  35602.82  20171.0  49646.0   62726.0   \n",
              "100            79.0  123125.94  69370.99   5679.0  76366.0  123000.0   \n",
              "\n",
              "                   75%       max  \n",
              "remote_ratio                      \n",
              "0             140400.0  215300.0  \n",
              "50            100000.0  147000.0  \n",
              "100           162500.0  412000.0  "
            ]
          },
          "execution_count": 69,
          "metadata": {},
          "output_type": "execute_result"
        }
      ],
      "source": [
        "# вычисляем основные статистические показатели\n",
        "data_agg = filtred_ds.groupby('remote_ratio')['salary_in_usd'].describe().round(2)\n",
        "print('Зависимость оплаты труда от доли работы, выполняемой удаленно')\n",
        "data_agg"
      ]
    },
    {
      "cell_type": "markdown",
      "metadata": {},
      "source": [
        "Среднее значение оплаты труда значительно отличается в зависимости от доли работы, выполняемой удаленно. \n",
        "\n",
        "Чтобы определить, являются ли эти различия статистически значимыми, необходимы статистические тесты."
      ]
    },
    {
      "cell_type": "markdown",
      "metadata": {},
      "source": [
        "### - Зависимость заработной платы от страны где размещен главный офис компании"
      ]
    },
    {
      "cell_type": "code",
      "execution_count": 70,
      "metadata": {},
      "outputs": [
        {
          "data": {
            "image/png": "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",
            "text/plain": [
              "<Figure size 640x480 with 1 Axes>"
            ]
          },
          "metadata": {},
          "output_type": "display_data"
        }
      ],
      "source": [
        "# строим график\n",
        "ax = sns.boxplot(filtred_ds, x='salary_in_usd', y='company_location', orient='h', medianprops={\"color\": \"red\", \"linestyle\": '--'})\n",
        "ax.set(xlabel='Размер оплаты труда', ylabel='Страна')\n",
        "plt.title('Зависимость заработной платы от страны где размещен главный офис компании')\n",
        "plt.show()"
      ]
    },
    {
      "cell_type": "code",
      "execution_count": 71,
      "metadata": {},
      "outputs": [
        {
          "name": "stdout",
          "output_type": "stream",
          "text": [
            "Зависимость заработной платы от страны где размещен главный офис компании\n"
          ]
        },
        {
          "data": {
            "text/html": [
              "<div>\n",
              "<style scoped>\n",
              "    .dataframe tbody tr th:only-of-type {\n",
              "        vertical-align: middle;\n",
              "    }\n",
              "\n",
              "    .dataframe tbody tr th {\n",
              "        vertical-align: top;\n",
              "    }\n",
              "\n",
              "    .dataframe thead th {\n",
              "        text-align: right;\n",
              "    }\n",
              "</style>\n",
              "<table border=\"1\" class=\"dataframe\">\n",
              "  <thead>\n",
              "    <tr style=\"text-align: right;\">\n",
              "      <th></th>\n",
              "      <th>count</th>\n",
              "      <th>mean</th>\n",
              "      <th>std</th>\n",
              "      <th>min</th>\n",
              "      <th>25%</th>\n",
              "      <th>50%</th>\n",
              "      <th>75%</th>\n",
              "      <th>max</th>\n",
              "    </tr>\n",
              "    <tr>\n",
              "      <th>company_location</th>\n",
              "      <th></th>\n",
              "      <th></th>\n",
              "      <th></th>\n",
              "      <th></th>\n",
              "      <th></th>\n",
              "      <th></th>\n",
              "      <th></th>\n",
              "      <th></th>\n",
              "    </tr>\n",
              "  </thead>\n",
              "  <tbody>\n",
              "    <tr>\n",
              "      <th>AT</th>\n",
              "      <td>2.0</td>\n",
              "      <td>76352.00</td>\n",
              "      <td>21050.57</td>\n",
              "      <td>61467.0</td>\n",
              "      <td>68909.5</td>\n",
              "      <td>76352.0</td>\n",
              "      <td>83794.50</td>\n",
              "      <td>91237.0</td>\n",
              "    </tr>\n",
              "    <tr>\n",
              "      <th>AU</th>\n",
              "      <td>1.0</td>\n",
              "      <td>86703.00</td>\n",
              "      <td>NaN</td>\n",
              "      <td>86703.0</td>\n",
              "      <td>86703.0</td>\n",
              "      <td>86703.0</td>\n",
              "      <td>86703.00</td>\n",
              "      <td>86703.0</td>\n",
              "    </tr>\n",
              "    <tr>\n",
              "      <th>BR</th>\n",
              "      <td>1.0</td>\n",
              "      <td>12901.00</td>\n",
              "      <td>NaN</td>\n",
              "      <td>12901.0</td>\n",
              "      <td>12901.0</td>\n",
              "      <td>12901.0</td>\n",
              "      <td>12901.00</td>\n",
              "      <td>12901.0</td>\n",
              "    </tr>\n",
              "    <tr>\n",
              "      <th>CA</th>\n",
              "      <td>5.0</td>\n",
              "      <td>77787.00</td>\n",
              "      <td>19301.65</td>\n",
              "      <td>52396.0</td>\n",
              "      <td>69336.0</td>\n",
              "      <td>75774.0</td>\n",
              "      <td>87738.00</td>\n",
              "      <td>103691.0</td>\n",
              "    </tr>\n",
              "    <tr>\n",
              "      <th>CH</th>\n",
              "      <td>1.0</td>\n",
              "      <td>122346.00</td>\n",
              "      <td>NaN</td>\n",
              "      <td>122346.0</td>\n",
              "      <td>122346.0</td>\n",
              "      <td>122346.0</td>\n",
              "      <td>122346.00</td>\n",
              "      <td>122346.0</td>\n",
              "    </tr>\n",
              "    <tr>\n",
              "      <th>CL</th>\n",
              "      <td>1.0</td>\n",
              "      <td>40038.00</td>\n",
              "      <td>NaN</td>\n",
              "      <td>40038.0</td>\n",
              "      <td>40038.0</td>\n",
              "      <td>40038.0</td>\n",
              "      <td>40038.00</td>\n",
              "      <td>40038.0</td>\n",
              "    </tr>\n",
              "    <tr>\n",
              "      <th>DE</th>\n",
              "      <td>7.0</td>\n",
              "      <td>69640.14</td>\n",
              "      <td>25045.56</td>\n",
              "      <td>25532.0</td>\n",
              "      <td>55997.0</td>\n",
              "      <td>79833.0</td>\n",
              "      <td>89694.00</td>\n",
              "      <td>90734.0</td>\n",
              "    </tr>\n",
              "    <tr>\n",
              "      <th>DZ</th>\n",
              "      <td>1.0</td>\n",
              "      <td>100000.00</td>\n",
              "      <td>NaN</td>\n",
              "      <td>100000.0</td>\n",
              "      <td>100000.0</td>\n",
              "      <td>100000.0</td>\n",
              "      <td>100000.00</td>\n",
              "      <td>100000.0</td>\n",
              "    </tr>\n",
              "    <tr>\n",
              "      <th>ES</th>\n",
              "      <td>3.0</td>\n",
              "      <td>41136.67</td>\n",
              "      <td>4935.34</td>\n",
              "      <td>37825.0</td>\n",
              "      <td>38300.5</td>\n",
              "      <td>38776.0</td>\n",
              "      <td>42792.50</td>\n",
              "      <td>46809.0</td>\n",
              "    </tr>\n",
              "    <tr>\n",
              "      <th>FR</th>\n",
              "      <td>7.0</td>\n",
              "      <td>50085.57</td>\n",
              "      <td>13658.91</td>\n",
              "      <td>36643.0</td>\n",
              "      <td>41056.5</td>\n",
              "      <td>49646.0</td>\n",
              "      <td>52256.50</td>\n",
              "      <td>77684.0</td>\n",
              "    </tr>\n",
              "    <tr>\n",
              "      <th>GB</th>\n",
              "      <td>11.0</td>\n",
              "      <td>88177.36</td>\n",
              "      <td>41393.50</td>\n",
              "      <td>39263.0</td>\n",
              "      <td>60847.0</td>\n",
              "      <td>76958.0</td>\n",
              "      <td>110808.00</td>\n",
              "      <td>183228.0</td>\n",
              "    </tr>\n",
              "    <tr>\n",
              "      <th>HU</th>\n",
              "      <td>1.0</td>\n",
              "      <td>35735.00</td>\n",
              "      <td>NaN</td>\n",
              "      <td>35735.0</td>\n",
              "      <td>35735.0</td>\n",
              "      <td>35735.0</td>\n",
              "      <td>35735.00</td>\n",
              "      <td>35735.0</td>\n",
              "    </tr>\n",
              "    <tr>\n",
              "      <th>IL</th>\n",
              "      <td>1.0</td>\n",
              "      <td>119059.00</td>\n",
              "      <td>NaN</td>\n",
              "      <td>119059.0</td>\n",
              "      <td>119059.0</td>\n",
              "      <td>119059.0</td>\n",
              "      <td>119059.00</td>\n",
              "      <td>119059.0</td>\n",
              "    </tr>\n",
              "    <tr>\n",
              "      <th>IN</th>\n",
              "      <td>8.0</td>\n",
              "      <td>26108.25</td>\n",
              "      <td>10248.05</td>\n",
              "      <td>9466.0</td>\n",
              "      <td>18057.5</td>\n",
              "      <td>29075.0</td>\n",
              "      <td>32163.25</td>\n",
              "      <td>40481.0</td>\n",
              "    </tr>\n",
              "    <tr>\n",
              "      <th>IT</th>\n",
              "      <td>1.0</td>\n",
              "      <td>21669.00</td>\n",
              "      <td>NaN</td>\n",
              "      <td>21669.0</td>\n",
              "      <td>21669.0</td>\n",
              "      <td>21669.0</td>\n",
              "      <td>21669.00</td>\n",
              "      <td>21669.0</td>\n",
              "    </tr>\n",
              "    <tr>\n",
              "      <th>LU</th>\n",
              "      <td>1.0</td>\n",
              "      <td>62726.00</td>\n",
              "      <td>NaN</td>\n",
              "      <td>62726.0</td>\n",
              "      <td>62726.0</td>\n",
              "      <td>62726.0</td>\n",
              "      <td>62726.00</td>\n",
              "      <td>62726.0</td>\n",
              "    </tr>\n",
              "    <tr>\n",
              "      <th>MX</th>\n",
              "      <td>1.0</td>\n",
              "      <td>2859.00</td>\n",
              "      <td>NaN</td>\n",
              "      <td>2859.0</td>\n",
              "      <td>2859.0</td>\n",
              "      <td>2859.0</td>\n",
              "      <td>2859.00</td>\n",
              "      <td>2859.0</td>\n",
              "    </tr>\n",
              "    <tr>\n",
              "      <th>MY</th>\n",
              "      <td>1.0</td>\n",
              "      <td>40000.00</td>\n",
              "      <td>NaN</td>\n",
              "      <td>40000.0</td>\n",
              "      <td>40000.0</td>\n",
              "      <td>40000.0</td>\n",
              "      <td>40000.00</td>\n",
              "      <td>40000.0</td>\n",
              "    </tr>\n",
              "    <tr>\n",
              "      <th>NG</th>\n",
              "      <td>1.0</td>\n",
              "      <td>50000.00</td>\n",
              "      <td>NaN</td>\n",
              "      <td>50000.0</td>\n",
              "      <td>50000.0</td>\n",
              "      <td>50000.0</td>\n",
              "      <td>50000.00</td>\n",
              "      <td>50000.0</td>\n",
              "    </tr>\n",
              "    <tr>\n",
              "      <th>PL</th>\n",
              "      <td>1.0</td>\n",
              "      <td>35590.00</td>\n",
              "      <td>NaN</td>\n",
              "      <td>35590.0</td>\n",
              "      <td>35590.0</td>\n",
              "      <td>35590.0</td>\n",
              "      <td>35590.00</td>\n",
              "      <td>35590.0</td>\n",
              "    </tr>\n",
              "    <tr>\n",
              "      <th>TR</th>\n",
              "      <td>1.0</td>\n",
              "      <td>20171.00</td>\n",
              "      <td>NaN</td>\n",
              "      <td>20171.0</td>\n",
              "      <td>20171.0</td>\n",
              "      <td>20171.0</td>\n",
              "      <td>20171.00</td>\n",
              "      <td>20171.0</td>\n",
              "    </tr>\n",
              "    <tr>\n",
              "      <th>UA</th>\n",
              "      <td>1.0</td>\n",
              "      <td>13400.00</td>\n",
              "      <td>NaN</td>\n",
              "      <td>13400.0</td>\n",
              "      <td>13400.0</td>\n",
              "      <td>13400.0</td>\n",
              "      <td>13400.00</td>\n",
              "      <td>13400.0</td>\n",
              "    </tr>\n",
              "    <tr>\n",
              "      <th>US</th>\n",
              "      <td>84.0</td>\n",
              "      <td>143115.68</td>\n",
              "      <td>56252.98</td>\n",
              "      <td>5679.0</td>\n",
              "      <td>105000.0</td>\n",
              "      <td>140000.0</td>\n",
              "      <td>167750.00</td>\n",
              "      <td>412000.0</td>\n",
              "    </tr>\n",
              "    <tr>\n",
              "      <th>VN</th>\n",
              "      <td>1.0</td>\n",
              "      <td>4000.00</td>\n",
              "      <td>NaN</td>\n",
              "      <td>4000.0</td>\n",
              "      <td>4000.0</td>\n",
              "      <td>4000.0</td>\n",
              "      <td>4000.00</td>\n",
              "      <td>4000.0</td>\n",
              "    </tr>\n",
              "  </tbody>\n",
              "</table>\n",
              "</div>"
            ],
            "text/plain": [
              "                  count       mean       std       min       25%       50%  \\\n",
              "company_location                                                             \n",
              "AT                  2.0   76352.00  21050.57   61467.0   68909.5   76352.0   \n",
              "AU                  1.0   86703.00       NaN   86703.0   86703.0   86703.0   \n",
              "BR                  1.0   12901.00       NaN   12901.0   12901.0   12901.0   \n",
              "CA                  5.0   77787.00  19301.65   52396.0   69336.0   75774.0   \n",
              "CH                  1.0  122346.00       NaN  122346.0  122346.0  122346.0   \n",
              "CL                  1.0   40038.00       NaN   40038.0   40038.0   40038.0   \n",
              "DE                  7.0   69640.14  25045.56   25532.0   55997.0   79833.0   \n",
              "DZ                  1.0  100000.00       NaN  100000.0  100000.0  100000.0   \n",
              "ES                  3.0   41136.67   4935.34   37825.0   38300.5   38776.0   \n",
              "FR                  7.0   50085.57  13658.91   36643.0   41056.5   49646.0   \n",
              "GB                 11.0   88177.36  41393.50   39263.0   60847.0   76958.0   \n",
              "HU                  1.0   35735.00       NaN   35735.0   35735.0   35735.0   \n",
              "IL                  1.0  119059.00       NaN  119059.0  119059.0  119059.0   \n",
              "IN                  8.0   26108.25  10248.05    9466.0   18057.5   29075.0   \n",
              "IT                  1.0   21669.00       NaN   21669.0   21669.0   21669.0   \n",
              "LU                  1.0   62726.00       NaN   62726.0   62726.0   62726.0   \n",
              "MX                  1.0    2859.00       NaN    2859.0    2859.0    2859.0   \n",
              "MY                  1.0   40000.00       NaN   40000.0   40000.0   40000.0   \n",
              "NG                  1.0   50000.00       NaN   50000.0   50000.0   50000.0   \n",
              "PL                  1.0   35590.00       NaN   35590.0   35590.0   35590.0   \n",
              "TR                  1.0   20171.00       NaN   20171.0   20171.0   20171.0   \n",
              "UA                  1.0   13400.00       NaN   13400.0   13400.0   13400.0   \n",
              "US                 84.0  143115.68  56252.98    5679.0  105000.0  140000.0   \n",
              "VN                  1.0    4000.00       NaN    4000.0    4000.0    4000.0   \n",
              "\n",
              "                        75%       max  \n",
              "company_location                       \n",
              "AT                 83794.50   91237.0  \n",
              "AU                 86703.00   86703.0  \n",
              "BR                 12901.00   12901.0  \n",
              "CA                 87738.00  103691.0  \n",
              "CH                122346.00  122346.0  \n",
              "CL                 40038.00   40038.0  \n",
              "DE                 89694.00   90734.0  \n",
              "DZ                100000.00  100000.0  \n",
              "ES                 42792.50   46809.0  \n",
              "FR                 52256.50   77684.0  \n",
              "GB                110808.00  183228.0  \n",
              "HU                 35735.00   35735.0  \n",
              "IL                119059.00  119059.0  \n",
              "IN                 32163.25   40481.0  \n",
              "IT                 21669.00   21669.0  \n",
              "LU                 62726.00   62726.0  \n",
              "MX                  2859.00    2859.0  \n",
              "MY                 40000.00   40000.0  \n",
              "NG                 50000.00   50000.0  \n",
              "PL                 35590.00   35590.0  \n",
              "TR                 20171.00   20171.0  \n",
              "UA                 13400.00   13400.0  \n",
              "US                167750.00  412000.0  \n",
              "VN                  4000.00    4000.0  "
            ]
          },
          "execution_count": 71,
          "metadata": {},
          "output_type": "execute_result"
        }
      ],
      "source": [
        "# вычисляем основные статистические показатели\n",
        "data_agg = filtred_ds.groupby('company_location')['salary_in_usd'].describe().round(2)\n",
        "print('Зависимость заработной платы от страны где размещен главный офис компании')\n",
        "data_agg"
      ]
    },
    {
      "cell_type": "markdown",
      "metadata": {},
      "source": [
        "Среднее значение оплаты труда значительно отличается по разным странам размещения головного офиса компании. \n",
        "\n",
        "Чтобы определить, являются ли эти различия статистически значимыми, необходимы статистические тесты."
      ]
    },
    {
      "cell_type": "markdown",
      "metadata": {},
      "source": [
        "### - Зависимость размера заработной платы от размеров компании"
      ]
    },
    {
      "cell_type": "code",
      "execution_count": 72,
      "metadata": {},
      "outputs": [
        {
          "data": {
            "image/png": "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",
            "text/plain": [
              "<Figure size 640x480 with 1 Axes>"
            ]
          },
          "metadata": {},
          "output_type": "display_data"
        }
      ],
      "source": [
        "# строим график\n",
        "ax = sns.boxplot(filtred_ds, x='salary_in_usd', y='company_size', orient='h', medianprops={\"color\": \"red\", \"linestyle\": '--'})\n",
        "ax.set(xlabel='Размер оплаты труда', ylabel='Размер компании')\n",
        "plt.title('Зависимость заработной платы от размеров компании')\n",
        "plt.show()"
      ]
    },
    {
      "cell_type": "code",
      "execution_count": 73,
      "metadata": {},
      "outputs": [
        {
          "name": "stdout",
          "output_type": "stream",
          "text": [
            "Зависимость заработной платы от размера компании\n"
          ]
        },
        {
          "data": {
            "text/html": [
              "<div>\n",
              "<style scoped>\n",
              "    .dataframe tbody tr th:only-of-type {\n",
              "        vertical-align: middle;\n",
              "    }\n",
              "\n",
              "    .dataframe tbody tr th {\n",
              "        vertical-align: top;\n",
              "    }\n",
              "\n",
              "    .dataframe thead th {\n",
              "        text-align: right;\n",
              "    }\n",
              "</style>\n",
              "<table border=\"1\" class=\"dataframe\">\n",
              "  <thead>\n",
              "    <tr style=\"text-align: right;\">\n",
              "      <th></th>\n",
              "      <th>count</th>\n",
              "      <th>mean</th>\n",
              "      <th>std</th>\n",
              "      <th>min</th>\n",
              "      <th>25%</th>\n",
              "      <th>50%</th>\n",
              "      <th>75%</th>\n",
              "      <th>max</th>\n",
              "    </tr>\n",
              "    <tr>\n",
              "      <th>company_size</th>\n",
              "      <th></th>\n",
              "      <th></th>\n",
              "      <th></th>\n",
              "      <th></th>\n",
              "      <th></th>\n",
              "      <th></th>\n",
              "      <th></th>\n",
              "      <th></th>\n",
              "    </tr>\n",
              "  </thead>\n",
              "  <tbody>\n",
              "    <tr>\n",
              "      <th>L</th>\n",
              "      <td>45.0</td>\n",
              "      <td>103313.36</td>\n",
              "      <td>71815.18</td>\n",
              "      <td>13400.0</td>\n",
              "      <td>50000.0</td>\n",
              "      <td>90734.0</td>\n",
              "      <td>135000.0</td>\n",
              "      <td>412000.0</td>\n",
              "    </tr>\n",
              "    <tr>\n",
              "      <th>M</th>\n",
              "      <td>77.0</td>\n",
              "      <td>126380.75</td>\n",
              "      <td>56389.53</td>\n",
              "      <td>4000.0</td>\n",
              "      <td>90000.0</td>\n",
              "      <td>130000.0</td>\n",
              "      <td>165000.0</td>\n",
              "      <td>260000.0</td>\n",
              "    </tr>\n",
              "    <tr>\n",
              "      <th>S</th>\n",
              "      <td>21.0</td>\n",
              "      <td>51925.76</td>\n",
              "      <td>33216.29</td>\n",
              "      <td>2859.0</td>\n",
              "      <td>21669.0</td>\n",
              "      <td>49268.0</td>\n",
              "      <td>82500.0</td>\n",
              "      <td>105000.0</td>\n",
              "    </tr>\n",
              "  </tbody>\n",
              "</table>\n",
              "</div>"
            ],
            "text/plain": [
              "              count       mean       std      min      25%       50%  \\\n",
              "company_size                                                           \n",
              "L              45.0  103313.36  71815.18  13400.0  50000.0   90734.0   \n",
              "M              77.0  126380.75  56389.53   4000.0  90000.0  130000.0   \n",
              "S              21.0   51925.76  33216.29   2859.0  21669.0   49268.0   \n",
              "\n",
              "                   75%       max  \n",
              "company_size                      \n",
              "L             135000.0  412000.0  \n",
              "M             165000.0  260000.0  \n",
              "S              82500.0  105000.0  "
            ]
          },
          "execution_count": 73,
          "metadata": {},
          "output_type": "execute_result"
        }
      ],
      "source": [
        "# вычисляем основные статистические показатели\n",
        "data_agg = filtred_ds.groupby('company_size')['salary_in_usd'].describe().round(2)\n",
        "print('Зависимость заработной платы от размера компании')\n",
        "data_agg"
      ]
    },
    {
      "cell_type": "markdown",
      "metadata": {},
      "source": [
        "Среднее значение оплаты труда значительно отличается в зависимости от компании, при этом можно сделать предварительный вывод о том, что чем больше компания, тем выше средняя зарплата соимкателей. \n",
        "\n",
        "Чтобы определить, являются ли эти различия статистически значимыми, необходимы статистические тесты."
      ]
    },
    {
      "cell_type": "markdown",
      "metadata": {},
      "source": [
        "### - Взаимосвязь между наличием должностей Data Scientist и Data Engineer и размером компании?"
      ]
    },
    {
      "cell_type": "code",
      "execution_count": 74,
      "metadata": {},
      "outputs": [
        {
          "data": {
            "image/png": "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",
            "text/plain": [
              "<Figure size 640x480 with 2 Axes>"
            ]
          },
          "metadata": {},
          "output_type": "display_data"
        }
      ],
      "source": [
        "# строим кросс таблицу \n",
        "cross_table = pd.crosstab(filtred_ds_de['company_size'], filtred_ds_de['job_title'])\n",
        "# формируем тепловой график\n",
        "ax = sns.heatmap(cross_table, annot=True, linewidth=.5, fmt='.0f', cmap=\"coolwarm\")\n",
        "ax.set(xlabel='Должность', ylabel='Размер компании')\n",
        "plt.title('Таблица сопряженности')\n",
        "plt.show()"
      ]
    },
    {
      "cell_type": "markdown",
      "metadata": {},
      "source": [
        "Взаимосвязь между наличием должностей Data Scientist и Data Engineer и размером компании визуально присутствует. \n",
        "\n",
        "Чтобы определить, являются ли эта взаимосвязь статистически значимой, необходимы статистические тесты."
      ]
    },
    {
      "cell_type": "markdown",
      "metadata": {},
      "source": [
        "### 2.1. Статистический анализ данных"
      ]
    },
    {
      "cell_type": "code",
      "execution_count": 75,
      "metadata": {},
      "outputs": [],
      "source": [
        "# функция для принятия решения о нормальности\n",
        "def decision_normality(p):\n",
        "    print('p-value = {:.3f}'.format(p))\n",
        "    if p <= alpha:\n",
        "        print('p-значение меньше, чем заданный уровень значимости {:.2f}. Распределение отлично от нормального'.format(alpha))\n",
        "    else:\n",
        "        print('p-значение больше, чем заданный уровень значимости {:.2f}. Распределение является нормальным'.format(alpha))\n",
        "\n",
        "\n",
        "# функция для принятия решения об отклонении нулевой гипотезы\n",
        "def decision_hypothesis(p):\n",
        "    print('p-value = {:.3f}'.format(p))\n",
        "    if p <= alpha:\n",
        "        print('p-значение меньше, чем заданный уровень значимости {:.2f}. Отвергаем нулевую гипотезу в пользу альтернативной.'.format(alpha))\n",
        "    else:\n",
        "        print('p-значение больше, чем заданный уровень значимости {:.2f}. У нас нет оснований отвергнуть нулевую гипотезу.'.format(alpha))\n",
        "      "
      ]
    },
    {
      "cell_type": "markdown",
      "metadata": {},
      "source": [
        "### - Наблюдается ли ежегодный рост зарплат у специалистов Data Scientist?\n",
        "\n",
        "**Сформулируем нулевую и альтернативные гипотезы**\n",
        "\n",
        "*Нулевая гипотеза* ($H_0$): размер зарплат у специалистов Data Scientist в 2020 г. ($μ_1$) меньше или равен размеру зарплат у специалистов Data Scientist в 2021 г. ($μ_2$) и размер зарплат у специалистов Data Scientist в 2021 г. ($μ_2$) меньше или равен размеру зарплат у специалистов Data Scientist в 2022 г. ($μ_3$)\n",
        "\n",
        "$$ H_0 : μ_1 <= μ_2; μ_2 <= μ_3$$\n",
        "\n",
        "*Альтернативная гипотеза* ($H_0$): размер зарплат у специалистов Data Scientist в 2020 г. ($μ_1$) больше размера зарплат у специалистов Data Scientist в 2021 г. ($μ_2$) и размер зарплат у специалистов Data Scientist в 2021 г. ($μ_2$) больше размера зарплат у специалистов Data Scientist в 2022 г. ($μ_3$)\n",
        "\n",
        "$$ H_1 : μ_1 > μ_2; μ_2 > μ_3$$"
      ]
    },
    {
      "cell_type": "markdown",
      "metadata": {},
      "source": [
        "**Проверка на нормальность**\n",
        "\n",
        "С помощью теста Шапиро-Уилка проверим, распределён ли признак нормально. Напомним гипотезы теста Шапиро-Уилка:\n",
        "\n",
        "*Нулевая гипотеза* ($H_0$): распределение данные является нормальным.\n",
        "\n",
        "*Альтернативная гипотеза* ($H_1$): распределение данных отлично от нормального."
      ]
    },
    {
      "cell_type": "code",
      "execution_count": 76,
      "metadata": {},
      "outputs": [
        {
          "name": "stdout",
          "output_type": "stream",
          "text": [
            "2020\n",
            "p-value = 0.000\n",
            "p-значение меньше, чем заданный уровень значимости 0.05. Распределение отлично от нормального\n",
            "2021\n",
            "p-value = 0.125\n",
            "p-значение больше, чем заданный уровень значимости 0.05. Распределение является нормальным\n",
            "2022\n",
            "p-value = 0.327\n",
            "p-значение больше, чем заданный уровень значимости 0.05. Распределение является нормальным\n"
          ]
        }
      ],
      "source": [
        "# значения года выплаты\n",
        "ds_salary_20 = filtred_ds.loc[filtred_ds['work_year']==2020, 'salary_in_usd']\n",
        "ds_salary_21 = filtred_ds.loc[filtred_ds['work_year']==2021, 'salary_in_usd']\n",
        "ds_salary_22 = filtred_ds.loc[filtred_ds['work_year']==2022, 'salary_in_usd']\n",
        "\n",
        "# проводим тест Шапиро-Уилка\n",
        "print('2020')\n",
        "result = stats.shapiro(ds_salary_20)\n",
        "decision_normality(result[1])\n",
        "\n",
        "print('2021')\n",
        "result = stats.shapiro(ds_salary_21)\n",
        "decision_normality(result[1])\n",
        "\n",
        "print('2022')\n",
        "result = stats.shapiro(ds_salary_22)\n",
        "decision_normality(result[1])"
      ]
    },
    {
      "cell_type": "markdown",
      "metadata": {},
      "source": [
        "В 2020 году распределение не было нормальным."
      ]
    },
    {
      "cell_type": "markdown",
      "metadata": {},
      "source": [
        "**Выберем подходящий статистический тест**\n",
        "\n",
        "Для выбора нужного теста воспользуемся алгоритмом выбора теста. Для этого ответим на следующие вопросы:\n",
        "* Какой тип у признака «salary_in_usd»? — Количественный.\n",
        "* Сколько сравниваемых групп? — Три.\n",
        "* Группы зависимы? — Нет (у нас нет информации о том какие соискатели участвуют в датасете, возможно это были разные группы соискателей).\n",
        "* Признак распределён по нормальному закону? — Нет.\n",
        "\n",
        "Чтобы проверить нашу гипотезу, можно использовать КРИТЕРИЙ КРАСКЕЛА — УОЛЛИСА.\n",
        "\n",
        "**Проведём тест:**"
      ]
    },
    {
      "cell_type": "code",
      "execution_count": 77,
      "metadata": {},
      "outputs": [
        {
          "name": "stdout",
          "output_type": "stream",
          "text": [
            "p-value = 0.000\n",
            "p-значение меньше, чем заданный уровень значимости 0.05. Отвергаем нулевую гипотезу.\n"
          ]
        }
      ],
      "source": [
        "# проводим тест\n",
        "_, p = stats.kruskal(ds_salary_20, ds_salary_21, ds_salary_22)\n",
        "\n",
        "print('p-value = {:.3f}'.format(p))\n",
        "\n",
        "# интерпретируем результат\n",
        "if p <= alpha:\n",
        "    print('p-значение меньше, чем заданный уровень значимости {:.2f}. Отвергаем нулевую гипотезу.'.format(alpha))\n",
        "else:\n",
        "    print('p-значение больше, чем заданный уровень значимости {:.2f}. У нас нет оснований отвергнуть нулевую гипотезу.'.format(alpha))"
      ]
    },
    {
      "cell_type": "markdown",
      "metadata": {},
      "source": [
        "**Вывод:**\n",
        "\n",
        "Наблюдается ежегодный рост зарплат у специалистов Data Scientist.\n"
      ]
    },
    {
      "cell_type": "markdown",
      "metadata": {},
      "source": [
        "### - Как соотносятся зарплаты Data Scientist и Data Engineer в 2022 году?\n",
        "\n",
        "**Сформулируем нулевую и альтернативные гипотезы:**\n",
        "\n",
        "*Нулевая гипотеза* ($H_0$): размер зарплаты Data Scientist ($μ_1$) и Data Engineer ($μ_2$) в 2022 году статистически не отличаются ($μ_2$).\n",
        "\n",
        "$$ H_0 : μ_1 = μ_2$$\n",
        "\n",
        "*Альтернативная гипотеза* ($H_1$): размер зарплаты Data Scientist ($μ_1$) и Data Engineer ($μ_2$) в 2022 году статистически отличаются ($μ_2$).\n",
        "\n",
        "$$ H_1 : μ_1 ≠ μ_2$$"
      ]
    },
    {
      "cell_type": "markdown",
      "metadata": {},
      "source": [
        "**Проверка на нормальность**\n",
        "\n",
        "С помощью теста Шапиро-Уилка проверим, распределён ли признак нормально. Напомним гипотезы теста Шапиро-Уилка:\n",
        "\n",
        "*Нулевая гипотеза* ($H_0$): распределение данные является нормальным.\n",
        "\n",
        "*Альтернативная гипотеза* ($H_1$): распределение данных отлично от нормального."
      ]
    },
    {
      "cell_type": "code",
      "execution_count": 78,
      "metadata": {},
      "outputs": [
        {
          "name": "stdout",
          "output_type": "stream",
          "text": [
            "Data Scientist\n",
            "p-value = 0.000\n",
            "p-значение меньше, чем заданный уровень значимости 0.05. Распределение отлично от нормального\n",
            "Data Engineer:\n",
            "p-value = 0.010\n",
            "p-значение меньше, чем заданный уровень значимости 0.05. Распределение отлично от нормального\n"
          ]
        }
      ],
      "source": [
        "filtred_ds_de\n",
        "# значения зарплат\n",
        "salary_ds = filtred_ds_de.loc[filtred_ds_de['job_title']=='Data Scientist', 'salary_in_usd']\n",
        "salary_de = filtred_ds_de.loc[filtred_ds_de['job_title']=='Data Engineer', 'salary_in_usd']\n",
        "\n",
        "# проводим тест Шапиро-Уилка\n",
        "print('Data Scientist')\n",
        "result = stats.shapiro(salary_ds)\n",
        "decision_normality(result[1])\n",
        "\n",
        "print('Data Engineer:')\n",
        "result = stats.shapiro(salary_de)\n",
        "decision_normality(result[1])"
      ]
    },
    {
      "cell_type": "markdown",
      "metadata": {},
      "source": [
        "По обоим профессиям распределение отлично от нормального."
      ]
    },
    {
      "cell_type": "markdown",
      "metadata": {},
      "source": [
        "**Выберем подходящий статистический тест:**\n",
        "\n",
        "Для выбора нужного теста воспользуемся алгоритмом выбора теста. Для этого ответим на следующие вопросы:\n",
        "* Какой тип у признака «salary_in_usd»? — Количественный.\n",
        "* Сколько сравниваемых групп? — Две.\n",
        "* Группы зависимы? — Нет.\n",
        "* Признак распределён по нормальному закону? — Нет.\n",
        "\n",
        "Чтобы проверить нашу гипотезу, можно использовать U-критерий Манна — Уитни для сравнения распределений на основе рангов.\n",
        "\n",
        "**Проведём тест:**"
      ]
    },
    {
      "cell_type": "code",
      "execution_count": 79,
      "metadata": {},
      "outputs": [
        {
          "name": "stdout",
          "output_type": "stream",
          "text": [
            "p-value = 0.767\n",
            "p-значение больше, чем заданный уровень значимости 0.05. У нас нет оснований отвергнуть нулевую гипотезу.\n"
          ]
        }
      ],
      "source": [
        "# проводим тест\n",
        "_, p = stats.mannwhitneyu(salary_ds, salary_de, alternative='greater')\n",
        "decision_hypothesis(p)"
      ]
    },
    {
      "cell_type": "markdown",
      "metadata": {},
      "source": [
        "**Вывод:**\n",
        "\n",
        "Визуальные отличия зарплаты Data Scientist и Data Engineer не являются статистически существенными, можно сделать вывод что они не отличаются."
      ]
    },
    {
      "cell_type": "markdown",
      "metadata": {},
      "source": [
        "### - Как соотносятся зарплаты специалистов Data Scientist в компаниях различных размеров?\n",
        "\n",
        "**Сформулируем нулевую и альтернативные гипотезы**\n",
        "\n",
        "*Нулевая гипотеза*: размер зарплаты специалистов Data Scientist в компаниях различных размеров не отличается: S — менее 50 сотрудников ($μ_1$), M — от 50 до 250 сотрудников ($μ_2$), L — более 250 сотрудников ($μ_3$).\n",
        "\n",
        "$$ H_0 : μ_1 = μ_2 = μ_3$$\n",
        "\n",
        "*Альтернативная гипотеза*: размер зарплаты специалистов Data Scientist в компаниях различных размеров отличается: S — менее 50 сотрудников ($μ_1$), M — от 50 до 250 сотрудников ($μ_2$), L — более 250 сотрудников ($μ_3$).\n",
        "\n",
        "$$ H_1 : μ_1 \\neq μ_2 \\neq μ_3$$"
      ]
    },
    {
      "cell_type": "markdown",
      "metadata": {},
      "source": [
        "**Проверка на нормальность**\n",
        "\n",
        "С помощью теста Шапиро-Уилка проверим, распределён ли признак нормально."
      ]
    },
    {
      "cell_type": "code",
      "execution_count": 80,
      "metadata": {},
      "outputs": [
        {
          "name": "stdout",
          "output_type": "stream",
          "text": [
            "S — менее 50 сотрудников (небольшая компания)\n",
            "p-value = 0.189\n",
            "p-значение больше, чем заданный уровень значимости 0.05. Распределение является нормальным\n",
            "\n",
            "M — от 50 до 250 сотрудников (средняя компания)\n",
            "p-value = 0.639\n",
            "p-значение больше, чем заданный уровень значимости 0.05. Распределение является нормальным\n",
            "\n",
            "L — более 250 сотрудников (крупная компания)\n",
            "p-value = 0.000\n",
            "p-значение меньше, чем заданный уровень значимости 0.05. Распределение отлично от нормального\n"
          ]
        }
      ],
      "source": [
        "# значения года выплаты\n",
        "ds_salary_s = filtred_ds.loc[filtred_ds['company_size']=='S', 'salary_in_usd']\n",
        "ds_salary_m = filtred_ds.loc[filtred_ds['company_size']=='M', 'salary_in_usd']\n",
        "ds_salary_l = filtred_ds.loc[filtred_ds['company_size']=='L', 'salary_in_usd']\n",
        "\n",
        "# проводим тест Шапиро-Уилка\n",
        "print('S — менее 50 сотрудников (небольшая компания)')\n",
        "result = stats.shapiro(ds_salary_s)\n",
        "decision_normality(result[1])\n",
        "print()\n",
        "print('M — от 50 до 250 сотрудников (средняя компания)')\n",
        "result = stats.shapiro(ds_salary_m)\n",
        "decision_normality(result[1])\n",
        "print()\n",
        "print('L — более 250 сотрудников (крупная компания)')\n",
        "result = stats.shapiro(ds_salary_l)\n",
        "decision_normality(result[1])"
      ]
    },
    {
      "cell_type": "markdown",
      "metadata": {},
      "source": [
        "В крупных компаниях распредиление признака не нормальное."
      ]
    },
    {
      "cell_type": "markdown",
      "metadata": {},
      "source": [
        "**Выберем подходящий статистический тест:**\n",
        "\n",
        "Для выбора нужного теста воспользуемся алгоритмом выбора теста. Для этого ответим на следующие вопросы:\n",
        "* Какой тип у признака «salary_in_usd»? — Количественный.\n",
        "* Сколько сравниваемых групп? — Три.\n",
        "* Группы зависимы? — Нет.\n",
        "* Признак распределён по нормальному закону? — Нет. \n",
        "\n",
        "Для проверки нашей гипотезы можно использовать критерий Краскела — Уоллиса.\n",
        "\n",
        "**Проведём тест:**"
      ]
    },
    {
      "cell_type": "code",
      "execution_count": 81,
      "metadata": {},
      "outputs": [
        {
          "name": "stdout",
          "output_type": "stream",
          "text": [
            "p-value = 0.000\n",
            "p-значение меньше, чем заданный уровень значимости 0.05. Отвергаем нулевую гипотезу в пользу альтернативной.\n"
          ]
        }
      ],
      "source": [
        "# проводим тест\n",
        "_, p = stats.kruskal(ds_salary_s, ds_salary_m, ds_salary_l)\n",
        "decision_hypothesis(p)"
      ]
    },
    {
      "cell_type": "markdown",
      "metadata": {},
      "source": [
        "**Вывод:**\n",
        "\n",
        "Оплата труда специалистов Data Scientist в компаниях различных размеров существенно отличается."
      ]
    },
    {
      "cell_type": "markdown",
      "metadata": {},
      "source": [
        "### - Есть ли связь между наличием должностей Data Scientist и Data Engineer и размером компании?\n",
        "\n",
        "**Сформулируем нулевую и альтернативные гипотезы**\n",
        "\n",
        "*Нулевая гипотеза*: связь между наличием должностей Data Scientist и Data Engineer и размером компании отсутствует (признаки независимы).\n",
        "\n",
        "*Альтернативная гипотеза*: связь между наличием должностей Data Scientist и Data Engineer и размером компании присутствует (признаки зависимы)."
      ]
    },
    {
      "cell_type": "markdown",
      "metadata": {},
      "source": [
        "**Выберем подходящий статистический тест**\n",
        "\n",
        "Для выбора нужного теста воспользуемся алгоритмом выбора теста. Для этого ответим на следующие вопросы:\n",
        "* Какой тип у признака «Пол»? — Категориальный.\n",
        "* Сколько сравниваемых групп? — Две.\n",
        "* Проверяется независимость групп? — Да.\n",
        "\n",
        "Для проверки нашей гипотезы можно использовать критерий ${\\chi}^2$ (хи-квадрат).\n",
        "\n",
        "**Проведём тест**"
      ]
    },
    {
      "cell_type": "code",
      "execution_count": 82,
      "metadata": {},
      "outputs": [
        {
          "data": {
            "text/html": [
              "<div>\n",
              "<style scoped>\n",
              "    .dataframe tbody tr th:only-of-type {\n",
              "        vertical-align: middle;\n",
              "    }\n",
              "\n",
              "    .dataframe tbody tr th {\n",
              "        vertical-align: top;\n",
              "    }\n",
              "\n",
              "    .dataframe thead th {\n",
              "        text-align: right;\n",
              "    }\n",
              "</style>\n",
              "<table border=\"1\" class=\"dataframe\">\n",
              "  <thead>\n",
              "    <tr style=\"text-align: right;\">\n",
              "      <th>job_title</th>\n",
              "      <th>Data Engineer</th>\n",
              "      <th>Data Scientist</th>\n",
              "    </tr>\n",
              "    <tr>\n",
              "      <th>company_size</th>\n",
              "      <th></th>\n",
              "      <th></th>\n",
              "    </tr>\n",
              "  </thead>\n",
              "  <tbody>\n",
              "    <tr>\n",
              "      <th>L</th>\n",
              "      <td>37</td>\n",
              "      <td>45</td>\n",
              "    </tr>\n",
              "    <tr>\n",
              "      <th>M</th>\n",
              "      <td>89</td>\n",
              "      <td>77</td>\n",
              "    </tr>\n",
              "    <tr>\n",
              "      <th>S</th>\n",
              "      <td>6</td>\n",
              "      <td>21</td>\n",
              "    </tr>\n",
              "  </tbody>\n",
              "</table>\n",
              "</div>"
            ],
            "text/plain": [
              "job_title     Data Engineer  Data Scientist\n",
              "company_size                               \n",
              "L                        37              45\n",
              "M                        89              77\n",
              "S                         6              21"
            ]
          },
          "execution_count": 82,
          "metadata": {},
          "output_type": "execute_result"
        }
      ],
      "source": [
        "# составляем таблицу сопряжённости\n",
        "cross_table = pd.crosstab(filtred_ds_de['company_size'], filtred_ds_de['job_title'])\n",
        "\n",
        "cross_table"
      ]
    },
    {
      "cell_type": "code",
      "execution_count": 83,
      "metadata": {},
      "outputs": [
        {
          "name": "stdout",
          "output_type": "stream",
          "text": [
            "p-value = 0.008\n",
            "p-значение меньше, чем заданный уровень значимости 0.05. Отвергаем нулевую гипотезу в пользу альтернативной.\n"
          ]
        }
      ],
      "source": [
        "# проводим тест\n",
        "_, p, _, _ = stats.chi2_contingency(cross_table)\n",
        "decision_hypothesis(p)"
      ]
    },
    {
      "cell_type": "markdown",
      "metadata": {},
      "source": [
        "**Вывод**\n",
        "\n",
        "Существует статистически значимая взаимосвязь между наличием должностей Data Scientist и Data Engineer и размером компании, например в маленьких компаниях чаще работают Data Scientist и реже Data Engineer."
      ]
    },
    {
      "cell_type": "markdown",
      "metadata": {},
      "source": [
        "## 3. Дополнительное исследование"
      ]
    },
    {
      "cell_type": "markdown",
      "metadata": {},
      "source": [
        "По данным полученным из отчета по основным статистическим характеристикам признакам датасета, средняя оплата труда во всем датасете составляет 112 тысяч долларов."
      ]
    },
    {
      "cell_type": "markdown",
      "metadata": {},
      "source": [
        "### - Привышает ли оплата труда Data Scientist за весь рассматриваемый период среднюю оплату труда по всем соискателям представленным в изначальной таблице?"
      ]
    },
    {
      "cell_type": "markdown",
      "metadata": {},
      "source": [
        "**Сформулируем нулевую и альтернативные гипотезы**\n",
        "\n",
        "*Нулевая гипотеза* ($H_0$): оплата труда Data Scientist за весь рассматриваемый период ($μ_1$) не привышает среднюю оплату труда 112 тысяч $.\n",
        "\n",
        "$$ H_0 : μ_1 <= 112000$$\n",
        "\n",
        "*Альтернативная гипотеза* ($H_1$): оплата труда Data Scientist за весь рассматриваемый период ($μ_1$) больше средней оплаты труда 112 тысяч $.\n",
        "\n",
        "$$ H_1 : μ_1 > 112000$$"
      ]
    },
    {
      "cell_type": "markdown",
      "metadata": {},
      "source": [
        "**Проверка на нормальность**"
      ]
    },
    {
      "cell_type": "code",
      "execution_count": 84,
      "metadata": {},
      "outputs": [
        {
          "name": "stdout",
          "output_type": "stream",
          "text": [
            "Распредиление зарплаты Data Scientist\n",
            "p-value = 0.000\n",
            "p-значение меньше, чем заданный уровень значимости 0.05. Распределение отлично от нормального\n"
          ]
        }
      ],
      "source": [
        "# значения года выплаты\n",
        "#ds_salary_s = filtred_ds.loc[filtred_ds['company_size']=='S', 'salary_in_usd']\n",
        "\n",
        "# проводим тест Шапиро-Уилка\n",
        "print('Распредиление зарплаты Data Scientist')\n",
        "result = stats.shapiro(filtred_ds['salary_in_usd'])\n",
        "decision_normality(result[1])"
      ]
    },
    {
      "cell_type": "markdown",
      "metadata": {},
      "source": [
        "Распределение отлично от нормального. Прповедем тест Критерий знаков (для одной группы):"
      ]
    },
    {
      "cell_type": "code",
      "execution_count": 85,
      "metadata": {},
      "outputs": [
        {
          "name": "stdout",
          "output_type": "stream",
          "text": [
            "p-value = 0.403\n",
            "p-значение больше, чем заданный уровень значимости 0.05. У нас нет оснований отвергнуть нулевую гипотезу.\n"
          ]
        }
      ],
      "source": [
        "from statsmodels.stats.descriptivestats import sign_test\n",
        "\n",
        "# проводим тест\n",
        "_, p = sign_test(filtred_ds['salary_in_usd'], 112000)\n",
        "\n",
        "print('p-value = {:.3f}'.format(p))\n",
        "\n",
        "# интерпретируем результат\n",
        "if p <= alpha:\n",
        "    print('p-значение меньше, чем заданный уровень значимости {:.2f}. Отвергаем нулевую гипотезу.'.format(alpha))\n",
        "else:\n",
        "    print('p-значение больше, чем заданный уровень значимости {:.2f}. У нас нет оснований отвергнуть нулевую гипотезу.'.format(alpha))"
      ]
    },
    {
      "cell_type": "markdown",
      "metadata": {},
      "source": [
        "**Вывод:**\n",
        "\n",
        "Средняя оплата труда Data Scientist за весь рассматриваемый период ($μ_1$) не привышает общую среднюю оплату труда 112 тысяч $"
      ]
    },
    {
      "cell_type": "markdown",
      "metadata": {},
      "source": [
        "### - Как соотносятся зарплаты специалистов Data Scientist в зависимости от доли работы, выполняемой удаленно?"
      ]
    },
    {
      "cell_type": "markdown",
      "metadata": {},
      "source": [
        "**Сформулируем нулевую и альтернативные гипотезы**\n",
        "\n",
        "*Нулевая гипотеза*: размер зарплаты специалистов Data Scientist в зависимости от доли работы, выполняемой удаленно не отличается: 0 — удалённой работы нет (менее 20 %) ($μ_1$), 50 — частично удалённая работа ($μ_2$), 100 — полностью удалённая работа (более 80 %) ($μ_3$).\n",
        "\n",
        "$$ H_0 : μ_1 = μ_2 = μ_3$$\n",
        "\n",
        "*Альтернативная гипотеза*: размер зарплаты специалистов Data Scientist в зависимости от доли работы, выполняемой удаленно отличается: 0 — удалённой работы нет (менее 20 %) ($μ_1$), 50 — частично удалённая работа ($μ_2$), 100 — полностью удалённая работа (более 80 %) ($μ_3$).\n",
        "\n",
        "$$ H_1 : μ_1 \\neq μ_2 \\neq μ_3$$"
      ]
    },
    {
      "cell_type": "markdown",
      "metadata": {},
      "source": [
        "**Проверка на нормальность**\n",
        "\n",
        "С помощью теста Шапиро-Уилка проверим, распределён ли признак нормально. Напомним гипотезы теста Шапиро-Уилка:\n",
        "\n",
        "*Нулевая гипотеза* ($H_0$): распределение данные является нормальным.\n",
        "\n",
        "*Альтернативная гипотеза* ($H_1$): распределение данных отлично от нормального."
      ]
    },
    {
      "cell_type": "code",
      "execution_count": 86,
      "metadata": {},
      "outputs": [
        {
          "name": "stdout",
          "output_type": "stream",
          "text": [
            "0 — удалённой работы нет\n",
            "p-value = 0.363\n",
            "p-значение больше, чем заданный уровень значимости 0.05. Распределение является нормальным\n",
            "\n",
            "50 — частично удалённая работа\n",
            "p-value = 0.482\n",
            "p-значение больше, чем заданный уровень значимости 0.05. Распределение является нормальным\n",
            "\n",
            "100 — полностью удалённая работа\n",
            "p-value = 0.002\n",
            "p-значение меньше, чем заданный уровень значимости 0.05. Распределение отлично от нормального\n"
          ]
        }
      ],
      "source": [
        "# значения года выплаты\n",
        "ds_salary_0 = filtred_ds.loc[filtred_ds['remote_ratio']==0, 'salary_in_usd']\n",
        "ds_salary_50 = filtred_ds.loc[filtred_ds['remote_ratio']==50, 'salary_in_usd']\n",
        "ds_salary_100 = filtred_ds.loc[filtred_ds['remote_ratio']==100, 'salary_in_usd']\n",
        "\n",
        "# проводим тест Шапиро-Уилка\n",
        "print('0 — удалённой работы нет')\n",
        "result = stats.shapiro(ds_salary_0)\n",
        "decision_normality(result[1])\n",
        "print()\n",
        "print('50 — частично удалённая работа')\n",
        "result = stats.shapiro(ds_salary_50)\n",
        "decision_normality(result[1])\n",
        "print()\n",
        "print('100 — полностью удалённая работа')\n",
        "result = stats.shapiro(ds_salary_100)\n",
        "decision_normality(result[1])"
      ]
    },
    {
      "cell_type": "markdown",
      "metadata": {},
      "source": [
        "**Выберем подходящий статистический тест:**\n",
        "\n",
        "Для выбора нужного теста воспользуемся алгоритмом выбора теста. Для этого ответим на следующие вопросы:\n",
        "* Какой тип у признака «salary_in_usd»? — Количественный.\n",
        "* Сколько сравниваемых групп? — Три.\n",
        "* Группы зависимы? — Нет.\n",
        "* Признак распределён по нормальному закону? — Нет. \n",
        "\n",
        "Для проверки нашей гипотезы можно использовать критерий Краскела — Уоллиса.\n",
        "\n",
        "**Проведём тест:**"
      ]
    },
    {
      "cell_type": "code",
      "execution_count": 87,
      "metadata": {},
      "outputs": [
        {
          "name": "stdout",
          "output_type": "stream",
          "text": [
            "p-value = 0.000\n",
            "p-значение меньше, чем заданный уровень значимости 0.05. Отвергаем нулевую гипотезу в пользу альтернативной.\n"
          ]
        }
      ],
      "source": [
        "# проводим тест\n",
        "_, p = stats.kruskal(ds_salary_s, ds_salary_m, ds_salary_l)\n",
        "decision_hypothesis(p)"
      ]
    },
    {
      "cell_type": "markdown",
      "metadata": {},
      "source": [
        "**Вывод:**\n",
        "\n",
        "Размер зарплаты специалистов Data Scientist в зависимости от доли работы, выполняемой удаленно существенно отличается."
      ]
    },
    {
      "cell_type": "markdown",
      "metadata": {},
      "source": [
        "## 4. Итоговые результаты исследования\n",
        "\n",
        "*   Наблюдается ежегодный рост зарплат у специалистов Data Scientist.\n",
        "*   Визуальные отличия зарплаты Data Scientist и Data Engineer не являются статистически существенными, можно сделать вывод что они не отличаются.\n",
        "*   Оплата труда специалистов Data Scientist в компаниях различных размеров существенно отличается.\n",
        "*   Существует статистически значимая взаимосвязь между наличием должностей Data Scientist и Data Engineer и размером компании.\n",
        "*   Средняя оплата труда Data Scientist за весь рассматриваемый период не привышает общую среднюю оплату труда по исследуемым данным.\n",
        "*   Размер зарплаты специалистов Data Scientist в зависимости от доли работы, выполняемой удаленно существенно отличается."
      ]
    }
  ],
  "metadata": {
    "colab": {
      "provenance": []
    },
    "kernelspec": {
      "display_name": "Python 3",
      "language": "python",
      "name": "python3"
    },
    "language_info": {
      "codemirror_mode": {
        "name": "ipython",
        "version": 3
      },
      "file_extension": ".py",
      "mimetype": "text/x-python",
      "name": "python",
      "nbconvert_exporter": "python",
      "pygments_lexer": "ipython3",
      {
        "version": "3.12.3"
      },
      "vscode": {
        "interpreter": {
          "hash": "86c56a74836ad344b00594bf6f38fa6a676a207ceefe20d101fbc465800ccb8d"
        }
      }
      ,
  "nbformat": 4,
  "nbformat_minor": 0
}
