{
 "cells": [
  {
   "cell_type": "code",
   "execution_count": 282,
   "metadata": {},
   "outputs": [],
   "source": [
    "import numpy as np"
   ]
  },
  {
   "cell_type": "markdown",
   "metadata": {},
   "source": [
    "Матрицу можно создать функцией np.matrix() или np.array(). Разницу между двумя этими способами мы обсудим в скринкасте.\n",
    "\n",
    "За размер матрицы отвечает атрибут shape. "
   ]
  },
  {
   "cell_type": "code",
   "execution_count": 283,
   "metadata": {},
   "outputs": [
    {
     "data": {
      "text/plain": [
       "array([[ 1, -5,  3],\n",
       "       [ 2,  2,  1],\n",
       "       [ 0,  3,  1],\n",
       "       [ 2,  4, 12]])"
      ]
     },
     "execution_count": 283,
     "metadata": {},
     "output_type": "execute_result"
    }
   ],
   "source": [
    "A = np.array([\n",
    "    [1, -5, 3], \n",
    "    [2, 2, 1],\n",
    "    [0, 3, 1],\n",
    "    [2, 4, 12]\n",
    "])\n",
    "A"
   ]
  },
  {
   "cell_type": "code",
   "execution_count": 284,
   "metadata": {},
   "outputs": [
    {
     "name": "stdout",
     "output_type": "stream",
     "text": [
      "a_23= 1 a_32= 3 a_33= 1\n"
     ]
    }
   ],
   "source": [
    "A.shape\n",
    "## (4, 3)\n",
    "print('a_23=', A[1, 2], 'a_32=', A[2, 1], 'a_33=', A[2,2])\n",
    "## a_23= 1 a_32= 3 a_33= 1"
   ]
  },
  {
   "cell_type": "markdown",
   "metadata": {},
   "source": [
    "Данные по доходам и расходам каждого члена семьи Ивановых записаны в одномерные массивы numpy:"
   ]
  },
  {
   "cell_type": "code",
   "execution_count": 285,
   "metadata": {},
   "outputs": [],
   "source": [
    "# import numpy as np\n",
    "\n",
    "Husband_Income = np.array([100,220,140])\n",
    "Wife_Income = np.array([150,200,130])\n",
    "Mother_In_Law_Income = np.array([90,80,100])\n",
    "\n",
    "Husband_Consumption = np.array([50,50,60])\n",
    "Wife_Consumption = np.array([100,80,140])\n",
    "Mother_In_Law_Consumption = np.array([100,20,140])"
   ]
  },
  {
   "cell_type": "markdown",
   "metadata": {},
   "source": [
    "Задание 5.1\n",
    "\n",
    "Составьте матрицу Inc доходов семьи, расположив доходы мужа, жены и тёщи в первый, второй и третий столбцы матрицы."
   ]
  },
  {
   "cell_type": "code",
   "execution_count": null,
   "metadata": {},
   "outputs": [],
   "source": []
  },
  {
   "cell_type": "code",
   "execution_count": 286,
   "metadata": {},
   "outputs": [],
   "source": [
    "Inc = np.array([Husband_Income, Wife_Income, Mother_In_Law_Income])\n",
    "Inc=Inc.T"
   ]
  },
  {
   "cell_type": "markdown",
   "metadata": {},
   "source": [
    "Задание 5.2\n",
    "\n",
    "Составьте матрицу  Cons  расходов семьи, расположив расходы мужа, жены и тёщи в первый, второй и третий столбцы."
   ]
  },
  {
   "cell_type": "code",
   "execution_count": 287,
   "metadata": {},
   "outputs": [],
   "source": [
    "Cons= np.array([Husband_Consumption, Wife_Consumption, Mother_In_Law_Consumption])\n",
    "Cons=Cons.T"
   ]
  },
  {
   "cell_type": "markdown",
   "metadata": {},
   "source": [
    "Задание 5.3\n",
    "\n",
    "Доходы представлены до уплаты налогов. Налоговая ставка — 13 %. Вычислите матрицу доходов семьи Ивановых после уплаты налогов.\n",
    "\n",
    "Используйте полученную ранее матрицу Inc, где доходы расположены по столбцам."
   ]
  },
  {
   "cell_type": "code",
   "execution_count": 288,
   "metadata": {},
   "outputs": [
    {
     "data": {
      "text/plain": [
       "array([[ 87. , 130.5,  78.3],\n",
       "       [191.4, 174. ,  69.6],\n",
       "       [121.8, 113.1,  87. ]])"
      ]
     },
     "execution_count": 288,
     "metadata": {},
     "output_type": "execute_result"
    }
   ],
   "source": [
    "inc_after_fi = Inc*0.87\n",
    "inc_after_fi"
   ]
  },
  {
   "cell_type": "markdown",
   "metadata": {},
   "source": [
    "Задание 5.4\n",
    "\n",
    "Вычислите матрицу P, которая покажет баланс семьи Ивановых за один месяц (то есть разницу между доходами после вычета налога и расходами)."
   ]
  },
  {
   "cell_type": "code",
   "execution_count": 289,
   "metadata": {},
   "outputs": [
    {
     "data": {
      "text/plain": [
       "array([[ 37. ,  30.5, -21.7],\n",
       "       [141.4,  94. ,  49.6],\n",
       "       [ 61.8, -26.9, -53. ]])"
      ]
     },
     "execution_count": 289,
     "metadata": {},
     "output_type": "execute_result"
    }
   ],
   "source": [
    "P = inc_after_fi-Cons\n",
    "P"
   ]
  },
  {
   "cell_type": "markdown",
   "metadata": {},
   "source": [
    "В Python матрицы можно умножить с помощью функции np.dot(). При перемене мест сомножителей результат также меняется."
   ]
  },
  {
   "cell_type": "code",
   "execution_count": 290,
   "metadata": {},
   "outputs": [
    {
     "data": {
      "text/plain": [
       "matrix([[ 1, -5],\n",
       "        [ 2,  2],\n",
       "        [ 0,  3]])"
      ]
     },
     "metadata": {},
     "output_type": "display_data"
    },
    {
     "data": {
      "text/plain": [
       "matrix([[ 3,  1,  0],\n",
       "        [-1,  0,  2]])"
      ]
     },
     "metadata": {},
     "output_type": "display_data"
    }
   ],
   "source": [
    "A = np.matrix(\"1, -5; 2, 2; 0, 3\")\n",
    "B = np.matrix(\"3, 1, 0; -1, 0, 2\")\n",
    "display(A, B)"
   ]
  },
  {
   "cell_type": "code",
   "execution_count": 291,
   "metadata": {},
   "outputs": [
    {
     "data": {
      "text/plain": [
       "matrix([[  8,   1, -10],\n",
       "        [  4,   2,   4],\n",
       "        [ -3,   0,   6]])"
      ]
     },
     "execution_count": 291,
     "metadata": {},
     "output_type": "execute_result"
    }
   ],
   "source": [
    "np.dot(A, B)"
   ]
  },
  {
   "cell_type": "code",
   "execution_count": 292,
   "metadata": {},
   "outputs": [
    {
     "data": {
      "text/plain": [
       "matrix([[  5, -13],\n",
       "        [ -1,  11]])"
      ]
     },
     "execution_count": 292,
     "metadata": {},
     "output_type": "execute_result"
    }
   ],
   "source": [
    "np.dot(B, A)"
   ]
  },
  {
   "cell_type": "markdown",
   "metadata": {},
   "source": [
    "Задание 7.1\n",
    "\n",
    "Даны матрица  A  и вектор  х :\n",
    "\n",
    "Найдите произведение матрицы  A  и вектора  х  в том порядке, в котором их можно умножить."
   ]
  },
  {
   "cell_type": "code",
   "execution_count": 293,
   "metadata": {},
   "outputs": [
    {
     "data": {
      "text/plain": [
       "array([26, 30])"
      ]
     },
     "execution_count": 293,
     "metadata": {},
     "output_type": "execute_result"
    }
   ],
   "source": [
    "A = np.array([[5,-1,3,1,2], [-2,8,5,-1,1]])\n",
    "x = np.array([1,2,3,4,5])\n",
    "\n",
    "A@x"
   ]
  },
  {
   "cell_type": "markdown",
   "metadata": {},
   "source": [
    "Задание 7.2\n",
    "\n",
    "Даны две матрицы: A & B\n",
    "\n",
    "Найдите произведение матриц  A  и  B  в том порядке, в котором их можно умножить."
   ]
  },
  {
   "cell_type": "code",
   "execution_count": 294,
   "metadata": {},
   "outputs": [
    {
     "data": {
      "text/plain": [
       "array([[1, 9, 8, 5],\n",
       "       [3, 6, 3, 2],\n",
       "       [3, 3, 3, 3],\n",
       "       [0, 2, 5, 9],\n",
       "       [4, 4, 1, 2]])"
      ]
     },
     "metadata": {},
     "output_type": "display_data"
    },
    {
     "data": {
      "text/plain": [
       "array([[ 1, -1,  0,  1,  1],\n",
       "       [-2,  0,  2, -1,  1]])"
      ]
     },
     "metadata": {},
     "output_type": "display_data"
    },
    {
     "data": {
      "text/plain": [
       "array([[  2,   9,  11,  14],\n",
       "       [  8, -10, -14, -11]])"
      ]
     },
     "execution_count": 294,
     "metadata": {},
     "output_type": "execute_result"
    }
   ],
   "source": [
    "A = np.array([[1,9,8,5], [3,6,3,2], [3,3,3,3], [0,2,5,9], [4,4,1,2]])\n",
    "B = np.array([[1,-1,0,1,1], [-2,0,2,-1,1]])\n",
    "\n",
    "display(A, B)\n",
    "B@A"
   ]
  },
  {
   "cell_type": "markdown",
   "metadata": {},
   "source": [
    "Задание 7.3\n",
    "\n",
    "Составьте матрицу  A , расположив векторы  x ,  y ,  z  в строках. Найдите матрицу Грама  G  (матрицу скалярных произведений столбцов матрицы  A ) системы векторов  x ,  y ,  z.\n",
    "\n",
    "Чему равна полученная матрица Грама  G ?"
   ]
  },
  {
   "cell_type": "code",
   "execution_count": 295,
   "metadata": {},
   "outputs": [
    {
     "name": "stdout",
     "output_type": "stream",
     "text": [
      "Матрица A:\n",
      "[[ 1  2  1  0  4]\n",
      " [ 2  1 -1  1  0]\n",
      " [-1  1 -1  0  0]]\n",
      "\n",
      "Матрица Грама G:\n",
      "[[ 6  3  0  2  4]\n",
      " [ 3  6  0  1  8]\n",
      " [ 0  0  3 -1  4]\n",
      " [ 2  1 -1  1  0]\n",
      " [ 4  8  4  0 16]]\n"
     ]
    }
   ],
   "source": [
    "# Заданные векторы\n",
    "x = np.array([1, 2, 1, 0, 4])\n",
    "y = np.array([2, 1, -1, 1, 0])\n",
    "z = np.array([-1, 1, -1, 0, 0])\n",
    "\n",
    "# Составляем матрицу A, расположив векторы x, y, z в строках\n",
    "A = np.array([x, y, z])\n",
    "\n",
    "# Вычисляем матрицу Грама\n",
    "G = A.T@A\n",
    "\n",
    "# Выводим матрицу A и матрицу Грама G\n",
    "print(\"Матрица A:\")\n",
    "print(A)\n",
    "print(\"\\nМатрица Грама G:\")\n",
    "print(G)\n"
   ]
  },
  {
   "cell_type": "markdown",
   "metadata": {},
   "source": [
    "Условие для заданий 7.4 и 7.5\n",
    "\n",
    "В салоне красоты «Феи ножниц» работают восемь стилистов: Аня, Борис, Вика, Галя, Дима, Егор, Женя и Юра. \n",
    "\n",
    "Вам предоставлены две таблицы (DataFrame): Count_DF и Price_DF.\n",
    "\n",
    "В DataFrame Count_DF содержится информация по количеству услуг, оказанных каждым стилистом за апрель.\n",
    "\n",
    "В DataFrame Price_DF содержится информация по стоимости услуг у каждого стилиста в тысячах рублей."
   ]
  },
  {
   "cell_type": "code",
   "execution_count": 296,
   "metadata": {},
   "outputs": [],
   "source": [
    "import pandas as pd\n",
    "\n",
    "Count_DF = pd.DataFrame({\n",
    "    'Женские стрижки': [10, 2, 12, 4, 6, 10, 22, 7], \n",
    "    'Мужские стрижки': [5, 21, 12, 8, 25, 3, 1, 0], \n",
    "    'Окрашивания':[12, 3, 0, 18, 27, 2, 4, 31],\n",
    "    'Укладка':[15, 25, 30, 14, 25, 17, 25, 31],\n",
    "    'Уход':[10, 6, 4, 5, 18, 12, 20, 28]\n",
    "    }, \n",
    "    index=['Аня', 'Борис', 'Вика', 'Галя', 'Дима', 'Егор', 'Женя','Юра']\n",
    ")\n",
    "Price_DF = pd.DataFrame({\n",
    "    'Женские стрижки': [2, 1.8, 2, 1.8, 2.5, 5, 1.1, 4.5], \n",
    "    'Мужские стрижки': [1.5, 2.5, 2, 1.2, 3.5, 5, 1, 4], \n",
    "    'Окрашивания':[1, 1, 0, 2.8, 2, 3, 1.5, 2.5],\n",
    "    'Укладка':[0.8, 1, 0.5, 0.8, 1, 2, 0.5, 1],\n",
    "    'Уход':[1, 1, 2, 2, 1.5, 2.5, 1.7, 2] \n",
    "    }, \n",
    "    index=['Аня', 'Борис', 'Вика', 'Галя', 'Дима', 'Егор', 'Женя','Юра']\n",
    ")\n"
   ]
  },
  {
   "cell_type": "markdown",
   "metadata": {},
   "source": [
    "Задание 7.4\n",
    "\n",
    "Найдите вектор дохода салона по стилистам, если за каждую услугу стилисты платят салону определённую «комиссию».\n",
    "\n",
    "Выберите координаты вектора прибыли салона:"
   ]
  },
  {
   "cell_type": "code",
   "execution_count": 298,
   "metadata": {},
   "outputs": [
    {
     "data": {
      "text/plain": [
       "array([[11.3 , 15.22, 11.9 , 20.6 , 41.9 , 21.2 , 11.49, 38.25]])"
      ]
     },
     "execution_count": 298,
     "metadata": {},
     "output_type": "execute_result"
    }
   ],
   "source": [
    "# Вектор комиссий: \n",
    "com = np.array([0.2, 0.2, 0.3, 0.1, 0.1])\n",
    "\n",
    "revenue = Count_DF*Price_DF@com\n",
    "np.array([revenue])"
   ]
  },
  {
   "cell_type": "markdown",
   "metadata": {},
   "source": [
    "Задание 7.5\n",
    "\n",
    "Найдите вектор дохода стилистов."
   ]
  },
  {
   "cell_type": "code",
   "execution_count": 299,
   "metadata": {},
   "outputs": [
    {
     "data": {
      "text/plain": [
       "array([[ 50.2 ,  74.88,  59.1 ,  67.8 , 166.6 , 113.8 ,  66.21, 157.75]])"
      ]
     },
     "execution_count": 299,
     "metadata": {},
     "output_type": "execute_result"
    }
   ],
   "source": [
    "income = Count_DF*Price_DF@(np.ones(5)-com)\n",
    "np.array([income])"
   ]
  },
  {
   "cell_type": "markdown",
   "metadata": {},
   "source": [
    "Обратная матрица в Python вычисляется с помощью функции numpy.linalg.inv():"
   ]
  },
  {
   "cell_type": "code",
   "execution_count": 300,
   "metadata": {},
   "outputs": [
    {
     "data": {
      "text/plain": [
       "matrix([[ 1,  2,  3],\n",
       "        [ 4,  5,  6],\n",
       "        [ 7,  8, 10]])"
      ]
     },
     "execution_count": 300,
     "metadata": {},
     "output_type": "execute_result"
    }
   ],
   "source": [
    "A = np.matrix('1,2,3; 4,5,6; 7, 8, 10')\n",
    "A"
   ]
  },
  {
   "cell_type": "code",
   "execution_count": 301,
   "metadata": {},
   "outputs": [
    {
     "data": {
      "text/plain": [
       "matrix([[-0.66666667, -1.33333333,  1.        ],\n",
       "        [-0.66666667,  3.66666667, -2.        ],\n",
       "        [ 1.        , -2.        ,  1.        ]])"
      ]
     },
     "execution_count": 301,
     "metadata": {},
     "output_type": "execute_result"
    }
   ],
   "source": [
    "np.linalg.inv(A)"
   ]
  },
  {
   "cell_type": "code",
   "execution_count": 302,
   "metadata": {},
   "outputs": [
    {
     "data": {
      "text/plain": [
       "matrix([[ 5., -2.],\n",
       "        [-2.,  1.]])"
      ]
     },
     "execution_count": 302,
     "metadata": {},
     "output_type": "execute_result"
    }
   ],
   "source": [
    "B = np.matrix('1,2; 2,5')\n",
    "np.linalg.inv(B)"
   ]
  },
  {
   "cell_type": "markdown",
   "metadata": {},
   "source": [
    "Вычисление определителя:"
   ]
  },
  {
   "cell_type": "code",
   "execution_count": 303,
   "metadata": {},
   "outputs": [
    {
     "name": "stdout",
     "output_type": "stream",
     "text": [
      "-2.9999999999999996\n"
     ]
    }
   ],
   "source": [
    "import numpy as np\n",
    "A = np.matrix (\"1, 2, 3; 4, 5, 6 ; 7, 8, 10\")\n",
    "print(np.linalg.det(A))\n",
    "# -3.0000000000009"
   ]
  },
  {
   "cell_type": "markdown",
   "metadata": {},
   "source": [
    "Давайте рассмотрим пример того, как вычислить ранг в Python. Для этого в библиотеке numpy существует специальная функция linalg.matrix_rank():"
   ]
  },
  {
   "cell_type": "code",
   "execution_count": 304,
   "metadata": {},
   "outputs": [
    {
     "name": "stdout",
     "output_type": "stream",
     "text": [
      "2\n"
     ]
    }
   ],
   "source": [
    "import numpy as np\n",
    "v1 = np.array([1,2,3,1])\n",
    "v2 = np.array([4,5,6,1])\n",
    "v3 = np.array([7,8,9,1])\n",
    "A = np.array([v1, v2, v3]).T\n",
    "print(np.linalg.matrix_rank(A))\n",
    "# 2"
   ]
  },
  {
   "cell_type": "markdown",
   "metadata": {},
   "source": [
    "Задание 10.1\n",
    "\n",
    "Дана матрица  A :\n",
    "\n",
    "Найдите матрицу, обратную матрице  A ."
   ]
  },
  {
   "cell_type": "code",
   "execution_count": 305,
   "metadata": {},
   "outputs": [
    {
     "name": "stdout",
     "output_type": "stream",
     "text": [
      "A inversed:\n",
      " [[-1.875    2.3125  -0.03125]\n",
      " [ 0.375   -0.5625   0.15625]\n",
      " [ 1.25    -1.375   -0.0625 ]]\n"
     ]
    }
   ],
   "source": [
    "A = np.array([[8, 6, 11], [7, 5, 9],[6, 10, 6]])\n",
    "\n",
    "A_inv=np.linalg.inv(A)\n",
    "print('A inversed:\\n',A_inv)"
   ]
  },
  {
   "cell_type": "code",
   "execution_count": 306,
   "metadata": {},
   "outputs": [],
   "source": [
    "# Условие для заданий 10.2-10.7\n",
    "# Дана система векторов:\n",
    "\n",
    "v1 = np.array([9, 10, 7, 7, 9])\n",
    "v2 = np.array([2, 0, 5, 1, 4])\n",
    "v3 = np.array([4, 0, 0, 4, 1])\n",
    "v4 = np.array([3, -4, 3, -1, -4])"
   ]
  },
  {
   "cell_type": "markdown",
   "metadata": {},
   "source": [
    "Задание 10.2\n",
    "\n",
    "Найдите ранг системы векторов  v1 ,  v2 ,  v3 ,  v4 . Для этого создайте матрицу системы векторов. Векторы в матрице расположите в столбцы."
   ]
  },
  {
   "cell_type": "code",
   "execution_count": 311,
   "metadata": {},
   "outputs": [
    {
     "name": "stdout",
     "output_type": "stream",
     "text": [
      "[[ 9  2  4  3]\n",
      " [10  0  0 -4]\n",
      " [ 7  5  0  3]\n",
      " [ 7  1  4 -1]\n",
      " [ 9  4  1 -4]]\n",
      "4\n"
     ]
    }
   ],
   "source": [
    "M = np.array([v1, v2, v3, v4]).T\n",
    "print(M)\n",
    "print(np.linalg.matrix_rank(M))"
   ]
  },
  {
   "cell_type": "markdown",
   "metadata": {},
   "source": [
    "Задание 10.3\n",
    "\n",
    "Является ли система векторов  v1 ,  v2 ,  v3 ,  v4  линейно зависимой?\n",
    "\n",
    "Ранг матрицы  A , составленной из векторов  v1 ,  v2 ,  v3 ,  v4  равен 4, что равно количеству векторов в системе. Это значит, что система векторов является линейно независимой."
   ]
  },
  {
   "cell_type": "markdown",
   "metadata": {},
   "source": [
    "Задание 10.4\n",
    "\n",
    "Найдите матрицу Грама системы векторов  v1 ,  v2 ,  v3 ,  v4 :  G=ATA . В качестве ответа запишите элемент из четвёртого столбца первой строки."
   ]
  },
  {
   "cell_type": "code",
   "execution_count": 314,
   "metadata": {},
   "outputs": [
    {
     "name": "stdout",
     "output_type": "stream",
     "text": [
      "Матрица Грама:\n",
      " [[360  96  73 -35]\n",
      " [ 96  46  16   4]\n",
      " [ 73  16  33   4]\n",
      " [-35   4   4  51]]\n"
     ]
    }
   ],
   "source": [
    "G=M.T@M\n",
    "print('Матрица Грама:\\n',G)"
   ]
  },
  {
   "cell_type": "markdown",
   "metadata": {},
   "source": [
    "Задание 10.5\n",
    "\n",
    "Найдите определитель матрицы Грама  G  системы  v1 ,  v2 ,  v3 ,  v4 . \n",
    "\n",
    "Ответ округлите до целого числа."
   ]
  },
  {
   "cell_type": "code",
   "execution_count": 317,
   "metadata": {},
   "outputs": [
    {
     "name": "stdout",
     "output_type": "stream",
     "text": [
      "Определитель матрицы Грама:\n",
      " 3716648.0\n"
     ]
    }
   ],
   "source": [
    "print('Определитель матрицы Грама:\\n',round(np.linalg.det(G),0))"
   ]
  },
  {
   "cell_type": "markdown",
   "metadata": {},
   "source": [
    "Задание 10.6\n",
    "\n",
    "Является ли матрица Грама системы  v1 ,  v2 ,  v3 ,  v4  вырожденной?"
   ]
  },
  {
   "cell_type": "code",
   "execution_count": 319,
   "metadata": {},
   "outputs": [
    {
     "name": "stdout",
     "output_type": "stream",
     "text": [
      "\n",
      "Детерминант матрицы Грама: 3716647.9999999995\n"
     ]
    }
   ],
   "source": [
    "det_G = np.linalg.det(G)\n",
    "print(\"\\nДетерминант матрицы Грама:\", det_G)\n",
    "\n",
    "# Если детерминант матрицы Грама равен нулю, то матрица вырожденная. В противном случае она невырожденная."
   ]
  },
  {
   "cell_type": "markdown",
   "metadata": {},
   "source": [
    "Задание 10.7\n",
    "\n",
    "Найдите обратную матрицу к матрице Грама  G  системы  v1 ,  v2 ,  v3 ,  v4 ."
   ]
  },
  {
   "cell_type": "code",
   "execution_count": 320,
   "metadata": {},
   "outputs": [
    {
     "name": "stdout",
     "output_type": "stream",
     "text": [
      "Обратная к матрице Грама:\n",
      " [[ 0.01711488 -0.02798543 -0.02623063  0.01599775]\n",
      " [-0.02798543  0.071967    0.03031441 -0.02722776]\n",
      " [-0.02623063  0.03031441  0.07683106 -0.02640498]\n",
      " [ 0.01599775 -0.02722776 -0.02640498  0.03479318]]\n"
     ]
    }
   ],
   "source": [
    "print('Обратная к матрице Грама:\\n',np.linalg.inv(G))"
   ]
  }
 ],
 "metadata": {
  "kernelspec": {
   "display_name": "Python 3",
   "language": "python",
   "name": "python3"
  },
  "language_info": {
   "codemirror_mode": {
    "name": "ipython",
    "version": 3
   },
   "file_extension": ".py",
   "mimetype": "text/x-python",
   "name": "python",
   "nbconvert_exporter": "python",
   "pygments_lexer": "ipython3",
   "version": "3.12.3"
  }
 },
 "nbformat": 4,
 "nbformat_minor": 2
}
