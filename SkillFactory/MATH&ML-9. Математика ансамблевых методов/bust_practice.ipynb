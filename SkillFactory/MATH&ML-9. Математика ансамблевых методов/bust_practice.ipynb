{
 "cells": [
  {
   "cell_type": "code",
   "execution_count": 42,
   "metadata": {},
   "outputs": [],
   "source": [
    "import pandas as pd\n",
    "from sklearn.model_selection import train_test_split\n",
    "from sklearn.preprocessing import StandardScaler\n",
    "from sklearn.linear_model import LogisticRegression\n",
    "from sklearn.tree import DecisionTreeClassifier\n",
    "from sklearn.metrics import f1_score"
   ]
  },
  {
   "cell_type": "markdown",
   "metadata": {},
   "source": [
    "Перед тем как выполнить задания, вам необходимо установить несколько библиотек (если они у вас не установлены):"
   ]
  },
  {
   "cell_type": "code",
   "execution_count": 43,
   "metadata": {},
   "outputs": [],
   "source": [
    "#!pip install xgboost\n",
    "#!pip install catboost"
   ]
  },
  {
   "cell_type": "markdown",
   "metadata": {},
   "source": [
    "- Gender — пол пассажира (женский, мужской);\n",
    "- Customer Type — тип клиента (постоянный/непостоянный клиент);\n",
    "- Age — возраст клиента;\n",
    "- Type of Travel — цель перелета (личная/деловая поездка);\n",
    "- Class — туристический класс пассажира (Business, Eco, Eco Plus);\n",
    "- Flight distance — расстояние полета;\n",
    "- Inflight wifi service — уровень удовлетворённости Wi-Fi (0 — не применимо, 1–5);\n",
    "- Departure/Arrival time convenient — уровень удовлетворённости временем отправления и прибытия;\n",
    "- Ease of Online booking — уровень удовлетворённости онлайн-бронированием;\n",
    "- Gate location — уровень удовлетворённости расположением выхода на посадку;\n",
    "- Food and drink — уровень удовлетворённости едой и напитками;\n",
    "- Online boarding — уровень удовлетворённости онлайн-регистрацией;\n",
    "- Seat comfort — уровень удовлетворённости комфортом сидений;\n",
    "- Inflight entertainment — уровень удовлетворённости развлечениями на борту;\n",
    "- On-board service — уровень удовлетворённости сервисом на борту;\n",
    "- Leg room service — уровень удовлетворённости местом для ног;\n",
    "- Baggage handling — уровень удовлетворённости обработкой багажа;\n",
    "- Check-in service — уровень удовлетворённости услугами регистрации;\n",
    "- Inflight service — уровень удовлетворённости обслуживанием во время полёта;\n",
    "- Cleanliness — уровень удовлетворённости чистотой;\n",
    "- Departure Delay in Minutes — задержка при отправлении (в минутах);\n",
    "- Arrival Delay in Minutes — задержка при прибытии (в минутах);\n",
    "- Satisfaction — удовлетворённость авиакомпанией — целевая переменная (satisfaction/neutral/dissatisfaction)."
   ]
  },
  {
   "cell_type": "code",
   "execution_count": 44,
   "metadata": {},
   "outputs": [
    {
     "data": {
      "text/html": [
       "<div>\n",
       "<style scoped>\n",
       "    .dataframe tbody tr th:only-of-type {\n",
       "        vertical-align: middle;\n",
       "    }\n",
       "\n",
       "    .dataframe tbody tr th {\n",
       "        vertical-align: top;\n",
       "    }\n",
       "\n",
       "    .dataframe thead th {\n",
       "        text-align: right;\n",
       "    }\n",
       "</style>\n",
       "<table border=\"1\" class=\"dataframe\">\n",
       "  <thead>\n",
       "    <tr style=\"text-align: right;\">\n",
       "      <th></th>\n",
       "      <th>Unnamed: 0</th>\n",
       "      <th>id</th>\n",
       "      <th>Gender</th>\n",
       "      <th>Customer Type</th>\n",
       "      <th>Age</th>\n",
       "      <th>Type of Travel</th>\n",
       "      <th>Class</th>\n",
       "      <th>Flight Distance</th>\n",
       "      <th>Inflight wifi service</th>\n",
       "      <th>Departure/Arrival time convenient</th>\n",
       "      <th>...</th>\n",
       "      <th>Inflight entertainment</th>\n",
       "      <th>On-board service</th>\n",
       "      <th>Leg room service</th>\n",
       "      <th>Baggage handling</th>\n",
       "      <th>Checkin service</th>\n",
       "      <th>Inflight service</th>\n",
       "      <th>Cleanliness</th>\n",
       "      <th>Departure Delay in Minutes</th>\n",
       "      <th>Arrival Delay in Minutes</th>\n",
       "      <th>satisfaction</th>\n",
       "    </tr>\n",
       "  </thead>\n",
       "  <tbody>\n",
       "    <tr>\n",
       "      <th>0</th>\n",
       "      <td>0</td>\n",
       "      <td>70172</td>\n",
       "      <td>Male</td>\n",
       "      <td>Loyal Customer</td>\n",
       "      <td>13</td>\n",
       "      <td>Personal Travel</td>\n",
       "      <td>Eco Plus</td>\n",
       "      <td>460</td>\n",
       "      <td>3</td>\n",
       "      <td>4</td>\n",
       "      <td>...</td>\n",
       "      <td>5</td>\n",
       "      <td>4</td>\n",
       "      <td>3</td>\n",
       "      <td>4</td>\n",
       "      <td>4</td>\n",
       "      <td>5</td>\n",
       "      <td>5</td>\n",
       "      <td>25</td>\n",
       "      <td>18.0</td>\n",
       "      <td>neutral or dissatisfied</td>\n",
       "    </tr>\n",
       "    <tr>\n",
       "      <th>1</th>\n",
       "      <td>1</td>\n",
       "      <td>5047</td>\n",
       "      <td>Male</td>\n",
       "      <td>disloyal Customer</td>\n",
       "      <td>25</td>\n",
       "      <td>Business travel</td>\n",
       "      <td>Business</td>\n",
       "      <td>235</td>\n",
       "      <td>3</td>\n",
       "      <td>2</td>\n",
       "      <td>...</td>\n",
       "      <td>1</td>\n",
       "      <td>1</td>\n",
       "      <td>5</td>\n",
       "      <td>3</td>\n",
       "      <td>1</td>\n",
       "      <td>4</td>\n",
       "      <td>1</td>\n",
       "      <td>1</td>\n",
       "      <td>6.0</td>\n",
       "      <td>neutral or dissatisfied</td>\n",
       "    </tr>\n",
       "    <tr>\n",
       "      <th>2</th>\n",
       "      <td>2</td>\n",
       "      <td>110028</td>\n",
       "      <td>Female</td>\n",
       "      <td>Loyal Customer</td>\n",
       "      <td>26</td>\n",
       "      <td>Business travel</td>\n",
       "      <td>Business</td>\n",
       "      <td>1142</td>\n",
       "      <td>2</td>\n",
       "      <td>2</td>\n",
       "      <td>...</td>\n",
       "      <td>5</td>\n",
       "      <td>4</td>\n",
       "      <td>3</td>\n",
       "      <td>4</td>\n",
       "      <td>4</td>\n",
       "      <td>4</td>\n",
       "      <td>5</td>\n",
       "      <td>0</td>\n",
       "      <td>0.0</td>\n",
       "      <td>satisfied</td>\n",
       "    </tr>\n",
       "    <tr>\n",
       "      <th>3</th>\n",
       "      <td>3</td>\n",
       "      <td>24026</td>\n",
       "      <td>Female</td>\n",
       "      <td>Loyal Customer</td>\n",
       "      <td>25</td>\n",
       "      <td>Business travel</td>\n",
       "      <td>Business</td>\n",
       "      <td>562</td>\n",
       "      <td>2</td>\n",
       "      <td>5</td>\n",
       "      <td>...</td>\n",
       "      <td>2</td>\n",
       "      <td>2</td>\n",
       "      <td>5</td>\n",
       "      <td>3</td>\n",
       "      <td>1</td>\n",
       "      <td>4</td>\n",
       "      <td>2</td>\n",
       "      <td>11</td>\n",
       "      <td>9.0</td>\n",
       "      <td>neutral or dissatisfied</td>\n",
       "    </tr>\n",
       "    <tr>\n",
       "      <th>4</th>\n",
       "      <td>4</td>\n",
       "      <td>119299</td>\n",
       "      <td>Male</td>\n",
       "      <td>Loyal Customer</td>\n",
       "      <td>61</td>\n",
       "      <td>Business travel</td>\n",
       "      <td>Business</td>\n",
       "      <td>214</td>\n",
       "      <td>3</td>\n",
       "      <td>3</td>\n",
       "      <td>...</td>\n",
       "      <td>3</td>\n",
       "      <td>3</td>\n",
       "      <td>4</td>\n",
       "      <td>4</td>\n",
       "      <td>3</td>\n",
       "      <td>3</td>\n",
       "      <td>3</td>\n",
       "      <td>0</td>\n",
       "      <td>0.0</td>\n",
       "      <td>satisfied</td>\n",
       "    </tr>\n",
       "  </tbody>\n",
       "</table>\n",
       "<p>5 rows × 25 columns</p>\n",
       "</div>"
      ],
      "text/plain": [
       "   Unnamed: 0      id  Gender      Customer Type  Age   Type of Travel  \\\n",
       "0           0   70172    Male     Loyal Customer   13  Personal Travel   \n",
       "1           1    5047    Male  disloyal Customer   25  Business travel   \n",
       "2           2  110028  Female     Loyal Customer   26  Business travel   \n",
       "3           3   24026  Female     Loyal Customer   25  Business travel   \n",
       "4           4  119299    Male     Loyal Customer   61  Business travel   \n",
       "\n",
       "      Class  Flight Distance  Inflight wifi service  \\\n",
       "0  Eco Plus              460                      3   \n",
       "1  Business              235                      3   \n",
       "2  Business             1142                      2   \n",
       "3  Business              562                      2   \n",
       "4  Business              214                      3   \n",
       "\n",
       "   Departure/Arrival time convenient  ...  Inflight entertainment  \\\n",
       "0                                  4  ...                       5   \n",
       "1                                  2  ...                       1   \n",
       "2                                  2  ...                       5   \n",
       "3                                  5  ...                       2   \n",
       "4                                  3  ...                       3   \n",
       "\n",
       "   On-board service  Leg room service  Baggage handling  Checkin service  \\\n",
       "0                 4                 3                 4                4   \n",
       "1                 1                 5                 3                1   \n",
       "2                 4                 3                 4                4   \n",
       "3                 2                 5                 3                1   \n",
       "4                 3                 4                 4                3   \n",
       "\n",
       "   Inflight service  Cleanliness  Departure Delay in Minutes  \\\n",
       "0                 5            5                          25   \n",
       "1                 4            1                           1   \n",
       "2                 4            5                           0   \n",
       "3                 4            2                          11   \n",
       "4                 3            3                           0   \n",
       "\n",
       "   Arrival Delay in Minutes             satisfaction  \n",
       "0                      18.0  neutral or dissatisfied  \n",
       "1                       6.0  neutral or dissatisfied  \n",
       "2                       0.0                satisfied  \n",
       "3                       9.0  neutral or dissatisfied  \n",
       "4                       0.0                satisfied  \n",
       "\n",
       "[5 rows x 25 columns]"
      ]
     },
     "execution_count": 44,
     "metadata": {},
     "output_type": "execute_result"
    }
   ],
   "source": [
    "# Загружаем данные\n",
    "df = pd.read_csv('data/AirPass.csv')\n",
    "df.head()"
   ]
  },
  {
   "cell_type": "code",
   "execution_count": 45,
   "metadata": {},
   "outputs": [
    {
     "name": "stdout",
     "output_type": "stream",
     "text": [
      "<class 'pandas.core.frame.DataFrame'>\n",
      "RangeIndex: 103904 entries, 0 to 103903\n",
      "Data columns (total 25 columns):\n",
      " #   Column                             Non-Null Count   Dtype  \n",
      "---  ------                             --------------   -----  \n",
      " 0   Unnamed: 0                         103904 non-null  int64  \n",
      " 1   id                                 103904 non-null  int64  \n",
      " 2   Gender                             103904 non-null  object \n",
      " 3   Customer Type                      103904 non-null  object \n",
      " 4   Age                                103904 non-null  int64  \n",
      " 5   Type of Travel                     103904 non-null  object \n",
      " 6   Class                              103904 non-null  object \n",
      " 7   Flight Distance                    103904 non-null  int64  \n",
      " 8   Inflight wifi service              103904 non-null  int64  \n",
      " 9   Departure/Arrival time convenient  103904 non-null  int64  \n",
      " 10  Ease of Online booking             103904 non-null  int64  \n",
      " 11  Gate location                      103904 non-null  int64  \n",
      " 12  Food and drink                     103904 non-null  int64  \n",
      " 13  Online boarding                    103904 non-null  int64  \n",
      " 14  Seat comfort                       103904 non-null  int64  \n",
      " 15  Inflight entertainment             103904 non-null  int64  \n",
      " 16  On-board service                   103904 non-null  int64  \n",
      " 17  Leg room service                   103904 non-null  int64  \n",
      " 18  Baggage handling                   103904 non-null  int64  \n",
      " 19  Checkin service                    103904 non-null  int64  \n",
      " 20  Inflight service                   103904 non-null  int64  \n",
      " 21  Cleanliness                        103904 non-null  int64  \n",
      " 22  Departure Delay in Minutes         103904 non-null  int64  \n",
      " 23  Arrival Delay in Minutes           103594 non-null  float64\n",
      " 24  satisfaction                       103904 non-null  object \n",
      "dtypes: float64(1), int64(19), object(5)\n",
      "memory usage: 19.8+ MB\n"
     ]
    }
   ],
   "source": [
    "df.info()"
   ]
  },
  {
   "cell_type": "code",
   "execution_count": 46,
   "metadata": {},
   "outputs": [],
   "source": [
    "df.drop(columns=['Unnamed: 0'], inplace=True)"
   ]
  },
  {
   "cell_type": "markdown",
   "metadata": {},
   "source": [
    "Для начала сделаем небольшую предобработку данных. Сколько всего в данных пропущенных значений?"
   ]
  },
  {
   "cell_type": "code",
   "execution_count": 47,
   "metadata": {},
   "outputs": [
    {
     "name": "stdout",
     "output_type": "stream",
     "text": [
      "Всего пропущенных значений в данных: 310\n"
     ]
    }
   ],
   "source": [
    "# Подсчитываем количество пропусков по каждому столбцу\n",
    "missing_per_column = df.isnull().sum()\n",
    "\n",
    "# Общая сумма пропущенных значений\n",
    "total_missing = missing_per_column.sum()\n",
    "\n",
    "print(f\"Всего пропущенных значений в данных: {total_missing}\")\n"
   ]
  },
  {
   "cell_type": "markdown",
   "metadata": {},
   "source": [
    "Теперь давайте избавимся от найденных пропусков. Заполните их все медианными значениями. После этого вычислите среднее арифметическое для признака, отражающего задержку при прибытии в минутах. Ответ округлите до двух знаков после точки-разделителя."
   ]
  },
  {
   "cell_type": "code",
   "execution_count": 48,
   "metadata": {},
   "outputs": [],
   "source": [
    "df.fillna(df.median(numeric_only=True), inplace=True)\n"
   ]
  },
  {
   "cell_type": "code",
   "execution_count": 49,
   "metadata": {},
   "outputs": [
    {
     "name": "stdout",
     "output_type": "stream",
     "text": [
      "Среднее значение задержки прибытия: 15.13\n"
     ]
    }
   ],
   "source": [
    "mean_arrival_delay = df['Arrival Delay in Minutes'].mean()\n",
    "print(f\"Среднее значение задержки прибытия: {mean_arrival_delay:.2f}\")\n"
   ]
  },
  {
   "cell_type": "markdown",
   "metadata": {},
   "source": [
    "Проведём небольшой разведывательный анализ. Посмотрим, в каких категориях пассажиров превалировали удовлетворённые полетом клиенты. \n",
    "\n",
    "Совет: для ответов на вопросы попробуйте использовать как вычисления, так и визуализации. \n",
    "\n",
    "1. Сравните удовлетворённость полётом мужчин и женщин. Выберите верное утверждение: \n",
    "2. Теперь сравним категории пассажиров в зависимости от их цели поездки. Выберите все верные утверждения: \n",
    "3. В каком туристическом классе наибольший процент довольных клиентов?"
   ]
  },
  {
   "cell_type": "markdown",
   "metadata": {},
   "source": [
    "1. Сравнение удовлетворённости мужчин и женщин"
   ]
  },
  {
   "cell_type": "code",
   "execution_count": 50,
   "metadata": {},
   "outputs": [
    {
     "data": {
      "image/png": "[encoded data removed]",
      "text/plain": [
       "<Figure size 800x500 with 1 Axes>"
      ]
     },
     "metadata": {},
     "output_type": "display_data"
    }
   ],
   "source": [
    "import seaborn as sns\n",
    "import matplotlib.pyplot as plt\n",
    "\n",
    "# Распределение удовлетворённости по полу\n",
    "gender_satisfaction = df.groupby('Gender')['satisfaction'].value_counts(normalize=True).unstack()\n",
    "\n",
    "# Визуализация\n",
    "gender_satisfaction.plot(kind='bar', stacked=True, figsize=(8, 5), colormap='viridis')\n",
    "plt.title('Удовлетворённость пассажиров по полу')\n",
    "plt.ylabel('Доля пассажиров')\n",
    "plt.xlabel('Пол')\n",
    "plt.xticks(rotation=0)\n",
    "plt.legend(title=\"Удовлетворённость\")\n",
    "plt.show()\n"
   ]
  },
  {
   "cell_type": "markdown",
   "metadata": {},
   "source": [
    "2. Сравнение удовлетворённости по цели поездки"
   ]
  },
  {
   "cell_type": "code",
   "execution_count": 51,
   "metadata": {},
   "outputs": [
    {
     "data": {
      "image/png": "[encoded data removed]",
      "text/plain": [
       "<Figure size 800x500 with 1 Axes>"
      ]
     },
     "metadata": {},
     "output_type": "display_data"
    }
   ],
   "source": [
    "# Анализ удовлетворённости в зависимости от типа поездки\n",
    "travel_satisfaction = df.groupby('Type of Travel')['satisfaction'].value_counts(normalize=True).unstack()\n",
    "\n",
    "# Визуализация\n",
    "travel_satisfaction.plot(kind='bar', stacked=True, figsize=(8, 5), colormap='coolwarm')\n",
    "plt.title('Удовлетворённость пассажиров по цели поездки')\n",
    "plt.ylabel('Доля пассажиров')\n",
    "plt.xlabel('Тип поездки')\n",
    "plt.xticks(rotation=0)\n",
    "plt.legend(title=\"Удовлетворённость\")\n",
    "plt.show()\n"
   ]
  },
  {
   "cell_type": "markdown",
   "metadata": {},
   "source": [
    "3. Определение туристического класса с наибольшим процентом довольных клиентов"
   ]
  },
  {
   "cell_type": "code",
   "execution_count": 52,
   "metadata": {},
   "outputs": [
    {
     "data": {
      "image/png": "[encoded data removed]",
      "text/plain": [
       "<Figure size 800x500 with 1 Axes>"
      ]
     },
     "metadata": {},
     "output_type": "display_data"
    }
   ],
   "source": [
    "# Анализ удовлетворённости по туристическому классу\n",
    "class_satisfaction = df.groupby('Class')['satisfaction'].value_counts(normalize=True).unstack()\n",
    "\n",
    "# Визуализация\n",
    "class_satisfaction.plot(kind='bar', stacked=True, figsize=(8, 5), colormap='plasma')\n",
    "plt.title('Удовлетворённость пассажиров по классу')\n",
    "plt.ylabel('Доля пассажиров')\n",
    "plt.xlabel('Класс')\n",
    "plt.xticks(rotation=0)\n",
    "plt.legend(title=\"Удовлетворённость\")\n",
    "plt.show()\n"
   ]
  },
  {
   "cell_type": "markdown",
   "metadata": {},
   "source": [
    "Перекодируем часть бинарных признаков, чтобы использовать их при обучении:"
   ]
  },
  {
   "cell_type": "code",
   "execution_count": 53,
   "metadata": {},
   "outputs": [],
   "source": [
    "df['satisfaction'] = df['satisfaction'].map({'neutral or dissatisfied':0 , 'satisfied':1})\n",
    "df['Customer Type'] = df['Customer Type'].map({'Loyal Customer':1, 'disloyal Customer':0})\n",
    "df['Type of Travel'] = df['Type of Travel'].map({'Personal Travel':0, 'Business travel':1})\n",
    "df['Gender'] = df['Gender'].map({'Male': 0, 'Female': 1})"
   ]
  },
  {
   "cell_type": "markdown",
   "metadata": {},
   "source": [
    "Для остальных категориальных признаков создайте dummy-переменные. Сделайте это с помощью функции get_dummies() из библиотеки Pandas, параметры не меняйте. Сколько теперь признаков в данных (включая целевую переменную)?"
   ]
  },
  {
   "cell_type": "markdown",
   "metadata": {},
   "source": [
    "1. Определяем категориальные признаки для кодирования"
   ]
  },
  {
   "cell_type": "code",
   "execution_count": 54,
   "metadata": {},
   "outputs": [],
   "source": [
    "categoricals = ['Class']  # Единственный оставшийся категориальный признак\n",
    "df_encoded = pd.get_dummies(df, columns=categoricals)\n"
   ]
  },
  {
   "cell_type": "markdown",
   "metadata": {},
   "source": [
    "2. Определяем количество признаков (включая целевую переменную)"
   ]
  },
  {
   "cell_type": "code",
   "execution_count": 55,
   "metadata": {},
   "outputs": [
    {
     "name": "stdout",
     "output_type": "stream",
     "text": [
      "Количество признаков в данных после кодировки: 26\n"
     ]
    }
   ],
   "source": [
    "num_features = df_encoded.shape[1]\n",
    "print(f\"Количество признаков в данных после кодировки: {num_features}\")\n"
   ]
  },
  {
   "cell_type": "markdown",
   "metadata": {},
   "source": [
    "Мы практически добрались до обучения модели. Разбейте данные на обучающую и тестовую выборки в соотношении 80/20, параметр random_state = 26. Сколько наблюдений попало в тестовую выборку?"
   ]
  },
  {
   "cell_type": "code",
   "execution_count": 56,
   "metadata": {},
   "outputs": [
    {
     "name": "stdout",
     "output_type": "stream",
     "text": [
      "Количество наблюдений в тестовой выборке: 20781\n"
     ]
    }
   ],
   "source": [
    "from sklearn.model_selection import train_test_split\n",
    "X = df_encoded.drop(columns=['satisfaction'])  # Удаляем целевую переменную из данных\n",
    "y = df_encoded['satisfaction']  # Целевая переменная\n",
    "X_train, X_test, y_train, y_test = train_test_split(X, y, test_size=0.2, random_state=26)\n",
    "num_test_samples = len(X_test)\n",
    "print(f\"Количество наблюдений в тестовой выборке: {num_test_samples}\")"
   ]
  },
  {
   "cell_type": "markdown",
   "metadata": {},
   "source": [
    "Теперь нам необходимо реализовать масштабирование данных. Для этого обучите на обучающей выборке метод StandardScaler() и с помощью него преобразуйте и обучающую, и тестовую выборки. Не забудьте, что целевую переменную обрабатывать не нужно.\n",
    "\n",
    "Примечание. Отметим, что если бы дальше мы работали только с деревьями, масштабирование бы не требовалось. Однако мы реализуем его, чтобы можно было обучать и другие модели и сравнивать полученные результаты.\n",
    "\n",
    "В качестве ответа введите самое первое значение из матрицы преобразованных признаков тестовой выборки. Округлите значение до двух знаков после точки-разделителя."
   ]
  },
  {
   "cell_type": "code",
   "execution_count": 57,
   "metadata": {},
   "outputs": [
    {
     "name": "stdout",
     "output_type": "stream",
     "text": [
      "Первое значение после масштабирования: 0.94\n"
     ]
    }
   ],
   "source": [
    "from sklearn.preprocessing import StandardScaler\n",
    "\n",
    "\n",
    "# Инициализируем масштабировщик\n",
    "scaler = StandardScaler()\n",
    "\n",
    "# Обучаем и преобразуем обучающую выборку\n",
    "X_train_scaled = scaler.fit_transform(X_train)\n",
    "\n",
    "# Применяем то же преобразование к тестовой выборке\n",
    "X_test_scaled = scaler.transform(X_test)\n",
    "\n",
    "\n",
    "first_value = X_test_scaled[0, 0]\n",
    "print(f\"Первое значение после масштабирования: {first_value:.2f}\")\n",
    "\n"
   ]
  },
  {
   "cell_type": "markdown",
   "metadata": {},
   "source": [
    "Перейдём к обучению моделей. В качестве первой модели возьмём самую простую — логистическую регрессию. Мы делаем это для того, чтобы потом сравнивать с ней полученные результаты: так вы сможете выяснить, насколько ансамбли смогут улучшить точность прогноза.\n",
    "\n",
    "Обучите логистическую регрессию с параметрами по умолчанию на наших данных. В качестве ответа введите значение метрики f1_score. Ответ округлите до трёх знаков после точки-разделителя."
   ]
  },
  {
   "cell_type": "code",
   "execution_count": 58,
   "metadata": {},
   "outputs": [
    {
     "name": "stdout",
     "output_type": "stream",
     "text": [
      "F1-метрика для логистической регрессии: 0.855\n"
     ]
    }
   ],
   "source": [
    "from sklearn.linear_model import LogisticRegression\n",
    "from sklearn.metrics import f1_score\n",
    "\n",
    "\n",
    "# Создаём модель логистической регрессии с параметрами по умолчанию\n",
    "log_reg = LogisticRegression()\n",
    "\n",
    "# Обучаем модель на масштабированных данных\n",
    "log_reg.fit(X_train_scaled, y_train)\n",
    "\n",
    "\n",
    "# Предсказания на тестовой выборке\n",
    "y_pred = log_reg.predict(X_test_scaled)\n",
    "\n",
    "# Вычисляем F1-метрику\n",
    "f1 = f1_score(y_test, y_pred)\n",
    "\n",
    "print(f\"F1-метрика для логистической регрессии: {f1:.3f}\")\n"
   ]
  },
  {
   "cell_type": "markdown",
   "metadata": {},
   "source": [
    "Теперь перейдём к бустингу. Начнём с обучения первой модели — AdaBoost. В качестве базовой модели для неё возьмите решающее дерево с параметром random_state = 26.\n",
    "\n",
    "Обучите AdaBoost, зафиксировав random_state со значением 26 и задав темп обучения 0.01. В качестве ответа введите значение метрики f1_score. Ответ округлите до трёх знаков после точки-разделителя."
   ]
  },
  {
   "cell_type": "code",
   "execution_count": 59,
   "metadata": {},
   "outputs": [
    {
     "name": "stdout",
     "output_type": "stream",
     "text": [
      "F1-метрика для модели AdaBoost: 0.940\n"
     ]
    }
   ],
   "source": [
    "from sklearn.ensemble import AdaBoostClassifier\n",
    "from sklearn.tree import DecisionTreeClassifier\n",
    "from sklearn.metrics import f1_score\n",
    "\n",
    "\n",
    "# Инициализируем базовое решающее дерево\n",
    "base_tree = DecisionTreeClassifier(random_state=26)\n",
    "\n",
    "# Создаём модель AdaBoost с темпом обучения 0.01\n",
    "ada_clf = AdaBoostClassifier(estimator=base_tree, learning_rate=0.01, random_state=26)\n",
    "\n",
    "# Обучаем модель на масштабированных данных\n",
    "ada_clf.fit(X_train_scaled, y_train)\n",
    "\n",
    "\n",
    "# Делаем предсказания на тестовой выборке\n",
    "y_pred = ada_clf.predict(X_test_scaled)\n",
    "\n",
    "# Вычисляем F1-метрику\n",
    "f1 = f1_score(y_test, y_pred)\n",
    "\n",
    "print(f\"F1-метрика для модели AdaBoost: {f1:.3f}\")\n"
   ]
  },
  {
   "cell_type": "markdown",
   "metadata": {},
   "source": [
    "Перейдем к следующему алгоритму — градиентному бустингу.\n",
    "\n",
    "Будем настраивать количество деревьев и темп обучения, делая перебор по следующей сетке:\n",
    "\n",
    "params = {\"n_estimators\":2**np.arange(8), \"learning_rate\":0.1**np.arange(3)}\n",
    "Используйте для поиска оптимальных параметров GridSearchCV, а для ускорения работы алгоритма задайте параметр кросс-валидации, равный 3.\n",
    "\n",
    "Какое наибольшее значение метрики f1_score получилось? Ответ округлите до трёх знаков после точки-разделителя.\n",
    "\n",
    "Примечание. Необходимо указать лучший результат в методе GridSearchCV на тренировочных данных."
   ]
  },
  {
   "cell_type": "code",
   "execution_count": 60,
   "metadata": {},
   "outputs": [
    {
     "name": "stdout",
     "output_type": "stream",
     "text": [
      "Наибольшее значение F1-метрики на тренировочных данных: 0.949\n"
     ]
    }
   ],
   "source": [
    "from sklearn.ensemble import GradientBoostingClassifier\n",
    "from sklearn.model_selection import GridSearchCV\n",
    "from sklearn.metrics import f1_score\n",
    "import numpy as np\n",
    "\n",
    "\n",
    "# Определение сетки гиперпараметров\n",
    "params = {\"n_estimators\": 2**np.arange(8), \"learning_rate\": 0.1**np.arange(3)}\n",
    "\n",
    "\n",
    "# Создаём модель градиентного бустинга\n",
    "gb_clf = GradientBoostingClassifier(random_state=26)\n",
    "\n",
    "# Запускаем GridSearchCV с кросс-валидацией cv=3\n",
    "grid_search = GridSearchCV(gb_clf, params, cv=3, scoring='f1', n_jobs=-1)\n",
    "grid_search.fit(X_train_scaled, y_train)\n",
    "\n",
    "best_f1_train = grid_search.best_score_\n",
    "print(f\"Наибольшее значение F1-метрики на тренировочных данных: {best_f1_train:.3f}\")\n"
   ]
  },
  {
   "cell_type": "markdown",
   "metadata": {},
   "source": [
    "Обучите алгоритм XGBoost. Так как он достаточно мощный «из коробки», определите его с параметрами по умолчанию, только задайте random_state = 26. Какое значение метрики f1_score получилось? Ответ округлите до трёх знаков после точки-разделителя.\n",
    "\n",
    "Подсказка. Для того чтобы обучить алгоритм XGBoost для решения задачи классификации, вам понадобится XGBClassifier из библиотеки xgboost, установленной ранее. Вся дальнейшая последовательность действий (обучение модели, предсказание, оценка качества) идентична другим алгоритмам, например логистической регрессии."
   ]
  },
  {
   "cell_type": "code",
   "execution_count": 61,
   "metadata": {},
   "outputs": [
    {
     "name": "stdout",
     "output_type": "stream",
     "text": [
      "F1-метрика для модели XGBoost: 0.957\n"
     ]
    }
   ],
   "source": [
    "from xgboost import XGBClassifier\n",
    "from sklearn.metrics import f1_score\n",
    "\n",
    "\n",
    "# Создаём модель XGBoost с параметрами по умолчанию и фиксируем случайность\n",
    "xgb_clf = XGBClassifier(random_state=26)\n",
    "\n",
    "# Обучаем модель на масштабированных данных\n",
    "xgb_clf.fit(X_train_scaled, y_train)\n",
    "\n",
    "\n",
    "# Делаем предсказания на тестовой выборке\n",
    "y_pred = xgb_clf.predict(X_test_scaled)\n",
    "\n",
    "# Вычисляем F1-метрику\n",
    "f1 = f1_score(y_test, y_pred)\n",
    "\n",
    "print(f\"F1-метрика для модели XGBoost: {f1:.3f}\")\n"
   ]
  },
  {
   "cell_type": "markdown",
   "metadata": {},
   "source": [
    "Обучите алгоритм CatBoost. Как и XGBoost, будем обучать его с настройками по умолчанию и заданным random_state = 26. Какое значение метрики f1_score получилось? Ответ округлите до трёх знаков после точки-разделителя.\n",
    "\n",
    "Подсказка. Для того чтобы обучить алгоритм CatBoost, вам понадобится CatBoostClassifier() из библиотеки catboost, установленной ранее. Вся дальнейшая последовательность действий (обучение модели, предсказание, оценка качества) идентична другим алгоритмам, например логистической регрессии."
   ]
  },
  {
   "cell_type": "code",
   "execution_count": 62,
   "metadata": {},
   "outputs": [
    {
     "name": "stdout",
     "output_type": "stream",
     "text": [
      "F1-метрика для модели CatBoost: 0.961\n"
     ]
    }
   ],
   "source": [
    "from catboost import CatBoostClassifier\n",
    "from sklearn.metrics import f1_score\n",
    "\n",
    "\n",
    "# Создаём модель CatBoost с параметрами по умолчанию и фиксируем случайность\n",
    "catboost_clf = CatBoostClassifier(random_state=26, verbose=0)  # verbose=0 отключает вывод в консоль\n",
    "\n",
    "# Обучаем модель на масштабированных данных\n",
    "catboost_clf.fit(X_train_scaled, y_train)\n",
    "\n",
    "\n",
    "# Делаем предсказания на тестовой выборке\n",
    "y_pred = catboost_clf.predict(X_test_scaled)\n",
    "\n",
    "# Вычисляем F1-метрику\n",
    "f1 = f1_score(y_test, y_pred)\n",
    "\n",
    "print(f\"F1-метрика для модели CatBoost: {f1:.3f}\")\n"
   ]
  },
  {
   "cell_type": "markdown",
   "metadata": {},
   "source": [
    "Выведите матрицу ошибок для алгоритма, который получил наилучшие показатели качества модели на обучающей выборке (будем считать, что оцениваем по f1_score). \n",
    "Значения в матрице ошибок переведите в проценты от общего числа наблюдений в обучающей выборке и округлите до целых."
   ]
  },
  {
   "cell_type": "code",
   "execution_count": 67,
   "metadata": {},
   "outputs": [
    {
     "data": {
      "image/png": "[encoded data removed]",
      "text/plain": [
       "<Figure size 600x400 with 2 Axes>"
      ]
     },
     "metadata": {},
     "output_type": "display_data"
    },
    {
     "name": "stdout",
     "output_type": "stream",
     "text": [
      "Матрица ошибок (в процентах):\n",
      "[[56  1]\n",
      " [ 2 42]]\n"
     ]
    }
   ],
   "source": [
    "from sklearn.metrics import confusion_matrix\n",
    "import seaborn as sns\n",
    "import matplotlib.pyplot as plt\n",
    "import numpy as np\n",
    "\n",
    "# Делаем предсказания на обучающей выборке (так как оцениваем по f1_score)\n",
    "y_train_pred = catboost_clf.predict(X_train_scaled)\n",
    "\n",
    "# Получаем матрицу ошибок\n",
    "conf_matrix = confusion_matrix(y_train, y_train_pred)\n",
    "\n",
    "# Переводим значения в проценты\n",
    "conf_matrix_percent = np.round((conf_matrix / len(y_train)) * 100).astype(int)\n",
    "\n",
    "# Визуализация матрицы ошибок\n",
    "plt.figure(figsize=(6, 4))\n",
    "sns.heatmap(conf_matrix_percent, annot=True, fmt='d', cmap='Blues', xticklabels=['Neutral/Dissatisfied', 'Satisfied'], yticklabels=['Neutral/Dissatisfied', 'Satisfied'])\n",
    "plt.xlabel('Предсказанные значения')\n",
    "plt.ylabel('Истинные значения')\n",
    "plt.title('Матрица ошибок для CatBoost (в процентах)')\n",
    "plt.show()\n",
    "\n",
    "# Вывод процентной матрицы\n",
    "print(\"Матрица ошибок (в процентах):\")\n",
    "print(conf_matrix_percent)\n"
   ]
  },
  {
   "cell_type": "markdown",
   "metadata": {},
   "source": [
    "Оцените важность признаков для модели из предыдущего задания. Отметьте признак, который оказывает наибольшее влияние на значение целевой переменной:"
   ]
  },
  {
   "cell_type": "code",
   "execution_count": 68,
   "metadata": {},
   "outputs": [
    {
     "name": "stdout",
     "output_type": "stream",
     "text": [
      "Наиболее значимый признак: Inflight wifi service\n",
      "                  Feature  Importance\n",
      "6   Inflight wifi service   25.212187\n",
      "4          Type of Travel   17.820293\n",
      "11        Online boarding    7.391229\n",
      "2           Customer Type    7.136633\n",
      "22         Class_Business    5.639063\n"
     ]
    }
   ],
   "source": [
    "import pandas as pd\n",
    "\n",
    "# Получаем важность признаков из CatBoost\n",
    "feature_importances = catboost_clf.get_feature_importance()\n",
    "\n",
    "# Создаём DataFrame для удобства отображения\n",
    "importance_df = pd.DataFrame({'Feature': X_train.columns, 'Importance': feature_importances})\n",
    "\n",
    "# Сортируем по значимости\n",
    "importance_df = importance_df.sort_values(by='Importance', ascending=False)\n",
    "\n",
    "# Выводим признак с наибольшим влиянием\n",
    "most_important_feature = importance_df.iloc[0]\n",
    "print(f\"Наиболее значимый признак: {most_important_feature['Feature']}\")\n",
    "print(importance_df.head())  # Покажем топ-5 признаков\n"
   ]
  }
 ],
 "metadata": {
  "kernelspec": {
   "display_name": "Python 3",
   "language": "python",
   "name": "python3"
  },
  "language_info": {
   "codemirror_mode": {
    "name": "ipython",
    "version": 3
   },
   "file_extension": ".py",
   "mimetype": "text/x-python",
   "name": "python",
   "nbconvert_exporter": "python",
   "pygments_lexer": "ipython3",
   "version": "3.11.9"
  }
 },
 "nbformat": 4,
 "nbformat_minor": 2
}
