{
 "cells": [
  {
   "cell_type": "markdown",
   "metadata": {},
   "source": [
    "Разумеется, мы можем вычислять частные производные с помощью уже известной нам библиотеки SymPy. По сути, в коде ничего не меняется — надо лишь не забыть указать, по какой переменной вы ищете производную."
   ]
  },
  {
   "cell_type": "code",
   "execution_count": 17,
   "metadata": {},
   "outputs": [
    {
     "data": {
      "text/latex": [
       "$\\displaystyle 8 a^{7} + 5 b - \\cos{\\left(c \\right)}$"
      ],
      "text/plain": [
       "8*a**7 + 5*b - cos(c)"
      ]
     },
     "metadata": {},
     "output_type": "display_data"
    }
   ],
   "source": [
    "# Например, попробуем найти производную для функции \n",
    "# f(a,b,c)=5ab−a∗cos(c)+a**8+c**2∗b по переменной a:\n",
    "from sympy import symbols, cos, diff\n",
    "\n",
    "a, b, c = symbols('a b c', real=True)\n",
    "f = 5*a*b - a*cos(c) + a**8 + c**2*b\n",
    "\n",
    "display(diff(f, a))"
   ]
  },
  {
   "cell_type": "code",
   "execution_count": 18,
   "metadata": {},
   "outputs": [
    {
     "name": "stdout",
     "output_type": "stream",
     "text": [
      "Первая производная: 2*x\n",
      "Вторая производная: 0\n"
     ]
    }
   ],
   "source": [
    "a, b, x = symbols('a b x', real=True)\n",
    "f = (2*a*x)+(b**2)\n",
    "\n",
    "print('Первая производная:', diff(f, a))\n",
    "print('Вторая производная:', diff(diff(f, a), a))"
   ]
  },
  {
   "cell_type": "code",
   "execution_count": 19,
   "metadata": {},
   "outputs": [
    {
     "name": "stdout",
     "output_type": "stream",
     "text": [
      "Частная производная по x: 2*x\n",
      "Частная производная по y: -2*y\n",
      "Частная производная по x в точке M(-2, -1): -4\n",
      "Частная производная по y в точке M(-2, -1): 2\n",
      "В окрестности точки  M  функция  f(x,y)  убывает по  x  и возрастает по  y .\n"
     ]
    }
   ],
   "source": [
    "from sympy import symbols, diff\n",
    "\n",
    "# Определяем символы\n",
    "x, y = symbols('x y', real=True)\n",
    "\n",
    "# Определяем функцию\n",
    "f = x**2 - y**2\n",
    "\n",
    "# 1. Чему равны частные производные f(x,y)?\n",
    "\n",
    "# Находим частные производные\n",
    "f_partial_x = diff(f, x)\n",
    "f_partial_y = diff(f, y)\n",
    "\n",
    "# Выводим результат\n",
    "print(f\"Частная производная по x: {f_partial_x}\")\n",
    "print(f\"Частная производная по y: {f_partial_y}\")\n",
    "\n",
    "# 2. Вычислите частные производные в точке M(−2,−1):\n",
    "\n",
    "# Подставим значения в частные производные\n",
    "value_at_M_partial_x = f_partial_x.subs({x: -2, y: -1})\n",
    "value_at_M_partial_y = f_partial_y.subs({x: -2, y: -1})\n",
    "\n",
    "# Вывод значений частных производных в точке M(-2, -1)\n",
    "print(f\"Частная производная по x в точке M(-2, -1): {value_at_M_partial_x}\")\n",
    "print(f\"Частная производная по y в точке M(-2, -1): {value_at_M_partial_y}\")\n",
    "print('В окрестности точки  M  функция  f(x,y)  убывает по  x  и возрастает по  y .')\n",
    "\n"
   ]
  },
  {
   "cell_type": "markdown",
   "metadata": {},
   "source": [
    "Задание 2.4"
   ]
  },
  {
   "cell_type": "code",
   "execution_count": 21,
   "metadata": {},
   "outputs": [
    {
     "name": "stdout",
     "output_type": "stream",
     "text": [
      "Частная производная по a: 2*a + 4*b - 10\n",
      "Частная производная по b: 4*a + 8*b - 20\n"
     ]
    }
   ],
   "source": [
    "from sympy import symbols, diff\n",
    "\n",
    "# Определяем символы\n",
    "a, b = symbols('a b', real=True)\n",
    "\n",
    "# Определяем функцию\n",
    "f = (a + 2*b - 5)**2\n",
    "\n",
    "# Находим частные производные\n",
    "f_partial_a = diff(f, a)\n",
    "f_partial_b = diff(f, b)\n",
    "\n",
    "# Выводим результат\n",
    "print(f\"Частная производная по a: {f_partial_a}\")\n",
    "print(f\"Частная производная по b: {f_partial_b}\")\n"
   ]
  },
  {
   "cell_type": "markdown",
   "metadata": {},
   "source": [
    "Задание 2.5"
   ]
  },
  {
   "cell_type": "code",
   "execution_count": 22,
   "metadata": {},
   "outputs": [
    {
     "name": "stdout",
     "output_type": "stream",
     "text": [
      "Частная производная по x: 2*x + 3*y\n",
      "Частная производная по y: 3*x + 8*y\n",
      "Частная производная по x в точке (1,1): 5\n",
      "Частная производная по y в точке (1,1): 11\n"
     ]
    }
   ],
   "source": [
    "from sympy import symbols, diff\n",
    "\n",
    "# Определяем символы\n",
    "x, y = symbols('x y', real=True)\n",
    "\n",
    "# Определяем функцию\n",
    "u = x**2 + 3*x*y + 4*y**2\n",
    "\n",
    "# Находим частные производные\n",
    "u_partial_x = diff(u, x)\n",
    "u_partial_y = diff(u, y)\n",
    "\n",
    "# Подставляем значения в частные производные\n",
    "value_at_point_partial_x = u_partial_x.subs({x: 1, y: 1})\n",
    "value_at_point_partial_y = u_partial_y.subs({x: 1, y: 1})\n",
    "\n",
    "# Выводим результат\n",
    "print(f\"Частная производная по x: {u_partial_x}\")\n",
    "print(f\"Частная производная по y: {u_partial_y}\")\n",
    "print(f\"Частная производная по x в точке (1,1): {value_at_point_partial_x}\")\n",
    "print(f\"Частная производная по y в точке (1,1): {value_at_point_partial_y}\")\n"
   ]
  },
  {
   "cell_type": "markdown",
   "metadata": {},
   "source": [
    "Задание 2.6"
   ]
  },
  {
   "cell_type": "code",
   "execution_count": 24,
   "metadata": {},
   "outputs": [
    {
     "name": "stdout",
     "output_type": "stream",
     "text": [
      "Частная производная по x: y*cos(x)\n",
      "Частная производная по y: sin(x) + cos(y)\n"
     ]
    }
   ],
   "source": [
    "from sympy import symbols, diff, sin, cos\n",
    "\n",
    "# Определяем символы\n",
    "x, y = symbols('x y', real=True)\n",
    "\n",
    "# Определяем функцию\n",
    "u = y * sin(x) + sin(y)\n",
    "\n",
    "# Находим частные производные\n",
    "u_partial_x = diff(u, x)\n",
    "u_partial_y = diff(u, y)\n",
    "\n",
    "# Выводим результат\n",
    "print(f\"Частная производная по x: {u_partial_x}\")\n",
    "print(f\"Частная производная по y: {u_partial_y}\")\n"
   ]
  }
 ],
 "metadata": {
  "kernelspec": {
   "display_name": "Python 3",
   "language": "python",
   "name": "python3"
  },
  "language_info": {
   "codemirror_mode": {
    "name": "ipython",
    "version": 3
   },
   "file_extension": ".py",
   "mimetype": "text/x-python",
   "name": "python",
   "nbconvert_exporter": "python",
   "pygments_lexer": "ipython3",
   "version": "3.12.3"
  }
 },
 "nbformat": 4,
 "nbformat_minor": 2
}
