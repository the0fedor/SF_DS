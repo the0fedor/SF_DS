{
 "cells": [
  {
   "cell_type": "markdown",
   "metadata": {},
   "source": [
    "После знакомых вам шагов подготовки датасета, а именно очистки, анализа, проектирования признаков и их преобразования, дата-сайентисты приступают к обучению модели. Для этого необходимо разделить датафрейм, создать, обучить и оценить качество модели."
   ]
  },
  {
   "cell_type": "code",
   "execution_count": 36,
   "metadata": {},
   "outputs": [],
   "source": [
    "# importing pandas\n",
    "import pandas as pd"
   ]
  },
  {
   "cell_type": "code",
   "execution_count": 37,
   "metadata": {},
   "outputs": [
    {
     "data": {
      "text/html": [
       "<div>\n",
       "<style scoped>\n",
       "    .dataframe tbody tr th:only-of-type {\n",
       "        vertical-align: middle;\n",
       "    }\n",
       "\n",
       "    .dataframe tbody tr th {\n",
       "        vertical-align: top;\n",
       "    }\n",
       "\n",
       "    .dataframe thead th {\n",
       "        text-align: right;\n",
       "    }\n",
       "</style>\n",
       "<table border=\"1\" class=\"dataframe\">\n",
       "  <thead>\n",
       "    <tr style=\"text-align: right;\">\n",
       "      <th></th>\n",
       "      <th>hotel_address</th>\n",
       "      <th>additional_number_of_scoring</th>\n",
       "      <th>review_date</th>\n",
       "      <th>average_score</th>\n",
       "      <th>hotel_name</th>\n",
       "      <th>reviewer_nationality</th>\n",
       "      <th>negative_review</th>\n",
       "      <th>review_total_negative_word_counts</th>\n",
       "      <th>total_number_of_reviews</th>\n",
       "      <th>positive_review</th>\n",
       "      <th>review_total_positive_word_counts</th>\n",
       "      <th>total_number_of_reviews_reviewer_has_given</th>\n",
       "      <th>reviewer_score</th>\n",
       "      <th>tags</th>\n",
       "      <th>days_since_review</th>\n",
       "      <th>lat</th>\n",
       "      <th>lng</th>\n",
       "    </tr>\n",
       "  </thead>\n",
       "  <tbody>\n",
       "    <tr>\n",
       "      <th>0</th>\n",
       "      <td>Stratton Street Mayfair Westminster Borough Lo...</td>\n",
       "      <td>581</td>\n",
       "      <td>2/19/2016</td>\n",
       "      <td>8.4</td>\n",
       "      <td>The May Fair Hotel</td>\n",
       "      <td>United Kingdom</td>\n",
       "      <td>Leaving</td>\n",
       "      <td>3</td>\n",
       "      <td>1994</td>\n",
       "      <td>Staff were amazing</td>\n",
       "      <td>4</td>\n",
       "      <td>7</td>\n",
       "      <td>10.0</td>\n",
       "      <td>[' Leisure trip ', ' Couple ', ' Studio Suite ...</td>\n",
       "      <td>531 day</td>\n",
       "      <td>51.507894</td>\n",
       "      <td>-0.143671</td>\n",
       "    </tr>\n",
       "    <tr>\n",
       "      <th>1</th>\n",
       "      <td>130 134 Southampton Row Camden London WC1B 5AF...</td>\n",
       "      <td>299</td>\n",
       "      <td>1/12/2017</td>\n",
       "      <td>8.3</td>\n",
       "      <td>Mercure London Bloomsbury Hotel</td>\n",
       "      <td>United Kingdom</td>\n",
       "      <td>poor breakfast</td>\n",
       "      <td>3</td>\n",
       "      <td>1361</td>\n",
       "      <td>location</td>\n",
       "      <td>2</td>\n",
       "      <td>14</td>\n",
       "      <td>6.3</td>\n",
       "      <td>[' Business trip ', ' Couple ', ' Standard Dou...</td>\n",
       "      <td>203 day</td>\n",
       "      <td>51.521009</td>\n",
       "      <td>-0.123097</td>\n",
       "    </tr>\n",
       "    <tr>\n",
       "      <th>2</th>\n",
       "      <td>151 bis Rue de Rennes 6th arr 75006 Paris France</td>\n",
       "      <td>32</td>\n",
       "      <td>10/18/2016</td>\n",
       "      <td>8.9</td>\n",
       "      <td>Legend Saint Germain by Elegancia</td>\n",
       "      <td>China</td>\n",
       "      <td>No kettle in room</td>\n",
       "      <td>6</td>\n",
       "      <td>406</td>\n",
       "      <td>No Positive</td>\n",
       "      <td>0</td>\n",
       "      <td>14</td>\n",
       "      <td>7.5</td>\n",
       "      <td>[' Leisure trip ', ' Solo traveler ', ' Modern...</td>\n",
       "      <td>289 day</td>\n",
       "      <td>48.845377</td>\n",
       "      <td>2.325643</td>\n",
       "    </tr>\n",
       "  </tbody>\n",
       "</table>\n",
       "</div>"
      ],
      "text/plain": [
       "                                       hotel_address  \\\n",
       "0  Stratton Street Mayfair Westminster Borough Lo...   \n",
       "1  130 134 Southampton Row Camden London WC1B 5AF...   \n",
       "2   151 bis Rue de Rennes 6th arr 75006 Paris France   \n",
       "\n",
       "   additional_number_of_scoring review_date  average_score  \\\n",
       "0                           581   2/19/2016            8.4   \n",
       "1                           299   1/12/2017            8.3   \n",
       "2                            32  10/18/2016            8.9   \n",
       "\n",
       "                          hotel_name reviewer_nationality  \\\n",
       "0                 The May Fair Hotel      United Kingdom    \n",
       "1    Mercure London Bloomsbury Hotel      United Kingdom    \n",
       "2  Legend Saint Germain by Elegancia               China    \n",
       "\n",
       "       negative_review  review_total_negative_word_counts  \\\n",
       "0             Leaving                                   3   \n",
       "1       poor breakfast                                  3   \n",
       "2   No kettle in room                                   6   \n",
       "\n",
       "   total_number_of_reviews      positive_review  \\\n",
       "0                     1994   Staff were amazing   \n",
       "1                     1361             location   \n",
       "2                      406          No Positive   \n",
       "\n",
       "   review_total_positive_word_counts  \\\n",
       "0                                  4   \n",
       "1                                  2   \n",
       "2                                  0   \n",
       "\n",
       "   total_number_of_reviews_reviewer_has_given  reviewer_score  \\\n",
       "0                                           7            10.0   \n",
       "1                                          14             6.3   \n",
       "2                                          14             7.5   \n",
       "\n",
       "                                                tags days_since_review  \\\n",
       "0  [' Leisure trip ', ' Couple ', ' Studio Suite ...           531 day   \n",
       "1  [' Business trip ', ' Couple ', ' Standard Dou...           203 day   \n",
       "2  [' Leisure trip ', ' Solo traveler ', ' Modern...           289 day   \n",
       "\n",
       "         lat       lng  \n",
       "0  51.507894 -0.143671  \n",
       "1  51.521009 -0.123097  \n",
       "2  48.845377  2.325643  "
      ]
     },
     "execution_count": 37,
     "metadata": {},
     "output_type": "execute_result"
    }
   ],
   "source": [
    "# downloading the table\n",
    "hotels = pd.read_csv('hotels.csv')\n",
    "hotels.head(3)"
   ]
  },
  {
   "cell_type": "markdown",
   "metadata": {},
   "source": [
    "Сколько уникальных названий отелей представлено в наборе данных?"
   ]
  },
  {
   "cell_type": "code",
   "execution_count": 39,
   "metadata": {},
   "outputs": [
    {
     "name": "stdout",
     "output_type": "stream",
     "text": [
      "Количество уникальных значений: 1492\n"
     ]
    }
   ],
   "source": [
    "# определяем количество уникальных названий отелей\n",
    "unique_values_count = hotels['hotel_name'].nunique()\n",
    "\n",
    "print(f\"Количество уникальных значений: {unique_values_count}\")\n"
   ]
  },
  {
   "cell_type": "markdown",
   "metadata": {},
   "source": [
    "Ответьте на вопросы о дате размещения отзывов."
   ]
  },
  {
   "cell_type": "code",
   "execution_count": 41,
   "metadata": {},
   "outputs": [
    {
     "name": "stdout",
     "output_type": "stream",
     "text": [
      "Самый свежий отзыв был оставлен: 2017-08-03 00:00:00\n",
      "Cамый первый отзыв был оставлен: 2015-08-04 00:00:00\n"
     ]
    }
   ],
   "source": [
    "hotels['review_date'] = pd.to_datetime(hotels['review_date'], format='%m/%d/%Y')\n",
    "fresh_date = hotels['review_date'].max()\n",
    "earliest_date = hotels['review_date'].min()\n",
    "\n",
    "# Когда был оставлен самый свежий отзыв? Введите ответ в формате yyyy-mm-dd.\n",
    "print(f\"Самый свежий отзыв был оставлен: {fresh_date}\")\n",
    "# Когда был оставлен самый первый отзыв? Введите ответ в формате yyyy-mm-dd.\n",
    "print(f\"Cамый первый отзыв был оставлен: {earliest_date}\")"
   ]
  },
  {
   "cell_type": "markdown",
   "metadata": {},
   "source": [
    "Сколько уникальных тегов представлено в наборе данных?"
   ]
  },
  {
   "cell_type": "code",
   "execution_count": 56,
   "metadata": {},
   "outputs": [
    {
     "name": "stdout",
     "output_type": "stream",
     "text": [
      "Количество уникальных тегов: 2368\n",
      "Уникальные теги: {'Standard Double Room with Terrace', 'Horizon Suite with Dock View', 'Basic Double or Twin Room', 'Premium Twin Room', 'Superior Double Room with Sofa Bed and Pool View', 'Double Deluxe Room', 'Business Room', 'Quality Double or Twin Room', 'Superior Guest room 1 King or 2 Twin Single Bed s', 'Double Twin Rooms Next to Each Other', 'Executive Queen Room with Lounge Access', 'King Executive Waterfront with Access to Executive Lounge', 'Deluxe Double Room with Balcony and Free Pool Access', 'Junior Suite with Gallery View', 'Classic Double or Twin Room', 'Comfort Double or Twin Room with Rambla View', 'Queen Room', 'Two Bedroom Family Joining Suite with Mobile Phone 2 adults 3 children', 'Special Offer Double or Twin Room with Parking', 'Prestige Suite with Private Terrace', 'Comfort Single Room with Shower', 'King Hilton Sea View', 'King Atrium Suite with Lounge Access', 'Single Guest Room', 'Privilege Junior Suite with Spa Access', 'Economy Double Room', 'Executive Studio Suite', 'Four Seasons Executive King Suite', 'Grand Deluxe Double or Twin Room', 'Exclusive Double Room', 'Twin Room with Spa Bath', 'Luxury Two Bedroom Apartment', 'Secret Double Room', 'Classique Double Room', 'Romantic Offer Double Room', 'Privilege Room', 'Eiffel Tower Suite', 'Standard Guest Room', 'Deluxe King Studio Suite', 'Nelson Double Room', 'Grand Executive King Room', 'Art Room with Iconic View', 'Suite 1 3 Adults', 'Standard King Room Non Smoking', 'Standard Double Twin Room', 'Couture Deluxe Double Room', 'Family Suite 4 Adults', 'Superior Double Studio', 'Family Room with Two Double Beds', 'Small Deluxe Room with Canal View', 'Deluxe Twin or Double Room', 'Luxury Junior Suite', 'Suite Split Level', 'Twin Superior Room', 'Classic Double Room with Free Access to Hamman', 'Junior Suite Saint Honor', 'Deluxe Quadruple Room with Canal View', 'Superior Room with 1 Double Bed', 'Classic Double Room with Breakfast', 'Design Double or Twin Room', 'Junior Family Suite 3 Adults', 'Champagne Shopping package Double Room', 'Duplex Family Suite with Spa Bath', 'Double Room with Public Transport Ticket', 'Superior King Room with Sofa Bed', 'Deluxe Queen Room with View', 'Two Adjacent Double Rooms with free pool and hammam access', 'Deluxe Double or Twin Room with Sea View', 'Grand Duplex Suite', 'Family Quadruple Room', 'Three Bedroom Suite', 'Deluxe with Two Double Beds', 'Deluxe Double or Twin Room with Balcony', 'Executive Queen Room Non Smoking', 'One Bedroom River View Suite', 'Park Room', 'Double Executive Room with Lounge Access', 'Double Room with Free Airport Shuttle Service from 5 00am to 00 30am', 'Deluxe Double Room with 1 Extra Bed', 'King Superior Room', 'Deluxe Twin Studio', 'Premium Double or Twin Room with Garden View', 'Hypoallergenic Double or Twin Room', 'Curve Suite with Lounge Access', 'Executive Room Queen size Bed', 'Standard Double Room with City View', 'Two Bedroom Penthouse Apartment', 'One Bedroom Queen Suite', 'Queen Guest Room with Terrace', 'Executive Studio with London Eye View', 'Deluxe Room with Club Lounge access', 'Luxury King Room 3 Adults', 'Penthouse Plaza Suite with Access to Executive Lounge', 'Chambers Junior Suite with Club Lounge Access', 'King Grand Premier with Canal View', 'Amiral Single Room', 'Family Apartment 2 Adults 2 Children', 'Luxury Room Club Sofitel with Spa Access', 'Double or Twin Room 1 2 Adults', 'Club Room', 'Park Deluxe Suite', 'Superior Room with Double Bed', 'Comfort Double or Twin Room 1 2 Adults', 'Deluxe Room with Courtyard View', 'Suite Tea Time Wine Tasting Included', 'Deluxe Double Room with Spa Bath', 'Grand Superior King or Twin Room', 'Suite Duplex', 'Family Room 2 Adults 1 Children', 'Studio Deluxe Suite', 'Standard Family Room', 'Executive Double Room with Eiffel Tower View', 'Executive King Twin Room', 'Double Hilton Deluxe', 'City Suite', 'Deluxe Room Henry Monnier', 'Executive Double Room Eiffel Tower View with 1 Queensize and Sofa Bed', 'Deluxe King Room 2 Adults', 'Double Guest Room', 'Classic Double Single Use', 'Family Room 2 Adults 3 Children', 'Mansart Executive Room', 'Duplex Suite with State Opera View Top Floor', 'Single Room with Arc de Triomphe View', 'Privilege Twin King Room', 'Superior Twin Room 2 adults', 'Standard Double Room with Panoramic View', 'Family 2 Connecting Rooms', 'Double Deluxe room with Roman Bath', 'Twin Suite', 'Superior Junior Suite', 'Marina Twin Suite', 'Junior Suite Give me the night', 'Luxury Quadruple Room', 'Eiffel Tower View King Room', 'Club Twin Room', 'Standard Double Room with Sofa Bed', 'Classic King Room', 'Single Room with Bath', 'Special Offer Deluxe Double Room', 'View King Room', 'Standard Room for 1 or 2 people with Kitchenette', 'Junior Suite with Terrace', 'Deluxe', 'Stayed 8 nights', 'Queen Room with Sofa Bed Non Smoking', 'Standard Twin Room with Sofa', 'Triple Room 3 Adults', 'One Bedroom King Suite with Garden View', 'Executive Premium Queen Room', 'Family room Free Wi Fi', 'Suite with Eiffel Tower View', 'Standard Queen Room with Two Queen Beds', 'Double Room Capricieuse', 'Comfort Twin Double Room', 'Privilege Double Room with Terrace', 'Standard Double Room 2 Adults', 'Standard Double or Twin Room with View', 'Luxury Suite Patio', 'Double or Twin Room Ladies Special', 'Deluxe Apartment', 'Double or Twin Room Non Smoking', 'Comfort Triple Room', 'Twin Executive Room with Lounge Access', 'Suite Parisienne', 'Large Double Room', 'Deluxe King Room with Balcony', 'Junior Suite 2 Adults with Free Airport Shuttle Service from 5 00am to 00 30am', 'Luxury Double Room', 'Basic Single Room', 'Double Room Attic', 'Queen Hilton Superior Room', 'Superior Room with Extra Bed 3 Adults', 'Two Adjacent Double Rooms', 'Deluxe Studio Apartment 2 Adults', 'Superior Queen Room with Sofa Bed Non Smoking', 'King Hilton Plaza Room', 'Art Room XL with Iconic View', 'Family Room Free WiFi', 'Premier Twin Room', 'Standard Room with Double Bed and Sofa Bed', 'Deluxe Double Room with Spa Access', '2 Connecting Rooms', 'Superior Room queen size bed and double sofa bed', 'Classic Designer', 'Junior Suite Canal View', 'Fabulous Bank King', 'Deluxe Duplex Room', 'Double Room with St Stephen s Cathedral View', 'Executive Suite with Balcony', 'Deluxe Room 3 Adults', 'Apartment 3 Adults', 'Superior Suite 3 Adults 1 Child', 'One Bedroom Park Suite', 'Double Room with Shower', 'Deluxe One Bedroom Suite', 'Standard Double Room with Parking', 'Duke of Monmouth Suite', 'Park Queen', 'Stayed 21 nights', 'Superior Room with Spa Fitness Access', 'Standard Quadruple Room', 'Junior Suite with living room', 'Classic Room with 1 Queen bed', 'Superior Room with 1 Queen Bed and Sofa 3 Adults', 'Double Room with Small Double Bed', 'Junior Suite with VIP Services', 'Stayed 10 nights', 'Suite 1 2 Adults', 'Classic Double Room with Courtyard View', 'Queen Guest Room with River View', 'Deluxe Triple Room with View', 'Apartment', 'Double Room Crash Pad', 'Business Apartment with Public Transport Ticket', 'Stanhope Suite', 'Executive Room with Two Double Beds', 'Suite Couture', 'Standard Family Suite with Two Connecting Rooms', 'Elegance Double or Twin Room', 'Quality Single Room', 'Royal Suite with Canal View', 'Junior Suite Jungle Fever with Hot Tub', 'Double Room D couverte', 'King Room with Pool View', 'Double Room Insolite', 'Family Room 4 People', 'Deluxe Double Room with Connecting Doors', 'Twin Grand Premier Room', 'Deluxe Eiffel Tower King Room', 'Junior Suite 4 Adults', 'Deluxe King Room with Terrace', 'Deluxe Double Room or Twin Room', 'Junior Suite XL', 'Premier Shard King Room', 'Deluxe Junior Suite with Spa Bath', 'Queen Room with Sofa Bed', 'Standard Room with terrace', 'Suite with hammam', 'King Deluxe Room', 'Deluxe Family Room', 'Premium Triple Room', 'Luxury Single Room', 'Spectacular Double Room', 'King Size Double Room', 'Mus e d Orsay Double Room', 'Two Adjacent Rooms', 'Premier River King Room', 'Executive Business Room with Double Bed', 'King Room Disability Access Non Smoking', 'Park Deluxe Executive King', 'Imperial Suite', 'Diamond Suite Spa', 'Standard Triple Room with Queen Bed and Sofa Bed', 'Champs Elys es Prestige Room', 'Triple Room Free Wi Fi', 'Superior Double Room with free unlimited WIFI', 'Superior Double or Twin Room with Balcony 1 Adult', 'Deluxe Triple Room with Paris View', 'Classic Double Room with Garden View', 'Junior Suite My Ch rie Amour', 'Executive Room with Two Queen Beds', 'Collection Suite', 'Art Deco Room Balcony', 'Deluxe with Garden', 'Superior Twin Room with Courtyard Garden or City View', 'Superior King Room with Balcony', 'King or Double Room with Panoramic View', 'Double Room Radieuse', 'Standard Double Room with Two Single Beds', 'Urban Junior Suite', 'Premium Lafayette', 'Deluxe Park View', 'Superior Queen Suite with Sofa 3 Adults', 'One Bedroom Apartment with City View', 'Junior Suite Blue Sunshine', 'Club Room with Club Lounge Access', 'Double Suite', 'Queen Room with Executive Lounge Access', 'Superior Double or Twin Room with Spa Access', 'Junior Double Suite', 'Club Double Room with Lounge Access', 'Executive Suite 2 Adults', 'Premier King Room with City View', 'One Bedroom City Suite', 'Deluxe Studio Suite', 'Executive Suite with Spa Bath', 'King Executive Room with Lounge Access', 'Family Room 3 Adults 1 Child', 'Deluxe double or Twin Room', 'Four Connecting Rooms', 'Double Room 3 Adults', 'Executive Double or Twin Room with view of Big Ben and Lounge Access', 'Junior Suite with Spa Bath', 'Double Room with Extra Bed', 'Classic Room with Garden View', 'Knightsbridge Suite', 'Privilege Room with Double Bed and Single Sofa Bed', 'Courtyard Suite with St Stephen s Cathedral view', 'Spring Package Deluxe Double or Twin Room', 'Superior Single Room', 'Double for Single Use', 'Deluxe Double or Twin Room with Landmark View', 'Secret Room with Spa Access', 'Special Offer Double Room with Continental Breakfast', 'Penthouse Junior Suite with Access to Executive Lounge', 'Two Connecting Double and Twin rooms', 'Double Room with City View 1 2 Adults', 'Superior Room with King Bed', 'Double Room Disability Access Tub', 'Suite with Garden View', 'King Deluxe Guest Room', 'Executive Double or Twin Room Canal View', 'Single Room with Private Bathroom', 'Deluxe Junior Partial River View', 'Superior room with Queen bed and sofa', 'Premier Room', 'Single Room Tea Time Wine Tasting Included', 'King Room Second Floor', 'Prestige Twin Room', 'Economy Single Room', 'Deluxe Double Studio', 'Deluxe Double or Twin Room with Ramblas View', 'Canal View Superior Deluxe Room with Spa Bath', 'Deluxe Barcelona city View', 'Suite Elys e', 'Deluxe Family Room with 1 Double and 2 Single Beds 3 Adults', 'Junior Suite Basement', 'City Twin Room', 'Studio Suite with Club Lounge Access', 'Room with Dock View Main Deck', 'Executive Single Room', 'Club Double or Twin Room', 'Luxury Duplex Room', 'Grand Deluxe Imperial Room', 'River View Balcony Suite', 'Standard Double Room without Window', 'Premium View Double Room', 'Hilton Deluxe King Room', 'Executive Double Room with Spa Fitness Access', 'Single Room with Spa Access', 'Business Double Room Ground Floor', 'Executive Club Double Room', 'Deluxe Room with Whirlpool', 'Premier Suite', 'Luxury Family Room', 'Privilege Room with 1 Double Bed', 'Townhouse Deluxe', 'Studio Attrape R ve', 'Quadruple Room with Shower', 'Superior Double or Twin Room with Free Airport Shuttle Service from 5 00am to 00 30am', 'Studio Suite', 'Twin Room with Sea View', 'Privilege Room 3 Adults', 'Small Double Room Annex building', 'Superior Suite with City View', 'Cabin Single Room', 'Superior Double or Twin Room for Single Use', 'Queen Bed Leisure', 'Executive Double or Twin Room with Harbour View', 'Family with young children', 'Junior Suite Immersive Art Experience', 'Superior Queen Single Room', 'Kings Junior Suite', 'Royal Double Room', 'Superior Suite 4 Adults', 'Emotion Room', 'Comfort Triple Room with Spa Bath', 'Imperial Club Double Room with access to the Club Lounge', 'Suite with Hot Tub', 'Deluxe Double Room with Two Single Beds', 'Business King Room', 'Superior Apartment 4 Adults', 'Classic Double Room with City View', 'Queen or Two Double Beds Room', 'Small Double Room Canal View', 'Superior Double Room 2 Adults 1 Child', 'Junior Suite High Floor', 'Stayed 2 nights', 'Executive Club Twin Room', '2 rooms', 'Grand Premium Double or Twin with Sea View', 'Ring Suite', 'Superior Double or Twin Room with Terrace', 'Premium Family Room', 'Executive Black Suite', 'Executive Suite with Free Airport Shuttle Service from 5 00am to 00 30am', 'Double Room Medium', 'Standard Double Room with View', 'Superior Room with Two Double Beds and Balcony', 'Superior Double or Twin Room with Extra Bed', 'Deluxe Double Room with River View', 'Double or Twin Room with Sofa Bed', 'Superior Twin Room', 'Two Adjacent Double Room', 'Junior Suite with Sea View', 'Romantic Double Room', 'Large Triple Room', 'Deluxe King or Twin Room', 'Executive Queen Room', 'Double Room with Spa Bath', 'Superior Double Room with Spa Access', 'Deluxe Garden Room', 'Two Adjoining Double Rooms', 'Executive Room City View', 'Delegate Deluxe Double Room', 'Two Connecting Classic Double Rooms', 'Special Offer Queen Room', 'King One Bedroom Suite with Lounge Access', 'Superior Room with Balcony and Opera Garnier View', 'Junior Suite with Balcony', 'Privilege King Room', 'Mini Room', 'Apartment 4 Adults', 'Two Adjoining Superior Suite', 'Superior Plus Twin Room', 'Urban Triple Room', 'Premium Superior Double Room', 'Deluxe Double or Twin Room Annex', 'Duplex Room 4 Adults', 'Privilege Room with Double Bed', 'Junior Suite with Kingsize Bed 3 persons', 'Superior Room for 1 2 people with Kitchenette', 'Superior Room 3 Adults', 'Family Room Two Connecting Rooms', 'Suite Room', 'Deluxe Triple Room', 'Accessible Studio Suite', 'Ma tre Superior Double or Twin Room with Street View', 'Superior Double Room with Terrace and Private Pool', 'Superior Apartment 2 Adults', 'Large Canal View King', 'Suite Terasse Eiffel', 'Junior Suite with Bath and Shower', 'Superior Room with Queen size Bed and Double Sofa Bed', 'Cosy Room', 'Executive Family Room 2 Adults and 2 Children', 'Twin Room with Extra Bed', 'Deluxe Guest Room', 'Deluxe King Room', 'Luxury Room 2 Adults with canal view', 'Family Superior Room', 'Suite 5 Adults', 'King Room with Sofa Bed', 'Superior Pantheon Room', 'Luxury Double Room with Balcony', 'Two Adjacent Classic Rooms', 'Club Eiffel Tower King Room', 'Superior Triple Room with 3 Single Beds', 'Superior Room with a shower or a bath', 'Superior Double Room with Private Patio', 'Queen Hilton Deluxe', 'Royal Suite Split Level with Spa Bath Annex building', 'Deluxe Double Room with Two Double Beds', 'Elisabeth Suite', 'Junior Suite with Access to Executive Lounge', 'Corner Larger Executive room with Executive lounge access Free Wifi', 'Double Room Courtyard', 'Classic King View', 'Chelsea Double Suite', 'Family Room with King Bed and Sofa Bed', 'Cool Corner Room', 'Superior Room with 2 Double Beds', 'Deluxe Suite', 'King Guest Room Wheelchair Accessible', 'Quintuple Room 5 Adults', 'Triple Room', 'Deluxe Double or Twin Room with Spa Bath', 'Classic Single Room with Garden View', 'Privilege Room with 1 Queen Size bed', 'Double Room Disability Access', 'Superior Twin Room with Pool Access', 'Executive King Suite with Lounge Access', 'Superior Junior Suite Single Use', 'Stayed 12 nights', '4 rooms', 'Superior Suite 3 Adults', 'Executive King Room with Air Conditioning', 'Studio My Little Haussmann', 'Deluxe Double Room with Canal View', 'Suite 2 Adults 2 Children', 'Quadruple Suite', 'Superior Double Room with Courtyard View', 'Privilege Room with a double bed', 'Luxury Studio Suite', 'Classic Single Room with Spa Access', 'Loft Double Room with Terrace', 'Two Adjacent Double or Twin Rooms', 'Suite with Knightsbridge View', 'Executive Double Room with Spa Bath', 'Superior Apartment 3 Adults', 'Cozy Room', 'Triple Room with City View', 'Suite Grand Lit', 'Bunk Bed in Twin Room Pigalle 12', 'Executive Queen Room 2 adults', 'Standard Studio Suite', 'Twin Room with City View 1 2 Adults', 'Double Room with Extra Bed 3 Adults', 'Club Suite', 'Suite with City View and Parking', 'Deluxe Premium Double Room', 'Twin Room with City View Top Floor', 'Superior Twin Room with Two Double Beds', 'Privilege Room with Extra Bed 3 Adults', 'Standard Room with Queen Bed', 'Superior Quadruple Room', 'Superior Twin Room with Eiffel Tower View', 'Superior Double Room with View Non Smoking', 'Deluxe Double Room With Free Access to Steam Bath', 'Deluxe Double Room with Club Lounge Access', 'Two Double Bed Guest Room', 'Queen Room with Roll In Shower Mobility Access Non Smoking', 'Executive Room 1 Queen size Bed 1 Sofa Bed Balcony', 'Superior Triple Room', 'The Duplex', 'Family Room 4 guest', 'Junior Double Room', '2 Adjacent Non Communicating Rooms', 'Junior Deluxe Double Room', 'Superior Double or Twin Room with Balcony', 'Superior Room Non Smoking', 'Double Deluxe Plus Room', 'Superior Double Room with Queen size bed', 'Discovery Double Room', 'Four Poster Suite', 'Studio 2 Adults', 'Hyatt Queen Room', 'Double or Twin Room with Parking', 'Triple Room 2 Adults 1 Child', 'Parisian Junior Suite', 'Executive Apartment', 'Budget Double Room', 'Comfort Quadruple Room', 'Suite Marignan Eiffel', 'Gallery Suite', 'Superior Double or Twin Room with Eiffel Tower partial view', 'Garden View Queen', 'Deluxe Two Bedroom Suite', 'Oscar Wilde Room', 'Vend me Deluxe Room', 'Luxury Double Room Medium', 'Queensgate Twin Room', 'Embassy Suite', 'Superior Twin Room with Paris View', 'Garden Twin Room', 'Double Room 2 Adults 1 Child', 'Suite Canal View', 'Family Suite', 'Double or Twin Room with City View', 'Principle Double', 'Couple', 'Junior Suite Sans Mod ration', 'One Bedroom Suite', 'King Plaza Executive Room', 'Premium Double Room with Garden View', 'Eiffel Suite with partial view', 'Executive Room with 1 Queen bed', 'With a pet', 'Room Selected at Check In', 'Executive Suite with River View', 'Small Studio', 'Classic Room Breakfast Included', 'Deluxe Two Bedroom Apartment', 'Double Room with Parking', 'Superior Duplex Room', 'Twin Room 1 2 Adults', 'Double Room Curieuse', 'One Bedroom Studio Suite', 'Double or Twin Room In dite', 'Compact Double Room with Private Bathroom', 'Double Twin Superior Room', 'Duplex Suite', 'Double Room Single Use', 'Hansen Suite', 'Lower Ground Double Room', 'Smart Triple Room', 'Andaz Large Suite', 'Classic Apartment', 'Double Room Free Wi Fi', 'Superior Double Room with Internal View', 'Comfort Room with Extra Bed', 'Westminster Suite with King Bed', 'Deluxe Double Room with Courtyard View', 'penta PlayerPad Suite', 'Business Plus Single Room with Balcony', 'Queen or Twin Room', 'Park Deluxe Twin', 'Superior Room with 1 Double Bed and 1 Sofa Bed 3 Adults', 'Superior Double Room Plus L Insolente', 'Business Apartment 1 Adult', 'Compact Double Room', 'Duplex Suite with Sofa Bed', 'Twin Hilton Room Plus', 'Junior Suite with River View and Balcony', 'Junior Suite with View', 'Superior Triple Room XL', 'Park Deluxe King or Twin', 'Champagne Shopping package Twin Room', 'Superior Room with 2 zip beds', 'Art King Room', 'Double Room 1 Adult', 'King Room with Executive lounge access', 'Classic Double Room', 'Business Class Room', 'Camper Room', 'Apartment 1 2 Adults', 'The Level Grand Premium Double or Twin Room with City View', 'Deluxe Queen Room', 'Park Junior Suite', 'Superior Double Room with Tea Time Included', 'Executive Master Suite', 'Double Room Luxury XXL King size bed', 'Deluxe Eiffel Tower Twin Room', 'Superior Double Room Ground Floor', 'Small Double Room without Window', 'Club Suite with Executive Lounge Access', 'Privilege Double Room 2 Adults 1 child', 'Economy Double or Twin Room', 'Cosy Double Room', 'Superior Room with Spa access', 'Universitat Double or Twin Room', 'Signature Suite', 'Grand Deluxe Contemporary Room', 'Deluxe Room with Two Double Beds', 'King or Twin Room with River View', 'Stayed 25 nights', 'Family with older children', 'Deluxe Contemporary Room', 'Superior Double Room with Free Access to Hamman', 'Deluxe Queen Room with Balcony', 'superior Double or Twin Room with extra bed', 'Basic Double', 'Queen Family Room', 'Standard Double Room with Bath', 'Twin Hilton Executive Room with Access to Executive Lounge', 'City King Room', 'King Room with Courtyard View', 'Suite with Sofa Bed', '2 Connecting Rooms 5 people', 'Superior King Suite', '2 Connecting Deluxe Rooms with VIP Service for Kids', 'Executive Double Room with Access to The Level Lounge', 'Deluxe Family Room with SPA Access', 'Superior King Room with River View', 'Director s Double Room', 'Luxury One Bedroom Apartment', 'Deluxe King Room with Club Lounge Access and Balcony', 'Queen Superior Room', 'Family Communicating Rooms', 'Room with View', 'Classic King Twin Room', 'Deluxe Double Room with Terrace', 'King Magistrate Suite', 'Studio King Family', 'Queen Suite with Balcony and City View', 'Comfort Double Room', 'Deluxe Double or Twin Room 3 Adults', 'Suite with Spa Bath', 'Superior Double Room with Two Double Beds', 'Privilege Room With View', 'Superior Romantic Double Room', 'Superior Room with City View', 'Junior Suite with Cathedral View', 'Family Duplex Room', 'Royal Room with Ramblas view', 'Large Single Room', 'Royal Duplex Suite', 'Deluxe Twin Room with View', 'Standard Double Room Single Use', 'Superior King Room Non Smoking', 'Premier King Room Barlow Wing', 'Deluxe Balcony Room', 'Executive Room with Canal View', 'Deluxe Twin', 'Small Twin Room', 'Standard Double Room with Tea Time Included', 'Executive King', 'Tiny Single Room', 'Executive King Room with Sofa Bed Non Smoking', 'Petite Double Room', 'Deluxe Double with Terrace', 'Marvelous Suite', 'Park Executive Suite', 'Queensgate Triple Room', 'Panorama Double Room', 'Superior Garden View Room', 'Large Penthouse Suite with Terrace and City View', 'Junior King Suite', 'Suite Family and Friends', 'Junior Suite 5 Adults', 'Grand Premium Double or Twin with City View', 'Interior Double or Twin Room', 'Family Junior Suite', 'Club Double Room', 'Classic Room with 2 Double Beds 4 Adults', 'Classic Double Room with free pool and hammam access', 'Montcalm Club Double Room', 'Classic Twin Room with Garden View', 'Large One Bedroom Apartment', 'Deluxe Triple Room with Canal View', 'Marina Double Suite', 'Deluxe Double Room with Extra Bed', 'Double Queen Executive Waterfront with Access to Executive Lounge', 'Twin Hilton Guest Room', 'Wonderful Sky Room', 'Executive Room Selected at Check In', 'Executive Room with 1 Queen Bed and 1 Sofa 3 Adults', 'Small Double Room', 'King Suite Non Smoking with Executive Lounge Access', 'Standard Double Room with Bridge View', 'Camper Suite', 'Level Room with Executive Lounge Access', 'Deluxe Metropolitan City Double Room', 'Deluxe King Guestroom', 'Tradition Twin Room', 'Executive King Room with Executive Lounge Access', 'Junior Suite with View of the Eiffel Tower', 'Club Level Classic Rooms', 'Family Room Two Connecting Rooms VIP Welcome for Kids', 'Suite with Spa Access', 'Double without credit card', 'Family Room Sleeps Four', 'Hyatt Twin Room', 'Deluxe Queen Room with Sofa', 'Junior Suite Free Wifi', 'Superior Double or Twin Room with Terrace Spa acces', 'Standard Room with 1 Double Bed and 1 Double Sofa bed', 'Standard Double or Twin Room Annex Building', 'Montcalm Club Twin Room', 'Executive Double Room Top Floor', 'Suite with Executive Lounge Access', 'Premier Twin Room with City View', 'King Double Room', 'Interconnecting Double Rooms', 'Signature Double Room', 'Grande Suite', 'City King or Twin Room', 'Executive Twin Room with Lounge Access', 'Executive Queen Room with Two Queen Beds with lounge Access', 'Emperor Suite', 'King Duplex Suite', 'City Room', 'Superior Studio', 'Deluxe King Room with River View', 'Studio Twin Room', 'Park Deluxe Room', 'Standard Queen or Twin Room Lower Ground Floor', 'Suite with Terrace', 'Eiffel Tower Junior Suite', 'Deluxe Double Room with Balcony Non Smoking', 'Deluxe Double Room 2 Adults 1 Child', 'Townhouse Club', 'Prestige Triple Room', 'Two Adjacent Rooms 6 persons', 'Deluxe Apartment 4 Adults 2 Children', 'Superior Double Room with Saint Germain des Pr s Church View', 'Family Two Bedroom Suite', 'Junior Suite Avenue', 'Cosy Single Room', 'Tower Suite with Lounge Access', 'Two Connecting Basic Rooms', 'Family Studio', 'Deluxe Double or Twin Room with Pool Access', 'Double Room Mus e d Orsay with Spa Bath', 'King Hilton Deluxe Room', 'Superior King Suite 3 adults', 'Urban Deluxe', 'Double Room Annex', 'Double or Twin Room with Extra Bed 3 Adults with Free Airport Shuttle Service from 5 00am to 00 30am', 'Premium Double Room with Terrace', 'Apartment with City View Top Floor', 'King Grand Deluxe Room', 'Superior Room with Sofa Bed', 'Double or Twin Room with Park View', 'Duplex King Suite 3 Adults', 'Canal View Queens', 'Twin Bed Suite', 'Minsters Deluxe Two Bedroom Suite', 'Stayed 11 nights', 'Executive Double', 'One Bedroom Executive Suite with Lounge Access', 'Double or Twin Room 1 or 2 adults', 'Intuition Room', 'Two Interconnecting Rooms', 'Executive King Room with Panoramic View', 'Double Room with Patio View', 'Superior Room with 1 Queen Bed 1 Sofa Bed', 'Special Offer Double Room Park and Sleep inklusive Breakfast', 'Superior Twin Double Room', 'King Corner Room', 'Large King Room', 'REN Room Free Wifi', 'Business Twin Room with Courtyard View and Public Transport Ticket', 'Executive Room', 'penta Junior Suite', 'Luxury Room 3 Adults with canal view', 'Queen Single Room', 'Economy Single Room basement no window', 'One Double Suite NonSmoking', 'Comfort Suite', 'Stayed 26 nights', 'Luxury Triple Room', 'Superior Double Room with Duomo View', 'Double Room with Balcony', '5 rooms', 'Double Accessible Guest Room', 'Classic Triple Room 3 Adults', 'Room with Ramblas View', 'King Guest Room with Sofa Bed', 'Business Double or Twin Room', 'Wonderful Double Room', 'Duplex Room', 'Double Room for Single Use', 'Junior King Suite with View 3 Adults', 'Green Park Suite', 'Royal Mews View King Room', 'Single Room with Shower', 'Deluxe Room with Two Single Beds', 'Stayed 7 nights', 'Superior Room with Queensize Bed and Single Sofa Bed 2 Adults 1 Child', 'Superior Twin Room with City View', 'Panorama Suite', 'King Cathedral View Room', 'Junior Suite 2 Adults 1 Child', 'Junior Suite Double or Twin', 'Parisian Suite', 'Premium Double or Twin Room with Terrace and Spa Access', 'Accessible Twin Guest Room', 'Cabine Single Room', 'Single Room with Bathroom', 'Twin Hilton Deluxe Room', 'Double Room with City View', 'Master Bedroom Double', 'Triple Room with Mobile Phone 3 adults', 'Executive Queen Room with Sofa Bed 3 Adults', 'Large Comfort Double or Twin Room', 'Small Double Room with Extra Bed Annex building', 'Double Room with Extra Bed 2 Adults 1 Child with Ramblas View', 'Superior M Double Room', 'Deluxe Quadruple Room', 'Superior Double Room 1 Adult', 'Deluxe King Room with Garden View', 'Two Adjacent Deluxe Rooms', 'Triple Studio', 'Twin Hilton Plaza Room', 'La Mathurin Suite', 'Deluxe Twin or Single Room', 'Standard Double Room with Two Double Beds', 'Grand Premier Family Room', 'Superior Double Room Single use', 'Junior Suite with Private Pool', 'Superior Room with 1 Double Bed and 1 Single Bed', 'Superior Double Room Free Wi Fi', 'Comfort Family Room', 'Superior Room with Balcony', 'King Suite', 'Family Room with Bathroom', 'Comfort King or Twin Room', 'Standard Room with 2 Single Beds', 'Travelers with friends', 'Junior Suite with Executive Lounge Access and Free Wifi', 'Superior Room with Queen size bed and Sofa Bed', 'Double Room XL', 'Junior Suite with Private Access to Pool and Spa', 'King Executive Suite with Lounge Access', 'One Bedroom King Suite with Sofa Bed', 'Pasha Suite', 'City Garden Room', 'Grand Deluxe Room', 'Kube Double or Twin Room', 'King Room', 'Superior Queen Room with 2 Single Sofa Beds', 'Executive Room with Terrace', 'Twin Room with Extra Bed 3 Adults', 'Superior Room Pigalle', 'Superior Double Room Non Smoking', 'Stayed 16 nights', 'Deluxe Twin Room Annex', 'Executive Double Room with Park View', 'Duplex Junior Suite with Spa access', 'Boudoir Double Room', 'One Bedroom Suite with Air Conditioning', 'Deluxe King Room with Paris View', 'Executive Queen Room with Sofa', 'Deluxe Double Room with View and Disability Access', 'Squint Splash Suite', 'Double Room with Four Poster Bed', 'Twin Room with Park View', 'Suite without Window', 'Artist s Studio King Junior Suite with Spa access', 'Standard Twin Room 2 Adults 1 Child', 'Executive Deluxe Double Room', 'Superior Double Room with Sea View', 'Deluxe L Double Room', 'Studio with Spa Access', 'Classic Queen Room', 'Executive Studio City View', 'Quadruple Room Annex', 'Deluxe Premium King Room', 'Stayed 18 nights', 'Double Room with Two Double Beds', 'Double Room with Canal View', 'Twin Room with Partial Sea View', 'Large Garden View King', 'Club King Room Non Smoking with Executive Lounge Access', 'La Reflet Junior Suite', 'Single Room with Double Bed', 'Superior Double Room with Spa Access Free Wifi', 'Executive Premium Queen Room with Sofa Bed', 'Classic Double Room for Single Use', 'Aldwych Double Twin Room', 'Suite with St Stephen s Cathedral View', 'Double Room City', 'King Grand Premier Room', 'Superior Double Room with Terrace and City View', 'Standard Double Studio', 'Two Bedroom Family Room', 'Grand Junior Suite', 'Deluxe room with 1 queen bed', 'Special Offer Classic Room with Parking', 'Special Offer Single Room with Continental Breakfast', 'Deluxe Double or Twin Room with Opera View', 'One Bedroom Suite with Sea View', 'Superior Queen Room with Single Sofa Bed', 'Small Double or Twin Room', 'Superior Room with Queen Bed', 'Executive Room with Double Bed', 'Suite with Spa Access 4 Adults', 'Cozy Exchange King', 'Executive Suite 1 King', 'King Junior Suite', 'Deluxe Junior Suite with Lounge Access', 'Signature Luxury King with Balcony', 'Twin Guestroom', 'King Room with Sea View', 'penta Standard Room', 'Stayed 28 nights', 'Comfort Double Room with Extra Bed', 'Luxury King Room', 'Superior Double or Twin Room Moon Blue', 'Guest Room with Balcony', 'Family Junior Suite 3 Adults 1 Child', 'King Accessible Superior Room', 'Luxury 1 Bed Suite', 'Superior Suite Water Front', 'Junior Double', 'Deluxe King Room Disability Access', 'Suite Cocotte', 'Spare Room Double', 'Prestige Double or Twin Room', 'Accessible Queen Guest Room', 'Queen Suite with City View', 'Superior Double or Twin Room with Extra Bed 3 Adults', 'Deluxe Guest room 1 King or 2 Twin Single Bed s', 'Stunning City Studio', 'Classic Double or Twin Room with Pool Access', 'Executive Studio Apartment 2 Adults 1 child', 'Superior Double Room with Street View', 'Superior Double or Twin Room with Pool Spa Access', 'Suite with View', 'Modern Double Room Echo', 'Double Room Medium Heritage', 'Standard Double Room Disability Access', 'Superior Room with Club Lounge Access Free Wifi', 'Wonderful Double or Twin Room', 'Deluxe King', 'Duplex', 'Superior Deluxe Double Room', 'Two Bedroom Suite with Two Bathrooms', 'Luxury Suite music theme', 'King Executive Plus Room', 'Standard Twin Room with Arc de Triomphe View', 'Superior Double Room Les Artys Les Fifties', 'King Room with City View Top floors', 'Executive Room with Two Double Beds and Executive Lounge Access', 'King Junior Suite with Executive Lounge Access', 'Kings Deluxe Junior Suite', 'Superior Deluxe Double Room with Canal View', 'Deluxe King Room with Club Lounge Access', 'Business Double Room with Courtyard View and Public Transport Ticket', 'Junior Suite with Park View', 'Double Room with Sofa Bed', 'Family Room XL', 'Deluxe One Bedroom Park Suite', 'Superior Room with 1 Queensize Bed Canal view', 'Premier Double or Twin Room', 'King Room with Eiffel Tower View', 'Hilton Superior Double Room', 'Two Adjoining Rooms', 'Superior Double Room with free pool and hammam access', 'Deluxe Double or Twin Room 2 adults 1 child', 'Standard Suite', 'Executive with Two Double Beds', 'Deluxe King Plus', 'Double Room with Arc de Triomphe View a Glass of Champagne', 'Superior Suite with 1 Double Bed and 2 Single Beds', 'Family Room 2 Adults 1 Child', 'King Room with River View', 'Twin Hilton Sea View', 'Suite with Extra Bed', 'Junior Suite with Spa Access Free Wifi', 'Executive Double Twin City View', 'Two Connecting Rooms 2 Adults 2 Children', 'Chambers Grand Junior Suite with Club Lounge Access', 'Superior Business Room with a Double Bed and Sofa Bed', 'Deluxe King Room with Canary Wharf View', 'Junior Suite With Private Garden', 'Superior Twin Room with Park View', 'Duplex Suite with Spa Access', 'Standard Duplex Room 1 2 Adults', 'Wonderful Room', 'Stayed 19 nights', 'Triple Apartment', 'Single Hilton Guestroom', 'Compact Double Room shared bathroom', 'Duplex Twin Room', 'Standard Room with 1 Double Bed', 'Loft Suite Disability Access', 'Suite Oc ane', 'Twin Deluxe Room', 'Standard Queen Room', 'Romantic Special Offer', 'Executive Suite with View', 'King Deluxe One Bedroom Suite with Lounge Access', 'Panorama Guest room 1 King or 2 Twin Single Bed s', 'Stayed 14 nights', 'Single Room with Free Airport Shuttle Service from 5 00am to 00 30am', 'Family Room 3 Adults', 'Chelsea Twin Suite', 'Double Room L', 'Bobo Queen or Twin Room with Spa access', '2 double Connecting Rooms', 'Premier Deluxe Double Room', 'Standard Room with Queen Bed and Sofa Bed', 'Queen Room Disability Access Non Smoking', 'Privilege Room with Hammam', 'Standard Room with Two Single Beds Renovated', 'Mandarin Junior Suite', 'The Rooks Nest', 'Junior Suite Blue', 'Studio with Courtyard View', 'Deluxe Family Room 4 Adults', 'Deluxe Double Room with Bath', 'Privilege Super King or Twin Room', 'Apartment 6 Adults', 'Park Suite King', 'Standard Guestroom', 'One Bedroom Suite 1 2 Adults', 'Comfort Double or Twin Room with Extra Bed', 'Standard Double or Twin Room with Extra Bed', 'Prestige Family Room', 'Double Room Baronne', 'One Bedroom Family Suite', 'Double or Twin Room with Extra Bed', 'Deluxe Queen Room with Pool View', 'Deluxe Double or Twin Room with Canal View Annex building', 'Superior Double Bedroom', 'Double Queen Family Suite with Access to Executive Lounge', '2 Connecting Rooms 4 Adults', 'Standard Quad Room', 'Nadler Deluxe Double Room', 'Queen Room Non Smoking', 'Family Apartment', 'Junior Suite with Lounge Access and City View', 'Classic Twin View', 'Superior Queen Room Non Smoking', 'Executive Vend me Triple Room', 'Royal Suite', 'Superior One Bedroom Suite', 'One Bedroom Suite with Executive Lounge Access', 'Superior Room with 1 Double Bed and Sofa', 'Queen Suite', 'Suite with Spa Access 3 Adults', 'Standard Triple Room', 'Deluxe Double Room with Four Poster Bed', 'Executive Double Room Non Smoking', 'Superior King', 'Penthouse Suite with View', 'Junior Suite with Free Bottle of Champagne', 'Premium Room', 'Mosaic Double Room', 'Standard Room with 1 Double Bed and 1 Sofa Bed', 'One Bedroom Apsley Suite', 'Luxury Room', 'Superior Double or Twin Room Non Smoking', 'Emotion Room with Terrace', 'Classic Double Room with Balcony', 'Superior Double or Twin Room with City View', 'Executive Room with Queen Bed and a Sofa Non Smoking', 'Sensation Room', 'Twin City View Room', 'Classic Room with 2 double beds', 'Studio Double Family', 'Top Deluxe Room', 'Standard Room Sopi', 'Superior Room Swimming Pool Hammam Access upon reservation', 'Standard Family Suite with Two Connecting Rooms 4 Adults', 'Special Offer Comfort Double Room with Breakfast and Parking Included', 'Guest Queen Room with Two Queen Beds', 'Presidential Suite', 'Double Room with Terrace', 'Deluxe Double Room with View', 'Executive Double Room with Two Double Beds with Lounge Access', '2 Twin Beds Guest Room', 'Deluxe Room with Spa Access Free Wifi', 'Small Double Room with Canal View', 'Suite 2 Adults 1 Child', 'Double Room large', 'Family Executive Room 2 Adults 2 Children', 'Easter Special Executive King Room', '4 Person Suite', 'Quadruple Apartment', 'Two Connecting Rooms 3 persons', 'Standard Twin Room with 2 single beds', 'Double Room with Club Lounge Access', 'Prestige Suite', 'Executive Deluxe Studio Suite', 'Superior Double Room with View', 'Junior Suite 3 Adults with Spa Access', 'Classic Room with Queen Bed', 'Suite with Duomo View', 'Executive Suite 2 Adults 2 Children', 'Executive Twin Room with Access to Executive Lounge', 'Comfort Double or Twin Room with Balcony', 'Fabulous Double or Twin Room', 'Special Offer Double Room 3 nights minimum', 'Loft Double Room', 'Deluxe Double Room 1 2 adults', 'Quintuple Room', 'One Room Suite with Kitchenette', 'Accessible King Room with Lounge Access', 'Junior Triple Room', 'Suite Avenue', 'Superior Double Room with Balcony and City View', 'Master Bedroom Suite', 'Stayed 13 nights', 'Executive Double or Twin Room La Ravissante', 'Special Offer Double or Twin Room', 'King Family Room', 'Superior Double Room with Terrace', 'Room with River View Upper Deck', 'Premier Double or Twin Room with Extra Bed', 'King Executive Room', 'Deluxe Room with view', 'Executive Double Room with Spa Access', 'Andaz Suite', 'Queen Room with Eiffel Tower View', 'Comfort Plus Twin Room', 'Executive Triple Room', 'Twin Room with Public Transport Ticket', 'Modern Double Room Narcisse', 'Executive Room with queen size bed and single sofa bed 3 Adults', 'Classic Twin or Double Room', 'Fabulous Bank Canal', 'Club Single Room', 'Superior Twin Room with Sofa Bed Non Smoking', 'Superior Twin Room with Airconditioning', 'Suite with Club Lounge Access', 'Superior Deluxe Room with Spa Bath', 'LM Club Double or Twin Room', 'One Bedroom Suite with Kitchen', 'Deluxe Room with 1 Double Bed', 'Superior Studio Apartment', 'Classic Master Suite', 'Superior Double Room with Free Pool Access', 'Double or Twin Room', 'Grand Suite', 'Penthouse Suite with Balcony', 'Deluxe Room 2 Adults 1 Child', 'Superior Double Room', 'Superior Room with One Double Bed', 'Urban Double or Twin Room', 'Family Junior Suite 4 adults', 'Superior One Bedroom Apartment', 'Grand Executive Room', 'Jimmie Martin Penthouse Suite', 'Junior Suite', 'Twin Junior Suite City View with Access to Executive Lounge', 'Two Connected Double Rooms', 'Standard Double or Twin with view', 'Standard Triple Room 3 Adults', 'Premium Double or Twin Room XL with View', 'Double Room with Courtyard View', 'Garden View Twins', 'Twin Executive Room', 'Superior Premium Room with Queen Bed Sofa', 'River View Deluxe', 'Standard Room with queen size bed and double sofa bed', 'Double or Twin Room with Balcony', 'Large Deluxe Room', 'Loft Suite', 'Executive Twin Room', 'Double or Twin Room Single Use', 'Duplex King Suite 2 Adults 2 Children', 'Atrium', 'Triple Family Guestroom', 'Townhouse Apartment', 'Superior Classic Double Room', 'Two Adjoining Rooms with Dock View Upper Deck', 'Classic Double or Twin Room with City View', 'Executive Double Room with Double Bed and Sofa Bed', 'Double Room with Street View', 'Deluxe Queen Room with River View', 'Superior Double Room Breakfast included', 'Hoxton Family Suite', 'Standard Room with 1 Queen Bed', 'Deluxe Double or Twin Room with Terrace', 'King Room with View', 'Marina Suite with Canal View', 'Superior Twin Room with View', 'Falconers Two Bedroom Suite', 'Executive King or Twin Room with Lounge Access', 'Supreme Double Room', 'Junior Suite 1 3 Adults', 'Superior Room with 1 Double bed and Sofa 3 adults', 'Superior Twin Room with Cathedral View', 'Suite with Eiffel Tower View VIP welcome', 'Classic Suite', 'Maisonette', 'Grand Suite Duplex', 'Superior Suite 2 Adults 2 Children', 'Executive Room Swimming Pool Hammam Access upon reservation', 'Twin Room with Free Airport Shuttle Service from 5 00am to 00 30am', 'Exclusive Double or Twin Room', 'Squint Penthouse Suite', 'Triple Room Luxury XXL King Size Bed', 'Junior Suite with Canal View', 'Superior Twin Room with Extra Bed', 'Suite with Rambla View', 'Premium Double or Twin Room with View and Terrace', 'Solo traveler', 'Double Room Ground Floor', 'Twin Junior Suite', 'Corner Double Room', 'Marvelous Suite Exchange', 'Standard Double Room with Queen Bed', 'Penthouse Suite', 'Deluxe Family Room with 1 Double and 2 Single Beds', 'Art Deco Room Terrace', 'Duplex Double Room', 'Premium Double or Twin Room with Sea View', 'Superior Executive Room', 'Deluxe Twin Room with City View', 'Superior Double Room with City View', 'Executive Double or Twin Room with Executive Lounge Access', 'Two Bedroom Deluxe Suite', 'One Bedroom Suite with Kitchenette', 'Deluxe Double Room Canal View', 'Studio Apartment', 'Twin or Double Room with Terrace', 'Queen Guestroom', 'Hilton Deluxe Twin Room Plus', 'Junior Suite Parisienne', 'Superior Room 2 Single Beds', 'Superior Twin Room with Free Pool Access', 'Standard 1 Bedroom Apartment', 'Stayed 6 nights', 'Single Hilton Guest Room', 'Executive Premium Room with a Queen Bed', 'Double or Twin Room Business Advantage', 'Falconers One Bedroom Suite', 'Privilege Family Room', 'Executive Double Room with Terrace', 'Superior Room with 1 Double Bed and 1 Sofa Bed 1 place', 'Panoramic Room', 'Apartment Suite', 'Standard Room with Queen Bed Renovated', 'Twin Grand Premier with Canal View', 'Premier Shard Suite', 'Economy Double Room basement no window', 'Premier Double Room with Panoramic View and Executive Lounge Access', 'Classic Double Room with View', 'Superior Double or Twin Room with Landmark View', 'Double Queen Waterfront', 'Master Suite with Club Lounge Access', 'Deluxe Double Room with Lounge Access', 'Studio Suite Bank', 'Superior Shard King', 'Deluxe King Room with City View', 'Twin Executive Plus Room', 'Mayfair Suite with Lounge Access', 'Standard Room with Double Bed', 'Hilton Executive Suite with Lounge Access', 'Executive Room with queen size bed and single sofa bed 2 Adults 1 child', 'Premier King Room', 'Deluxe Room', 'Special Offer Double Twin Room Stay and Park', 'Suite Deluxe', 'Double Room Op ra Garnier with Spa Bath', 'Loft Suite with Terrace', 'Superior Room with Queensize Bed and single sofa bed 3 adults', 'Double Hilton Guestroom', 'King Deluxe Family Room', 'Budget Single Room Non Smoking', 'King Suite with Sofa Bed 4 Adults', 'Executive Double Room with Mobile Phone', 'Executive Deluxe Room', 'Mezzanine Room', 'Premium Quadruple Room', 'King Suite with Sofa Bed Non Smoking', 'Studio Twin Room 3 adults', 'Standard Double or Twin Room with Balcony', 'Executive King Room', 'Superior Double Room with Park View', 'Deluxe Plus Double or Twin Room', 'Suite Trocadero Balcony with Eiffel Tower View', 'Superior Double or Twin Room with View', 'Double or Twin Room with Balcony or Terrace', 'Executive Studio', 'Executive Double Room Eiffel Studio D Artiste with view of Paris', 'King Junior Suite with View', 'Stayed 4 nights', 'Deluxe King Room with Stadium View', 'Comfort Double or Twin Room', 'Twin Deluxe with Canal View', 'City Twin Room with Surprise Package', 'Deluxe Double Room 1 2 Adults', 'Queen Guest Room', 'Suite 2 Adults', 'Standard Studio', 'Nhow Double or Twin Room', 'View Twin', 'Park View Studio', 'Tradition Double Room', 'Superior Room with Garden View', 'Privilege Double Room', 'Hyde Park Junior Suite with Park View', 'Double or Twin Room with Courtyard View', 'Garden View King', 'Triple Junior Suite', 'Family Room with sofa bed', '1 King Bed Guest Room', 'Double Room 1 Adult with Eiffel Tower View', 'Privil ge Suite with 1 Double Bed and Sofa', 'Premium King or Queen Room', 'Comfort Plus Double Room', 'Junior Suite with Double Bed', 'Luxury Triple Room with Garden View', 'Classic Studio', 'Paris Style Queen or Twin Room with Spa access', 'Club Junior Suite', 'King Superior Plus Room', 'Executive Double Room with Whirlpool', 'Large Room', 'Exception Room', 'Suite Juliana', 'Two Connecting Rooms', 'Junior Suite with City View', 'Family Room Annex', 'Twin Room Mobility Access', 'Deluxe Double or Twin Room 1 2 Adults', 'Deluxe King or Queen Room', 'Souterrain Twin Room', 'Double Room with Shared Bathroom', 'Deluxe Double Room with Private Pool', 'Room Sous les Toits 18m with Montmartre View', 'Kings Three Bedroom Suite', 'Twin Hilton Guestroom', 'Junior Suite with Eiffel Tower View', 'King Junior Suite City View with Access to Executive Lounge', 'Executive Penthouse with Canal View', 'Double Hilton Guest Room Plus', 'Executive Double Room with Square View', 'Superior Queen Room 2 adults', 'Junior Suite with Hydromassage Shower', 'Special Offer Twin Double Room Stay and Park', 'Congress Suite', 'Superior Room with Balcony with Spa Access', 'King Studio', 'Junior Conservatory with King Bed', 'Superior Studio with City View', 'Triple Room with Park View', 'Premium Suite', 'Junior Suite Courtyard', 'Twin Plaza Executive Room', 'Eiffel Tower View Twin Room', 'Double Junior Suite', 'Twin Room with Courtyard View', 'Attach Suite', 'Superior Premium Queen Room with Sofa Bed', 'Terrace Junior Suite', 'Privilege Top Floor with Terrace', 'Superior King or Double Room', 'Junior Suite with access to the Club Lounge', 'Marvellous Suite', 'King Room or Twin Room Disability Access', 'Executive Double Room With Free Access to Steam Bath', 'King Room with Hyde Park View', 'Stayed 20 nights', 'Hoxton Studio Suite', 'Privilege Room with King bed', 'Executive Suite with Queen Bed and Sofa Bed 2 Adults', 'Junior Suite with Queen Bed 3 Adults', 'Superior Double Twin Room', 'Superior Deluxe Double or Twin Room', 'Champs Elys es Prestige Junior Suite', 'Luxury Suite with whirlpool', 'King Suite with Lounge Access', 'Connecting Double Rooms', 'Executive King or Twin Room', 'Design Suite', 'Amsterdam Street Art Double Guest Room', 'Superior Room with Balcony or Terrace', 'Classic Double Room La Parisienne', 'Deluxe Twin Room with Eiffel Tower View', 'Classic Quadruple Room', 'Standard Double Room with Sea View', 'Superior Double Room La S duisante', 'Executive Junior Suite', 'Superior Plus Double Room', 'Queen One Bedroom Suite', 'Room with Dock View Upper Deck', 'Small Single Room with Balcony', 'New Amsterdam Suite', 'Double or Twin Room 1 Adult', 'Special Offer Classic Double Room', 'Special Offer Standard Double or Twin Room', 'Studio Room', 'Single Room Annex', 'Executive Suite 3 Adults', 'Double Room with Park View', 'Small Double Room 1 2 adults', 'Classic Double or Single Room', 'Park Deluxe View', 'Executive Double or Twin Room With Terrace', 'Executive Room with City View', 'Special Offer Superior Queen Room', 'Belgravia Suite', 'Special Offer Double Room with Parking', 'Deluxe Double Room with Terrace and Eiffel Tower View', 'Junior Suite Split Level with Lounge Access', 'Executive Deluxe Double Room with Spa Access', 'Standard Room with 1 Single Bed', 'Superior Queen Room with Courtyard Garden or City View', 'Standard Single Room', 'Deluxe King Room Balcony with Eiffel Tower View', 'Standard Room with Queensize bed and Single Sofa Bed', 'Traditional Double Room', 'Executive Twin Room 1 2 Adults', 'Privilege Double or Twin Room Courtyard side', 'The Level Room with Executive Lounge Access', 'Junior Suite Double 1 2 Adults', 'Superior King Room Eiffel Tower View', 'Bunk Bed Room', 'Luxury Suite antique theme', 'Executive Queen Room with Lounge Access Mobility Access', 'Two Bedroom Family', 'Privilege Suite', 'Executive Queen Suite', 'One Bedroom Suite with Courtyard View', 'Double Room Duchesse', 'Deluxe One Bedroom Suite with River View', 'Premium Double Room with Balcony', 'Two Bedroom Superior Suite', 'Executive Deluxe', 'King Hilton Executive Room with Access to Executive Lounge', 'Executive Double Room with Sofa Bed', 'Executive Double Room', 'Executive Room with View and Lounge Access', 'Souterrain Triple Room', 'Standard Double', 'Large Canal View Queen', 'Superior Double or Twin Room XL with Extra bed', '2 Connecting Rooms 5 Adults', 'Ashburn Suite', 'Cool Corner Suite', 'Bridal Suite with view', 'Junior Suite with Pool Access', 'Privilege Double or Twin Room', 'One Bedroom King Suite', 'Budget Single Room', 'King One Bedroom Suite', 'Hyatt Twin Room with View', 'Junior Suite Twin 1 2 Adults', 'Junior Suite Executive', 'Classic Twin Room with View', 'Basic Double Room', 'Room with Park View', 'Junior Suite Tendre Ros e', 'Delightful Queen Room', 'Double or Twin Room with Pool View', 'Deluxe Double Room with Garden View', 'Luxury King Room with River View', 'Deluxe Room with spa access', 'Superior Triple Room with 1 Double Bed 1 Single Bed', 'Family Room 4 Adults', 'Single Cabin Room', 'Deluxe Double Room Non Smoking', 'penta Plus Room', 'Nhow Premium Double or Twin Room', 'Deluxe Double or Twin Room with VIP Services', 'Executive Junior Suite with Sea View', 'Premium Double Room with Views', 'Deluxe Double with Winter Garden View', 'Queen Room with Balcony', 'Deluxe Double or Twin Room Light my Fire', 'Studio Twin', 'Op ra Junior Suite', 'Spectacular Room', 'Two Connecting Double Rooms 4 Adults', 'Junior Suite with Lounge Access', 'Economy Twin Room', 'Special Offer Comfort Double Room with Parking', 'Classic Room with Courtyard View', 'Executive Club Room', 'Supreme Twin Room', 'King Hilton Guest Room', 'Premier Single Room', 'Superior Room Queen Bed', 'Privilege Room with 2 Double Beds', 'Mandarin Room', 'Fantastic Suite', 'Standard Double Room with View Terrace', 'Standard', 'Penthouse Suite with Terrace and City View', 'Double Room Audacieuse', 'Junior Deluxe Twin Room', 'Queen Double Room', 'Club Double Room with Club Lounge Access', 'Apartment Attic', 'Family Room 2 Adults 2 Children with Access to Nagomi Health', 'King Room with Knightsbridge View', 'Privilege Junior Suite with Terrace and Spa Access', 'Superior Double Room with Garden View', 'King Premier Room', 'Twin Studio', 'Junior Suite with 1 King Size Bed', 'Observatory King', 'Superior Double', 'Superior Oversized Queen Room', 'Studio King', 'Double Room with 2 tickets for a Cruise on the Seine river', 'Deluxe Triple Suite', 'Twin Guest Room', 'Standard Apartment', 'Triple Room with Terrace', 'Premium Double Twin Room', 'Superior Room', 'Exclusive Suite', 'Superior Double Room New Style', 'Club SuperKing Room', 'Quality Double or Twin Room with Extra Bed', 'Classic Double Room with Street View', 'Executive Room with Queen Bed Renovated', 'Triple Room Annex', 'Group', 'Standard Twin Room Non Smoking', 'Executive King Room with Lounge Access', 'King Hilton Guestroom', 'Economy Quadruple Room', 'Premium Room 2 Adults', 'Double Room 1 2 Adults', 'Executive King Room with City View', 'Corner View Suite', 'Superior Double Room with Terrace and View', 'Twin Room Disability Access', 'King Room with Sofa Bed and Balcony', 'Balcony Suite with Executive Lounge Access', 'Junior Suite Cathedral View with Access to Executive Lounge', 'Souterrain Comfort Room', 'Executive Double Room Studio D Artiste', 'Ground Floor Queen Room Disability Access', 'Deluxe Double Room with Patio', 'Attic Suite 1 or 2 people', 'Superior Twin or Double Room', 'Four Seasons Twin Junior Suite', 'Deluxe Twin Room with Spa Access', 'Twin Room 1 2 people', 'Double Room with Fitness Equipment', 'Special Offer Double Room', 'Executive Double Room with Executive Lounge Access', 'Family Room 2 connected Double Rooms', 'Premium Room Grand Pigalle', 'Room with River View Main Deck', 'Family King Room', 'Queen Room with Mobility Access', 'Junior Family Suite 2 Adults', 'Duplex Deluxe Triple Room 2 Adults 1 Child', 'Standard Double Room Pigalle 15', 'Basic Double Room NR', 'Superior Suite with 1 Double Bed and 1 Single Bed', 'Deluxe Single Room', 'Suite VIP welcome', 'Single Room with Garden View', 'Junior Suite with Spa Access 3 Adults', 'Luxury Double Room Large', 'Saint Honor Double Suite', 'Park Suite', 'Classic Double Room Les Pop', 'Art Deco Deluxe Room View and Terrace', 'Iconic King Room With City View', 'Executive Double or Twin Room with No view', 'Classic Double Room Loge Classique', 'Business Plus Double Room with Balcony', 'Superior Room with Queensize Bed and Single Sofa Bed', 'Double Room with Garden View', 'Deluxe King Room with Water View', 'Large Twin Room', 'Standard Double Room with Park View', 'Double or Twin Room with Terrace', 'Superior Double Room with Massage Chair', 'Executive Double or Twin Room with Club Lounge Access', 'One Bedroom Suite with Lounge Access', 'Double or Twin Ground Floor', 'Double or Twin Room with Sea View', 'Standard Double or Twin Room with Extra Bed 3 Adults', 'Stayed 17 nights', 'Wonderful Bank with Canal View', 'Single Room with Sauna Access', 'Double Family Guest Room', 'Standard Room with 2 Double Beds', 'One Bedroom Suite with City View', 'Executive Double or Twin Room 3 Adults', 'Studio Triple', 'Double or Twin Room with Panoramic View', 'River Twin Suite', 'Superior Queen Room with Paris View', 'Stayed 27 nights', 'Exclusive Suite Eiffel', 'Deluxe Double Room with Private Patio', 'Superior Double Room Loge Sup rieure', 'Deluxe Double or Twin Room', 'Single Room Non Smoking', 'Comfort Double Room with Park View', 'Interior Facing Double Room With Natural Light', 'Hyatt Queen Room with View', 'Business Studio Suite', 'Double or Twin Room Allergy Free', 'Deluxe Room Barlow Wing', 'Comfort Double or Twin Room Non Smoking', 'Superior Twin Room with Private Pool', 'Classic Triple Room', 'Terrace Suite with Lounge Access', 'Superior Double or Twin Room XL with Extra Bed 2 Adults 1 Child', 'Four Seasons King Junior Suite', 'Queen Room Upper Floors', 'Park Deluxe Queen', 'Executive Double Room with Turkish Bath', 'Penthouse', 'Suite Designer', 'Junior King Suite with Pool Access', 'Exclusive Double or Twin Room La Mondaine', 'Suite with free pool and hammam access', 'Deluxe Double Room Pigalle 21', 'Amsterdam Street Art Queen Guest Room', 'Family Suite 2 Adults 2 Children', 'Executive Double or Twin Room with City View', 'Double Room with Eiffel Tower View', 'Junior Suite Lavender', 'Queen Hilton Guest Room', 'Souterraine Double or Twin Room', 'Executive Triple Room with Garden View', 'Standard King Room', 'Sextuple Room', 'Suite with Spa Access 2 Adults', 'Suite Breakfast and Bottle of Champagne Included', 'Chic Twin or Double Room', 'One Bedroom Suite with Park View', 'Suite Room 1 or 2 people', 'Classic Single Room', 'Suite 3 Adults', 'Super Deluxe Double Room', 'Business Suite', 'Family Queen Room', 'Treat your Partner Package Double Room', 'Superior Room with 1 Queensize Bed and Double Sofa bed', 'Superior Suite Junior', 'Junior King Suite with Lounge Access', 'Superior Queen Room with Extra Bed 3 Adults', 'Double Room Lady Soul', 'Premium Deluxe Double Room with River View', 'Signature Room', 'Business Double Room 1 Adult', 'Art Twin Room', 'K Suite', 'Accessible Twin Room', 'Executive Twin Room with Whirlpool', 'Luxury Suite Superior', 'Superior Double Room Disability Access', 'Junior Triple Suite', 'Skylight Deluxe Executive Room', 'Superior Queen Room with Pool Access', 'Superior King Room Barlow Wing', 'Single Room Joy', 'Superior Room with Two Double Beds and View', 'Superior Room with 1 Single Bed', 'Deluxe Quadruple Room with Paris View', 'Superior Double Twin Room with Free Parking', 'Premium Deluxe Double Room', 'Grand Deluxe Double Room', 'Submitted from a mobile device', 'Classic Double Room 1 Adult', 'Large Comfort Twin Room Disability Access', 'Special Offer Classic Room', 'Junior Suite with Club Lounge Access', 'Twin Room with Mobile Phone', 'Superior Metropolitan Park Double Room', 'Triple Room Disability Access', 'Solo Room', 'Executive Room with 1 Queen Bed and 1 Sofa 2 Adults', 'Junior Suite with Private Pool Spa Access', 'Double Room 1 Adult with Free Airport Shuttle Service from 5 00am to 00 30am', 'Deluxe Double Room 3 Adult', 'Standard Compact Double Room', 'Superior Queen Room', 'Room Assigned at Check in', 'Deluxe Double Room with City View', 'Club Room with Club Lounge Access Free Wifi', 'Twin Premier Room', 'Family Room 5 Adults', 'Deluxe Room with 1 King bed', 'King Hilton Waterfront', 'Standard Room with Spa Access', 'Hyatt King Room', 'Junior Suite 3 Adults or 2 Adults 1 Child', 'Executive room with Executive lounge access Free Wifi', 'One Bedroom King Suite 2 Adults', 'Superior Double Room with London Eye View', 'Single Studio', 'Accessible Double Guest Room', 'Deluxe Suite with River View', 'Ambassadors Room', 'Penthouse Suite Family', 'Ambassador Junior Suite', 'Family Room with View 2 Adults 2 Children', 'Superior Plus Room', 'Deluxe Double Room Swimming Pool Hammam Access upon reservation', 'Couture Junior Suite', 'Double Room with City View Top Floor', 'Executive Queen Room with Eiffel Tower View', 'Double or Twin Room 2 Adults', 'Royal Penthouse with Canal View', 'Executive Room 2 adults 2 children', 'Regency King Suite with Lounge Access', 'Double Room with Extra Bed 2 Adults 1 Child', 'City Apartment', 'Junior Suite 2 Adults', 'Privilege Double Room with Eiffel Tower View', 'Superior Premium Room with Queen Bed and Sofa Bed', 'Superior Double Room with Terrace and Mountain View', 'Classic Junior Suite', 'Autentic Double Room', 'Junior Suite with Shower', 'Executive King Suite', 'King Deluxe Family Room Connecting Doors', 'Double or Twin Room with Extra Bed 2 Adults 1 Child', 'Suite with Panoramic View', 'Two Adjacent Rooms 5 Adults', 'Superior Double Room with Free Access to Steam Bath', 'Junior Suite Premium with Spa Access', 'Deluxe Boulevard Twin Room', 'Luxury Double Room with Balcony and River View', 'Superior Suite with View', 'Garden Room', 'Double Room Tour Eiffel with Shower', 'One Bedroom Suite with Sofa Bed', 'Standard Double or Twin Room with Balcony 1 Adult', 'Prestige One Bedroom Suite with River View', 'FAMILY PLAN', 'Double Room', 'Classique Square', 'Twin Guest Room Plus', 'Two Bedroom Suite with Terrace', 'Junior Suite 3 Adults', 'Executive Twin Room with City View', 'Magistrate King', 'Quadruple Room', 'Superior Room with 1 kingsize bed', 'Family Apartment 4 Adults with Spa access', 'Superior Room with Garden View Free Wifi', 'Executive Room with River View', 'River Double Suite', 'Executive Double Room River View', 'Double Room with River View', 'Executive Double or Twin Room with Private Terrace', 'Suite Family Room', 'Adjacent Double Rooms', 'Superior Suite', 'Standard Double Room Ground Floor', 'Junior Suite Twin', 'Twin Room Non Smoking', 'Family Suite with Balcony', 'Triple Room with Spa Access', 'Junior Suite 2 Adults 2 Children', 'Deluxe Double Room', 'King Room Mobility Accessible Non Smoking', 'Comfort Double Room with Terrace', 'Double Room Marquise', 'Classic Room', 'Principe Suite', 'Cosy Twin Room', 'Deluxe Junior Suite', 'Luxury Four Poster', 'Luxury Double or Twin Room', 'Deluxe King Guestroom with view', 'Standard Double Room Non Smoking', 'Park Deluxe King', 'Executive Triple Room 2 Adults 1 Child', 'Halkin Room', 'Standard Twin Room with Bridge View', 'Garden King Room', 'Double Room Relax', 'Park King', 'Large Double Room with Garden View', 'Superior Double Room 3 Adults', 'Suite with River View', 'Studio King 3 adults', 'Double Room Rouge Epic e', 'Studio Disability Access', 'Kings One Bedroom Suite', 'Two Connecting Double Rooms', 'Double Deluxe Suite', 'Double Executive Room', 'Executive Room with Garden View', 'Superior Double or Twin Room with Parking', 'Executive Double or Twin Room with Spa Access', 'Club Twin Room with Lounge Access', 'Superior room Design Style Free Wifi', 'Double or Twin Room with Extra Bed 3 Adults', 'Family Room with Balcony', 'Comfort Twin Room', 'Superior Double Room with Terrace and Cathedral View', 'Superior Deluxe Double Room Pigalle 22', 'Deluxe Double or Twin Room Disability Access', 'Condal Double or Twin Room', 'Suite', 'Townhouse Suite', 'Superior Double or Twin Room XL with View', 'Basic Double or Twin Room with Parking', 'Superior King Room with Pool View', 'Stayed 29 nights', 'Deluxe Double', 'Executive Four Poster Room', 'Comfort Single Room', 'Executive Family Room', 'Double or Twin Room with Extra Bed with Balcony', 'Deluxe Room with City View', 'Deluxe Queen Room with Two Queen Beds', 'Standard Double or Twin Room 1 2 Adults', 'Double Room Intemporelle', 'Prestige Suite 2 Adults with canal view', 'Double Room Comtesse', 'Superior Double Room with 1 Double Bed and 1 Sofa Bed 2 places', 'Deluxe Double Room with Separate Lounge Area', 'Twin Room with Private Bathroom', 'Business Double Room with Balcony', 'Special Offer Princess Relax', 'Executive King Room with View', 'Park Twin', 'Family Premium Room 2 Adults 2 Children', 'Delightful King Twin Room', 'Deluxe King Room Wheelchair Accessible', 'Privilege Room with a double bed upper floors', 'Deluxe Double Room with Gallery View', 'Fabulous Room', 'Junior Suite with Courtyard View', 'Junior Queen Suite with Sofa Bed', 'Classic Double Room with Shower', 'Deluxe Double Room 1 Adult', 'Premium King Room with View', 'Two Adjacent Classic Double Rooms', 'Superior Room with 1 Queen Bed and Sofa', 'Non Smoking Standard Room with 1 Double Bed', 'Executive Room with One Queensize Bed with Balcony', 'Family Room 2 Adults 2 Children', 'Junior Suite Royal', 'Deluxe Double Twin Room', '2 Double Rooms next to each other', 'Four Seasons Suite', 'Premium King Room', 'Special Offer Sleep ParK Fly', 'Luxury Double Room Mezzanine', 'Luxury Suite', 'Double Room Trocad ro with Spa Bath', 'Twin Room', 'King Room Non Smoking', 'Large Suite', 'The Level Executive Service Room', 'Superior Suite 2 Adults', 'Double Room with Sauna Access', 'Deluxe Triple Room with Spa Access', 'Superior Room with Queen Bed Sofa', 'Gallery Suite with Spa Access Free Wifi', 'Deluxe Twin Room Souterrain Basement', 'Premium Double or Twin Room', 'Twin Room with City View', 'Privilege Double or Twin Room with Spa Access', 'Classic Guest room 1 King or 2 Twin Single Bed s', 'Executive Double Room with Air Conditioning', 'Smart Double or Twin Room', 'Superior Designer', 'Superior Double Double', 'Executive Double Room with City View', 'Deluxe Double Room with Spa Access Free Wifi', 'Standard Room with 1 Kingsize Bed', 'Deluxe Double Room with Eiffel Tower view', 'Two Connecting Double Rooms with Pool Access', 'Wonderful Exchange King', 'Double or Twin Room with Terrace and Panoramic View', 'Standard Double Room with Sofa', 'Twin Room with Pool View', 'Superior', 'Double Double Room', 'Suite with Private Pool', 'Large Double Room with Champs Elysees View', 'Family Room 6 Adults', 'Deluxe Double Room without Window', 'Prestige Room Swimming Pool Hammam Access upon reservation', 'La Rouge Suite', 'Interconnecting Rooms', 'Family Room Two connecting Rooms', 'Confort Queen Room', 'King Room with City View', 'Business Double Room with 500 Frequent Flyer Miles', 'Ruyschen Suite', 'Standard Double or Twin Room 3 Adults', 'Classic Triple Room 2 Adults', 'Regency Suite', 'Superior Double or Twin Room with Patio', 'Deluxe One Bedroom Apartment', 'Superior Double or Twin Room XL with Extra Bed 3 Adults', 'Family Room Two connecting Rooms 3 Adults', 'Superior Room with View of Big Ben', 'One Bedroom Apartment', 'Executive Room with queen size bed and single sofa bed', 'Deluxe Double and Single Room', 'Triple Room Relax', 'Apartement', 'Twin Deluxe Guest Room', 'Superior Room with 1 Double Bed and 1 Sofa Bed 2 places', 'Club Double or Twin Room with Club Lounge Access', 'Deluxe Double Room with Panoramic View', 'Superior Two Bedroom Apartment', 'Superior Room with 2 Single Beds', 'Deluxe Double Room with State Opera View', 'Park King or Twin', 'Duplex King Suite', 'Loft Junior Suite', 'Royal Mews View Classic Double', 'Classic Double or Twin Room 1 2 Adults', 'Superior Room with Double Bed and Sofa Bed', 'Premium Double Room', 'Deluxe Single Room with Shared Bathroom', 'Standard Room with One Double Bed and Single Sofa Bed', 'Corner Suite with Lounge Access', 'Deluxe Double Room with City View and Spa Access', 'Studio Suite with Lounge Access', 'Deluxe Room with Spa Fitness Access', 'Superior Double or Twin Room XL', 'Wonderful Bank King', 'Queen Guest Room Mobility Accessible', 'Classic Room with 2 double beds 2 Adults', 'Superior Double Room with Sofa Bed', 'Souterrain Double Room', 'King City View Room', 'Classic Double Room with Private Terrace', 'Deluxe Single Room with View', 'Superior Double or Twin Room with Free Wifi', 'Luxury Suite Triple', 'Andaz Large King Room', 'Stayed 9 nights', 'Single Room City', 'Canal View Deluxe Triple Room with Spa Bath Annex building', 'Apartments 4 Adults', 'Junior King Suite with View 2 Adults', 'Standard Double Room', 'Single Room with Shared Bathroom', 'Comfort Double or Twin Room for Single Use', 'Family Room', 'Superior Room with Spa Access Free Wifi', 'Hilton Relaxation Room', 'Superior Double Room with Sofa', 'Special Offer Deluxe Room', 'Privilege Double Room with Saint Germain des Pr s Church View', 'Executive Room with 1 Queensize Bed', 'King Room with Balcony', 'Cosmopolitan Suite', 'Urban Suite', 'Junior Suite 3 Adults with Paris View', 'Executive Room Non Smoking', 'Presidential suite with view terrace', 'Luxury Twin Room', 'Premier Double Room', 'Mega Room', 'Business Double Room with WiFi and Breakfast', 'Deluxe Twin Room', 'Superior Room with Queensize Bed and double couch 2 adults 2 children', '3 Connecting Rooms', 'Privilege Room with 1 Kingsize Bed', 'Deluxe Club Double Room', 'Two Adjoining Rooms with Dock View Main Deck', 'Double or Twin Room with View', 'Deluxe King Suite', 'Executive Suite with Lounge Access', 'Stayed 3 nights', 'King Room Mobility Accessible', 'Superior King Room with Lounge Access', 'Superior Deluxe King or Double Room', 'Two Connecting Rooms with Free Access to Hamman', 'Double Room Non Smoking', 'Superior Executive Twin Room', 'King Suite with Executive Lounge Access', 'Executive Queen Room With Sofa Bed', 'Deluxe Suite with City View', 'Small Double Room with Terrace', 'Double Room with Mobile Phone', 'Deluxe Room 2 Adults', 'Executive Queen Room Mobility Access with Lounge Access', 'Large Double or Twin Room', 'Stayed 30 nights', 'Superior Double or Twin Room with Extra Bed 2 Adults 1 Child', 'Loft', 'Junior Alcove Suite with Access to Executive Lounge', 'Suite with Garden View and Parking', 'Economy Plus Double Room', 'Comfort Double Room Courtyard Side', 'Two Connecting Superior Double Rooms', 'Junior king Suite 3 Adults', 'Club King Room with Lounge Access', 'Executive Room with queen size bed and double sofa bed 2 adults 2 children', 'Garden Cottage', 'Room with Paris View', 'Club Suite with Club Lounge Access', 'Standard room with 1 queen bed and sofa', 'Queen Room with Two Queen Beds 4 Adults', 'Residence Suite', 'Premium Superior Queen Room', 'Prestige Double Room', 'Executive King Room Non Smoking', 'X Ordinary Room', 'Comfort Double Room With Sacr Coeur View', 'Double or Twin Room with Garden View', 'Couture Suite', 'Premium Room 3 adults', 'Single Room Lower Ground Floor', 'Ambassador Suite', 'Grand Deluxe King or Twin Room', 'Deluxe Double Room Corner', 'Suite Aurore', 'Deluxe Triple Room with Tea Time Included', 'Queen Suite with Lounge Access', 'Park Studio King', 'Stayed 1 night', 'Double Family Guestroom', 'Luxury Double Room Small', 'Deluxe Twin Room 3 Adults', 'Prestige King Room Non Smoking', 'Premium Junior Suite with King size Bed', 'Superior Double Room Pigalle 17', 'Hilton Queen Family Room', 'Junior Suite with Extra Bed 3 Adults', 'Deluxe Twin Room 2 Adults', 'Junior Room', 'Junior Suite With Free Access to Steam Bath', 'Budget Double Room Second Floor', 'Classic Cosy Room', 'Park Deluxe View Twin', 'Business Single Room with Balcony', 'Double Room Crash Pad Under 30s', 'Deluxe Family Room with 1 Double and 2 Single Beds 4 Adults', 'Superior Double or Twin Room with Canal View', 'Studio Double Room', 'Superior Double or Twin Room with Courtyard view', 'Luxury Room 1 Queensize Bed Twin bedded Room On Request', 'King Suite Non Smoking', 'Two Connecting Executive Rooms', 'Marquise Superior Double or Twin Room', 'Standard Double or Twin Room with Extra bed 2 Adults 1 Child', 'Executive Room with views of Paris Queen size bed and Double Sofa Bed 2 Adults 2 Children', 'Double Studio', 'Standard Twin Room with Tea Time Included', 'Suite with City View', 'Rooftop Suite', 'One Bedroom Deluxe Suite', 'Deluxe Studio', 'Standard Room 1 2 adults', 'Suite Free Executive Lounge Access', 'Superior Twin Room with Internal View', 'Family Room with King Bed', 'Superior Twin Room with Extra Bed 2 adults 1 child', 'La Petite Maison', 'Corner Twin Room', 'Plaza Club Room', 'Family Room Free Wi Fi', 'Executive Double Room with Lounge Access', 'Superior Family Room 2 Adults 2 Children', 'Family Suite with two connecting rooms', 'Special Offer Superior Double Room', 'Deluxe Imperial Room', 'Grand Superior Room', 'Classic Double or Twin Room with extra bed', 'Dalston King', 'Trash City Suite', 'Executive Deluxe King Room', 'Classic Adjacent Rooms', 'Superior Double or Twin Room with Garden View', 'Junior Suite with Queen Size Bed', 'Twin Room with Cathedral View', 'Superior Deluxe Double or Twin Room with Spa Access', 'Cabaret Junior Suite', 'Deluxe Family Room with Two Double Beds with Paris View', 'Special Offer Executive Double Twin Room with Access to Nagomi Health', 'Double Room 2 Adults', 'Luxury Suite Conservatory with Lounge Access', 'Superior Room with Queen Bed and Sofa', 'Prestige Double Room With View', 'Stayed 15 nights', 'Stayed 22 nights', 'Double Room GWR Tower', 'Junior Suite with Extra Bed', 'Junior Suite Triple', 'Business Single Room', 'Deluxe Double Room with City View and Balcony', 'Small Single Room', 'Art Deco Deluxe Room', 'Double room 1 or 2 people', 'Standard Room with Spa access', 'Grand Suite with Canal View', 'Superior Double or Twin Room Tea Time Wine Tasting Included', 'Prestige Room with Garden View Free WiFi', 'Montcalm Club Room', 'Superior Double or Twin Room 1 2 Adults', 'Andaz King Twin Room', 'Superior Double Room with Extra Bed', 'Dorsett Double Room', 'Double Room Moulin Rouge with Shower', 'Junior Suite with River View', 'Double or Twin Room with Bathroom', 'Double or Twin Room with Bath', 'Cozy Double or Twin Room', 'Suite with Balcony and Spa Access', 'King Guestroom', 'Suite with Spa Access 1 Adult', 'Deluxe Plus Double Room', 'Single Room with Park View', 'Standard Twin Room', 'Double or Twin Room Select', 'Fabulous Exchange King', 'Superior room 3 persons', 'Special Offer Only For Cruise Passengers', 'Executive Room with Queen Bed', 'Deluxe Room 1 or 2 people', 'Two Connecting Double Rooms 2 Adults 2 Children', 'Family Room with View', 'Deluxe Suite with Executive Lounge Access', 'Large Family Suite', 'Standard Double or Twin Room', 'One Bedroom Classic Suite', 'Queen Guest Room with Sofa Bed', '2 Connecting Double Rooms', 'Superior Triple Room 3 Adults', 'Junior Suite with Mountain View', 'Executive Suite', 'Queen Deluxe Room', 'Junior Suite Double', 'Universitat Single Room', 'Superior Queen Room with Extra Bed 2 Adults', 'Twin Room with View', 'Deluxe Double Room with Free Access to Hamman', 'Standard Room With 2 Zip Beds', 'Business Single Room with Courtyard View', 'Deluxe Double plus Single Bed', 'Exclusive Guest room 1 King or 2 Twin Single Bed s', 'Standard Queen Room with Sofa Bed', 'Palais Suite', 'Club Double or Twin Room with Executive Lounge Access', 'Executive Room Free Executive Lounge Access', 'Corner Suite', 'Quadruple Room 2 Adults 2 Children', 'Double Hilton Deluxe Room', 'Two Double Adjoining Rooms', 'Triple Hilton Family Room', 'Double Guest Room with River View', 'Suite with Glass of Champagne', 'Double Room Atelier d Artiste with Spa Bath', 'Two Bedroom Suite', 'Executive Twin Room with River View', 'Double or Twin Junior Suite', 'Standard Room with Queen Bed and Sofa', 'Executive Studio City View Family', 'Luxury Room with Spa Access', 'Comfort Single Room with Window and Double Bed', 'Standard Room with Mobile Phone', 'Club Queen Room', 'King Deluxe Room with Canal View', 'Club Double Room with free Internet and Breakfast', 'Leisure trip', 'Weekend Offer Standard Studio', 'Double or Twin Room with Spa Access', 'Deluxe Double Room with Private Access to Pool and Spa', 'Special Offer Twin Room', 'Cosy Family', 'Duplex Apartment 6 Adults', 'Adjacent Rooms', 'Studio', 'Family Room with Spa access', 'Superior Double Room with Balcony', 'Superior Twin Room Barlow Wing', 'Superior Quadruple Room With Balcony', 'Superior Family Room 2 Adults 1 Child', 'Queensgate Double Room', 'Duplex Junior Suite', 'Deluxe Twin Room Balcony with Eiffel Tower View', 'Superior Double Room with Terrace and Jacuzzi', 'Superior Queen Room with Double Sofa', '2 Connecting Rooms 4 people', 'Business Double or Twin Room Facing the Sea', 'Executive Double Room Single Use', 'Stayed 5 nights', 'Superior Double or Twin Room', 'Drop Dead Gorgeous Splash Suite', 'Hilton Superior King Room', '3 rooms', 'Double Room with Single Bed', 'Double Room with Sofa Bed Non Smoking', 'Double Room Large Heritage', 'Superior Twin Room with Tea Time Included', 'Superior Double Room 1 2 Adults', 'Junior Suite with Spa Access', 'Design One Bedroom Suite', 'Park Suite View', 'Double Room with Private Bathroom', 'Club Deluxe Room', 'Two Bedroom Apartment', 'Art Deco Double Room', 'Deluxe Triple Room Swimming Pool Hammam Access upon reservation', 'Deluxe Double or Twin Room with Parking', 'Superior Capucines Room', 'Double Superior Room', 'Superior Queen Suite with Sofa Bed 2 Adults', 'Executive King or Twin Room with Lounge Access and Park View', 'Deluxe Family Room with View', 'Privilege Room with Double Bed and Single Sofa Bed 3 Adults', 'King Room with Partial Sea View', 'Standard Room with queen size bed and double sofa bed 3 Adults', 'King Suite with Sofa Bed 3 Adults', 'Executive Double Room with Access to Executive Lounge', 'Deluxe Room with Terrace', 'Stayed 24 nights', 'Special Room', 'Two Connecting Superior Twin Rooms', 'One Bed Feature Room', 'Penthouse King Executive Room with Access to Executive Lounge', 'Classic Family Room', 'Xscape King', 'Superior Twin Room with Terrace', 'Standard Double Room with Sofa Bed 3 Adults', 'Souterrain Executive Double Room', 'Small Queen Room', 'Suite with Balcony', 'Double Room with City View 1 Adult', 'Queen Room Mobility Access', 'Paseo de Gracia Double or Twin Room', 'Deluxe Accessible Twin Room with View', 'Deluxe Double Room with Terrace and Private Pool', '2 Adjacent Rooms', 'Hyatt King Room with View', 'Superior Room with canal view', 'Superior King with Balcony', 'Suite 4 Adults', 'Queen Junior Suite', 'King Guest Room', 'Junior Suite 1 2 Adults', 'Double or Twin Room with Terrace and Spa Access', 'Standard Double Room No Window', 'Superior Queen Room with Sofa Bed', 'Superior King Room', 'Superior Deluxe Room', 'Suite 1 2 Adults with Spa Access', 'Deluxe Double Room with Hammam', 'Superior Queen Suite with Sofa Bed', 'Luxury Twin Room Solarium', 'Privilege Double Room with free pool and hammam access', 'Deluxe Twin Room with Terrace and Eiffel Tower View', 'Superior Premium Queen Room', 'Fabulous Sky Room', 'Apartment for 3 to 4 People with Kitchenette', 'Superior Double Room with Sofa Bed 3 Adults', 'Single Room', 'Mandarin Double or Twin Room', 'Grand Premier King Room', 'Double Room Disability Access Non Smoking', 'Classic Room with One Queen Bed', 'Deluxe Double or Twin Room with Canal View', 'Double Room with View', 'Two Connecting Double or Twin Rooms', 'Standard Double or Twin Room Tea Time Wine Tasting Included', 'Comfort Room', 'Octagon Suite with Lounge Access', 'Privilege Superior Room', 'Twin Grand Deluxe Room', 'Superior Room with 1 Queen Bed', 'Classic Twin Room', 'Superior Room with Queen size bed and Sofa Bed 2 Adults', 'Double Room with French Bed', 'View Queen', 'Superior Double Room with 1 extra bed', 'Deluxe Room With Pool Access', 'Triple Executive Room', 'Junior Suite with Bath', 'Deluxe Executive Room', 'Single Room with Courtyard View', 'Superior Double or Twin Room with Sauna Access', 'Standard Duplex Room 3 Adults', 'Junior Suite with Terrace and City view', 'Deluxe Eiffel Twin', 'King Junior Suite with Lounge Access', 'Triple Room with Spa Bath', 'Superior Queen Suite with Sofa', 'Superior Double Room with Roll In Shower Disability Access', 'Business Double Room', 'Master Suite', 'Standard room with 1 queen bed and sofa 3 Adults', 'Double Room Cosy', 'Executive Twin Room with Access to The Level Lounge', 'Mezzanine Suite', 'Twin Room with Executive Lounge access', 'Hilton Superior Twin Room', 'Senior Suite 1 3 Adults', 'Superior One Bedroom Suite with Executive Lounge Access', 'Premier Junior Suite 1 2 Adults', 'Business trip', 'Deluxe Designer', 'Junior Suite Attic', 'Deluxe King with Balcony', 'Deluxe Double or Twin Room with City View', 'Executive Queen Room with Balcony', 'Deluxe Boulevard Double Room', 'Canal View King', 'Premium Double or Twin Room XL', 'Deluxe Double or Twin Room with Spa Access', 'Suite Reloj', 'Executive Double or Twin Room', 'Executive King Room Non Smoking with Executive Lounge Access', 'Deluxe Double or Twin Room with Mountain View', 'Landmark Junior Suite', 'Stayed 23 nights', 'Deluxe Double Room with Balcony', 'Eiffel Suite', 'Superior Family Room', 'Premium Double or Twin Room with View', 'Superior Four Poster Room', 'King Double or Twin Room', 'Basic Twin Room', 'Premier Room with Balcony', 'Premier Deluxe Twin Room', 'Standard Room', 'Twin Hilton Deluxe', 'Superior Queen Room with Sofa', 'Deluxe Double Room Annex', 'Deluxe Family Room 3 Adults', 'Andaz Double Room', 'Club King Room with View and Lounge Access', 'Club King Room', 'Cool Corner Exchange', 'Superior King Room with Iconic View', 'Junior Suite with Executive Lounge Access', 'Grand Executive Club Room', 'Superior Queen Suite with Sofa Bed 3 Adults', 'Deluxe Queen Guestroom', 'Prestige Double Room with Eiffel Tower View', 'Superior Suite with Garden View', 'Two Connecting Double Rooms 5 adults', 'Superior King or Twin Room', 'Double or Twin Room 2 Adult 1 Children', 'Suite King', 'Classic Double or Twin Room with Spa Access'}\n"
     ]
    }
   ],
   "source": [
    "import re\n",
    "# Функция для очистки тегов\n",
    "def clean_tags(tag_list):\n",
    "    clean_tag_list = []\n",
    "    for tag in tag_list:\n",
    "        # Удаление лишних кавычек и пробелов в начале и конце каждого тега\n",
    "        clean_tag = re.sub(r\"[\\'\\[\\]]\", \"\", tag).strip()\n",
    "        clean_tag_list.append(clean_tag)\n",
    "    return clean_tag_list\n",
    "\n",
    "# Применение функции к столбцу tags\n",
    "hotels['cleaned_tags'] = hotels['tags'].apply(clean_tags)\n",
    "\n",
    "# Объединение всех списков тегов в один\n",
    "all_tags = [tag for sublist in hotels['cleaned_tags'] for tag in sublist]\n",
    "\n",
    "# Вычисление уникальных тегов\n",
    "unique_tags = set(all_tags)\n",
    "\n",
    "print(f\"Количество уникальных тегов: {len(unique_tags)}\")\n",
    "print(f\"Уникальные теги: {unique_tags}\")\n",
    "\n"
   ]
  },
  {
   "cell_type": "markdown",
   "metadata": {},
   "source": [
    "Какой тег представлен в наибольшем числе отзывов?"
   ]
  },
  {
   "cell_type": "code",
   "execution_count": 57,
   "metadata": {},
   "outputs": [
    {
     "name": "stdout",
     "output_type": "stream",
     "text": [
      "Самый частый тег: Leisure trip, встречается в 313593 строках\n"
     ]
    }
   ],
   "source": [
    "from collections import Counter\n",
    "# Подсчет количества каждого тега\n",
    "tag_counts = Counter(all_tags)\n",
    "\n",
    "# Определение самого частого тега\n",
    "most_common_tag, most_common_count = tag_counts.most_common(1)[0]\n",
    "\n",
    "print(f\"Самый частый тег: {most_common_tag}, встречается в {most_common_count} строках\")\n"
   ]
  },
  {
   "cell_type": "markdown",
   "metadata": {},
   "source": [
    "Из тегов выясните, на сколько ночей чаще всего останавливаются путешественники в отелях."
   ]
  },
  {
   "cell_type": "code",
   "execution_count": 60,
   "metadata": {},
   "outputs": [
    {
     "name": "stdout",
     "output_type": "stream",
     "text": [
      "                                    Tag   Count\n",
      "0                          Leisure trip  313593\n",
      "4        Submitted from a mobile device  230778\n",
      "1                                Couple  189212\n",
      "7                        Stayed 1 night  145373\n",
      "3                       Stayed 2 nights  100263\n",
      "...                                 ...     ...\n",
      "2115             Studio with Spa Access       1\n",
      "1024                Comfort Family Room       1\n",
      "2112             Junior Suite Free Wifi       1\n",
      "977                        Design Suite       1\n",
      "2367  Executive Double Room Non Smoking       1\n",
      "\n",
      "[2368 rows x 2 columns]\n"
     ]
    }
   ],
   "source": [
    "from collections import Counter\n",
    "# Подсчет количества каждого тега\n",
    "tag_counts = Counter(all_tags)\n",
    "\n",
    "# Преобразование в DataFrame для лучшей визуализации\n",
    "tag_counts_df = pd.DataFrame(list(tag_counts.items()), columns=['Tag', 'Count'])\n",
    "\n",
    "# Сортировка по количеству\n",
    "tag_counts_df.sort_values(by='Count', ascending=False, inplace=True)\n",
    "\n",
    "print(tag_counts_df)\n"
   ]
  },
  {
   "cell_type": "markdown",
   "metadata": {},
   "source": [
    "РАЗДЕЛЕНИЕ НАБОРА ДАННЫХ\n",
    "\n",
    "Прежде всего, для создания модели необходимо разделить датафрейм на набор данных, X которые мы будем использовать для обучения модели, именуемый , и на целевую переменную — величину, значение которой мы будем предсказывать, Y (в нашем случае это рейтинг отелей)."
   ]
  },
  {
   "cell_type": "code",
   "execution_count": 61,
   "metadata": {},
   "outputs": [],
   "source": [
    "# Разбиваем датафрейм на части, необходимые для обучения и тестирования модели  \n",
    "# Х - данные с информацией об отелях, у - целевая переменная (рейтинги отелей)  \n",
    "X = hotels.drop(['reviewer_score'], axis = 1)  \n",
    "y = hotels['reviewer_score'] "
   ]
  },
  {
   "cell_type": "markdown",
   "metadata": {},
   "source": [
    "Для начала разделим признаки по типу, перечислим их:"
   ]
  },
  {
   "cell_type": "code",
   "execution_count": 62,
   "metadata": {},
   "outputs": [],
   "source": [
    "# непрерывные признаки\n",
    "num_cols = ['additional_number_of_scoring', 'review_total_negative_word_counts', 'total_number_of_reviews', 'review_total_positive_word_counts', 'total_number_of_reviews_reviewer_has_given']\n",
    "\n",
    "# категориальные признаки\n",
    "cat_cols = ['review_date', 'days_since_review', 'average_score', 'reviewer_nationality', 'lat', 'lng']"
   ]
  },
  {
   "cell_type": "markdown",
   "metadata": {},
   "source": [
    "Для оценки значимости категориальных переменных будем использовать изученный нами непараметрический тест хи-квадрат, реализованный в библиотеке sklearn.feature_selection.chi2. Метод возвращает массив значений хи-квадрат и p-value для каждого признака. Используем только значения хи-квадрат и выведем их на графике:"
   ]
  },
  {
   "cell_type": "code",
   "execution_count": 63,
   "metadata": {},
   "outputs": [
    {
     "ename": "TypeError",
     "evalue": "float() argument must be a string or a real number, not 'Timestamp'",
     "output_type": "error",
     "traceback": [
      "\u001b[1;31m---------------------------------------------------------------------------\u001b[0m",
      "\u001b[1;31mTypeError\u001b[0m                                 Traceback (most recent call last)",
      "\u001b[1;32m~\\AppData\\Local\\Temp\\ipykernel_27824\\204478290.py\u001b[0m in \u001b[0;36m?\u001b[1;34m()\u001b[0m\n\u001b[0;32m      2\u001b[0m \u001b[1;33m\u001b[0m\u001b[0m\n\u001b[0;32m      3\u001b[0m \u001b[1;33m...\u001b[0m\u001b[1;33m\u001b[0m\u001b[1;33m\u001b[0m\u001b[0m\n\u001b[0;32m      4\u001b[0m \u001b[1;32mfrom\u001b[0m \u001b[0msklearn\u001b[0m\u001b[1;33m.\u001b[0m\u001b[0mfeature_selection\u001b[0m \u001b[1;32mimport\u001b[0m \u001b[0mchi2\u001b[0m \u001b[1;31m# хи-квадрат\u001b[0m\u001b[1;33m\u001b[0m\u001b[1;33m\u001b[0m\u001b[0m\n\u001b[0;32m      5\u001b[0m \u001b[1;33m\u001b[0m\u001b[0m\n\u001b[1;32m----> 6\u001b[1;33m \u001b[0mimp_cat\u001b[0m \u001b[1;33m=\u001b[0m \u001b[0mpd\u001b[0m\u001b[1;33m.\u001b[0m\u001b[0mSeries\u001b[0m\u001b[1;33m(\u001b[0m\u001b[0mchi2\u001b[0m\u001b[1;33m(\u001b[0m\u001b[0mX\u001b[0m\u001b[1;33m[\u001b[0m\u001b[0mcat_cols\u001b[0m\u001b[1;33m]\u001b[0m\u001b[1;33m,\u001b[0m \u001b[0my\u001b[0m\u001b[1;33m)\u001b[0m\u001b[1;33m[\u001b[0m\u001b[1;36m0\u001b[0m\u001b[1;33m]\u001b[0m\u001b[1;33m,\u001b[0m \u001b[0mindex\u001b[0m\u001b[1;33m=\u001b[0m\u001b[0mcat_cols\u001b[0m\u001b[1;33m)\u001b[0m\u001b[1;33m\u001b[0m\u001b[1;33m\u001b[0m\u001b[0m\n\u001b[0m\u001b[0;32m      7\u001b[0m \u001b[0mimp_cat\u001b[0m\u001b[1;33m.\u001b[0m\u001b[0msort_values\u001b[0m\u001b[1;33m(\u001b[0m\u001b[0minplace\u001b[0m \u001b[1;33m=\u001b[0m \u001b[1;32mTrue\u001b[0m\u001b[1;33m)\u001b[0m\u001b[1;33m\u001b[0m\u001b[1;33m\u001b[0m\u001b[0m\n\u001b[0;32m      8\u001b[0m \u001b[0mimp_cat\u001b[0m\u001b[1;33m.\u001b[0m\u001b[0mplot\u001b[0m\u001b[1;33m(\u001b[0m\u001b[0mkind\u001b[0m \u001b[1;33m=\u001b[0m \u001b[1;34m'barh'\u001b[0m\u001b[1;33m)\u001b[0m\u001b[1;33m\u001b[0m\u001b[1;33m\u001b[0m\u001b[0m\n",
      "\u001b[1;32md:\\Python\\Lib\\site-packages\\sklearn\\utils\\_param_validation.py\u001b[0m in \u001b[0;36m?\u001b[1;34m(*args, **kwargs)\u001b[0m\n\u001b[0;32m    210\u001b[0m                         \u001b[0mprefer_skip_nested_validation\u001b[0m \u001b[1;32mor\u001b[0m \u001b[0mglobal_skip_validation\u001b[0m\u001b[1;33m\u001b[0m\u001b[1;33m\u001b[0m\u001b[0m\n\u001b[0;32m    211\u001b[0m                     \u001b[1;33m)\u001b[0m\u001b[1;33m\u001b[0m\u001b[1;33m\u001b[0m\u001b[0m\n\u001b[0;32m    212\u001b[0m                 \u001b[1;33m)\u001b[0m\u001b[1;33m:\u001b[0m\u001b[1;33m\u001b[0m\u001b[1;33m\u001b[0m\u001b[0m\n\u001b[0;32m    213\u001b[0m                     \u001b[1;32mreturn\u001b[0m \u001b[0mfunc\u001b[0m\u001b[1;33m(\u001b[0m\u001b[1;33m*\u001b[0m\u001b[0margs\u001b[0m\u001b[1;33m,\u001b[0m \u001b[1;33m**\u001b[0m\u001b[0mkwargs\u001b[0m\u001b[1;33m)\u001b[0m\u001b[1;33m\u001b[0m\u001b[1;33m\u001b[0m\u001b[0m\n\u001b[1;32m--> 214\u001b[1;33m             \u001b[1;32mexcept\u001b[0m \u001b[0mInvalidParameterError\u001b[0m \u001b[1;32mas\u001b[0m \u001b[0me\u001b[0m\u001b[1;33m:\u001b[0m\u001b[1;33m\u001b[0m\u001b[1;33m\u001b[0m\u001b[0m\n\u001b[0m\u001b[0;32m    215\u001b[0m                 \u001b[1;31m# When the function is just a wrapper around an estimator, we allow\u001b[0m\u001b[1;33m\u001b[0m\u001b[1;33m\u001b[0m\u001b[0m\n\u001b[0;32m    216\u001b[0m                 \u001b[1;31m# the function to delegate validation to the estimator, but we replace\u001b[0m\u001b[1;33m\u001b[0m\u001b[1;33m\u001b[0m\u001b[0m\n\u001b[0;32m    217\u001b[0m                 \u001b[1;31m# the name of the estimator by the name of the function in the error\u001b[0m\u001b[1;33m\u001b[0m\u001b[1;33m\u001b[0m\u001b[0m\n",
      "\u001b[1;32md:\\Python\\Lib\\site-packages\\sklearn\\feature_selection\\_univariate_selection.py\u001b[0m in \u001b[0;36m?\u001b[1;34m(X, y)\u001b[0m\n\u001b[0;32m    260\u001b[0m     \u001b[1;31m# XXX: we might want to do some of the following in logspace instead for\u001b[0m\u001b[1;33m\u001b[0m\u001b[1;33m\u001b[0m\u001b[0m\n\u001b[0;32m    261\u001b[0m     \u001b[1;31m# numerical stability.\u001b[0m\u001b[1;33m\u001b[0m\u001b[1;33m\u001b[0m\u001b[0m\n\u001b[0;32m    262\u001b[0m     \u001b[1;31m# Converting X to float allows getting better performance for the\u001b[0m\u001b[1;33m\u001b[0m\u001b[1;33m\u001b[0m\u001b[0m\n\u001b[0;32m    263\u001b[0m     \u001b[1;31m# safe_sparse_dot call made below.\u001b[0m\u001b[1;33m\u001b[0m\u001b[1;33m\u001b[0m\u001b[0m\n\u001b[1;32m--> 264\u001b[1;33m     \u001b[0mX\u001b[0m \u001b[1;33m=\u001b[0m \u001b[0mcheck_array\u001b[0m\u001b[1;33m(\u001b[0m\u001b[0mX\u001b[0m\u001b[1;33m,\u001b[0m \u001b[0maccept_sparse\u001b[0m\u001b[1;33m=\u001b[0m\u001b[1;34m\"csr\"\u001b[0m\u001b[1;33m,\u001b[0m \u001b[0mdtype\u001b[0m\u001b[1;33m=\u001b[0m\u001b[1;33m(\u001b[0m\u001b[0mnp\u001b[0m\u001b[1;33m.\u001b[0m\u001b[0mfloat64\u001b[0m\u001b[1;33m,\u001b[0m \u001b[0mnp\u001b[0m\u001b[1;33m.\u001b[0m\u001b[0mfloat32\u001b[0m\u001b[1;33m)\u001b[0m\u001b[1;33m)\u001b[0m\u001b[1;33m\u001b[0m\u001b[1;33m\u001b[0m\u001b[0m\n\u001b[0m\u001b[0;32m    265\u001b[0m     \u001b[1;32mif\u001b[0m \u001b[0mnp\u001b[0m\u001b[1;33m.\u001b[0m\u001b[0many\u001b[0m\u001b[1;33m(\u001b[0m\u001b[1;33m(\u001b[0m\u001b[0mX\u001b[0m\u001b[1;33m.\u001b[0m\u001b[0mdata\u001b[0m \u001b[1;32mif\u001b[0m \u001b[0missparse\u001b[0m\u001b[1;33m(\u001b[0m\u001b[0mX\u001b[0m\u001b[1;33m)\u001b[0m \u001b[1;32melse\u001b[0m \u001b[0mX\u001b[0m\u001b[1;33m)\u001b[0m \u001b[1;33m<\u001b[0m \u001b[1;36m0\u001b[0m\u001b[1;33m)\u001b[0m\u001b[1;33m:\u001b[0m\u001b[1;33m\u001b[0m\u001b[1;33m\u001b[0m\u001b[0m\n\u001b[0;32m    266\u001b[0m         \u001b[1;32mraise\u001b[0m \u001b[0mValueError\u001b[0m\u001b[1;33m(\u001b[0m\u001b[1;34m\"Input X must be non-negative.\"\u001b[0m\u001b[1;33m)\u001b[0m\u001b[1;33m\u001b[0m\u001b[1;33m\u001b[0m\u001b[0m\n\u001b[0;32m    267\u001b[0m \u001b[1;33m\u001b[0m\u001b[0m\n",
      "\u001b[1;32md:\\Python\\Lib\\site-packages\\sklearn\\utils\\validation.py\u001b[0m in \u001b[0;36m?\u001b[1;34m(array, accept_sparse, accept_large_sparse, dtype, order, copy, force_writeable, force_all_finite, ensure_2d, allow_nd, ensure_min_samples, ensure_min_features, estimator, input_name)\u001b[0m\n\u001b[0;32m   1009\u001b[0m                         \u001b[1;33m)\u001b[0m\u001b[1;33m\u001b[0m\u001b[1;33m\u001b[0m\u001b[0m\n\u001b[0;32m   1010\u001b[0m                     \u001b[0marray\u001b[0m \u001b[1;33m=\u001b[0m \u001b[0mxp\u001b[0m\u001b[1;33m.\u001b[0m\u001b[0mastype\u001b[0m\u001b[1;33m(\u001b[0m\u001b[0marray\u001b[0m\u001b[1;33m,\u001b[0m \u001b[0mdtype\u001b[0m\u001b[1;33m,\u001b[0m \u001b[0mcopy\u001b[0m\u001b[1;33m=\u001b[0m\u001b[1;32mFalse\u001b[0m\u001b[1;33m)\u001b[0m\u001b[1;33m\u001b[0m\u001b[1;33m\u001b[0m\u001b[0m\n\u001b[0;32m   1011\u001b[0m                 \u001b[1;32melse\u001b[0m\u001b[1;33m:\u001b[0m\u001b[1;33m\u001b[0m\u001b[1;33m\u001b[0m\u001b[0m\n\u001b[0;32m   1012\u001b[0m                     \u001b[0marray\u001b[0m \u001b[1;33m=\u001b[0m \u001b[0m_asarray_with_order\u001b[0m\u001b[1;33m(\u001b[0m\u001b[0marray\u001b[0m\u001b[1;33m,\u001b[0m \u001b[0morder\u001b[0m\u001b[1;33m=\u001b[0m\u001b[0morder\u001b[0m\u001b[1;33m,\u001b[0m \u001b[0mdtype\u001b[0m\u001b[1;33m=\u001b[0m\u001b[0mdtype\u001b[0m\u001b[1;33m,\u001b[0m \u001b[0mxp\u001b[0m\u001b[1;33m=\u001b[0m\u001b[0mxp\u001b[0m\u001b[1;33m)\u001b[0m\u001b[1;33m\u001b[0m\u001b[1;33m\u001b[0m\u001b[0m\n\u001b[1;32m-> 1013\u001b[1;33m             \u001b[1;32mexcept\u001b[0m \u001b[0mComplexWarning\u001b[0m \u001b[1;32mas\u001b[0m \u001b[0mcomplex_warning\u001b[0m\u001b[1;33m:\u001b[0m\u001b[1;33m\u001b[0m\u001b[1;33m\u001b[0m\u001b[0m\n\u001b[0m\u001b[0;32m   1014\u001b[0m                 raise ValueError(\n\u001b[0;32m   1015\u001b[0m                     \u001b[1;34m\"Complex data not supported\\n{}\\n\"\u001b[0m\u001b[1;33m.\u001b[0m\u001b[0mformat\u001b[0m\u001b[1;33m(\u001b[0m\u001b[0marray\u001b[0m\u001b[1;33m)\u001b[0m\u001b[1;33m\u001b[0m\u001b[1;33m\u001b[0m\u001b[0m\n\u001b[0;32m   1016\u001b[0m                 \u001b[1;33m)\u001b[0m \u001b[1;32mfrom\u001b[0m \u001b[0mcomplex_warning\u001b[0m\u001b[1;33m\u001b[0m\u001b[1;33m\u001b[0m\u001b[0m\n",
      "\u001b[1;32md:\\Python\\Lib\\site-packages\\sklearn\\utils\\_array_api.py\u001b[0m in \u001b[0;36m?\u001b[1;34m(array, dtype, order, copy, xp, device)\u001b[0m\n\u001b[0;32m    747\u001b[0m         \u001b[1;31m# Use NumPy API to support order\u001b[0m\u001b[1;33m\u001b[0m\u001b[1;33m\u001b[0m\u001b[0m\n\u001b[0;32m    748\u001b[0m         \u001b[1;32mif\u001b[0m \u001b[0mcopy\u001b[0m \u001b[1;32mis\u001b[0m \u001b[1;32mTrue\u001b[0m\u001b[1;33m:\u001b[0m\u001b[1;33m\u001b[0m\u001b[1;33m\u001b[0m\u001b[0m\n\u001b[0;32m    749\u001b[0m             \u001b[0marray\u001b[0m \u001b[1;33m=\u001b[0m \u001b[0mnumpy\u001b[0m\u001b[1;33m.\u001b[0m\u001b[0marray\u001b[0m\u001b[1;33m(\u001b[0m\u001b[0marray\u001b[0m\u001b[1;33m,\u001b[0m \u001b[0morder\u001b[0m\u001b[1;33m=\u001b[0m\u001b[0morder\u001b[0m\u001b[1;33m,\u001b[0m \u001b[0mdtype\u001b[0m\u001b[1;33m=\u001b[0m\u001b[0mdtype\u001b[0m\u001b[1;33m)\u001b[0m\u001b[1;33m\u001b[0m\u001b[1;33m\u001b[0m\u001b[0m\n\u001b[0;32m    750\u001b[0m         \u001b[1;32melse\u001b[0m\u001b[1;33m:\u001b[0m\u001b[1;33m\u001b[0m\u001b[1;33m\u001b[0m\u001b[0m\n\u001b[1;32m--> 751\u001b[1;33m             \u001b[0marray\u001b[0m \u001b[1;33m=\u001b[0m \u001b[0mnumpy\u001b[0m\u001b[1;33m.\u001b[0m\u001b[0masarray\u001b[0m\u001b[1;33m(\u001b[0m\u001b[0marray\u001b[0m\u001b[1;33m,\u001b[0m \u001b[0morder\u001b[0m\u001b[1;33m=\u001b[0m\u001b[0morder\u001b[0m\u001b[1;33m,\u001b[0m \u001b[0mdtype\u001b[0m\u001b[1;33m=\u001b[0m\u001b[0mdtype\u001b[0m\u001b[1;33m)\u001b[0m\u001b[1;33m\u001b[0m\u001b[1;33m\u001b[0m\u001b[0m\n\u001b[0m\u001b[0;32m    752\u001b[0m \u001b[1;33m\u001b[0m\u001b[0m\n\u001b[0;32m    753\u001b[0m         \u001b[1;31m# At this point array is a NumPy ndarray. We convert it to an array\u001b[0m\u001b[1;33m\u001b[0m\u001b[1;33m\u001b[0m\u001b[0m\n\u001b[0;32m    754\u001b[0m         \u001b[1;31m# container that is consistent with the input's namespace.\u001b[0m\u001b[1;33m\u001b[0m\u001b[1;33m\u001b[0m\u001b[0m\n",
      "\u001b[1;32md:\\Python\\Lib\\site-packages\\pandas\\core\\generic.py\u001b[0m in \u001b[0;36m?\u001b[1;34m(self, dtype, copy)\u001b[0m\n\u001b[0;32m   2149\u001b[0m     def __array__(\n\u001b[0;32m   2150\u001b[0m         \u001b[0mself\u001b[0m\u001b[1;33m,\u001b[0m \u001b[0mdtype\u001b[0m\u001b[1;33m:\u001b[0m \u001b[0mnpt\u001b[0m\u001b[1;33m.\u001b[0m\u001b[0mDTypeLike\u001b[0m \u001b[1;33m|\u001b[0m \u001b[1;32mNone\u001b[0m \u001b[1;33m=\u001b[0m \u001b[1;32mNone\u001b[0m\u001b[1;33m,\u001b[0m \u001b[0mcopy\u001b[0m\u001b[1;33m:\u001b[0m \u001b[0mbool_t\u001b[0m \u001b[1;33m|\u001b[0m \u001b[1;32mNone\u001b[0m \u001b[1;33m=\u001b[0m \u001b[1;32mNone\u001b[0m\u001b[1;33m\u001b[0m\u001b[1;33m\u001b[0m\u001b[0m\n\u001b[0;32m   2151\u001b[0m     \u001b[1;33m)\u001b[0m \u001b[1;33m->\u001b[0m \u001b[0mnp\u001b[0m\u001b[1;33m.\u001b[0m\u001b[0mndarray\u001b[0m\u001b[1;33m:\u001b[0m\u001b[1;33m\u001b[0m\u001b[1;33m\u001b[0m\u001b[0m\n\u001b[0;32m   2152\u001b[0m         \u001b[0mvalues\u001b[0m \u001b[1;33m=\u001b[0m \u001b[0mself\u001b[0m\u001b[1;33m.\u001b[0m\u001b[0m_values\u001b[0m\u001b[1;33m\u001b[0m\u001b[1;33m\u001b[0m\u001b[0m\n\u001b[1;32m-> 2153\u001b[1;33m         \u001b[0marr\u001b[0m \u001b[1;33m=\u001b[0m \u001b[0mnp\u001b[0m\u001b[1;33m.\u001b[0m\u001b[0masarray\u001b[0m\u001b[1;33m(\u001b[0m\u001b[0mvalues\u001b[0m\u001b[1;33m,\u001b[0m \u001b[0mdtype\u001b[0m\u001b[1;33m=\u001b[0m\u001b[0mdtype\u001b[0m\u001b[1;33m)\u001b[0m\u001b[1;33m\u001b[0m\u001b[1;33m\u001b[0m\u001b[0m\n\u001b[0m\u001b[0;32m   2154\u001b[0m         if (\n\u001b[0;32m   2155\u001b[0m             \u001b[0mastype_is_view\u001b[0m\u001b[1;33m(\u001b[0m\u001b[0mvalues\u001b[0m\u001b[1;33m.\u001b[0m\u001b[0mdtype\u001b[0m\u001b[1;33m,\u001b[0m \u001b[0marr\u001b[0m\u001b[1;33m.\u001b[0m\u001b[0mdtype\u001b[0m\u001b[1;33m)\u001b[0m\u001b[1;33m\u001b[0m\u001b[1;33m\u001b[0m\u001b[0m\n\u001b[0;32m   2156\u001b[0m             \u001b[1;32mand\u001b[0m \u001b[0musing_copy_on_write\u001b[0m\u001b[1;33m(\u001b[0m\u001b[1;33m)\u001b[0m\u001b[1;33m\u001b[0m\u001b[1;33m\u001b[0m\u001b[0m\n",
      "\u001b[1;31mTypeError\u001b[0m: float() argument must be a string or a real number, not 'Timestamp'"
     ]
    }
   ],
   "source": [
    "y=y.astype('int')\n",
    "\n",
    "...\n",
    "from sklearn.feature_selection import chi2 # хи-квадрат\n",
    "\n",
    "imp_cat = pd.Series(chi2(X[cat_cols], y)[0], index=cat_cols)\n",
    "imp_cat.sort_values(inplace = True)\n",
    "imp_cat.plot(kind = 'barh')"
   ]
  },
  {
   "cell_type": "markdown",
   "metadata": {},
   "source": [
    "Добавьте и другие категориальные признаки в список cat_cols, чтобы оценить их значимость в определении рейтинга отеля.\n",
    "\n",
    "Для оценки значимости непрерывных переменных будем использовать функцию f_classif из библиотеки sklearn. В основе метода оценки значимости переменных лежит изученный вами в юнитах по статистике анализ (ANOVA). Основу процедуры составляет обобщение результатов двух выборочных t-тестов для независимых выборок (2-sample t).\n",
    "\n",
    "Метод возвращает двумерный массив f-статистик и p-value для каждого признака. В качестве меры значимости мы будем использовать значение f-статистики. Чем значение статистики выше, тем меньше вероятность того, что средние значения не отличаются, и тем важнее данный признак для нашей модели."
   ]
  },
  {
   "cell_type": "code",
   "execution_count": 14,
   "metadata": {},
   "outputs": [
    {
     "data": {
      "text/plain": [
       "<Axes: >"
      ]
     },
     "execution_count": 14,
     "metadata": {},
     "output_type": "execute_result"
    },
    {
     "data": {
      "image/png": "[encoded data removed]",
      "text/plain": [
       "<Figure size 640x480 with 1 Axes>"
      ]
     },
     "metadata": {},
     "output_type": "display_data"
    }
   ],
   "source": [
    "from sklearn.feature_selection import f_classif # anova\n",
    "\n",
    "imp_num = pd.Series(f_classif(X[num_cols], y)[0], index = num_cols)\n",
    "imp_num.sort_values(inplace = True)\n",
    "imp_num.plot(kind = 'barh')"
   ]
  },
  {
   "cell_type": "markdown",
   "metadata": {},
   "source": [
    "Добавьте и другие непрерывные признаки в список num_cols, чтобы оценить их значимость в определении рейтинга отеля.\n",
    "\n",
    "Результаты данных тестов вы сможете использовать в своих исследования при отборе признаков: удаляйте менее значимые признаки и сравнивайте результаты качества полученных моделей.\n",
    "\n",
    "→ Тесты chi2 и f_classif можно использовать для выбора n заданных признаков с наивысшими значениями статистик с помощью метода SelectKBest. Подробнее об этом вы можете прочесть в руководстве https://scikit-learn.org/stable/modules/feature_selection.html#univariate-feature-selection."
   ]
  },
  {
   "cell_type": "code",
   "execution_count": 5,
   "metadata": {},
   "outputs": [
    {
     "data": {
      "text/plain": [
       "0         10.0\n",
       "1          6.3\n",
       "2          7.5\n",
       "3         10.0\n",
       "4          9.6\n",
       "          ... \n",
       "386798     8.8\n",
       "386799     9.2\n",
       "386800     8.3\n",
       "386801     9.2\n",
       "386802     8.8\n",
       "Name: reviewer_score, Length: 386803, dtype: float64"
      ]
     },
     "metadata": {},
     "output_type": "display_data"
    }
   ],
   "source": [
    "display(y)"
   ]
  },
  {
   "cell_type": "markdown",
   "metadata": {},
   "source": [
    "Далее каждый из полученных наборов мы делим на тренировочный (train, используется для обучения модели) и тестовый (test, используется для оценки точности модели). Такое деление осуществляется с помощью специального метода train_test_split() библиотеки sklearn. В параметрах метода (параметр test_size) мы указываем, какую часть исходного датафрейма нужно оставить для тестирования модели. В нашем коде эта часть составляет 25 %, или 0.25."
   ]
  },
  {
   "cell_type": "code",
   "execution_count": 6,
   "metadata": {},
   "outputs": [],
   "source": [
    "# Загружаем специальный инструмент для разбивки:  \n",
    "from sklearn.model_selection import train_test_split  "
   ]
  },
  {
   "cell_type": "code",
   "execution_count": 7,
   "metadata": {},
   "outputs": [],
   "source": [
    "# Наборы данных с меткой \"train\" будут использоваться для обучения модели, \"test\" - для тестирования.  \n",
    "# Для тестирования мы будем использовать 25% от исходного датасета.  \n",
    "X_train, X_test, y_train, y_test = train_test_split(X, y, test_size=0.25, random_state=42)"
   ]
  },
  {
   "cell_type": "markdown",
   "metadata": {},
   "source": [
    "СОЗДАНИЕ И ОБУЧЕНИЕ МОДЕЛИ\n",
    "\n",
    "Сам процесс создания и тестирования модели занимает всего четыре строчки кода. В качестве алгоритма мы будем использовать популярный и довольно мощный алгоритм [RandomForestRegressor](https://scikit-learn.org/stable/modules/generated/sklearn.ensemble.RandomForestRegressor.html). Он реализован в библиотеке sklearn."
   ]
  },
  {
   "cell_type": "code",
   "execution_count": 8,
   "metadata": {},
   "outputs": [],
   "source": [
    "# Импортируем необходимые библиотеки:  \n",
    "from sklearn.ensemble import RandomForestRegressor # инструмент для создания и обучения модели  \n",
    "from sklearn import metrics # инструменты для оценки точности модели  \n",
    "  \n",
    "# Создаём модель  \n",
    "regr = RandomForestRegressor(n_estimators=100)  \n",
    "      \n",
    "# Обучаем модель на тестовом наборе данных  \n",
    "regr.fit(X_train, y_train)  \n",
    "      \n",
    "# Используем обученную модель для предсказания рейтинга отелей в тестовой выборке.  \n",
    "# Предсказанные значения записываем в переменную y_pred  \n",
    "y_pred = regr.predict(X_test)  \n"
   ]
  },
  {
   "cell_type": "markdown",
   "metadata": {},
   "source": [
    "ОЦЕНКА КАЧЕСТВА МОДЕЛИ\n",
    "\n",
    "Для оценки качества модели — точности прогнозов, сделанных моделью, — мы будем использовать метрику (некий числовой показатель), которая называется MAPE (mean absolute percentage error), средняя абсолютная процентная ошибка. Эту метрику очень легко интерпретировать. Если у вас MAPE = 11.4 %, то это говорит о том, что ошибка составила 11.4 % от фактических значений.\n",
    "\n",
    "где y_true — фактические значения прогноза, a y_pred — предсказанные.\n",
    "\n",
    "Для расчета MAPE сравним предсказанные нашей моделью значения с реальными и посмотрим на значение ошибки."
   ]
  },
  {
   "cell_type": "code",
   "execution_count": 9,
   "metadata": {},
   "outputs": [
    {
     "name": "stdout",
     "output_type": "stream",
     "text": [
      "MAPE: 0.14141054546226425\n"
     ]
    }
   ],
   "source": [
    "# Сравниваем предсказанные значения (y_pred) с реальными (y_test), и смотрим насколько они отличаются  \n",
    "# Метрика называется Mean Absolute Percentage Error (MAPE) и показывает среднюю абсолютную процентную ошибку предсказанных значений от фактических.  \n",
    "print('MAPE:', metrics.mean_absolute_percentage_error(y_test, y_pred))"
   ]
  }
 ],
 "metadata": {
  "kernelspec": {
   "display_name": "Python 3",
   "language": "python",
   "name": "python3"
  },
  "language_info": {
   "codemirror_mode": {
    "name": "ipython",
    "version": 3
   },
   "file_extension": ".py",
   "mimetype": "text/x-python",
   "name": "python",
   "nbconvert_exporter": "python",
   "pygments_lexer": "ipython3",
   "version": "3.12.3"
  }
 },
 "nbformat": 4,
 "nbformat_minor": 2
}
